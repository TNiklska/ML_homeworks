{
  "nbformat": 4,
  "nbformat_minor": 0,
  "metadata": {
    "colab": {
      "provenance": [],
      "toc_visible": true
    },
    "kernelspec": {
      "name": "python3",
      "display_name": "Python 3"
    },
    "language_info": {
      "name": "python"
    }
  },
  "cells": [
    {
      "cell_type": "markdown",
      "source": [
        "#Import"
      ],
      "metadata": {
        "id": "ucTDR6KaWmMx"
      }
    },
    {
      "cell_type": "code",
      "source": [
        "%load_ext autoreload\n",
        "%autoreload 2"
      ],
      "metadata": {
        "id": "2i74q-68WrNw"
      },
      "execution_count": 1,
      "outputs": []
    },
    {
      "cell_type": "code",
      "source": [
        "import matplotlib.pyplot as plt #\n",
        "from sklearn.tree import plot_tree, export_text#\n",
        "import seaborn as sns #\n",
        "import pandas as pd #\n",
        "import numpy as np #\n",
        "import matplotlib #\n",
        "import os\n",
        "import sys #\n",
        "\n",
        "from sklearn.neighbors import KNeighborsClassifier #\n",
        "from sklearn.model_selection import GridSearchCV #\n",
        "from sklearn.model_selection import RandomizedSearchCV#\n",
        "\n",
        "from sklearn.tree import DecisionTreeClassifier, plot_tree, export_text\n",
        "from sklearn.metrics import roc_auc_score #\n",
        "#from sklearn.metrics import roc_curve\n",
        "#from sklearn.metrics import auc\n",
        "\n",
        "%matplotlib inline\n",
        "\n",
        "from google.colab import drive #\n",
        "\n"
      ],
      "metadata": {
        "id": "_Cz02ugeWr7g"
      },
      "execution_count": 78,
      "outputs": []
    },
    {
      "cell_type": "code",
      "source": [
        "sys.path.append('/content/drive/MyDrive/Python/ML/Module')"
      ],
      "metadata": {
        "id": "2hg9DxPXnO8j"
      },
      "execution_count": 7,
      "outputs": []
    },
    {
      "cell_type": "code",
      "source": [
        "from process_bank_churn import get_processed_data, preprocess_new_data"
      ],
      "metadata": {
        "id": "u9MmyXR0g6Lf"
      },
      "execution_count": 8,
      "outputs": []
    },
    {
      "cell_type": "code",
      "source": [
        "drive.mount('/content/drive')"
      ],
      "metadata": {
        "id": "qodjl0UOWwVr",
        "colab": {
          "base_uri": "https://localhost:8080/"
        },
        "outputId": "edbd603e-dcc8-458b-fa56-a118976ec53c"
      },
      "execution_count": 3,
      "outputs": [
        {
          "output_type": "stream",
          "name": "stdout",
          "text": [
            "Mounted at /content/drive\n"
          ]
        }
      ]
    },
    {
      "cell_type": "markdown",
      "source": [
        "#Format"
      ],
      "metadata": {
        "id": "EmQwa10bXB7o"
      }
    },
    {
      "cell_type": "code",
      "source": [
        "pd.set_option('display.max_columns', None)\n",
        "pd.set_option('display.max_rows', 150)\n",
        "sns.set_style('darkgrid')\n",
        "matplotlib.rcParams['font.size'] = 14\n",
        "matplotlib.rcParams['figure.figsize'] = (10, 6)\n",
        "matplotlib.rcParams['figure.facecolor'] = '#00000000'"
      ],
      "metadata": {
        "id": "qCEyKJMqXFCA"
      },
      "execution_count": 4,
      "outputs": []
    },
    {
      "cell_type": "markdown",
      "source": [
        "#Functions"
      ],
      "metadata": {
        "id": "rF1BUf0JZ-rE"
      }
    },
    {
      "cell_type": "code",
      "source": [
        "def train_auc (model, X_train, X_val, train_targets, val_targets):\n",
        "    # Навчання моделі\n",
        "    model.fit(X_train, train_targets)\n",
        "\n",
        "    y_train_prob = model.predict_proba(X_train)[:, 1]\n",
        "\n",
        "    train_auc = roc_auc_score(train_targets, y_train_prob)\n",
        "\n",
        "    return train_auc\n",
        "\n",
        "def val_auc (model, X_train, X_val, train_targets, val_targets):\n",
        "\n",
        "    # Навчання моделі\n",
        "    model.fit(X_train, train_targets)\n",
        "\n",
        "    y_val_prob = model.predict_proba(X_val)[:, 1]\n",
        "\n",
        "    val_auc = roc_auc_score(val_targets, y_val_prob)\n",
        "\n",
        "    return val_auc\n",
        "\n",
        "def count_auroc(model, X_train, X_val, train_targets, val_targets):\n",
        "    y_train_prob = model.predict_proba(X_train)[:, 1]\n",
        "    y_val_prob = model.predict_proba(X_val)[:, 1]\n",
        "\n",
        "    train_auc = roc_auc_score(train_targets, y_train_prob)\n",
        "    val_auc = roc_auc_score(val_targets, y_val_prob)\n",
        "    print(f'Train AUC: {train_auc:.4f}')\n",
        "    print(f'Validation AUC: {val_auc:.4f}')\n",
        "\n",
        "    return  train_auc, val_auc\n",
        "\n",
        "\n",
        "def max_leaf_node_error(ln, X_train, X_val, train_targets, val_targets):\n",
        "    model = DecisionTreeClassifier(max_depth=5, max_leaf_nodes=ln, random_state=42)\n",
        "    model.fit(X_train, train_targets)\n",
        "    train_auc, val_auc = count_auroc(model, X_train, X_val, train_targets, val_targets)\n",
        "    return {'Maxmax_leaf_nodes': ln, 'Training AUROC': train_auc, 'Validation AUROC': val_auc}\n",
        "\n"
      ],
      "metadata": {
        "id": "SwzxeONpaDK3"
      },
      "execution_count": 62,
      "outputs": []
    },
    {
      "cell_type": "markdown",
      "source": [
        "#Завдання"
      ],
      "metadata": {
        "id": "H1c7xWbAW6m1"
      }
    },
    {
      "cell_type": "markdown",
      "source": [
        "В цьому домашньому завданні ми знову працюємо з даними з нашого змагання [\"Bank Customer Churn Prediction (DLU Course)\"](https://www.kaggle.com/t/7c080c5d8ec64364a93cf4e8f880b6a0).\n",
        "\n",
        "Тут ми побудуємо рішення задачі класифікації з використанням kNearestNeighboors, знайдемо оптимальні гіперпараметри для цього методу і зробимо базові ансамблі. Це дасть змогу порівняти перформанс моделі з попередніми вивченими методами."
      ],
      "metadata": {
        "id": "fDefDHQt8LXC"
      }
    },
    {
      "cell_type": "markdown",
      "source": [
        "##Завдання 0"
      ],
      "metadata": {
        "id": "g3S61Cz8W93p"
      }
    },
    {
      "cell_type": "markdown",
      "source": [
        "0. Зчитайте дані `train.csv` та зробіть препроцесинг використовуючи написаний Вами скрипт `process_bank_churn.py` так, аби в результаті отримати дані в розбитті X_train, train_targets, X_val, val_targets для експериментів.\n",
        "\n",
        "  Якщо Вам не вдалось реалізувати в завданні `2.3. Дерева прийняття рішень` скрипт `process_bank_churn.py` - можна скористатись готовим скриптом з запропонованого рішення того завдання."
      ],
      "metadata": {
        "id": "LhivzW9W8-Dz"
      }
    },
    {
      "cell_type": "code",
      "source": [
        "#зчитування даних\n",
        "raw_df = pd.read_csv('//content/drive/MyDrive/Python/ML/DATA/Kaggle/Bank/train.csv.zip')"
      ],
      "metadata": {
        "id": "Z-mntPMAH-rv"
      },
      "execution_count": 6,
      "outputs": []
    },
    {
      "cell_type": "code",
      "source": [
        "#препроцесинг даних\n",
        "X_train, X_val, train_targets, val_targets, model_cols, scaler, encoder, numeric_cols, encoded_cols, categorical_cols = get_processed_data(raw_df)"
      ],
      "metadata": {
        "id": "GCdBHrlpYAjQ"
      },
      "execution_count": 9,
      "outputs": []
    },
    {
      "cell_type": "markdown",
      "source": [
        "##Завдання 1"
      ],
      "metadata": {
        "id": "ovdrHbjbYfLj"
      }
    },
    {
      "cell_type": "markdown",
      "source": [
        "1. Навчіть на цих даних класифікатор kNN з параметрами за замовченням і виміряйте точність з допомогою AUROC на тренувальному та валідаційному наборах. Зробіть заключення про отриману модель: вона хороша/погана, чи є high bias/high variance?"
      ],
      "metadata": {
        "id": "_LxWkv4o-wMe"
      }
    },
    {
      "cell_type": "code",
      "source": [
        "#навчання kNN з параметрами за замовченням\n",
        "knn = KNeighborsClassifier()\n",
        "\n",
        "knn.fit(X_train, train_targets)"
      ],
      "metadata": {
        "id": "1TH7H_Z9IAHD",
        "colab": {
          "base_uri": "https://localhost:8080/",
          "height": 74
        },
        "outputId": "e3a16d5a-90ab-4584-93c8-3381b20d40ae"
      },
      "execution_count": 50,
      "outputs": [
        {
          "output_type": "execute_result",
          "data": {
            "text/plain": [
              "KNeighborsClassifier()"
            ],
            "text/html": [
              "<style>#sk-container-id-11 {color: black;background-color: white;}#sk-container-id-11 pre{padding: 0;}#sk-container-id-11 div.sk-toggleable {background-color: white;}#sk-container-id-11 label.sk-toggleable__label {cursor: pointer;display: block;width: 100%;margin-bottom: 0;padding: 0.3em;box-sizing: border-box;text-align: center;}#sk-container-id-11 label.sk-toggleable__label-arrow:before {content: \"▸\";float: left;margin-right: 0.25em;color: #696969;}#sk-container-id-11 label.sk-toggleable__label-arrow:hover:before {color: black;}#sk-container-id-11 div.sk-estimator:hover label.sk-toggleable__label-arrow:before {color: black;}#sk-container-id-11 div.sk-toggleable__content {max-height: 0;max-width: 0;overflow: hidden;text-align: left;background-color: #f0f8ff;}#sk-container-id-11 div.sk-toggleable__content pre {margin: 0.2em;color: black;border-radius: 0.25em;background-color: #f0f8ff;}#sk-container-id-11 input.sk-toggleable__control:checked~div.sk-toggleable__content {max-height: 200px;max-width: 100%;overflow: auto;}#sk-container-id-11 input.sk-toggleable__control:checked~label.sk-toggleable__label-arrow:before {content: \"▾\";}#sk-container-id-11 div.sk-estimator input.sk-toggleable__control:checked~label.sk-toggleable__label {background-color: #d4ebff;}#sk-container-id-11 div.sk-label input.sk-toggleable__control:checked~label.sk-toggleable__label {background-color: #d4ebff;}#sk-container-id-11 input.sk-hidden--visually {border: 0;clip: rect(1px 1px 1px 1px);clip: rect(1px, 1px, 1px, 1px);height: 1px;margin: -1px;overflow: hidden;padding: 0;position: absolute;width: 1px;}#sk-container-id-11 div.sk-estimator {font-family: monospace;background-color: #f0f8ff;border: 1px dotted black;border-radius: 0.25em;box-sizing: border-box;margin-bottom: 0.5em;}#sk-container-id-11 div.sk-estimator:hover {background-color: #d4ebff;}#sk-container-id-11 div.sk-parallel-item::after {content: \"\";width: 100%;border-bottom: 1px solid gray;flex-grow: 1;}#sk-container-id-11 div.sk-label:hover label.sk-toggleable__label {background-color: #d4ebff;}#sk-container-id-11 div.sk-serial::before {content: \"\";position: absolute;border-left: 1px solid gray;box-sizing: border-box;top: 0;bottom: 0;left: 50%;z-index: 0;}#sk-container-id-11 div.sk-serial {display: flex;flex-direction: column;align-items: center;background-color: white;padding-right: 0.2em;padding-left: 0.2em;position: relative;}#sk-container-id-11 div.sk-item {position: relative;z-index: 1;}#sk-container-id-11 div.sk-parallel {display: flex;align-items: stretch;justify-content: center;background-color: white;position: relative;}#sk-container-id-11 div.sk-item::before, #sk-container-id-11 div.sk-parallel-item::before {content: \"\";position: absolute;border-left: 1px solid gray;box-sizing: border-box;top: 0;bottom: 0;left: 50%;z-index: -1;}#sk-container-id-11 div.sk-parallel-item {display: flex;flex-direction: column;z-index: 1;position: relative;background-color: white;}#sk-container-id-11 div.sk-parallel-item:first-child::after {align-self: flex-end;width: 50%;}#sk-container-id-11 div.sk-parallel-item:last-child::after {align-self: flex-start;width: 50%;}#sk-container-id-11 div.sk-parallel-item:only-child::after {width: 0;}#sk-container-id-11 div.sk-dashed-wrapped {border: 1px dashed gray;margin: 0 0.4em 0.5em 0.4em;box-sizing: border-box;padding-bottom: 0.4em;background-color: white;}#sk-container-id-11 div.sk-label label {font-family: monospace;font-weight: bold;display: inline-block;line-height: 1.2em;}#sk-container-id-11 div.sk-label-container {text-align: center;}#sk-container-id-11 div.sk-container {/* jupyter's `normalize.less` sets `[hidden] { display: none; }` but bootstrap.min.css set `[hidden] { display: none !important; }` so we also need the `!important` here to be able to override the default hidden behavior on the sphinx rendered scikit-learn.org. See: https://github.com/scikit-learn/scikit-learn/issues/21755 */display: inline-block !important;position: relative;}#sk-container-id-11 div.sk-text-repr-fallback {display: none;}</style><div id=\"sk-container-id-11\" class=\"sk-top-container\"><div class=\"sk-text-repr-fallback\"><pre>KNeighborsClassifier()</pre><b>In a Jupyter environment, please rerun this cell to show the HTML representation or trust the notebook. <br />On GitHub, the HTML representation is unable to render, please try loading this page with nbviewer.org.</b></div><div class=\"sk-container\" hidden><div class=\"sk-item\"><div class=\"sk-estimator sk-toggleable\"><input class=\"sk-toggleable__control sk-hidden--visually\" id=\"sk-estimator-id-19\" type=\"checkbox\" checked><label for=\"sk-estimator-id-19\" class=\"sk-toggleable__label sk-toggleable__label-arrow\">KNeighborsClassifier</label><div class=\"sk-toggleable__content\"><pre>KNeighborsClassifier()</pre></div></div></div></div></div>"
            ]
          },
          "metadata": {},
          "execution_count": 50
        }
      ]
    },
    {
      "cell_type": "code",
      "source": [
        "#точність Knn з допомогою AUROC на тренувальному та валідаційному наборах\n",
        "count_auroc(knn, X_train, X_val, train_targets, val_targets)"
      ],
      "metadata": {
        "id": "Ivf48ec8Zy7-",
        "colab": {
          "base_uri": "https://localhost:8080/"
        },
        "outputId": "7d6591ea-d273-44f9-ee55-a7711aeeec32"
      },
      "execution_count": 11,
      "outputs": [
        {
          "output_type": "stream",
          "name": "stdout",
          "text": [
            "Train AUC: 0.9545\n",
            "Validation AUC: 0.8662\n"
          ]
        },
        {
          "output_type": "execute_result",
          "data": {
            "text/plain": [
              "(0.9545101727305118, 0.8661784072981686)"
            ]
          },
          "metadata": {},
          "execution_count": 11
        }
      ]
    },
    {
      "cell_type": "markdown",
      "source": [
        "**Висновки:**\n",
        "- Модель хороша, бо високе значення AUROC як на тренувальному так і валідаційному наборі\n",
        "- В той же час модель є перенавченою, бо на валідаційному навборі AUROC на багато нижче ніж на тренувальному наборі"
      ],
      "metadata": {
        "id": "w9nuqBS9d-Dc"
      }
    },
    {
      "cell_type": "markdown",
      "source": [
        "##Завдання 2"
      ],
      "metadata": {
        "id": "gvooF6Bce6e0"
      }
    },
    {
      "cell_type": "markdown",
      "source": [
        "2. Використовуючи `GridSearchCV` знайдіть оптимальне значення параметра `n_neighbors` для класифікатора `kNN`. Псотавте крос валідацію на 5 фолдів.\n",
        "\n",
        "  Після успішного завершення пошуку оптимального гіперпараметра\n",
        "    - виведіть найкраще значення параметра\n",
        "    - збережіть в окрему змінну `knn_best` найкращу модель, знайдену з `GridSearchCV`\n",
        "    - оцініть якість передбачень  `knn_best` на тренувальній і валідаційній вибірці з допомогою AUROC.\n",
        "    - зробіть висновок про якість моделі. Чи стала вона краще порівняно з попереднім пукнтом (2) цього завдання? Чи є вона краще за дерево прийняття рішень з попереднього ДЗ?"
      ],
      "metadata": {
        "id": "U4hm5qYs_f7x"
      }
    },
    {
      "cell_type": "code",
      "source": [
        "#пошук оптимального значення\n",
        "knn = KNeighborsClassifier()\n",
        "params_knn = {'n_neighbors': np.arange(1, 21)}\n",
        "knn_gs = GridSearchCV(knn, params_knn, cv=5)\n",
        "knn_gs.fit(X_train, train_targets)"
      ],
      "metadata": {
        "id": "a50AtDZ9IDNx",
        "colab": {
          "base_uri": "https://localhost:8080/",
          "height": 117
        },
        "outputId": "aa49bb85-ca08-4669-8213-40077648a246"
      },
      "execution_count": 52,
      "outputs": [
        {
          "output_type": "execute_result",
          "data": {
            "text/plain": [
              "GridSearchCV(cv=5, estimator=KNeighborsClassifier(),\n",
              "             param_grid={'n_neighbors': array([ 1,  2,  3,  4,  5,  6,  7,  8,  9, 10, 11, 12, 13, 14, 15, 16, 17,\n",
              "       18, 19, 20])})"
            ],
            "text/html": [
              "<style>#sk-container-id-12 {color: black;background-color: white;}#sk-container-id-12 pre{padding: 0;}#sk-container-id-12 div.sk-toggleable {background-color: white;}#sk-container-id-12 label.sk-toggleable__label {cursor: pointer;display: block;width: 100%;margin-bottom: 0;padding: 0.3em;box-sizing: border-box;text-align: center;}#sk-container-id-12 label.sk-toggleable__label-arrow:before {content: \"▸\";float: left;margin-right: 0.25em;color: #696969;}#sk-container-id-12 label.sk-toggleable__label-arrow:hover:before {color: black;}#sk-container-id-12 div.sk-estimator:hover label.sk-toggleable__label-arrow:before {color: black;}#sk-container-id-12 div.sk-toggleable__content {max-height: 0;max-width: 0;overflow: hidden;text-align: left;background-color: #f0f8ff;}#sk-container-id-12 div.sk-toggleable__content pre {margin: 0.2em;color: black;border-radius: 0.25em;background-color: #f0f8ff;}#sk-container-id-12 input.sk-toggleable__control:checked~div.sk-toggleable__content {max-height: 200px;max-width: 100%;overflow: auto;}#sk-container-id-12 input.sk-toggleable__control:checked~label.sk-toggleable__label-arrow:before {content: \"▾\";}#sk-container-id-12 div.sk-estimator input.sk-toggleable__control:checked~label.sk-toggleable__label {background-color: #d4ebff;}#sk-container-id-12 div.sk-label input.sk-toggleable__control:checked~label.sk-toggleable__label {background-color: #d4ebff;}#sk-container-id-12 input.sk-hidden--visually {border: 0;clip: rect(1px 1px 1px 1px);clip: rect(1px, 1px, 1px, 1px);height: 1px;margin: -1px;overflow: hidden;padding: 0;position: absolute;width: 1px;}#sk-container-id-12 div.sk-estimator {font-family: monospace;background-color: #f0f8ff;border: 1px dotted black;border-radius: 0.25em;box-sizing: border-box;margin-bottom: 0.5em;}#sk-container-id-12 div.sk-estimator:hover {background-color: #d4ebff;}#sk-container-id-12 div.sk-parallel-item::after {content: \"\";width: 100%;border-bottom: 1px solid gray;flex-grow: 1;}#sk-container-id-12 div.sk-label:hover label.sk-toggleable__label {background-color: #d4ebff;}#sk-container-id-12 div.sk-serial::before {content: \"\";position: absolute;border-left: 1px solid gray;box-sizing: border-box;top: 0;bottom: 0;left: 50%;z-index: 0;}#sk-container-id-12 div.sk-serial {display: flex;flex-direction: column;align-items: center;background-color: white;padding-right: 0.2em;padding-left: 0.2em;position: relative;}#sk-container-id-12 div.sk-item {position: relative;z-index: 1;}#sk-container-id-12 div.sk-parallel {display: flex;align-items: stretch;justify-content: center;background-color: white;position: relative;}#sk-container-id-12 div.sk-item::before, #sk-container-id-12 div.sk-parallel-item::before {content: \"\";position: absolute;border-left: 1px solid gray;box-sizing: border-box;top: 0;bottom: 0;left: 50%;z-index: -1;}#sk-container-id-12 div.sk-parallel-item {display: flex;flex-direction: column;z-index: 1;position: relative;background-color: white;}#sk-container-id-12 div.sk-parallel-item:first-child::after {align-self: flex-end;width: 50%;}#sk-container-id-12 div.sk-parallel-item:last-child::after {align-self: flex-start;width: 50%;}#sk-container-id-12 div.sk-parallel-item:only-child::after {width: 0;}#sk-container-id-12 div.sk-dashed-wrapped {border: 1px dashed gray;margin: 0 0.4em 0.5em 0.4em;box-sizing: border-box;padding-bottom: 0.4em;background-color: white;}#sk-container-id-12 div.sk-label label {font-family: monospace;font-weight: bold;display: inline-block;line-height: 1.2em;}#sk-container-id-12 div.sk-label-container {text-align: center;}#sk-container-id-12 div.sk-container {/* jupyter's `normalize.less` sets `[hidden] { display: none; }` but bootstrap.min.css set `[hidden] { display: none !important; }` so we also need the `!important` here to be able to override the default hidden behavior on the sphinx rendered scikit-learn.org. See: https://github.com/scikit-learn/scikit-learn/issues/21755 */display: inline-block !important;position: relative;}#sk-container-id-12 div.sk-text-repr-fallback {display: none;}</style><div id=\"sk-container-id-12\" class=\"sk-top-container\"><div class=\"sk-text-repr-fallback\"><pre>GridSearchCV(cv=5, estimator=KNeighborsClassifier(),\n",
              "             param_grid={&#x27;n_neighbors&#x27;: array([ 1,  2,  3,  4,  5,  6,  7,  8,  9, 10, 11, 12, 13, 14, 15, 16, 17,\n",
              "       18, 19, 20])})</pre><b>In a Jupyter environment, please rerun this cell to show the HTML representation or trust the notebook. <br />On GitHub, the HTML representation is unable to render, please try loading this page with nbviewer.org.</b></div><div class=\"sk-container\" hidden><div class=\"sk-item sk-dashed-wrapped\"><div class=\"sk-label-container\"><div class=\"sk-label sk-toggleable\"><input class=\"sk-toggleable__control sk-hidden--visually\" id=\"sk-estimator-id-20\" type=\"checkbox\" ><label for=\"sk-estimator-id-20\" class=\"sk-toggleable__label sk-toggleable__label-arrow\">GridSearchCV</label><div class=\"sk-toggleable__content\"><pre>GridSearchCV(cv=5, estimator=KNeighborsClassifier(),\n",
              "             param_grid={&#x27;n_neighbors&#x27;: array([ 1,  2,  3,  4,  5,  6,  7,  8,  9, 10, 11, 12, 13, 14, 15, 16, 17,\n",
              "       18, 19, 20])})</pre></div></div></div><div class=\"sk-parallel\"><div class=\"sk-parallel-item\"><div class=\"sk-item\"><div class=\"sk-label-container\"><div class=\"sk-label sk-toggleable\"><input class=\"sk-toggleable__control sk-hidden--visually\" id=\"sk-estimator-id-21\" type=\"checkbox\" ><label for=\"sk-estimator-id-21\" class=\"sk-toggleable__label sk-toggleable__label-arrow\">estimator: KNeighborsClassifier</label><div class=\"sk-toggleable__content\"><pre>KNeighborsClassifier()</pre></div></div></div><div class=\"sk-serial\"><div class=\"sk-item\"><div class=\"sk-estimator sk-toggleable\"><input class=\"sk-toggleable__control sk-hidden--visually\" id=\"sk-estimator-id-22\" type=\"checkbox\" ><label for=\"sk-estimator-id-22\" class=\"sk-toggleable__label sk-toggleable__label-arrow\">KNeighborsClassifier</label><div class=\"sk-toggleable__content\"><pre>KNeighborsClassifier()</pre></div></div></div></div></div></div></div></div></div></div>"
            ]
          },
          "metadata": {},
          "execution_count": 52
        }
      ]
    },
    {
      "cell_type": "code",
      "source": [
        "#найкраще значення параметра, найкраща модель\n",
        "knn_best = knn_gs.best_estimator_\n",
        "\n",
        "print(knn_gs.best_params_)"
      ],
      "metadata": {
        "id": "nfMxNAgHgigr",
        "colab": {
          "base_uri": "https://localhost:8080/"
        },
        "outputId": "2605a930-44ae-4965-ea38-60b20f313f95"
      },
      "execution_count": 53,
      "outputs": [
        {
          "output_type": "stream",
          "name": "stdout",
          "text": [
            "{'n_neighbors': 7}\n"
          ]
        }
      ]
    },
    {
      "cell_type": "code",
      "source": [
        "knn_best.fit(X_train, train_targets)"
      ],
      "metadata": {
        "colab": {
          "base_uri": "https://localhost:8080/",
          "height": 74
        },
        "id": "8PzlUc26AP-v",
        "outputId": "d845c051-6127-4cc3-a659-65fa2af6af6e"
      },
      "execution_count": 57,
      "outputs": [
        {
          "output_type": "execute_result",
          "data": {
            "text/plain": [
              "KNeighborsClassifier(n_neighbors=7)"
            ],
            "text/html": [
              "<style>#sk-container-id-13 {color: black;background-color: white;}#sk-container-id-13 pre{padding: 0;}#sk-container-id-13 div.sk-toggleable {background-color: white;}#sk-container-id-13 label.sk-toggleable__label {cursor: pointer;display: block;width: 100%;margin-bottom: 0;padding: 0.3em;box-sizing: border-box;text-align: center;}#sk-container-id-13 label.sk-toggleable__label-arrow:before {content: \"▸\";float: left;margin-right: 0.25em;color: #696969;}#sk-container-id-13 label.sk-toggleable__label-arrow:hover:before {color: black;}#sk-container-id-13 div.sk-estimator:hover label.sk-toggleable__label-arrow:before {color: black;}#sk-container-id-13 div.sk-toggleable__content {max-height: 0;max-width: 0;overflow: hidden;text-align: left;background-color: #f0f8ff;}#sk-container-id-13 div.sk-toggleable__content pre {margin: 0.2em;color: black;border-radius: 0.25em;background-color: #f0f8ff;}#sk-container-id-13 input.sk-toggleable__control:checked~div.sk-toggleable__content {max-height: 200px;max-width: 100%;overflow: auto;}#sk-container-id-13 input.sk-toggleable__control:checked~label.sk-toggleable__label-arrow:before {content: \"▾\";}#sk-container-id-13 div.sk-estimator input.sk-toggleable__control:checked~label.sk-toggleable__label {background-color: #d4ebff;}#sk-container-id-13 div.sk-label input.sk-toggleable__control:checked~label.sk-toggleable__label {background-color: #d4ebff;}#sk-container-id-13 input.sk-hidden--visually {border: 0;clip: rect(1px 1px 1px 1px);clip: rect(1px, 1px, 1px, 1px);height: 1px;margin: -1px;overflow: hidden;padding: 0;position: absolute;width: 1px;}#sk-container-id-13 div.sk-estimator {font-family: monospace;background-color: #f0f8ff;border: 1px dotted black;border-radius: 0.25em;box-sizing: border-box;margin-bottom: 0.5em;}#sk-container-id-13 div.sk-estimator:hover {background-color: #d4ebff;}#sk-container-id-13 div.sk-parallel-item::after {content: \"\";width: 100%;border-bottom: 1px solid gray;flex-grow: 1;}#sk-container-id-13 div.sk-label:hover label.sk-toggleable__label {background-color: #d4ebff;}#sk-container-id-13 div.sk-serial::before {content: \"\";position: absolute;border-left: 1px solid gray;box-sizing: border-box;top: 0;bottom: 0;left: 50%;z-index: 0;}#sk-container-id-13 div.sk-serial {display: flex;flex-direction: column;align-items: center;background-color: white;padding-right: 0.2em;padding-left: 0.2em;position: relative;}#sk-container-id-13 div.sk-item {position: relative;z-index: 1;}#sk-container-id-13 div.sk-parallel {display: flex;align-items: stretch;justify-content: center;background-color: white;position: relative;}#sk-container-id-13 div.sk-item::before, #sk-container-id-13 div.sk-parallel-item::before {content: \"\";position: absolute;border-left: 1px solid gray;box-sizing: border-box;top: 0;bottom: 0;left: 50%;z-index: -1;}#sk-container-id-13 div.sk-parallel-item {display: flex;flex-direction: column;z-index: 1;position: relative;background-color: white;}#sk-container-id-13 div.sk-parallel-item:first-child::after {align-self: flex-end;width: 50%;}#sk-container-id-13 div.sk-parallel-item:last-child::after {align-self: flex-start;width: 50%;}#sk-container-id-13 div.sk-parallel-item:only-child::after {width: 0;}#sk-container-id-13 div.sk-dashed-wrapped {border: 1px dashed gray;margin: 0 0.4em 0.5em 0.4em;box-sizing: border-box;padding-bottom: 0.4em;background-color: white;}#sk-container-id-13 div.sk-label label {font-family: monospace;font-weight: bold;display: inline-block;line-height: 1.2em;}#sk-container-id-13 div.sk-label-container {text-align: center;}#sk-container-id-13 div.sk-container {/* jupyter's `normalize.less` sets `[hidden] { display: none; }` but bootstrap.min.css set `[hidden] { display: none !important; }` so we also need the `!important` here to be able to override the default hidden behavior on the sphinx rendered scikit-learn.org. See: https://github.com/scikit-learn/scikit-learn/issues/21755 */display: inline-block !important;position: relative;}#sk-container-id-13 div.sk-text-repr-fallback {display: none;}</style><div id=\"sk-container-id-13\" class=\"sk-top-container\"><div class=\"sk-text-repr-fallback\"><pre>KNeighborsClassifier(n_neighbors=7)</pre><b>In a Jupyter environment, please rerun this cell to show the HTML representation or trust the notebook. <br />On GitHub, the HTML representation is unable to render, please try loading this page with nbviewer.org.</b></div><div class=\"sk-container\" hidden><div class=\"sk-item\"><div class=\"sk-estimator sk-toggleable\"><input class=\"sk-toggleable__control sk-hidden--visually\" id=\"sk-estimator-id-23\" type=\"checkbox\" checked><label for=\"sk-estimator-id-23\" class=\"sk-toggleable__label sk-toggleable__label-arrow\">KNeighborsClassifier</label><div class=\"sk-toggleable__content\"><pre>KNeighborsClassifier(n_neighbors=7)</pre></div></div></div></div></div>"
            ]
          },
          "metadata": {},
          "execution_count": 57
        }
      ]
    },
    {
      "cell_type": "code",
      "source": [
        "#точність Knn_best з допомогою AUROC на тренувальному та валідаційному наборах\n",
        "count_auroc(knn_best, X_train, X_val, train_targets, val_targets)"
      ],
      "metadata": {
        "id": "YgcD4oYrhNYv",
        "colab": {
          "base_uri": "https://localhost:8080/"
        },
        "outputId": "bb18c268-29cd-43f7-dfb1-0f9b35888f48"
      },
      "execution_count": 58,
      "outputs": [
        {
          "output_type": "stream",
          "name": "stdout",
          "text": [
            "Train AUC: 0.9459\n",
            "Validation AUC: 0.8803\n"
          ]
        },
        {
          "output_type": "execute_result",
          "data": {
            "text/plain": [
              "(0.9459452176024682, 0.8803271829343576)"
            ]
          },
          "metadata": {},
          "execution_count": 58
        }
      ]
    },
    {
      "cell_type": "markdown",
      "source": [
        "**Висновки:**\n",
        "- Модель хороша, бо високе значення AUROC як на тренувальному так і валідаційному наборі;\n",
        "- В той же час модель є перенавченою, бо на валідаційному навборі AUROC на багато нижче ніж на тренувальному наборі;\n",
        "- порівняно з попереднім пукнтом (2) цього завдання:\n",
        "  - AUROC knn_best на тренувальному наборі краще (0.9459) ніж на knn (0.9545);\n",
        "  - AUROC на валідаційному наборі даних краще також на knn_best (0.8803);\n",
        "  - На knn_best менше рівень перенавченості.\n",
        "- порівняно з деревом прийняття рішень з попереднього ДЗ:\n",
        "  - AUROC knn_best на тренувальному наборі краще (0.9459) ніж на дереві рішень (0.9246);\n",
        "  - AUROC на валідаційному наборі даних краще на деревах рішень (0.9224);\n",
        "  - Також на деревах рішень менше рівень перенавченості.\n"
      ],
      "metadata": {
        "id": "G0-JkLPzhp3U"
      }
    },
    {
      "cell_type": "markdown",
      "source": [
        "##Завдання 3"
      ],
      "metadata": {
        "id": "EtPU113C3w6g"
      }
    },
    {
      "cell_type": "markdown",
      "source": [
        "3. Виконайте пошук оптимальних гіперпараметрів для `DecisionTreeClassifier` з `GridSearchCV` за сіткою параметрів\n",
        "  - `max_depth` від 1 до 20 з кроком 2\n",
        "  - `max_leaf_nodes` від 2 до 10 з кроком 1\n",
        "\n",
        "  Обовʼязково при цьому ініціюйте модель з фіксацією `random_seed`.\n",
        "\n",
        "  Поставте кросвалідацію на 3 фолди, `scoring='roc_auc'`, та виміряйте, скільки часу потребує пошук оптимальних гіперпараметрів.\n",
        "\n",
        "  Після успішного завершення пошуку оптимальних гіперпараметрів\n",
        "    - виведіть найкращі значення параметра\n",
        "    - збережіть в окрему змінну `dt_best` найкращу модель, знайдену з `GridSearchCV`\n",
        "    - оцініть якість передбачень  `dt_best` на тренувальній і валідаційній вибірці з допомогою AUROC.\n",
        "    - зробіть висновок про якість моделі. Чи ця модель краща за ту, що ви знайшли вручну?"
      ],
      "metadata": {
        "id": "Vg77SVWrBBmU"
      }
    },
    {
      "cell_type": "markdown",
      "source": [
        "###за параметрами заданими з попереднього HW"
      ],
      "metadata": {
        "id": "I6FgAi0w6ZjL"
      }
    },
    {
      "cell_type": "code",
      "source": [
        "#пошук оптимальних параметрів\n",
        "tree = DecisionTreeClassifier(random_state=42)\n",
        "params_tree = {\n",
        "    'max_depth': np.arange(1, 20, 2),\n",
        "    'max_leaf_nodes': np.arange(2, 10, 1)\n",
        "}\n",
        "tree_gs = GridSearchCV(\n",
        "    tree,\n",
        "    params_tree,\n",
        "    scoring='roc_auc',\n",
        "    verbose=3,\n",
        "    cv=3)\n",
        "tree_gs.fit(X_train, train_targets)"
      ],
      "metadata": {
        "id": "RVg6jX-7IEwl",
        "colab": {
          "base_uri": "https://localhost:8080/",
          "height": 0
        },
        "collapsed": true,
        "outputId": "cd211e8d-4a29-44a2-a01d-1af9777215fd"
      },
      "execution_count": 15,
      "outputs": [
        {
          "output_type": "stream",
          "name": "stdout",
          "text": [
            "Fitting 3 folds for each of 80 candidates, totalling 240 fits\n",
            "[CV 1/3] END .....max_depth=1, max_leaf_nodes=2;, score=0.751 total time=   0.0s\n",
            "[CV 2/3] END .....max_depth=1, max_leaf_nodes=2;, score=0.735 total time=   0.0s\n",
            "[CV 3/3] END .....max_depth=1, max_leaf_nodes=2;, score=0.749 total time=   0.0s\n",
            "[CV 1/3] END .....max_depth=1, max_leaf_nodes=3;, score=0.751 total time=   0.0s\n",
            "[CV 2/3] END .....max_depth=1, max_leaf_nodes=3;, score=0.735 total time=   0.0s\n",
            "[CV 3/3] END .....max_depth=1, max_leaf_nodes=3;, score=0.749 total time=   0.0s\n",
            "[CV 1/3] END .....max_depth=1, max_leaf_nodes=4;, score=0.751 total time=   0.0s\n",
            "[CV 2/3] END .....max_depth=1, max_leaf_nodes=4;, score=0.735 total time=   0.0s\n",
            "[CV 3/3] END .....max_depth=1, max_leaf_nodes=4;, score=0.749 total time=   0.0s\n",
            "[CV 1/3] END .....max_depth=1, max_leaf_nodes=5;, score=0.751 total time=   0.0s\n",
            "[CV 2/3] END .....max_depth=1, max_leaf_nodes=5;, score=0.735 total time=   0.0s\n",
            "[CV 3/3] END .....max_depth=1, max_leaf_nodes=5;, score=0.749 total time=   0.0s\n",
            "[CV 1/3] END .....max_depth=1, max_leaf_nodes=6;, score=0.751 total time=   0.0s\n",
            "[CV 2/3] END .....max_depth=1, max_leaf_nodes=6;, score=0.735 total time=   0.0s\n",
            "[CV 3/3] END .....max_depth=1, max_leaf_nodes=6;, score=0.749 total time=   0.0s\n",
            "[CV 1/3] END .....max_depth=1, max_leaf_nodes=7;, score=0.751 total time=   0.0s\n",
            "[CV 2/3] END .....max_depth=1, max_leaf_nodes=7;, score=0.735 total time=   0.0s\n",
            "[CV 3/3] END .....max_depth=1, max_leaf_nodes=7;, score=0.749 total time=   0.0s\n",
            "[CV 1/3] END .....max_depth=1, max_leaf_nodes=8;, score=0.751 total time=   0.0s\n",
            "[CV 2/3] END .....max_depth=1, max_leaf_nodes=8;, score=0.735 total time=   0.0s\n",
            "[CV 3/3] END .....max_depth=1, max_leaf_nodes=8;, score=0.749 total time=   0.0s\n",
            "[CV 1/3] END .....max_depth=1, max_leaf_nodes=9;, score=0.751 total time=   0.0s\n",
            "[CV 2/3] END .....max_depth=1, max_leaf_nodes=9;, score=0.735 total time=   0.0s\n",
            "[CV 3/3] END .....max_depth=1, max_leaf_nodes=9;, score=0.749 total time=   0.0s\n",
            "[CV 1/3] END .....max_depth=3, max_leaf_nodes=2;, score=0.751 total time=   0.0s\n",
            "[CV 2/3] END .....max_depth=3, max_leaf_nodes=2;, score=0.735 total time=   0.0s\n",
            "[CV 3/3] END .....max_depth=3, max_leaf_nodes=2;, score=0.749 total time=   0.0s\n",
            "[CV 1/3] END .....max_depth=3, max_leaf_nodes=3;, score=0.763 total time=   0.0s\n",
            "[CV 2/3] END .....max_depth=3, max_leaf_nodes=3;, score=0.749 total time=   0.0s\n",
            "[CV 3/3] END .....max_depth=3, max_leaf_nodes=3;, score=0.762 total time=   0.0s\n",
            "[CV 1/3] END .....max_depth=3, max_leaf_nodes=4;, score=0.849 total time=   0.0s\n",
            "[CV 2/3] END .....max_depth=3, max_leaf_nodes=4;, score=0.830 total time=   0.0s\n",
            "[CV 3/3] END .....max_depth=3, max_leaf_nodes=4;, score=0.853 total time=   0.0s\n",
            "[CV 1/3] END .....max_depth=3, max_leaf_nodes=5;, score=0.865 total time=   0.0s\n",
            "[CV 2/3] END .....max_depth=3, max_leaf_nodes=5;, score=0.858 total time=   0.0s\n",
            "[CV 3/3] END .....max_depth=3, max_leaf_nodes=5;, score=0.869 total time=   0.0s\n",
            "[CV 1/3] END .....max_depth=3, max_leaf_nodes=6;, score=0.891 total time=   0.0s\n",
            "[CV 2/3] END .....max_depth=3, max_leaf_nodes=6;, score=0.882 total time=   0.0s\n",
            "[CV 3/3] END .....max_depth=3, max_leaf_nodes=6;, score=0.892 total time=   0.0s\n",
            "[CV 1/3] END .....max_depth=3, max_leaf_nodes=7;, score=0.895 total time=   0.0s\n",
            "[CV 2/3] END .....max_depth=3, max_leaf_nodes=7;, score=0.889 total time=   0.0s\n",
            "[CV 3/3] END .....max_depth=3, max_leaf_nodes=7;, score=0.897 total time=   0.0s\n",
            "[CV 1/3] END .....max_depth=3, max_leaf_nodes=8;, score=0.898 total time=   0.0s\n",
            "[CV 2/3] END .....max_depth=3, max_leaf_nodes=8;, score=0.892 total time=   0.0s\n",
            "[CV 3/3] END .....max_depth=3, max_leaf_nodes=8;, score=0.900 total time=   0.0s\n",
            "[CV 1/3] END .....max_depth=3, max_leaf_nodes=9;, score=0.898 total time=   0.0s\n",
            "[CV 2/3] END .....max_depth=3, max_leaf_nodes=9;, score=0.892 total time=   0.0s\n",
            "[CV 3/3] END .....max_depth=3, max_leaf_nodes=9;, score=0.900 total time=   0.0s\n",
            "[CV 1/3] END .....max_depth=5, max_leaf_nodes=2;, score=0.751 total time=   0.0s\n",
            "[CV 2/3] END .....max_depth=5, max_leaf_nodes=2;, score=0.735 total time=   0.0s\n",
            "[CV 3/3] END .....max_depth=5, max_leaf_nodes=2;, score=0.749 total time=   0.0s\n",
            "[CV 1/3] END .....max_depth=5, max_leaf_nodes=3;, score=0.763 total time=   0.0s\n",
            "[CV 2/3] END .....max_depth=5, max_leaf_nodes=3;, score=0.749 total time=   0.0s\n",
            "[CV 3/3] END .....max_depth=5, max_leaf_nodes=3;, score=0.762 total time=   0.0s\n",
            "[CV 1/3] END .....max_depth=5, max_leaf_nodes=4;, score=0.849 total time=   0.0s\n",
            "[CV 2/3] END .....max_depth=5, max_leaf_nodes=4;, score=0.830 total time=   0.0s\n",
            "[CV 3/3] END .....max_depth=5, max_leaf_nodes=4;, score=0.853 total time=   0.0s\n",
            "[CV 1/3] END .....max_depth=5, max_leaf_nodes=5;, score=0.865 total time=   0.0s\n",
            "[CV 2/3] END .....max_depth=5, max_leaf_nodes=5;, score=0.858 total time=   0.0s\n",
            "[CV 3/3] END .....max_depth=5, max_leaf_nodes=5;, score=0.869 total time=   0.0s\n",
            "[CV 1/3] END .....max_depth=5, max_leaf_nodes=6;, score=0.891 total time=   0.0s\n",
            "[CV 2/3] END .....max_depth=5, max_leaf_nodes=6;, score=0.882 total time=   0.0s\n",
            "[CV 3/3] END .....max_depth=5, max_leaf_nodes=6;, score=0.892 total time=   0.0s\n",
            "[CV 1/3] END .....max_depth=5, max_leaf_nodes=7;, score=0.895 total time=   0.0s\n",
            "[CV 2/3] END .....max_depth=5, max_leaf_nodes=7;, score=0.889 total time=   0.0s\n",
            "[CV 3/3] END .....max_depth=5, max_leaf_nodes=7;, score=0.897 total time=   0.0s\n",
            "[CV 1/3] END .....max_depth=5, max_leaf_nodes=8;, score=0.898 total time=   0.0s\n",
            "[CV 2/3] END .....max_depth=5, max_leaf_nodes=8;, score=0.892 total time=   0.0s\n",
            "[CV 3/3] END .....max_depth=5, max_leaf_nodes=8;, score=0.900 total time=   0.0s\n",
            "[CV 1/3] END .....max_depth=5, max_leaf_nodes=9;, score=0.900 total time=   0.0s\n",
            "[CV 2/3] END .....max_depth=5, max_leaf_nodes=9;, score=0.894 total time=   0.0s\n",
            "[CV 3/3] END .....max_depth=5, max_leaf_nodes=9;, score=0.901 total time=   0.0s\n",
            "[CV 1/3] END .....max_depth=7, max_leaf_nodes=2;, score=0.751 total time=   0.0s\n",
            "[CV 2/3] END .....max_depth=7, max_leaf_nodes=2;, score=0.735 total time=   0.0s\n",
            "[CV 3/3] END .....max_depth=7, max_leaf_nodes=2;, score=0.749 total time=   0.0s\n",
            "[CV 1/3] END .....max_depth=7, max_leaf_nodes=3;, score=0.763 total time=   0.0s\n",
            "[CV 2/3] END .....max_depth=7, max_leaf_nodes=3;, score=0.749 total time=   0.0s\n",
            "[CV 3/3] END .....max_depth=7, max_leaf_nodes=3;, score=0.762 total time=   0.0s\n",
            "[CV 1/3] END .....max_depth=7, max_leaf_nodes=4;, score=0.849 total time=   0.0s\n",
            "[CV 2/3] END .....max_depth=7, max_leaf_nodes=4;, score=0.830 total time=   0.0s\n",
            "[CV 3/3] END .....max_depth=7, max_leaf_nodes=4;, score=0.853 total time=   0.0s\n",
            "[CV 1/3] END .....max_depth=7, max_leaf_nodes=5;, score=0.865 total time=   0.0s\n",
            "[CV 2/3] END .....max_depth=7, max_leaf_nodes=5;, score=0.858 total time=   0.0s\n",
            "[CV 3/3] END .....max_depth=7, max_leaf_nodes=5;, score=0.869 total time=   0.0s\n",
            "[CV 1/3] END .....max_depth=7, max_leaf_nodes=6;, score=0.891 total time=   0.0s\n",
            "[CV 2/3] END .....max_depth=7, max_leaf_nodes=6;, score=0.882 total time=   0.0s\n",
            "[CV 3/3] END .....max_depth=7, max_leaf_nodes=6;, score=0.892 total time=   0.0s\n",
            "[CV 1/3] END .....max_depth=7, max_leaf_nodes=7;, score=0.895 total time=   0.0s\n",
            "[CV 2/3] END .....max_depth=7, max_leaf_nodes=7;, score=0.889 total time=   0.0s\n",
            "[CV 3/3] END .....max_depth=7, max_leaf_nodes=7;, score=0.897 total time=   0.0s\n",
            "[CV 1/3] END .....max_depth=7, max_leaf_nodes=8;, score=0.898 total time=   0.0s\n",
            "[CV 2/3] END .....max_depth=7, max_leaf_nodes=8;, score=0.892 total time=   0.0s\n",
            "[CV 3/3] END .....max_depth=7, max_leaf_nodes=8;, score=0.900 total time=   0.0s\n",
            "[CV 1/3] END .....max_depth=7, max_leaf_nodes=9;, score=0.900 total time=   0.0s\n",
            "[CV 2/3] END .....max_depth=7, max_leaf_nodes=9;, score=0.894 total time=   0.0s\n",
            "[CV 3/3] END .....max_depth=7, max_leaf_nodes=9;, score=0.901 total time=   0.0s\n",
            "[CV 1/3] END .....max_depth=9, max_leaf_nodes=2;, score=0.751 total time=   0.0s\n",
            "[CV 2/3] END .....max_depth=9, max_leaf_nodes=2;, score=0.735 total time=   0.0s\n",
            "[CV 3/3] END .....max_depth=9, max_leaf_nodes=2;, score=0.749 total time=   0.0s\n",
            "[CV 1/3] END .....max_depth=9, max_leaf_nodes=3;, score=0.763 total time=   0.0s\n",
            "[CV 2/3] END .....max_depth=9, max_leaf_nodes=3;, score=0.749 total time=   0.0s\n",
            "[CV 3/3] END .....max_depth=9, max_leaf_nodes=3;, score=0.762 total time=   0.0s\n",
            "[CV 1/3] END .....max_depth=9, max_leaf_nodes=4;, score=0.849 total time=   0.0s\n",
            "[CV 2/3] END .....max_depth=9, max_leaf_nodes=4;, score=0.830 total time=   0.0s\n",
            "[CV 3/3] END .....max_depth=9, max_leaf_nodes=4;, score=0.853 total time=   0.0s\n",
            "[CV 1/3] END .....max_depth=9, max_leaf_nodes=5;, score=0.865 total time=   0.0s\n",
            "[CV 2/3] END .....max_depth=9, max_leaf_nodes=5;, score=0.858 total time=   0.0s\n",
            "[CV 3/3] END .....max_depth=9, max_leaf_nodes=5;, score=0.869 total time=   0.0s\n",
            "[CV 1/3] END .....max_depth=9, max_leaf_nodes=6;, score=0.891 total time=   0.0s\n",
            "[CV 2/3] END .....max_depth=9, max_leaf_nodes=6;, score=0.882 total time=   0.0s\n",
            "[CV 3/3] END .....max_depth=9, max_leaf_nodes=6;, score=0.892 total time=   0.0s\n",
            "[CV 1/3] END .....max_depth=9, max_leaf_nodes=7;, score=0.895 total time=   0.0s\n",
            "[CV 2/3] END .....max_depth=9, max_leaf_nodes=7;, score=0.889 total time=   0.0s\n",
            "[CV 3/3] END .....max_depth=9, max_leaf_nodes=7;, score=0.897 total time=   0.0s\n",
            "[CV 1/3] END .....max_depth=9, max_leaf_nodes=8;, score=0.898 total time=   0.0s\n",
            "[CV 2/3] END .....max_depth=9, max_leaf_nodes=8;, score=0.892 total time=   0.0s\n",
            "[CV 3/3] END .....max_depth=9, max_leaf_nodes=8;, score=0.900 total time=   0.0s\n",
            "[CV 1/3] END .....max_depth=9, max_leaf_nodes=9;, score=0.900 total time=   0.0s\n",
            "[CV 2/3] END .....max_depth=9, max_leaf_nodes=9;, score=0.894 total time=   0.0s\n",
            "[CV 3/3] END .....max_depth=9, max_leaf_nodes=9;, score=0.901 total time=   0.0s\n",
            "[CV 1/3] END ....max_depth=11, max_leaf_nodes=2;, score=0.751 total time=   0.0s\n",
            "[CV 2/3] END ....max_depth=11, max_leaf_nodes=2;, score=0.735 total time=   0.0s\n",
            "[CV 3/3] END ....max_depth=11, max_leaf_nodes=2;, score=0.749 total time=   0.0s\n",
            "[CV 1/3] END ....max_depth=11, max_leaf_nodes=3;, score=0.763 total time=   0.0s\n",
            "[CV 2/3] END ....max_depth=11, max_leaf_nodes=3;, score=0.749 total time=   0.0s\n",
            "[CV 3/3] END ....max_depth=11, max_leaf_nodes=3;, score=0.762 total time=   0.0s\n",
            "[CV 1/3] END ....max_depth=11, max_leaf_nodes=4;, score=0.849 total time=   0.0s\n",
            "[CV 2/3] END ....max_depth=11, max_leaf_nodes=4;, score=0.830 total time=   0.0s\n",
            "[CV 3/3] END ....max_depth=11, max_leaf_nodes=4;, score=0.853 total time=   0.0s\n",
            "[CV 1/3] END ....max_depth=11, max_leaf_nodes=5;, score=0.865 total time=   0.0s\n",
            "[CV 2/3] END ....max_depth=11, max_leaf_nodes=5;, score=0.858 total time=   0.0s\n",
            "[CV 3/3] END ....max_depth=11, max_leaf_nodes=5;, score=0.869 total time=   0.0s\n",
            "[CV 1/3] END ....max_depth=11, max_leaf_nodes=6;, score=0.891 total time=   0.0s\n",
            "[CV 2/3] END ....max_depth=11, max_leaf_nodes=6;, score=0.882 total time=   0.0s\n",
            "[CV 3/3] END ....max_depth=11, max_leaf_nodes=6;, score=0.892 total time=   0.0s\n",
            "[CV 1/3] END ....max_depth=11, max_leaf_nodes=7;, score=0.895 total time=   0.0s\n",
            "[CV 2/3] END ....max_depth=11, max_leaf_nodes=7;, score=0.889 total time=   0.0s\n",
            "[CV 3/3] END ....max_depth=11, max_leaf_nodes=7;, score=0.897 total time=   0.0s\n",
            "[CV 1/3] END ....max_depth=11, max_leaf_nodes=8;, score=0.898 total time=   0.0s\n",
            "[CV 2/3] END ....max_depth=11, max_leaf_nodes=8;, score=0.892 total time=   0.0s\n",
            "[CV 3/3] END ....max_depth=11, max_leaf_nodes=8;, score=0.900 total time=   0.0s\n",
            "[CV 1/3] END ....max_depth=11, max_leaf_nodes=9;, score=0.900 total time=   0.0s\n",
            "[CV 2/3] END ....max_depth=11, max_leaf_nodes=9;, score=0.894 total time=   0.0s\n",
            "[CV 3/3] END ....max_depth=11, max_leaf_nodes=9;, score=0.901 total time=   0.0s\n",
            "[CV 1/3] END ....max_depth=13, max_leaf_nodes=2;, score=0.751 total time=   0.0s\n",
            "[CV 2/3] END ....max_depth=13, max_leaf_nodes=2;, score=0.735 total time=   0.0s\n",
            "[CV 3/3] END ....max_depth=13, max_leaf_nodes=2;, score=0.749 total time=   0.0s\n",
            "[CV 1/3] END ....max_depth=13, max_leaf_nodes=3;, score=0.763 total time=   0.0s\n",
            "[CV 2/3] END ....max_depth=13, max_leaf_nodes=3;, score=0.749 total time=   0.0s\n",
            "[CV 3/3] END ....max_depth=13, max_leaf_nodes=3;, score=0.762 total time=   0.0s\n",
            "[CV 1/3] END ....max_depth=13, max_leaf_nodes=4;, score=0.849 total time=   0.0s\n",
            "[CV 2/3] END ....max_depth=13, max_leaf_nodes=4;, score=0.830 total time=   0.0s\n",
            "[CV 3/3] END ....max_depth=13, max_leaf_nodes=4;, score=0.853 total time=   0.0s\n",
            "[CV 1/3] END ....max_depth=13, max_leaf_nodes=5;, score=0.865 total time=   0.0s\n",
            "[CV 2/3] END ....max_depth=13, max_leaf_nodes=5;, score=0.858 total time=   0.0s\n",
            "[CV 3/3] END ....max_depth=13, max_leaf_nodes=5;, score=0.869 total time=   0.0s\n",
            "[CV 1/3] END ....max_depth=13, max_leaf_nodes=6;, score=0.891 total time=   0.0s\n",
            "[CV 2/3] END ....max_depth=13, max_leaf_nodes=6;, score=0.882 total time=   0.0s\n",
            "[CV 3/3] END ....max_depth=13, max_leaf_nodes=6;, score=0.892 total time=   0.0s\n",
            "[CV 1/3] END ....max_depth=13, max_leaf_nodes=7;, score=0.895 total time=   0.0s\n",
            "[CV 2/3] END ....max_depth=13, max_leaf_nodes=7;, score=0.889 total time=   0.0s\n",
            "[CV 3/3] END ....max_depth=13, max_leaf_nodes=7;, score=0.897 total time=   0.0s\n",
            "[CV 1/3] END ....max_depth=13, max_leaf_nodes=8;, score=0.898 total time=   0.0s\n",
            "[CV 2/3] END ....max_depth=13, max_leaf_nodes=8;, score=0.892 total time=   0.0s\n",
            "[CV 3/3] END ....max_depth=13, max_leaf_nodes=8;, score=0.900 total time=   0.0s\n",
            "[CV 1/3] END ....max_depth=13, max_leaf_nodes=9;, score=0.900 total time=   0.0s\n",
            "[CV 2/3] END ....max_depth=13, max_leaf_nodes=9;, score=0.894 total time=   0.0s\n",
            "[CV 3/3] END ....max_depth=13, max_leaf_nodes=9;, score=0.901 total time=   0.0s\n",
            "[CV 1/3] END ....max_depth=15, max_leaf_nodes=2;, score=0.751 total time=   0.0s\n",
            "[CV 2/3] END ....max_depth=15, max_leaf_nodes=2;, score=0.735 total time=   0.0s\n",
            "[CV 3/3] END ....max_depth=15, max_leaf_nodes=2;, score=0.749 total time=   0.0s\n",
            "[CV 1/3] END ....max_depth=15, max_leaf_nodes=3;, score=0.763 total time=   0.0s\n",
            "[CV 2/3] END ....max_depth=15, max_leaf_nodes=3;, score=0.749 total time=   0.0s\n",
            "[CV 3/3] END ....max_depth=15, max_leaf_nodes=3;, score=0.762 total time=   0.0s\n",
            "[CV 1/3] END ....max_depth=15, max_leaf_nodes=4;, score=0.849 total time=   0.0s\n",
            "[CV 2/3] END ....max_depth=15, max_leaf_nodes=4;, score=0.830 total time=   0.0s\n",
            "[CV 3/3] END ....max_depth=15, max_leaf_nodes=4;, score=0.853 total time=   0.0s\n",
            "[CV 1/3] END ....max_depth=15, max_leaf_nodes=5;, score=0.865 total time=   0.0s\n",
            "[CV 2/3] END ....max_depth=15, max_leaf_nodes=5;, score=0.858 total time=   0.0s\n",
            "[CV 3/3] END ....max_depth=15, max_leaf_nodes=5;, score=0.869 total time=   0.0s\n",
            "[CV 1/3] END ....max_depth=15, max_leaf_nodes=6;, score=0.891 total time=   0.0s\n",
            "[CV 2/3] END ....max_depth=15, max_leaf_nodes=6;, score=0.882 total time=   0.0s\n",
            "[CV 3/3] END ....max_depth=15, max_leaf_nodes=6;, score=0.892 total time=   0.0s\n",
            "[CV 1/3] END ....max_depth=15, max_leaf_nodes=7;, score=0.895 total time=   0.0s\n",
            "[CV 2/3] END ....max_depth=15, max_leaf_nodes=7;, score=0.889 total time=   0.0s\n",
            "[CV 3/3] END ....max_depth=15, max_leaf_nodes=7;, score=0.897 total time=   0.0s\n",
            "[CV 1/3] END ....max_depth=15, max_leaf_nodes=8;, score=0.898 total time=   0.0s\n",
            "[CV 2/3] END ....max_depth=15, max_leaf_nodes=8;, score=0.892 total time=   0.0s\n",
            "[CV 3/3] END ....max_depth=15, max_leaf_nodes=8;, score=0.900 total time=   0.0s\n",
            "[CV 1/3] END ....max_depth=15, max_leaf_nodes=9;, score=0.900 total time=   0.0s\n",
            "[CV 2/3] END ....max_depth=15, max_leaf_nodes=9;, score=0.894 total time=   0.0s\n",
            "[CV 3/3] END ....max_depth=15, max_leaf_nodes=9;, score=0.901 total time=   0.0s\n",
            "[CV 1/3] END ....max_depth=17, max_leaf_nodes=2;, score=0.751 total time=   0.0s\n",
            "[CV 2/3] END ....max_depth=17, max_leaf_nodes=2;, score=0.735 total time=   0.0s\n",
            "[CV 3/3] END ....max_depth=17, max_leaf_nodes=2;, score=0.749 total time=   0.0s\n",
            "[CV 1/3] END ....max_depth=17, max_leaf_nodes=3;, score=0.763 total time=   0.0s\n",
            "[CV 2/3] END ....max_depth=17, max_leaf_nodes=3;, score=0.749 total time=   0.0s\n",
            "[CV 3/3] END ....max_depth=17, max_leaf_nodes=3;, score=0.762 total time=   0.0s\n",
            "[CV 1/3] END ....max_depth=17, max_leaf_nodes=4;, score=0.849 total time=   0.0s\n",
            "[CV 2/3] END ....max_depth=17, max_leaf_nodes=4;, score=0.830 total time=   0.0s\n",
            "[CV 3/3] END ....max_depth=17, max_leaf_nodes=4;, score=0.853 total time=   0.0s\n",
            "[CV 1/3] END ....max_depth=17, max_leaf_nodes=5;, score=0.865 total time=   0.0s\n",
            "[CV 2/3] END ....max_depth=17, max_leaf_nodes=5;, score=0.858 total time=   0.0s\n",
            "[CV 3/3] END ....max_depth=17, max_leaf_nodes=5;, score=0.869 total time=   0.0s\n",
            "[CV 1/3] END ....max_depth=17, max_leaf_nodes=6;, score=0.891 total time=   0.0s\n",
            "[CV 2/3] END ....max_depth=17, max_leaf_nodes=6;, score=0.882 total time=   0.0s\n",
            "[CV 3/3] END ....max_depth=17, max_leaf_nodes=6;, score=0.892 total time=   0.0s\n",
            "[CV 1/3] END ....max_depth=17, max_leaf_nodes=7;, score=0.895 total time=   0.0s\n",
            "[CV 2/3] END ....max_depth=17, max_leaf_nodes=7;, score=0.889 total time=   0.0s\n",
            "[CV 3/3] END ....max_depth=17, max_leaf_nodes=7;, score=0.897 total time=   0.0s\n",
            "[CV 1/3] END ....max_depth=17, max_leaf_nodes=8;, score=0.898 total time=   0.0s\n",
            "[CV 2/3] END ....max_depth=17, max_leaf_nodes=8;, score=0.892 total time=   0.0s\n",
            "[CV 3/3] END ....max_depth=17, max_leaf_nodes=8;, score=0.900 total time=   0.0s\n",
            "[CV 1/3] END ....max_depth=17, max_leaf_nodes=9;, score=0.900 total time=   0.0s\n",
            "[CV 2/3] END ....max_depth=17, max_leaf_nodes=9;, score=0.894 total time=   0.0s\n",
            "[CV 3/3] END ....max_depth=17, max_leaf_nodes=9;, score=0.901 total time=   0.0s\n",
            "[CV 1/3] END ....max_depth=19, max_leaf_nodes=2;, score=0.751 total time=   0.0s\n",
            "[CV 2/3] END ....max_depth=19, max_leaf_nodes=2;, score=0.735 total time=   0.0s\n",
            "[CV 3/3] END ....max_depth=19, max_leaf_nodes=2;, score=0.749 total time=   0.0s\n",
            "[CV 1/3] END ....max_depth=19, max_leaf_nodes=3;, score=0.763 total time=   0.0s\n",
            "[CV 2/3] END ....max_depth=19, max_leaf_nodes=3;, score=0.749 total time=   0.0s\n",
            "[CV 3/3] END ....max_depth=19, max_leaf_nodes=3;, score=0.762 total time=   0.0s\n",
            "[CV 1/3] END ....max_depth=19, max_leaf_nodes=4;, score=0.849 total time=   0.0s\n",
            "[CV 2/3] END ....max_depth=19, max_leaf_nodes=4;, score=0.830 total time=   0.0s\n",
            "[CV 3/3] END ....max_depth=19, max_leaf_nodes=4;, score=0.853 total time=   0.0s\n",
            "[CV 1/3] END ....max_depth=19, max_leaf_nodes=5;, score=0.865 total time=   0.0s\n",
            "[CV 2/3] END ....max_depth=19, max_leaf_nodes=5;, score=0.858 total time=   0.0s\n",
            "[CV 3/3] END ....max_depth=19, max_leaf_nodes=5;, score=0.869 total time=   0.0s\n",
            "[CV 1/3] END ....max_depth=19, max_leaf_nodes=6;, score=0.891 total time=   0.0s\n",
            "[CV 2/3] END ....max_depth=19, max_leaf_nodes=6;, score=0.882 total time=   0.0s\n",
            "[CV 3/3] END ....max_depth=19, max_leaf_nodes=6;, score=0.892 total time=   0.0s\n",
            "[CV 1/3] END ....max_depth=19, max_leaf_nodes=7;, score=0.895 total time=   0.0s\n",
            "[CV 2/3] END ....max_depth=19, max_leaf_nodes=7;, score=0.889 total time=   0.0s\n",
            "[CV 3/3] END ....max_depth=19, max_leaf_nodes=7;, score=0.897 total time=   0.0s\n",
            "[CV 1/3] END ....max_depth=19, max_leaf_nodes=8;, score=0.898 total time=   0.0s\n",
            "[CV 2/3] END ....max_depth=19, max_leaf_nodes=8;, score=0.892 total time=   0.0s\n",
            "[CV 3/3] END ....max_depth=19, max_leaf_nodes=8;, score=0.900 total time=   0.0s\n",
            "[CV 1/3] END ....max_depth=19, max_leaf_nodes=9;, score=0.900 total time=   0.0s\n",
            "[CV 2/3] END ....max_depth=19, max_leaf_nodes=9;, score=0.894 total time=   0.0s\n",
            "[CV 3/3] END ....max_depth=19, max_leaf_nodes=9;, score=0.901 total time=   0.0s\n"
          ]
        },
        {
          "output_type": "execute_result",
          "data": {
            "text/plain": [
              "GridSearchCV(cv=3, estimator=DecisionTreeClassifier(random_state=42),\n",
              "             param_grid={'max_depth': array([ 1,  3,  5,  7,  9, 11, 13, 15, 17, 19]),\n",
              "                         'max_leaf_nodes': array([2, 3, 4, 5, 6, 7, 8, 9])},\n",
              "             scoring='roc_auc', verbose=3)"
            ],
            "text/html": [
              "<style>#sk-container-id-3 {color: black;background-color: white;}#sk-container-id-3 pre{padding: 0;}#sk-container-id-3 div.sk-toggleable {background-color: white;}#sk-container-id-3 label.sk-toggleable__label {cursor: pointer;display: block;width: 100%;margin-bottom: 0;padding: 0.3em;box-sizing: border-box;text-align: center;}#sk-container-id-3 label.sk-toggleable__label-arrow:before {content: \"▸\";float: left;margin-right: 0.25em;color: #696969;}#sk-container-id-3 label.sk-toggleable__label-arrow:hover:before {color: black;}#sk-container-id-3 div.sk-estimator:hover label.sk-toggleable__label-arrow:before {color: black;}#sk-container-id-3 div.sk-toggleable__content {max-height: 0;max-width: 0;overflow: hidden;text-align: left;background-color: #f0f8ff;}#sk-container-id-3 div.sk-toggleable__content pre {margin: 0.2em;color: black;border-radius: 0.25em;background-color: #f0f8ff;}#sk-container-id-3 input.sk-toggleable__control:checked~div.sk-toggleable__content {max-height: 200px;max-width: 100%;overflow: auto;}#sk-container-id-3 input.sk-toggleable__control:checked~label.sk-toggleable__label-arrow:before {content: \"▾\";}#sk-container-id-3 div.sk-estimator input.sk-toggleable__control:checked~label.sk-toggleable__label {background-color: #d4ebff;}#sk-container-id-3 div.sk-label input.sk-toggleable__control:checked~label.sk-toggleable__label {background-color: #d4ebff;}#sk-container-id-3 input.sk-hidden--visually {border: 0;clip: rect(1px 1px 1px 1px);clip: rect(1px, 1px, 1px, 1px);height: 1px;margin: -1px;overflow: hidden;padding: 0;position: absolute;width: 1px;}#sk-container-id-3 div.sk-estimator {font-family: monospace;background-color: #f0f8ff;border: 1px dotted black;border-radius: 0.25em;box-sizing: border-box;margin-bottom: 0.5em;}#sk-container-id-3 div.sk-estimator:hover {background-color: #d4ebff;}#sk-container-id-3 div.sk-parallel-item::after {content: \"\";width: 100%;border-bottom: 1px solid gray;flex-grow: 1;}#sk-container-id-3 div.sk-label:hover label.sk-toggleable__label {background-color: #d4ebff;}#sk-container-id-3 div.sk-serial::before {content: \"\";position: absolute;border-left: 1px solid gray;box-sizing: border-box;top: 0;bottom: 0;left: 50%;z-index: 0;}#sk-container-id-3 div.sk-serial {display: flex;flex-direction: column;align-items: center;background-color: white;padding-right: 0.2em;padding-left: 0.2em;position: relative;}#sk-container-id-3 div.sk-item {position: relative;z-index: 1;}#sk-container-id-3 div.sk-parallel {display: flex;align-items: stretch;justify-content: center;background-color: white;position: relative;}#sk-container-id-3 div.sk-item::before, #sk-container-id-3 div.sk-parallel-item::before {content: \"\";position: absolute;border-left: 1px solid gray;box-sizing: border-box;top: 0;bottom: 0;left: 50%;z-index: -1;}#sk-container-id-3 div.sk-parallel-item {display: flex;flex-direction: column;z-index: 1;position: relative;background-color: white;}#sk-container-id-3 div.sk-parallel-item:first-child::after {align-self: flex-end;width: 50%;}#sk-container-id-3 div.sk-parallel-item:last-child::after {align-self: flex-start;width: 50%;}#sk-container-id-3 div.sk-parallel-item:only-child::after {width: 0;}#sk-container-id-3 div.sk-dashed-wrapped {border: 1px dashed gray;margin: 0 0.4em 0.5em 0.4em;box-sizing: border-box;padding-bottom: 0.4em;background-color: white;}#sk-container-id-3 div.sk-label label {font-family: monospace;font-weight: bold;display: inline-block;line-height: 1.2em;}#sk-container-id-3 div.sk-label-container {text-align: center;}#sk-container-id-3 div.sk-container {/* jupyter's `normalize.less` sets `[hidden] { display: none; }` but bootstrap.min.css set `[hidden] { display: none !important; }` so we also need the `!important` here to be able to override the default hidden behavior on the sphinx rendered scikit-learn.org. See: https://github.com/scikit-learn/scikit-learn/issues/21755 */display: inline-block !important;position: relative;}#sk-container-id-3 div.sk-text-repr-fallback {display: none;}</style><div id=\"sk-container-id-3\" class=\"sk-top-container\"><div class=\"sk-text-repr-fallback\"><pre>GridSearchCV(cv=3, estimator=DecisionTreeClassifier(random_state=42),\n",
              "             param_grid={&#x27;max_depth&#x27;: array([ 1,  3,  5,  7,  9, 11, 13, 15, 17, 19]),\n",
              "                         &#x27;max_leaf_nodes&#x27;: array([2, 3, 4, 5, 6, 7, 8, 9])},\n",
              "             scoring=&#x27;roc_auc&#x27;, verbose=3)</pre><b>In a Jupyter environment, please rerun this cell to show the HTML representation or trust the notebook. <br />On GitHub, the HTML representation is unable to render, please try loading this page with nbviewer.org.</b></div><div class=\"sk-container\" hidden><div class=\"sk-item sk-dashed-wrapped\"><div class=\"sk-label-container\"><div class=\"sk-label sk-toggleable\"><input class=\"sk-toggleable__control sk-hidden--visually\" id=\"sk-estimator-id-5\" type=\"checkbox\" ><label for=\"sk-estimator-id-5\" class=\"sk-toggleable__label sk-toggleable__label-arrow\">GridSearchCV</label><div class=\"sk-toggleable__content\"><pre>GridSearchCV(cv=3, estimator=DecisionTreeClassifier(random_state=42),\n",
              "             param_grid={&#x27;max_depth&#x27;: array([ 1,  3,  5,  7,  9, 11, 13, 15, 17, 19]),\n",
              "                         &#x27;max_leaf_nodes&#x27;: array([2, 3, 4, 5, 6, 7, 8, 9])},\n",
              "             scoring=&#x27;roc_auc&#x27;, verbose=3)</pre></div></div></div><div class=\"sk-parallel\"><div class=\"sk-parallel-item\"><div class=\"sk-item\"><div class=\"sk-label-container\"><div class=\"sk-label sk-toggleable\"><input class=\"sk-toggleable__control sk-hidden--visually\" id=\"sk-estimator-id-6\" type=\"checkbox\" ><label for=\"sk-estimator-id-6\" class=\"sk-toggleable__label sk-toggleable__label-arrow\">estimator: DecisionTreeClassifier</label><div class=\"sk-toggleable__content\"><pre>DecisionTreeClassifier(random_state=42)</pre></div></div></div><div class=\"sk-serial\"><div class=\"sk-item\"><div class=\"sk-estimator sk-toggleable\"><input class=\"sk-toggleable__control sk-hidden--visually\" id=\"sk-estimator-id-7\" type=\"checkbox\" ><label for=\"sk-estimator-id-7\" class=\"sk-toggleable__label sk-toggleable__label-arrow\">DecisionTreeClassifier</label><div class=\"sk-toggleable__content\"><pre>DecisionTreeClassifier(random_state=42)</pre></div></div></div></div></div></div></div></div></div></div>"
            ]
          },
          "metadata": {},
          "execution_count": 15
        }
      ]
    },
    {
      "cell_type": "code",
      "source": [
        "#найкращі значення параметра\n",
        "tree_gs.best_params_"
      ],
      "metadata": {
        "colab": {
          "base_uri": "https://localhost:8080/"
        },
        "id": "wqxcxchuCMY9",
        "outputId": "cfcee52b-e785-4cf1-8d73-d441673799e7"
      },
      "execution_count": 16,
      "outputs": [
        {
          "output_type": "execute_result",
          "data": {
            "text/plain": [
              "{'max_depth': 5, 'max_leaf_nodes': 9}"
            ]
          },
          "metadata": {},
          "execution_count": 16
        }
      ]
    },
    {
      "cell_type": "code",
      "source": [
        "#окрема змінна dt_best найкращу модель, знайдену з GridSearchCV\n",
        "dt_best = DecisionTreeClassifier(max_depth=5, max_leaf_nodes=9, random_state=42)\n",
        "dt_best.fit(X_train, train_targets)"
      ],
      "metadata": {
        "colab": {
          "base_uri": "https://localhost:8080/",
          "height": 74
        },
        "id": "IKxSg-v58qLM",
        "outputId": "d3ea84f4-985f-405a-bb61-82e2f1914a45"
      },
      "execution_count": 17,
      "outputs": [
        {
          "output_type": "execute_result",
          "data": {
            "text/plain": [
              "DecisionTreeClassifier(max_depth=5, max_leaf_nodes=9, random_state=42)"
            ],
            "text/html": [
              "<style>#sk-container-id-4 {color: black;background-color: white;}#sk-container-id-4 pre{padding: 0;}#sk-container-id-4 div.sk-toggleable {background-color: white;}#sk-container-id-4 label.sk-toggleable__label {cursor: pointer;display: block;width: 100%;margin-bottom: 0;padding: 0.3em;box-sizing: border-box;text-align: center;}#sk-container-id-4 label.sk-toggleable__label-arrow:before {content: \"▸\";float: left;margin-right: 0.25em;color: #696969;}#sk-container-id-4 label.sk-toggleable__label-arrow:hover:before {color: black;}#sk-container-id-4 div.sk-estimator:hover label.sk-toggleable__label-arrow:before {color: black;}#sk-container-id-4 div.sk-toggleable__content {max-height: 0;max-width: 0;overflow: hidden;text-align: left;background-color: #f0f8ff;}#sk-container-id-4 div.sk-toggleable__content pre {margin: 0.2em;color: black;border-radius: 0.25em;background-color: #f0f8ff;}#sk-container-id-4 input.sk-toggleable__control:checked~div.sk-toggleable__content {max-height: 200px;max-width: 100%;overflow: auto;}#sk-container-id-4 input.sk-toggleable__control:checked~label.sk-toggleable__label-arrow:before {content: \"▾\";}#sk-container-id-4 div.sk-estimator input.sk-toggleable__control:checked~label.sk-toggleable__label {background-color: #d4ebff;}#sk-container-id-4 div.sk-label input.sk-toggleable__control:checked~label.sk-toggleable__label {background-color: #d4ebff;}#sk-container-id-4 input.sk-hidden--visually {border: 0;clip: rect(1px 1px 1px 1px);clip: rect(1px, 1px, 1px, 1px);height: 1px;margin: -1px;overflow: hidden;padding: 0;position: absolute;width: 1px;}#sk-container-id-4 div.sk-estimator {font-family: monospace;background-color: #f0f8ff;border: 1px dotted black;border-radius: 0.25em;box-sizing: border-box;margin-bottom: 0.5em;}#sk-container-id-4 div.sk-estimator:hover {background-color: #d4ebff;}#sk-container-id-4 div.sk-parallel-item::after {content: \"\";width: 100%;border-bottom: 1px solid gray;flex-grow: 1;}#sk-container-id-4 div.sk-label:hover label.sk-toggleable__label {background-color: #d4ebff;}#sk-container-id-4 div.sk-serial::before {content: \"\";position: absolute;border-left: 1px solid gray;box-sizing: border-box;top: 0;bottom: 0;left: 50%;z-index: 0;}#sk-container-id-4 div.sk-serial {display: flex;flex-direction: column;align-items: center;background-color: white;padding-right: 0.2em;padding-left: 0.2em;position: relative;}#sk-container-id-4 div.sk-item {position: relative;z-index: 1;}#sk-container-id-4 div.sk-parallel {display: flex;align-items: stretch;justify-content: center;background-color: white;position: relative;}#sk-container-id-4 div.sk-item::before, #sk-container-id-4 div.sk-parallel-item::before {content: \"\";position: absolute;border-left: 1px solid gray;box-sizing: border-box;top: 0;bottom: 0;left: 50%;z-index: -1;}#sk-container-id-4 div.sk-parallel-item {display: flex;flex-direction: column;z-index: 1;position: relative;background-color: white;}#sk-container-id-4 div.sk-parallel-item:first-child::after {align-self: flex-end;width: 50%;}#sk-container-id-4 div.sk-parallel-item:last-child::after {align-self: flex-start;width: 50%;}#sk-container-id-4 div.sk-parallel-item:only-child::after {width: 0;}#sk-container-id-4 div.sk-dashed-wrapped {border: 1px dashed gray;margin: 0 0.4em 0.5em 0.4em;box-sizing: border-box;padding-bottom: 0.4em;background-color: white;}#sk-container-id-4 div.sk-label label {font-family: monospace;font-weight: bold;display: inline-block;line-height: 1.2em;}#sk-container-id-4 div.sk-label-container {text-align: center;}#sk-container-id-4 div.sk-container {/* jupyter's `normalize.less` sets `[hidden] { display: none; }` but bootstrap.min.css set `[hidden] { display: none !important; }` so we also need the `!important` here to be able to override the default hidden behavior on the sphinx rendered scikit-learn.org. See: https://github.com/scikit-learn/scikit-learn/issues/21755 */display: inline-block !important;position: relative;}#sk-container-id-4 div.sk-text-repr-fallback {display: none;}</style><div id=\"sk-container-id-4\" class=\"sk-top-container\"><div class=\"sk-text-repr-fallback\"><pre>DecisionTreeClassifier(max_depth=5, max_leaf_nodes=9, random_state=42)</pre><b>In a Jupyter environment, please rerun this cell to show the HTML representation or trust the notebook. <br />On GitHub, the HTML representation is unable to render, please try loading this page with nbviewer.org.</b></div><div class=\"sk-container\" hidden><div class=\"sk-item\"><div class=\"sk-estimator sk-toggleable\"><input class=\"sk-toggleable__control sk-hidden--visually\" id=\"sk-estimator-id-8\" type=\"checkbox\" checked><label for=\"sk-estimator-id-8\" class=\"sk-toggleable__label sk-toggleable__label-arrow\">DecisionTreeClassifier</label><div class=\"sk-toggleable__content\"><pre>DecisionTreeClassifier(max_depth=5, max_leaf_nodes=9, random_state=42)</pre></div></div></div></div></div>"
            ]
          },
          "metadata": {},
          "execution_count": 17
        }
      ]
    },
    {
      "cell_type": "code",
      "source": [
        "#оцінка якості моделі dt_best\n",
        "count_auroc(dt_best, X_train, X_val, train_targets, val_targets)"
      ],
      "metadata": {
        "colab": {
          "base_uri": "https://localhost:8080/"
        },
        "id": "9eRdoyuE8u6v",
        "outputId": "4f9aee31-1f8c-4cd9-91ab-d261237fe59c"
      },
      "execution_count": 18,
      "outputs": [
        {
          "output_type": "stream",
          "name": "stdout",
          "text": [
            "Train AUC: 0.9003\n",
            "Validation AUC: 0.8951\n"
          ]
        },
        {
          "output_type": "execute_result",
          "data": {
            "text/plain": [
              "(0.9003233245229478, 0.8950967144522944)"
            ]
          },
          "metadata": {},
          "execution_count": 18
        }
      ]
    },
    {
      "cell_type": "markdown",
      "source": [
        "###модель з попереднього завдання"
      ],
      "metadata": {
        "id": "4PnjCVDP6lJV"
      }
    },
    {
      "cell_type": "code",
      "source": [
        "#тренування моделі\n",
        "model_5_1 = DecisionTreeClassifier(max_depth=5, random_state=42)\n",
        "model_5_1.fit(X_train, train_targets)"
      ],
      "metadata": {
        "colab": {
          "base_uri": "https://localhost:8080/",
          "height": 74
        },
        "id": "VL3-ge4S65Io",
        "outputId": "2ac98aeb-9983-43a6-e793-6480e731fc9d"
      },
      "execution_count": 19,
      "outputs": [
        {
          "output_type": "execute_result",
          "data": {
            "text/plain": [
              "DecisionTreeClassifier(max_depth=5, random_state=42)"
            ],
            "text/html": [
              "<style>#sk-container-id-5 {color: black;background-color: white;}#sk-container-id-5 pre{padding: 0;}#sk-container-id-5 div.sk-toggleable {background-color: white;}#sk-container-id-5 label.sk-toggleable__label {cursor: pointer;display: block;width: 100%;margin-bottom: 0;padding: 0.3em;box-sizing: border-box;text-align: center;}#sk-container-id-5 label.sk-toggleable__label-arrow:before {content: \"▸\";float: left;margin-right: 0.25em;color: #696969;}#sk-container-id-5 label.sk-toggleable__label-arrow:hover:before {color: black;}#sk-container-id-5 div.sk-estimator:hover label.sk-toggleable__label-arrow:before {color: black;}#sk-container-id-5 div.sk-toggleable__content {max-height: 0;max-width: 0;overflow: hidden;text-align: left;background-color: #f0f8ff;}#sk-container-id-5 div.sk-toggleable__content pre {margin: 0.2em;color: black;border-radius: 0.25em;background-color: #f0f8ff;}#sk-container-id-5 input.sk-toggleable__control:checked~div.sk-toggleable__content {max-height: 200px;max-width: 100%;overflow: auto;}#sk-container-id-5 input.sk-toggleable__control:checked~label.sk-toggleable__label-arrow:before {content: \"▾\";}#sk-container-id-5 div.sk-estimator input.sk-toggleable__control:checked~label.sk-toggleable__label {background-color: #d4ebff;}#sk-container-id-5 div.sk-label input.sk-toggleable__control:checked~label.sk-toggleable__label {background-color: #d4ebff;}#sk-container-id-5 input.sk-hidden--visually {border: 0;clip: rect(1px 1px 1px 1px);clip: rect(1px, 1px, 1px, 1px);height: 1px;margin: -1px;overflow: hidden;padding: 0;position: absolute;width: 1px;}#sk-container-id-5 div.sk-estimator {font-family: monospace;background-color: #f0f8ff;border: 1px dotted black;border-radius: 0.25em;box-sizing: border-box;margin-bottom: 0.5em;}#sk-container-id-5 div.sk-estimator:hover {background-color: #d4ebff;}#sk-container-id-5 div.sk-parallel-item::after {content: \"\";width: 100%;border-bottom: 1px solid gray;flex-grow: 1;}#sk-container-id-5 div.sk-label:hover label.sk-toggleable__label {background-color: #d4ebff;}#sk-container-id-5 div.sk-serial::before {content: \"\";position: absolute;border-left: 1px solid gray;box-sizing: border-box;top: 0;bottom: 0;left: 50%;z-index: 0;}#sk-container-id-5 div.sk-serial {display: flex;flex-direction: column;align-items: center;background-color: white;padding-right: 0.2em;padding-left: 0.2em;position: relative;}#sk-container-id-5 div.sk-item {position: relative;z-index: 1;}#sk-container-id-5 div.sk-parallel {display: flex;align-items: stretch;justify-content: center;background-color: white;position: relative;}#sk-container-id-5 div.sk-item::before, #sk-container-id-5 div.sk-parallel-item::before {content: \"\";position: absolute;border-left: 1px solid gray;box-sizing: border-box;top: 0;bottom: 0;left: 50%;z-index: -1;}#sk-container-id-5 div.sk-parallel-item {display: flex;flex-direction: column;z-index: 1;position: relative;background-color: white;}#sk-container-id-5 div.sk-parallel-item:first-child::after {align-self: flex-end;width: 50%;}#sk-container-id-5 div.sk-parallel-item:last-child::after {align-self: flex-start;width: 50%;}#sk-container-id-5 div.sk-parallel-item:only-child::after {width: 0;}#sk-container-id-5 div.sk-dashed-wrapped {border: 1px dashed gray;margin: 0 0.4em 0.5em 0.4em;box-sizing: border-box;padding-bottom: 0.4em;background-color: white;}#sk-container-id-5 div.sk-label label {font-family: monospace;font-weight: bold;display: inline-block;line-height: 1.2em;}#sk-container-id-5 div.sk-label-container {text-align: center;}#sk-container-id-5 div.sk-container {/* jupyter's `normalize.less` sets `[hidden] { display: none; }` but bootstrap.min.css set `[hidden] { display: none !important; }` so we also need the `!important` here to be able to override the default hidden behavior on the sphinx rendered scikit-learn.org. See: https://github.com/scikit-learn/scikit-learn/issues/21755 */display: inline-block !important;position: relative;}#sk-container-id-5 div.sk-text-repr-fallback {display: none;}</style><div id=\"sk-container-id-5\" class=\"sk-top-container\"><div class=\"sk-text-repr-fallback\"><pre>DecisionTreeClassifier(max_depth=5, random_state=42)</pre><b>In a Jupyter environment, please rerun this cell to show the HTML representation or trust the notebook. <br />On GitHub, the HTML representation is unable to render, please try loading this page with nbviewer.org.</b></div><div class=\"sk-container\" hidden><div class=\"sk-item\"><div class=\"sk-estimator sk-toggleable\"><input class=\"sk-toggleable__control sk-hidden--visually\" id=\"sk-estimator-id-9\" type=\"checkbox\" checked><label for=\"sk-estimator-id-9\" class=\"sk-toggleable__label sk-toggleable__label-arrow\">DecisionTreeClassifier</label><div class=\"sk-toggleable__content\"><pre>DecisionTreeClassifier(max_depth=5, random_state=42)</pre></div></div></div></div></div>"
            ]
          },
          "metadata": {},
          "execution_count": 19
        }
      ]
    },
    {
      "cell_type": "code",
      "source": [
        "# пошук leaf nodes з моделі models_5_1\n",
        "leaf_nodes = model_5_1.tree_.n_leaves\n",
        "print(f'Number of leaf nodes: {leaf_nodes}')"
      ],
      "metadata": {
        "colab": {
          "base_uri": "https://localhost:8080/"
        },
        "id": "8vbBVnw57CGB",
        "outputId": "088f5a31-ac9f-4ec3-a1d1-e31304044ee4"
      },
      "execution_count": 20,
      "outputs": [
        {
          "output_type": "stream",
          "name": "stdout",
          "text": [
            "Number of leaf nodes: 31\n"
          ]
        }
      ]
    },
    {
      "cell_type": "code",
      "source": [
        "#оцінка якості моделі dt_best\n",
        "count_auroc(model_5_1, X_train, X_val, train_targets, val_targets)"
      ],
      "metadata": {
        "colab": {
          "base_uri": "https://localhost:8080/"
        },
        "id": "EZvnkz2a_MRi",
        "outputId": "bf25a0d4-8871-4523-dc5a-ed4b60ba5c9f"
      },
      "execution_count": 21,
      "outputs": [
        {
          "output_type": "stream",
          "name": "stdout",
          "text": [
            "Train AUC: 0.9246\n",
            "Validation AUC: 0.9224\n"
          ]
        },
        {
          "output_type": "execute_result",
          "data": {
            "text/plain": [
              "(0.9245929074083499, 0.9224175183483092)"
            ]
          },
          "metadata": {},
          "execution_count": 21
        }
      ]
    },
    {
      "cell_type": "markdown",
      "source": [
        "### автоматичний пошук обох параметрів при розширені діапазону 'max_leaf_nodes': np.arange(2, 31, 1)"
      ],
      "metadata": {
        "id": "nrubP5VD7zI_"
      }
    },
    {
      "cell_type": "code",
      "source": [
        "tree = DecisionTreeClassifier(random_state=42)\n",
        "params_tree = {\n",
        "    'max_depth': np.arange(1, 20, 2),\n",
        "    'max_leaf_nodes': np.arange(2, 31, 1)\n",
        "}\n",
        "tree_gs_1 = GridSearchCV(\n",
        "    tree,\n",
        "    params_tree,\n",
        "    scoring='roc_auc',\n",
        "    verbose=3,\n",
        "    cv=3)\n",
        "tree_gs_1.fit(X_train, train_targets)"
      ],
      "metadata": {
        "colab": {
          "base_uri": "https://localhost:8080/",
          "height": 0
        },
        "collapsed": true,
        "id": "1rhB8MOe2QRy",
        "outputId": "eb972ca9-607c-47ef-a91b-f042cf3b8720"
      },
      "execution_count": 22,
      "outputs": [
        {
          "output_type": "stream",
          "name": "stdout",
          "text": [
            "Fitting 3 folds for each of 290 candidates, totalling 870 fits\n",
            "[CV 1/3] END .....max_depth=1, max_leaf_nodes=2;, score=0.751 total time=   0.0s\n",
            "[CV 2/3] END .....max_depth=1, max_leaf_nodes=2;, score=0.735 total time=   0.0s\n",
            "[CV 3/3] END .....max_depth=1, max_leaf_nodes=2;, score=0.749 total time=   0.0s\n",
            "[CV 1/3] END .....max_depth=1, max_leaf_nodes=3;, score=0.751 total time=   0.0s\n",
            "[CV 2/3] END .....max_depth=1, max_leaf_nodes=3;, score=0.735 total time=   0.0s\n",
            "[CV 3/3] END .....max_depth=1, max_leaf_nodes=3;, score=0.749 total time=   0.0s\n",
            "[CV 1/3] END .....max_depth=1, max_leaf_nodes=4;, score=0.751 total time=   0.0s\n",
            "[CV 2/3] END .....max_depth=1, max_leaf_nodes=4;, score=0.735 total time=   0.0s\n",
            "[CV 3/3] END .....max_depth=1, max_leaf_nodes=4;, score=0.749 total time=   0.0s\n",
            "[CV 1/3] END .....max_depth=1, max_leaf_nodes=5;, score=0.751 total time=   0.0s\n",
            "[CV 2/3] END .....max_depth=1, max_leaf_nodes=5;, score=0.735 total time=   0.0s\n",
            "[CV 3/3] END .....max_depth=1, max_leaf_nodes=5;, score=0.749 total time=   0.0s\n",
            "[CV 1/3] END .....max_depth=1, max_leaf_nodes=6;, score=0.751 total time=   0.0s\n",
            "[CV 2/3] END .....max_depth=1, max_leaf_nodes=6;, score=0.735 total time=   0.0s\n",
            "[CV 3/3] END .....max_depth=1, max_leaf_nodes=6;, score=0.749 total time=   0.0s\n",
            "[CV 1/3] END .....max_depth=1, max_leaf_nodes=7;, score=0.751 total time=   0.0s\n",
            "[CV 2/3] END .....max_depth=1, max_leaf_nodes=7;, score=0.735 total time=   0.0s\n",
            "[CV 3/3] END .....max_depth=1, max_leaf_nodes=7;, score=0.749 total time=   0.0s\n",
            "[CV 1/3] END .....max_depth=1, max_leaf_nodes=8;, score=0.751 total time=   0.0s\n",
            "[CV 2/3] END .....max_depth=1, max_leaf_nodes=8;, score=0.735 total time=   0.0s\n",
            "[CV 3/3] END .....max_depth=1, max_leaf_nodes=8;, score=0.749 total time=   0.0s\n",
            "[CV 1/3] END .....max_depth=1, max_leaf_nodes=9;, score=0.751 total time=   0.0s\n",
            "[CV 2/3] END .....max_depth=1, max_leaf_nodes=9;, score=0.735 total time=   0.0s\n",
            "[CV 3/3] END .....max_depth=1, max_leaf_nodes=9;, score=0.749 total time=   0.0s\n",
            "[CV 1/3] END ....max_depth=1, max_leaf_nodes=10;, score=0.751 total time=   0.0s\n",
            "[CV 2/3] END ....max_depth=1, max_leaf_nodes=10;, score=0.735 total time=   0.0s\n",
            "[CV 3/3] END ....max_depth=1, max_leaf_nodes=10;, score=0.749 total time=   0.0s\n",
            "[CV 1/3] END ....max_depth=1, max_leaf_nodes=11;, score=0.751 total time=   0.0s\n",
            "[CV 2/3] END ....max_depth=1, max_leaf_nodes=11;, score=0.735 total time=   0.0s\n",
            "[CV 3/3] END ....max_depth=1, max_leaf_nodes=11;, score=0.749 total time=   0.0s\n",
            "[CV 1/3] END ....max_depth=1, max_leaf_nodes=12;, score=0.751 total time=   0.0s\n",
            "[CV 2/3] END ....max_depth=1, max_leaf_nodes=12;, score=0.735 total time=   0.0s\n",
            "[CV 3/3] END ....max_depth=1, max_leaf_nodes=12;, score=0.749 total time=   0.0s\n",
            "[CV 1/3] END ....max_depth=1, max_leaf_nodes=13;, score=0.751 total time=   0.0s\n",
            "[CV 2/3] END ....max_depth=1, max_leaf_nodes=13;, score=0.735 total time=   0.0s\n",
            "[CV 3/3] END ....max_depth=1, max_leaf_nodes=13;, score=0.749 total time=   0.0s\n",
            "[CV 1/3] END ....max_depth=1, max_leaf_nodes=14;, score=0.751 total time=   0.0s\n",
            "[CV 2/3] END ....max_depth=1, max_leaf_nodes=14;, score=0.735 total time=   0.0s\n",
            "[CV 3/3] END ....max_depth=1, max_leaf_nodes=14;, score=0.749 total time=   0.0s\n",
            "[CV 1/3] END ....max_depth=1, max_leaf_nodes=15;, score=0.751 total time=   0.0s\n",
            "[CV 2/3] END ....max_depth=1, max_leaf_nodes=15;, score=0.735 total time=   0.0s\n",
            "[CV 3/3] END ....max_depth=1, max_leaf_nodes=15;, score=0.749 total time=   0.0s\n",
            "[CV 1/3] END ....max_depth=1, max_leaf_nodes=16;, score=0.751 total time=   0.0s\n",
            "[CV 2/3] END ....max_depth=1, max_leaf_nodes=16;, score=0.735 total time=   0.0s\n",
            "[CV 3/3] END ....max_depth=1, max_leaf_nodes=16;, score=0.749 total time=   0.0s\n",
            "[CV 1/3] END ....max_depth=1, max_leaf_nodes=17;, score=0.751 total time=   0.0s\n",
            "[CV 2/3] END ....max_depth=1, max_leaf_nodes=17;, score=0.735 total time=   0.0s\n",
            "[CV 3/3] END ....max_depth=1, max_leaf_nodes=17;, score=0.749 total time=   0.0s\n",
            "[CV 1/3] END ....max_depth=1, max_leaf_nodes=18;, score=0.751 total time=   0.0s\n",
            "[CV 2/3] END ....max_depth=1, max_leaf_nodes=18;, score=0.735 total time=   0.0s\n",
            "[CV 3/3] END ....max_depth=1, max_leaf_nodes=18;, score=0.749 total time=   0.0s\n",
            "[CV 1/3] END ....max_depth=1, max_leaf_nodes=19;, score=0.751 total time=   0.0s\n",
            "[CV 2/3] END ....max_depth=1, max_leaf_nodes=19;, score=0.735 total time=   0.0s\n",
            "[CV 3/3] END ....max_depth=1, max_leaf_nodes=19;, score=0.749 total time=   0.0s\n",
            "[CV 1/3] END ....max_depth=1, max_leaf_nodes=20;, score=0.751 total time=   0.0s\n",
            "[CV 2/3] END ....max_depth=1, max_leaf_nodes=20;, score=0.735 total time=   0.0s\n",
            "[CV 3/3] END ....max_depth=1, max_leaf_nodes=20;, score=0.749 total time=   0.0s\n",
            "[CV 1/3] END ....max_depth=1, max_leaf_nodes=21;, score=0.751 total time=   0.0s\n",
            "[CV 2/3] END ....max_depth=1, max_leaf_nodes=21;, score=0.735 total time=   0.0s\n",
            "[CV 3/3] END ....max_depth=1, max_leaf_nodes=21;, score=0.749 total time=   0.0s\n",
            "[CV 1/3] END ....max_depth=1, max_leaf_nodes=22;, score=0.751 total time=   0.0s\n",
            "[CV 2/3] END ....max_depth=1, max_leaf_nodes=22;, score=0.735 total time=   0.0s\n",
            "[CV 3/3] END ....max_depth=1, max_leaf_nodes=22;, score=0.749 total time=   0.0s\n",
            "[CV 1/3] END ....max_depth=1, max_leaf_nodes=23;, score=0.751 total time=   0.0s\n",
            "[CV 2/3] END ....max_depth=1, max_leaf_nodes=23;, score=0.735 total time=   0.0s\n",
            "[CV 3/3] END ....max_depth=1, max_leaf_nodes=23;, score=0.749 total time=   0.0s\n",
            "[CV 1/3] END ....max_depth=1, max_leaf_nodes=24;, score=0.751 total time=   0.0s\n",
            "[CV 2/3] END ....max_depth=1, max_leaf_nodes=24;, score=0.735 total time=   0.0s\n",
            "[CV 3/3] END ....max_depth=1, max_leaf_nodes=24;, score=0.749 total time=   0.0s\n",
            "[CV 1/3] END ....max_depth=1, max_leaf_nodes=25;, score=0.751 total time=   0.0s\n",
            "[CV 2/3] END ....max_depth=1, max_leaf_nodes=25;, score=0.735 total time=   0.0s\n",
            "[CV 3/3] END ....max_depth=1, max_leaf_nodes=25;, score=0.749 total time=   0.0s\n",
            "[CV 1/3] END ....max_depth=1, max_leaf_nodes=26;, score=0.751 total time=   0.0s\n",
            "[CV 2/3] END ....max_depth=1, max_leaf_nodes=26;, score=0.735 total time=   0.0s\n",
            "[CV 3/3] END ....max_depth=1, max_leaf_nodes=26;, score=0.749 total time=   0.0s\n",
            "[CV 1/3] END ....max_depth=1, max_leaf_nodes=27;, score=0.751 total time=   0.0s\n",
            "[CV 2/3] END ....max_depth=1, max_leaf_nodes=27;, score=0.735 total time=   0.0s\n",
            "[CV 3/3] END ....max_depth=1, max_leaf_nodes=27;, score=0.749 total time=   0.0s\n",
            "[CV 1/3] END ....max_depth=1, max_leaf_nodes=28;, score=0.751 total time=   0.0s\n",
            "[CV 2/3] END ....max_depth=1, max_leaf_nodes=28;, score=0.735 total time=   0.0s\n",
            "[CV 3/3] END ....max_depth=1, max_leaf_nodes=28;, score=0.749 total time=   0.0s\n",
            "[CV 1/3] END ....max_depth=1, max_leaf_nodes=29;, score=0.751 total time=   0.0s\n",
            "[CV 2/3] END ....max_depth=1, max_leaf_nodes=29;, score=0.735 total time=   0.0s\n",
            "[CV 3/3] END ....max_depth=1, max_leaf_nodes=29;, score=0.749 total time=   0.0s\n",
            "[CV 1/3] END ....max_depth=1, max_leaf_nodes=30;, score=0.751 total time=   0.0s\n",
            "[CV 2/3] END ....max_depth=1, max_leaf_nodes=30;, score=0.735 total time=   0.0s\n",
            "[CV 3/3] END ....max_depth=1, max_leaf_nodes=30;, score=0.749 total time=   0.0s\n",
            "[CV 1/3] END .....max_depth=3, max_leaf_nodes=2;, score=0.751 total time=   0.0s\n",
            "[CV 2/3] END .....max_depth=3, max_leaf_nodes=2;, score=0.735 total time=   0.0s\n",
            "[CV 3/3] END .....max_depth=3, max_leaf_nodes=2;, score=0.749 total time=   0.0s\n",
            "[CV 1/3] END .....max_depth=3, max_leaf_nodes=3;, score=0.763 total time=   0.0s\n",
            "[CV 2/3] END .....max_depth=3, max_leaf_nodes=3;, score=0.749 total time=   0.0s\n",
            "[CV 3/3] END .....max_depth=3, max_leaf_nodes=3;, score=0.762 total time=   0.0s\n",
            "[CV 1/3] END .....max_depth=3, max_leaf_nodes=4;, score=0.849 total time=   0.0s\n",
            "[CV 2/3] END .....max_depth=3, max_leaf_nodes=4;, score=0.830 total time=   0.0s\n",
            "[CV 3/3] END .....max_depth=3, max_leaf_nodes=4;, score=0.853 total time=   0.0s\n",
            "[CV 1/3] END .....max_depth=3, max_leaf_nodes=5;, score=0.865 total time=   0.0s\n",
            "[CV 2/3] END .....max_depth=3, max_leaf_nodes=5;, score=0.858 total time=   0.0s\n",
            "[CV 3/3] END .....max_depth=3, max_leaf_nodes=5;, score=0.869 total time=   0.0s\n",
            "[CV 1/3] END .....max_depth=3, max_leaf_nodes=6;, score=0.891 total time=   0.0s\n",
            "[CV 2/3] END .....max_depth=3, max_leaf_nodes=6;, score=0.882 total time=   0.0s\n",
            "[CV 3/3] END .....max_depth=3, max_leaf_nodes=6;, score=0.892 total time=   0.0s\n",
            "[CV 1/3] END .....max_depth=3, max_leaf_nodes=7;, score=0.895 total time=   0.0s\n",
            "[CV 2/3] END .....max_depth=3, max_leaf_nodes=7;, score=0.889 total time=   0.0s\n",
            "[CV 3/3] END .....max_depth=3, max_leaf_nodes=7;, score=0.897 total time=   0.0s\n",
            "[CV 1/3] END .....max_depth=3, max_leaf_nodes=8;, score=0.898 total time=   0.0s\n",
            "[CV 2/3] END .....max_depth=3, max_leaf_nodes=8;, score=0.892 total time=   0.0s\n",
            "[CV 3/3] END .....max_depth=3, max_leaf_nodes=8;, score=0.900 total time=   0.0s\n",
            "[CV 1/3] END .....max_depth=3, max_leaf_nodes=9;, score=0.898 total time=   0.0s\n",
            "[CV 2/3] END .....max_depth=3, max_leaf_nodes=9;, score=0.892 total time=   0.0s\n",
            "[CV 3/3] END .....max_depth=3, max_leaf_nodes=9;, score=0.900 total time=   0.0s\n",
            "[CV 1/3] END ....max_depth=3, max_leaf_nodes=10;, score=0.898 total time=   0.0s\n",
            "[CV 2/3] END ....max_depth=3, max_leaf_nodes=10;, score=0.892 total time=   0.0s\n",
            "[CV 3/3] END ....max_depth=3, max_leaf_nodes=10;, score=0.900 total time=   0.0s\n",
            "[CV 1/3] END ....max_depth=3, max_leaf_nodes=11;, score=0.898 total time=   0.0s\n",
            "[CV 2/3] END ....max_depth=3, max_leaf_nodes=11;, score=0.892 total time=   0.0s\n",
            "[CV 3/3] END ....max_depth=3, max_leaf_nodes=11;, score=0.900 total time=   0.0s\n",
            "[CV 1/3] END ....max_depth=3, max_leaf_nodes=12;, score=0.898 total time=   0.0s\n",
            "[CV 2/3] END ....max_depth=3, max_leaf_nodes=12;, score=0.892 total time=   0.0s\n",
            "[CV 3/3] END ....max_depth=3, max_leaf_nodes=12;, score=0.900 total time=   0.0s\n",
            "[CV 1/3] END ....max_depth=3, max_leaf_nodes=13;, score=0.898 total time=   0.0s\n",
            "[CV 2/3] END ....max_depth=3, max_leaf_nodes=13;, score=0.892 total time=   0.0s\n",
            "[CV 3/3] END ....max_depth=3, max_leaf_nodes=13;, score=0.900 total time=   0.0s\n",
            "[CV 1/3] END ....max_depth=3, max_leaf_nodes=14;, score=0.898 total time=   0.0s\n",
            "[CV 2/3] END ....max_depth=3, max_leaf_nodes=14;, score=0.892 total time=   0.0s\n",
            "[CV 3/3] END ....max_depth=3, max_leaf_nodes=14;, score=0.900 total time=   0.0s\n",
            "[CV 1/3] END ....max_depth=3, max_leaf_nodes=15;, score=0.898 total time=   0.0s\n",
            "[CV 2/3] END ....max_depth=3, max_leaf_nodes=15;, score=0.892 total time=   0.0s\n",
            "[CV 3/3] END ....max_depth=3, max_leaf_nodes=15;, score=0.900 total time=   0.0s\n",
            "[CV 1/3] END ....max_depth=3, max_leaf_nodes=16;, score=0.898 total time=   0.0s\n",
            "[CV 2/3] END ....max_depth=3, max_leaf_nodes=16;, score=0.892 total time=   0.0s\n",
            "[CV 3/3] END ....max_depth=3, max_leaf_nodes=16;, score=0.900 total time=   0.0s\n",
            "[CV 1/3] END ....max_depth=3, max_leaf_nodes=17;, score=0.898 total time=   0.0s\n",
            "[CV 2/3] END ....max_depth=3, max_leaf_nodes=17;, score=0.892 total time=   0.0s\n",
            "[CV 3/3] END ....max_depth=3, max_leaf_nodes=17;, score=0.900 total time=   0.0s\n",
            "[CV 1/3] END ....max_depth=3, max_leaf_nodes=18;, score=0.898 total time=   0.0s\n",
            "[CV 2/3] END ....max_depth=3, max_leaf_nodes=18;, score=0.892 total time=   0.0s\n",
            "[CV 3/3] END ....max_depth=3, max_leaf_nodes=18;, score=0.900 total time=   0.0s\n",
            "[CV 1/3] END ....max_depth=3, max_leaf_nodes=19;, score=0.898 total time=   0.0s\n",
            "[CV 2/3] END ....max_depth=3, max_leaf_nodes=19;, score=0.892 total time=   0.0s\n",
            "[CV 3/3] END ....max_depth=3, max_leaf_nodes=19;, score=0.900 total time=   0.0s\n",
            "[CV 1/3] END ....max_depth=3, max_leaf_nodes=20;, score=0.898 total time=   0.0s\n",
            "[CV 2/3] END ....max_depth=3, max_leaf_nodes=20;, score=0.892 total time=   0.0s\n",
            "[CV 3/3] END ....max_depth=3, max_leaf_nodes=20;, score=0.900 total time=   0.0s\n",
            "[CV 1/3] END ....max_depth=3, max_leaf_nodes=21;, score=0.898 total time=   0.0s\n",
            "[CV 2/3] END ....max_depth=3, max_leaf_nodes=21;, score=0.892 total time=   0.0s\n",
            "[CV 3/3] END ....max_depth=3, max_leaf_nodes=21;, score=0.900 total time=   0.0s\n",
            "[CV 1/3] END ....max_depth=3, max_leaf_nodes=22;, score=0.898 total time=   0.0s\n",
            "[CV 2/3] END ....max_depth=3, max_leaf_nodes=22;, score=0.892 total time=   0.0s\n",
            "[CV 3/3] END ....max_depth=3, max_leaf_nodes=22;, score=0.900 total time=   0.0s\n",
            "[CV 1/3] END ....max_depth=3, max_leaf_nodes=23;, score=0.898 total time=   0.0s\n",
            "[CV 2/3] END ....max_depth=3, max_leaf_nodes=23;, score=0.892 total time=   0.0s\n",
            "[CV 3/3] END ....max_depth=3, max_leaf_nodes=23;, score=0.900 total time=   0.0s\n",
            "[CV 1/3] END ....max_depth=3, max_leaf_nodes=24;, score=0.898 total time=   0.0s\n",
            "[CV 2/3] END ....max_depth=3, max_leaf_nodes=24;, score=0.892 total time=   0.0s\n",
            "[CV 3/3] END ....max_depth=3, max_leaf_nodes=24;, score=0.900 total time=   0.0s\n",
            "[CV 1/3] END ....max_depth=3, max_leaf_nodes=25;, score=0.898 total time=   0.0s\n",
            "[CV 2/3] END ....max_depth=3, max_leaf_nodes=25;, score=0.892 total time=   0.0s\n",
            "[CV 3/3] END ....max_depth=3, max_leaf_nodes=25;, score=0.900 total time=   0.0s\n",
            "[CV 1/3] END ....max_depth=3, max_leaf_nodes=26;, score=0.898 total time=   0.0s\n",
            "[CV 2/3] END ....max_depth=3, max_leaf_nodes=26;, score=0.892 total time=   0.0s\n",
            "[CV 3/3] END ....max_depth=3, max_leaf_nodes=26;, score=0.900 total time=   0.0s\n",
            "[CV 1/3] END ....max_depth=3, max_leaf_nodes=27;, score=0.898 total time=   0.0s\n",
            "[CV 2/3] END ....max_depth=3, max_leaf_nodes=27;, score=0.892 total time=   0.0s\n",
            "[CV 3/3] END ....max_depth=3, max_leaf_nodes=27;, score=0.900 total time=   0.0s\n",
            "[CV 1/3] END ....max_depth=3, max_leaf_nodes=28;, score=0.898 total time=   0.0s\n",
            "[CV 2/3] END ....max_depth=3, max_leaf_nodes=28;, score=0.892 total time=   0.0s\n",
            "[CV 3/3] END ....max_depth=3, max_leaf_nodes=28;, score=0.900 total time=   0.0s\n",
            "[CV 1/3] END ....max_depth=3, max_leaf_nodes=29;, score=0.898 total time=   0.0s\n",
            "[CV 2/3] END ....max_depth=3, max_leaf_nodes=29;, score=0.892 total time=   0.0s\n",
            "[CV 3/3] END ....max_depth=3, max_leaf_nodes=29;, score=0.900 total time=   0.0s\n",
            "[CV 1/3] END ....max_depth=3, max_leaf_nodes=30;, score=0.898 total time=   0.0s\n",
            "[CV 2/3] END ....max_depth=3, max_leaf_nodes=30;, score=0.892 total time=   0.0s\n",
            "[CV 3/3] END ....max_depth=3, max_leaf_nodes=30;, score=0.900 total time=   0.0s\n",
            "[CV 1/3] END .....max_depth=5, max_leaf_nodes=2;, score=0.751 total time=   0.0s\n",
            "[CV 2/3] END .....max_depth=5, max_leaf_nodes=2;, score=0.735 total time=   0.0s\n",
            "[CV 3/3] END .....max_depth=5, max_leaf_nodes=2;, score=0.749 total time=   0.0s\n",
            "[CV 1/3] END .....max_depth=5, max_leaf_nodes=3;, score=0.763 total time=   0.0s\n",
            "[CV 2/3] END .....max_depth=5, max_leaf_nodes=3;, score=0.749 total time=   0.0s\n",
            "[CV 3/3] END .....max_depth=5, max_leaf_nodes=3;, score=0.762 total time=   0.0s\n",
            "[CV 1/3] END .....max_depth=5, max_leaf_nodes=4;, score=0.849 total time=   0.0s\n",
            "[CV 2/3] END .....max_depth=5, max_leaf_nodes=4;, score=0.830 total time=   0.0s\n",
            "[CV 3/3] END .....max_depth=5, max_leaf_nodes=4;, score=0.853 total time=   0.0s\n",
            "[CV 1/3] END .....max_depth=5, max_leaf_nodes=5;, score=0.865 total time=   0.0s\n",
            "[CV 2/3] END .....max_depth=5, max_leaf_nodes=5;, score=0.858 total time=   0.0s\n",
            "[CV 3/3] END .....max_depth=5, max_leaf_nodes=5;, score=0.869 total time=   0.0s\n",
            "[CV 1/3] END .....max_depth=5, max_leaf_nodes=6;, score=0.891 total time=   0.0s\n",
            "[CV 2/3] END .....max_depth=5, max_leaf_nodes=6;, score=0.882 total time=   0.0s\n",
            "[CV 3/3] END .....max_depth=5, max_leaf_nodes=6;, score=0.892 total time=   0.0s\n",
            "[CV 1/3] END .....max_depth=5, max_leaf_nodes=7;, score=0.895 total time=   0.0s\n",
            "[CV 2/3] END .....max_depth=5, max_leaf_nodes=7;, score=0.889 total time=   0.0s\n",
            "[CV 3/3] END .....max_depth=5, max_leaf_nodes=7;, score=0.897 total time=   0.0s\n",
            "[CV 1/3] END .....max_depth=5, max_leaf_nodes=8;, score=0.898 total time=   0.0s\n",
            "[CV 2/3] END .....max_depth=5, max_leaf_nodes=8;, score=0.892 total time=   0.0s\n",
            "[CV 3/3] END .....max_depth=5, max_leaf_nodes=8;, score=0.900 total time=   0.0s\n",
            "[CV 1/3] END .....max_depth=5, max_leaf_nodes=9;, score=0.900 total time=   0.0s\n",
            "[CV 2/3] END .....max_depth=5, max_leaf_nodes=9;, score=0.894 total time=   0.0s\n",
            "[CV 3/3] END .....max_depth=5, max_leaf_nodes=9;, score=0.901 total time=   0.0s\n",
            "[CV 1/3] END ....max_depth=5, max_leaf_nodes=10;, score=0.900 total time=   0.0s\n",
            "[CV 2/3] END ....max_depth=5, max_leaf_nodes=10;, score=0.895 total time=   0.0s\n",
            "[CV 3/3] END ....max_depth=5, max_leaf_nodes=10;, score=0.903 total time=   0.0s\n",
            "[CV 1/3] END ....max_depth=5, max_leaf_nodes=11;, score=0.905 total time=   0.0s\n",
            "[CV 2/3] END ....max_depth=5, max_leaf_nodes=11;, score=0.895 total time=   0.0s\n",
            "[CV 3/3] END ....max_depth=5, max_leaf_nodes=11;, score=0.909 total time=   0.0s\n",
            "[CV 1/3] END ....max_depth=5, max_leaf_nodes=12;, score=0.910 total time=   0.0s\n",
            "[CV 2/3] END ....max_depth=5, max_leaf_nodes=12;, score=0.894 total time=   0.0s\n",
            "[CV 3/3] END ....max_depth=5, max_leaf_nodes=12;, score=0.915 total time=   0.0s\n",
            "[CV 1/3] END ....max_depth=5, max_leaf_nodes=13;, score=0.910 total time=   0.0s\n",
            "[CV 2/3] END ....max_depth=5, max_leaf_nodes=13;, score=0.895 total time=   0.0s\n",
            "[CV 3/3] END ....max_depth=5, max_leaf_nodes=13;, score=0.915 total time=   0.0s\n",
            "[CV 1/3] END ....max_depth=5, max_leaf_nodes=14;, score=0.910 total time=   0.0s\n",
            "[CV 2/3] END ....max_depth=5, max_leaf_nodes=14;, score=0.896 total time=   0.0s\n",
            "[CV 3/3] END ....max_depth=5, max_leaf_nodes=14;, score=0.915 total time=   0.0s\n",
            "[CV 1/3] END ....max_depth=5, max_leaf_nodes=15;, score=0.910 total time=   0.0s\n",
            "[CV 2/3] END ....max_depth=5, max_leaf_nodes=15;, score=0.899 total time=   0.0s\n",
            "[CV 3/3] END ....max_depth=5, max_leaf_nodes=15;, score=0.916 total time=   0.0s\n",
            "[CV 1/3] END ....max_depth=5, max_leaf_nodes=16;, score=0.911 total time=   0.0s\n",
            "[CV 2/3] END ....max_depth=5, max_leaf_nodes=16;, score=0.899 total time=   0.0s\n",
            "[CV 3/3] END ....max_depth=5, max_leaf_nodes=16;, score=0.917 total time=   0.0s\n",
            "[CV 1/3] END ....max_depth=5, max_leaf_nodes=17;, score=0.911 total time=   0.0s\n",
            "[CV 2/3] END ....max_depth=5, max_leaf_nodes=17;, score=0.900 total time=   0.0s\n",
            "[CV 3/3] END ....max_depth=5, max_leaf_nodes=17;, score=0.918 total time=   0.0s\n",
            "[CV 1/3] END ....max_depth=5, max_leaf_nodes=18;, score=0.911 total time=   0.0s\n",
            "[CV 2/3] END ....max_depth=5, max_leaf_nodes=18;, score=0.901 total time=   0.0s\n",
            "[CV 3/3] END ....max_depth=5, max_leaf_nodes=18;, score=0.917 total time=   0.0s\n",
            "[CV 1/3] END ....max_depth=5, max_leaf_nodes=19;, score=0.913 total time=   0.0s\n",
            "[CV 2/3] END ....max_depth=5, max_leaf_nodes=19;, score=0.901 total time=   0.0s\n",
            "[CV 3/3] END ....max_depth=5, max_leaf_nodes=19;, score=0.918 total time=   0.0s\n",
            "[CV 1/3] END ....max_depth=5, max_leaf_nodes=20;, score=0.914 total time=   0.0s\n",
            "[CV 2/3] END ....max_depth=5, max_leaf_nodes=20;, score=0.902 total time=   0.0s\n",
            "[CV 3/3] END ....max_depth=5, max_leaf_nodes=20;, score=0.918 total time=   0.0s\n",
            "[CV 1/3] END ....max_depth=5, max_leaf_nodes=21;, score=0.914 total time=   0.0s\n",
            "[CV 2/3] END ....max_depth=5, max_leaf_nodes=21;, score=0.902 total time=   0.0s\n",
            "[CV 3/3] END ....max_depth=5, max_leaf_nodes=21;, score=0.918 total time=   0.0s\n",
            "[CV 1/3] END ....max_depth=5, max_leaf_nodes=22;, score=0.916 total time=   0.0s\n",
            "[CV 2/3] END ....max_depth=5, max_leaf_nodes=22;, score=0.902 total time=   0.0s\n",
            "[CV 3/3] END ....max_depth=5, max_leaf_nodes=22;, score=0.924 total time=   0.0s\n",
            "[CV 1/3] END ....max_depth=5, max_leaf_nodes=23;, score=0.917 total time=   0.0s\n",
            "[CV 2/3] END ....max_depth=5, max_leaf_nodes=23;, score=0.907 total time=   0.0s\n",
            "[CV 3/3] END ....max_depth=5, max_leaf_nodes=23;, score=0.923 total time=   0.0s\n",
            "[CV 1/3] END ....max_depth=5, max_leaf_nodes=24;, score=0.914 total time=   0.0s\n",
            "[CV 2/3] END ....max_depth=5, max_leaf_nodes=24;, score=0.906 total time=   0.0s\n",
            "[CV 3/3] END ....max_depth=5, max_leaf_nodes=24;, score=0.919 total time=   0.0s\n",
            "[CV 1/3] END ....max_depth=5, max_leaf_nodes=25;, score=0.914 total time=   0.0s\n",
            "[CV 2/3] END ....max_depth=5, max_leaf_nodes=25;, score=0.905 total time=   0.0s\n",
            "[CV 3/3] END ....max_depth=5, max_leaf_nodes=25;, score=0.919 total time=   0.0s\n",
            "[CV 1/3] END ....max_depth=5, max_leaf_nodes=26;, score=0.914 total time=   0.0s\n",
            "[CV 2/3] END ....max_depth=5, max_leaf_nodes=26;, score=0.905 total time=   0.0s\n",
            "[CV 3/3] END ....max_depth=5, max_leaf_nodes=26;, score=0.919 total time=   0.0s\n",
            "[CV 1/3] END ....max_depth=5, max_leaf_nodes=27;, score=0.914 total time=   0.0s\n",
            "[CV 2/3] END ....max_depth=5, max_leaf_nodes=27;, score=0.905 total time=   0.0s\n",
            "[CV 3/3] END ....max_depth=5, max_leaf_nodes=27;, score=0.919 total time=   0.0s\n",
            "[CV 1/3] END ....max_depth=5, max_leaf_nodes=28;, score=0.914 total time=   0.0s\n",
            "[CV 2/3] END ....max_depth=5, max_leaf_nodes=28;, score=0.906 total time=   0.0s\n",
            "[CV 3/3] END ....max_depth=5, max_leaf_nodes=28;, score=0.919 total time=   0.0s\n",
            "[CV 1/3] END ....max_depth=5, max_leaf_nodes=29;, score=0.915 total time=   0.0s\n",
            "[CV 2/3] END ....max_depth=5, max_leaf_nodes=29;, score=0.906 total time=   0.0s\n",
            "[CV 3/3] END ....max_depth=5, max_leaf_nodes=29;, score=0.919 total time=   0.0s\n",
            "[CV 1/3] END ....max_depth=5, max_leaf_nodes=30;, score=0.915 total time=   0.0s\n",
            "[CV 2/3] END ....max_depth=5, max_leaf_nodes=30;, score=0.906 total time=   0.0s\n",
            "[CV 3/3] END ....max_depth=5, max_leaf_nodes=30;, score=0.919 total time=   0.0s\n",
            "[CV 1/3] END .....max_depth=7, max_leaf_nodes=2;, score=0.751 total time=   0.0s\n",
            "[CV 2/3] END .....max_depth=7, max_leaf_nodes=2;, score=0.735 total time=   0.0s\n",
            "[CV 3/3] END .....max_depth=7, max_leaf_nodes=2;, score=0.749 total time=   0.0s\n",
            "[CV 1/3] END .....max_depth=7, max_leaf_nodes=3;, score=0.763 total time=   0.0s\n",
            "[CV 2/3] END .....max_depth=7, max_leaf_nodes=3;, score=0.749 total time=   0.0s\n",
            "[CV 3/3] END .....max_depth=7, max_leaf_nodes=3;, score=0.762 total time=   0.0s\n",
            "[CV 1/3] END .....max_depth=7, max_leaf_nodes=4;, score=0.849 total time=   0.0s\n",
            "[CV 2/3] END .....max_depth=7, max_leaf_nodes=4;, score=0.830 total time=   0.0s\n",
            "[CV 3/3] END .....max_depth=7, max_leaf_nodes=4;, score=0.853 total time=   0.0s\n",
            "[CV 1/3] END .....max_depth=7, max_leaf_nodes=5;, score=0.865 total time=   0.0s\n",
            "[CV 2/3] END .....max_depth=7, max_leaf_nodes=5;, score=0.858 total time=   0.0s\n",
            "[CV 3/3] END .....max_depth=7, max_leaf_nodes=5;, score=0.869 total time=   0.0s\n",
            "[CV 1/3] END .....max_depth=7, max_leaf_nodes=6;, score=0.891 total time=   0.0s\n",
            "[CV 2/3] END .....max_depth=7, max_leaf_nodes=6;, score=0.882 total time=   0.0s\n",
            "[CV 3/3] END .....max_depth=7, max_leaf_nodes=6;, score=0.892 total time=   0.0s\n",
            "[CV 1/3] END .....max_depth=7, max_leaf_nodes=7;, score=0.895 total time=   0.0s\n",
            "[CV 2/3] END .....max_depth=7, max_leaf_nodes=7;, score=0.889 total time=   0.0s\n",
            "[CV 3/3] END .....max_depth=7, max_leaf_nodes=7;, score=0.897 total time=   0.0s\n",
            "[CV 1/3] END .....max_depth=7, max_leaf_nodes=8;, score=0.898 total time=   0.0s\n",
            "[CV 2/3] END .....max_depth=7, max_leaf_nodes=8;, score=0.892 total time=   0.0s\n",
            "[CV 3/3] END .....max_depth=7, max_leaf_nodes=8;, score=0.900 total time=   0.0s\n",
            "[CV 1/3] END .....max_depth=7, max_leaf_nodes=9;, score=0.900 total time=   0.0s\n",
            "[CV 2/3] END .....max_depth=7, max_leaf_nodes=9;, score=0.894 total time=   0.0s\n",
            "[CV 3/3] END .....max_depth=7, max_leaf_nodes=9;, score=0.901 total time=   0.0s\n",
            "[CV 1/3] END ....max_depth=7, max_leaf_nodes=10;, score=0.900 total time=   0.0s\n",
            "[CV 2/3] END ....max_depth=7, max_leaf_nodes=10;, score=0.895 total time=   0.0s\n",
            "[CV 3/3] END ....max_depth=7, max_leaf_nodes=10;, score=0.903 total time=   0.0s\n",
            "[CV 1/3] END ....max_depth=7, max_leaf_nodes=11;, score=0.905 total time=   0.0s\n",
            "[CV 2/3] END ....max_depth=7, max_leaf_nodes=11;, score=0.895 total time=   0.0s\n",
            "[CV 3/3] END ....max_depth=7, max_leaf_nodes=11;, score=0.909 total time=   0.0s\n",
            "[CV 1/3] END ....max_depth=7, max_leaf_nodes=12;, score=0.910 total time=   0.0s\n",
            "[CV 2/3] END ....max_depth=7, max_leaf_nodes=12;, score=0.894 total time=   0.0s\n",
            "[CV 3/3] END ....max_depth=7, max_leaf_nodes=12;, score=0.915 total time=   0.0s\n",
            "[CV 1/3] END ....max_depth=7, max_leaf_nodes=13;, score=0.910 total time=   0.0s\n",
            "[CV 2/3] END ....max_depth=7, max_leaf_nodes=13;, score=0.895 total time=   0.0s\n",
            "[CV 3/3] END ....max_depth=7, max_leaf_nodes=13;, score=0.915 total time=   0.0s\n",
            "[CV 1/3] END ....max_depth=7, max_leaf_nodes=14;, score=0.910 total time=   0.0s\n",
            "[CV 2/3] END ....max_depth=7, max_leaf_nodes=14;, score=0.896 total time=   0.0s\n",
            "[CV 3/3] END ....max_depth=7, max_leaf_nodes=14;, score=0.916 total time=   0.0s\n",
            "[CV 1/3] END ....max_depth=7, max_leaf_nodes=15;, score=0.910 total time=   0.0s\n",
            "[CV 2/3] END ....max_depth=7, max_leaf_nodes=15;, score=0.899 total time=   0.0s\n",
            "[CV 3/3] END ....max_depth=7, max_leaf_nodes=15;, score=0.916 total time=   0.0s\n",
            "[CV 1/3] END ....max_depth=7, max_leaf_nodes=16;, score=0.911 total time=   0.0s\n",
            "[CV 2/3] END ....max_depth=7, max_leaf_nodes=16;, score=0.899 total time=   0.0s\n",
            "[CV 3/3] END ....max_depth=7, max_leaf_nodes=16;, score=0.916 total time=   0.0s\n",
            "[CV 1/3] END ....max_depth=7, max_leaf_nodes=17;, score=0.911 total time=   0.0s\n",
            "[CV 2/3] END ....max_depth=7, max_leaf_nodes=17;, score=0.900 total time=   0.0s\n",
            "[CV 3/3] END ....max_depth=7, max_leaf_nodes=17;, score=0.917 total time=   0.0s\n",
            "[CV 1/3] END ....max_depth=7, max_leaf_nodes=18;, score=0.911 total time=   0.0s\n",
            "[CV 2/3] END ....max_depth=7, max_leaf_nodes=18;, score=0.899 total time=   0.0s\n",
            "[CV 3/3] END ....max_depth=7, max_leaf_nodes=18;, score=0.918 total time=   0.0s\n",
            "[CV 1/3] END ....max_depth=7, max_leaf_nodes=19;, score=0.912 total time=   0.0s\n",
            "[CV 2/3] END ....max_depth=7, max_leaf_nodes=19;, score=0.900 total time=   0.0s\n",
            "[CV 3/3] END ....max_depth=7, max_leaf_nodes=19;, score=0.919 total time=   0.0s\n",
            "[CV 1/3] END ....max_depth=7, max_leaf_nodes=20;, score=0.913 total time=   0.0s\n",
            "[CV 2/3] END ....max_depth=7, max_leaf_nodes=20;, score=0.900 total time=   0.0s\n",
            "[CV 3/3] END ....max_depth=7, max_leaf_nodes=20;, score=0.920 total time=   0.0s\n",
            "[CV 1/3] END ....max_depth=7, max_leaf_nodes=21;, score=0.915 total time=   0.0s\n",
            "[CV 2/3] END ....max_depth=7, max_leaf_nodes=21;, score=0.902 total time=   0.0s\n",
            "[CV 3/3] END ....max_depth=7, max_leaf_nodes=21;, score=0.920 total time=   0.0s\n",
            "[CV 1/3] END ....max_depth=7, max_leaf_nodes=22;, score=0.914 total time=   0.0s\n",
            "[CV 2/3] END ....max_depth=7, max_leaf_nodes=22;, score=0.902 total time=   0.0s\n",
            "[CV 3/3] END ....max_depth=7, max_leaf_nodes=22;, score=0.920 total time=   0.0s\n",
            "[CV 1/3] END ....max_depth=7, max_leaf_nodes=23;, score=0.914 total time=   0.0s\n",
            "[CV 2/3] END ....max_depth=7, max_leaf_nodes=23;, score=0.902 total time=   0.0s\n",
            "[CV 3/3] END ....max_depth=7, max_leaf_nodes=23;, score=0.920 total time=   0.0s\n",
            "[CV 1/3] END ....max_depth=7, max_leaf_nodes=24;, score=0.914 total time=   0.0s\n",
            "[CV 2/3] END ....max_depth=7, max_leaf_nodes=24;, score=0.902 total time=   0.0s\n",
            "[CV 3/3] END ....max_depth=7, max_leaf_nodes=24;, score=0.921 total time=   0.0s\n",
            "[CV 1/3] END ....max_depth=7, max_leaf_nodes=25;, score=0.913 total time=   0.0s\n",
            "[CV 2/3] END ....max_depth=7, max_leaf_nodes=25;, score=0.902 total time=   0.0s\n",
            "[CV 3/3] END ....max_depth=7, max_leaf_nodes=25;, score=0.921 total time=   0.0s\n",
            "[CV 1/3] END ....max_depth=7, max_leaf_nodes=26;, score=0.913 total time=   0.0s\n",
            "[CV 2/3] END ....max_depth=7, max_leaf_nodes=26;, score=0.902 total time=   0.0s\n",
            "[CV 3/3] END ....max_depth=7, max_leaf_nodes=26;, score=0.921 total time=   0.0s\n",
            "[CV 1/3] END ....max_depth=7, max_leaf_nodes=27;, score=0.914 total time=   0.0s\n",
            "[CV 2/3] END ....max_depth=7, max_leaf_nodes=27;, score=0.902 total time=   0.0s\n",
            "[CV 3/3] END ....max_depth=7, max_leaf_nodes=27;, score=0.921 total time=   0.0s\n",
            "[CV 1/3] END ....max_depth=7, max_leaf_nodes=28;, score=0.914 total time=   0.0s\n",
            "[CV 2/3] END ....max_depth=7, max_leaf_nodes=28;, score=0.902 total time=   0.0s\n",
            "[CV 3/3] END ....max_depth=7, max_leaf_nodes=28;, score=0.920 total time=   0.0s\n",
            "[CV 1/3] END ....max_depth=7, max_leaf_nodes=29;, score=0.915 total time=   0.0s\n",
            "[CV 2/3] END ....max_depth=7, max_leaf_nodes=29;, score=0.902 total time=   0.0s\n",
            "[CV 3/3] END ....max_depth=7, max_leaf_nodes=29;, score=0.920 total time=   0.0s\n",
            "[CV 1/3] END ....max_depth=7, max_leaf_nodes=30;, score=0.915 total time=   0.0s\n",
            "[CV 2/3] END ....max_depth=7, max_leaf_nodes=30;, score=0.901 total time=   0.0s\n",
            "[CV 3/3] END ....max_depth=7, max_leaf_nodes=30;, score=0.921 total time=   0.0s\n",
            "[CV 1/3] END .....max_depth=9, max_leaf_nodes=2;, score=0.751 total time=   0.0s\n",
            "[CV 2/3] END .....max_depth=9, max_leaf_nodes=2;, score=0.735 total time=   0.0s\n",
            "[CV 3/3] END .....max_depth=9, max_leaf_nodes=2;, score=0.749 total time=   0.0s\n",
            "[CV 1/3] END .....max_depth=9, max_leaf_nodes=3;, score=0.763 total time=   0.0s\n",
            "[CV 2/3] END .....max_depth=9, max_leaf_nodes=3;, score=0.749 total time=   0.0s\n",
            "[CV 3/3] END .....max_depth=9, max_leaf_nodes=3;, score=0.762 total time=   0.0s\n",
            "[CV 1/3] END .....max_depth=9, max_leaf_nodes=4;, score=0.849 total time=   0.0s\n",
            "[CV 2/3] END .....max_depth=9, max_leaf_nodes=4;, score=0.830 total time=   0.0s\n",
            "[CV 3/3] END .....max_depth=9, max_leaf_nodes=4;, score=0.853 total time=   0.0s\n",
            "[CV 1/3] END .....max_depth=9, max_leaf_nodes=5;, score=0.865 total time=   0.0s\n",
            "[CV 2/3] END .....max_depth=9, max_leaf_nodes=5;, score=0.858 total time=   0.0s\n",
            "[CV 3/3] END .....max_depth=9, max_leaf_nodes=5;, score=0.869 total time=   0.0s\n",
            "[CV 1/3] END .....max_depth=9, max_leaf_nodes=6;, score=0.891 total time=   0.0s\n",
            "[CV 2/3] END .....max_depth=9, max_leaf_nodes=6;, score=0.882 total time=   0.0s\n",
            "[CV 3/3] END .....max_depth=9, max_leaf_nodes=6;, score=0.892 total time=   0.0s\n",
            "[CV 1/3] END .....max_depth=9, max_leaf_nodes=7;, score=0.895 total time=   0.0s\n",
            "[CV 2/3] END .....max_depth=9, max_leaf_nodes=7;, score=0.889 total time=   0.0s\n",
            "[CV 3/3] END .....max_depth=9, max_leaf_nodes=7;, score=0.897 total time=   0.0s\n",
            "[CV 1/3] END .....max_depth=9, max_leaf_nodes=8;, score=0.898 total time=   0.0s\n",
            "[CV 2/3] END .....max_depth=9, max_leaf_nodes=8;, score=0.892 total time=   0.0s\n",
            "[CV 3/3] END .....max_depth=9, max_leaf_nodes=8;, score=0.900 total time=   0.0s\n",
            "[CV 1/3] END .....max_depth=9, max_leaf_nodes=9;, score=0.900 total time=   0.0s\n",
            "[CV 2/3] END .....max_depth=9, max_leaf_nodes=9;, score=0.894 total time=   0.0s\n",
            "[CV 3/3] END .....max_depth=9, max_leaf_nodes=9;, score=0.901 total time=   0.0s\n",
            "[CV 1/3] END ....max_depth=9, max_leaf_nodes=10;, score=0.900 total time=   0.0s\n",
            "[CV 2/3] END ....max_depth=9, max_leaf_nodes=10;, score=0.895 total time=   0.0s\n",
            "[CV 3/3] END ....max_depth=9, max_leaf_nodes=10;, score=0.903 total time=   0.0s\n",
            "[CV 1/3] END ....max_depth=9, max_leaf_nodes=11;, score=0.905 total time=   0.0s\n",
            "[CV 2/3] END ....max_depth=9, max_leaf_nodes=11;, score=0.895 total time=   0.0s\n",
            "[CV 3/3] END ....max_depth=9, max_leaf_nodes=11;, score=0.909 total time=   0.0s\n",
            "[CV 1/3] END ....max_depth=9, max_leaf_nodes=12;, score=0.910 total time=   0.0s\n",
            "[CV 2/3] END ....max_depth=9, max_leaf_nodes=12;, score=0.894 total time=   0.0s\n",
            "[CV 3/3] END ....max_depth=9, max_leaf_nodes=12;, score=0.915 total time=   0.0s\n",
            "[CV 1/3] END ....max_depth=9, max_leaf_nodes=13;, score=0.910 total time=   0.0s\n",
            "[CV 2/3] END ....max_depth=9, max_leaf_nodes=13;, score=0.895 total time=   0.0s\n",
            "[CV 3/3] END ....max_depth=9, max_leaf_nodes=13;, score=0.915 total time=   0.0s\n",
            "[CV 1/3] END ....max_depth=9, max_leaf_nodes=14;, score=0.910 total time=   0.0s\n",
            "[CV 2/3] END ....max_depth=9, max_leaf_nodes=14;, score=0.896 total time=   0.0s\n",
            "[CV 3/3] END ....max_depth=9, max_leaf_nodes=14;, score=0.916 total time=   0.0s\n",
            "[CV 1/3] END ....max_depth=9, max_leaf_nodes=15;, score=0.910 total time=   0.0s\n",
            "[CV 2/3] END ....max_depth=9, max_leaf_nodes=15;, score=0.899 total time=   0.0s\n",
            "[CV 3/3] END ....max_depth=9, max_leaf_nodes=15;, score=0.916 total time=   0.0s\n",
            "[CV 1/3] END ....max_depth=9, max_leaf_nodes=16;, score=0.911 total time=   0.0s\n",
            "[CV 2/3] END ....max_depth=9, max_leaf_nodes=16;, score=0.899 total time=   0.0s\n",
            "[CV 3/3] END ....max_depth=9, max_leaf_nodes=16;, score=0.916 total time=   0.0s\n",
            "[CV 1/3] END ....max_depth=9, max_leaf_nodes=17;, score=0.911 total time=   0.0s\n",
            "[CV 2/3] END ....max_depth=9, max_leaf_nodes=17;, score=0.900 total time=   0.0s\n",
            "[CV 3/3] END ....max_depth=9, max_leaf_nodes=17;, score=0.917 total time=   0.0s\n",
            "[CV 1/3] END ....max_depth=9, max_leaf_nodes=18;, score=0.911 total time=   0.0s\n",
            "[CV 2/3] END ....max_depth=9, max_leaf_nodes=18;, score=0.899 total time=   0.0s\n",
            "[CV 3/3] END ....max_depth=9, max_leaf_nodes=18;, score=0.918 total time=   0.0s\n",
            "[CV 1/3] END ....max_depth=9, max_leaf_nodes=19;, score=0.912 total time=   0.0s\n",
            "[CV 2/3] END ....max_depth=9, max_leaf_nodes=19;, score=0.900 total time=   0.0s\n",
            "[CV 3/3] END ....max_depth=9, max_leaf_nodes=19;, score=0.919 total time=   0.0s\n",
            "[CV 1/3] END ....max_depth=9, max_leaf_nodes=20;, score=0.913 total time=   0.0s\n",
            "[CV 2/3] END ....max_depth=9, max_leaf_nodes=20;, score=0.900 total time=   0.0s\n",
            "[CV 3/3] END ....max_depth=9, max_leaf_nodes=20;, score=0.920 total time=   0.0s\n",
            "[CV 1/3] END ....max_depth=9, max_leaf_nodes=21;, score=0.915 total time=   0.0s\n",
            "[CV 2/3] END ....max_depth=9, max_leaf_nodes=21;, score=0.902 total time=   0.0s\n",
            "[CV 3/3] END ....max_depth=9, max_leaf_nodes=21;, score=0.920 total time=   0.0s\n",
            "[CV 1/3] END ....max_depth=9, max_leaf_nodes=22;, score=0.914 total time=   0.0s\n",
            "[CV 2/3] END ....max_depth=9, max_leaf_nodes=22;, score=0.902 total time=   0.0s\n",
            "[CV 3/3] END ....max_depth=9, max_leaf_nodes=22;, score=0.920 total time=   0.0s\n",
            "[CV 1/3] END ....max_depth=9, max_leaf_nodes=23;, score=0.914 total time=   0.0s\n",
            "[CV 2/3] END ....max_depth=9, max_leaf_nodes=23;, score=0.902 total time=   0.0s\n",
            "[CV 3/3] END ....max_depth=9, max_leaf_nodes=23;, score=0.920 total time=   0.1s\n",
            "[CV 1/3] END ....max_depth=9, max_leaf_nodes=24;, score=0.914 total time=   0.0s\n",
            "[CV 2/3] END ....max_depth=9, max_leaf_nodes=24;, score=0.902 total time=   0.0s\n",
            "[CV 3/3] END ....max_depth=9, max_leaf_nodes=24;, score=0.920 total time=   0.0s\n",
            "[CV 1/3] END ....max_depth=9, max_leaf_nodes=25;, score=0.914 total time=   0.0s\n",
            "[CV 2/3] END ....max_depth=9, max_leaf_nodes=25;, score=0.902 total time=   0.0s\n",
            "[CV 3/3] END ....max_depth=9, max_leaf_nodes=25;, score=0.921 total time=   0.0s\n",
            "[CV 1/3] END ....max_depth=9, max_leaf_nodes=26;, score=0.913 total time=   0.0s\n",
            "[CV 2/3] END ....max_depth=9, max_leaf_nodes=26;, score=0.902 total time=   0.0s\n",
            "[CV 3/3] END ....max_depth=9, max_leaf_nodes=26;, score=0.921 total time=   0.0s\n",
            "[CV 1/3] END ....max_depth=9, max_leaf_nodes=27;, score=0.913 total time=   0.0s\n",
            "[CV 2/3] END ....max_depth=9, max_leaf_nodes=27;, score=0.902 total time=   0.0s\n",
            "[CV 3/3] END ....max_depth=9, max_leaf_nodes=27;, score=0.921 total time=   0.0s\n",
            "[CV 1/3] END ....max_depth=9, max_leaf_nodes=28;, score=0.913 total time=   0.0s\n",
            "[CV 2/3] END ....max_depth=9, max_leaf_nodes=28;, score=0.902 total time=   0.0s\n",
            "[CV 3/3] END ....max_depth=9, max_leaf_nodes=28;, score=0.921 total time=   0.0s\n",
            "[CV 1/3] END ....max_depth=9, max_leaf_nodes=29;, score=0.914 total time=   0.0s\n",
            "[CV 2/3] END ....max_depth=9, max_leaf_nodes=29;, score=0.902 total time=   0.0s\n",
            "[CV 3/3] END ....max_depth=9, max_leaf_nodes=29;, score=0.920 total time=   0.0s\n",
            "[CV 1/3] END ....max_depth=9, max_leaf_nodes=30;, score=0.913 total time=   0.0s\n",
            "[CV 2/3] END ....max_depth=9, max_leaf_nodes=30;, score=0.902 total time=   0.0s\n",
            "[CV 3/3] END ....max_depth=9, max_leaf_nodes=30;, score=0.920 total time=   0.0s\n",
            "[CV 1/3] END ....max_depth=11, max_leaf_nodes=2;, score=0.751 total time=   0.0s\n",
            "[CV 2/3] END ....max_depth=11, max_leaf_nodes=2;, score=0.735 total time=   0.0s\n",
            "[CV 3/3] END ....max_depth=11, max_leaf_nodes=2;, score=0.749 total time=   0.0s\n",
            "[CV 1/3] END ....max_depth=11, max_leaf_nodes=3;, score=0.763 total time=   0.0s\n",
            "[CV 2/3] END ....max_depth=11, max_leaf_nodes=3;, score=0.749 total time=   0.0s\n",
            "[CV 3/3] END ....max_depth=11, max_leaf_nodes=3;, score=0.762 total time=   0.0s\n",
            "[CV 1/3] END ....max_depth=11, max_leaf_nodes=4;, score=0.849 total time=   0.0s\n",
            "[CV 2/3] END ....max_depth=11, max_leaf_nodes=4;, score=0.830 total time=   0.0s\n",
            "[CV 3/3] END ....max_depth=11, max_leaf_nodes=4;, score=0.853 total time=   0.0s\n",
            "[CV 1/3] END ....max_depth=11, max_leaf_nodes=5;, score=0.865 total time=   0.0s\n",
            "[CV 2/3] END ....max_depth=11, max_leaf_nodes=5;, score=0.858 total time=   0.0s\n",
            "[CV 3/3] END ....max_depth=11, max_leaf_nodes=5;, score=0.869 total time=   0.0s\n",
            "[CV 1/3] END ....max_depth=11, max_leaf_nodes=6;, score=0.891 total time=   0.0s\n",
            "[CV 2/3] END ....max_depth=11, max_leaf_nodes=6;, score=0.882 total time=   0.0s\n",
            "[CV 3/3] END ....max_depth=11, max_leaf_nodes=6;, score=0.892 total time=   0.0s\n",
            "[CV 1/3] END ....max_depth=11, max_leaf_nodes=7;, score=0.895 total time=   0.0s\n",
            "[CV 2/3] END ....max_depth=11, max_leaf_nodes=7;, score=0.889 total time=   0.0s\n",
            "[CV 3/3] END ....max_depth=11, max_leaf_nodes=7;, score=0.897 total time=   0.0s\n",
            "[CV 1/3] END ....max_depth=11, max_leaf_nodes=8;, score=0.898 total time=   0.0s\n",
            "[CV 2/3] END ....max_depth=11, max_leaf_nodes=8;, score=0.892 total time=   0.0s\n",
            "[CV 3/3] END ....max_depth=11, max_leaf_nodes=8;, score=0.900 total time=   0.0s\n",
            "[CV 1/3] END ....max_depth=11, max_leaf_nodes=9;, score=0.900 total time=   0.0s\n",
            "[CV 2/3] END ....max_depth=11, max_leaf_nodes=9;, score=0.894 total time=   0.0s\n",
            "[CV 3/3] END ....max_depth=11, max_leaf_nodes=9;, score=0.901 total time=   0.0s\n",
            "[CV 1/3] END ...max_depth=11, max_leaf_nodes=10;, score=0.900 total time=   0.0s\n",
            "[CV 2/3] END ...max_depth=11, max_leaf_nodes=10;, score=0.895 total time=   0.0s\n",
            "[CV 3/3] END ...max_depth=11, max_leaf_nodes=10;, score=0.903 total time=   0.0s\n",
            "[CV 1/3] END ...max_depth=11, max_leaf_nodes=11;, score=0.905 total time=   0.0s\n",
            "[CV 2/3] END ...max_depth=11, max_leaf_nodes=11;, score=0.895 total time=   0.0s\n",
            "[CV 3/3] END ...max_depth=11, max_leaf_nodes=11;, score=0.909 total time=   0.0s\n",
            "[CV 1/3] END ...max_depth=11, max_leaf_nodes=12;, score=0.910 total time=   0.1s\n",
            "[CV 2/3] END ...max_depth=11, max_leaf_nodes=12;, score=0.894 total time=   0.0s\n",
            "[CV 3/3] END ...max_depth=11, max_leaf_nodes=12;, score=0.915 total time=   0.0s\n",
            "[CV 1/3] END ...max_depth=11, max_leaf_nodes=13;, score=0.910 total time=   0.0s\n",
            "[CV 2/3] END ...max_depth=11, max_leaf_nodes=13;, score=0.895 total time=   0.0s\n",
            "[CV 3/3] END ...max_depth=11, max_leaf_nodes=13;, score=0.915 total time=   0.0s\n",
            "[CV 1/3] END ...max_depth=11, max_leaf_nodes=14;, score=0.910 total time=   0.0s\n",
            "[CV 2/3] END ...max_depth=11, max_leaf_nodes=14;, score=0.896 total time=   0.0s\n",
            "[CV 3/3] END ...max_depth=11, max_leaf_nodes=14;, score=0.916 total time=   0.0s\n",
            "[CV 1/3] END ...max_depth=11, max_leaf_nodes=15;, score=0.910 total time=   0.0s\n",
            "[CV 2/3] END ...max_depth=11, max_leaf_nodes=15;, score=0.899 total time=   0.0s\n",
            "[CV 3/3] END ...max_depth=11, max_leaf_nodes=15;, score=0.916 total time=   0.0s\n",
            "[CV 1/3] END ...max_depth=11, max_leaf_nodes=16;, score=0.911 total time=   0.0s\n",
            "[CV 2/3] END ...max_depth=11, max_leaf_nodes=16;, score=0.899 total time=   0.0s\n",
            "[CV 3/3] END ...max_depth=11, max_leaf_nodes=16;, score=0.916 total time=   0.0s\n",
            "[CV 1/3] END ...max_depth=11, max_leaf_nodes=17;, score=0.911 total time=   0.0s\n",
            "[CV 2/3] END ...max_depth=11, max_leaf_nodes=17;, score=0.900 total time=   0.0s\n",
            "[CV 3/3] END ...max_depth=11, max_leaf_nodes=17;, score=0.917 total time=   0.0s\n",
            "[CV 1/3] END ...max_depth=11, max_leaf_nodes=18;, score=0.911 total time=   0.0s\n",
            "[CV 2/3] END ...max_depth=11, max_leaf_nodes=18;, score=0.899 total time=   0.0s\n",
            "[CV 3/3] END ...max_depth=11, max_leaf_nodes=18;, score=0.918 total time=   0.0s\n",
            "[CV 1/3] END ...max_depth=11, max_leaf_nodes=19;, score=0.912 total time=   0.0s\n",
            "[CV 2/3] END ...max_depth=11, max_leaf_nodes=19;, score=0.900 total time=   0.0s\n",
            "[CV 3/3] END ...max_depth=11, max_leaf_nodes=19;, score=0.919 total time=   0.0s\n",
            "[CV 1/3] END ...max_depth=11, max_leaf_nodes=20;, score=0.913 total time=   0.0s\n",
            "[CV 2/3] END ...max_depth=11, max_leaf_nodes=20;, score=0.900 total time=   0.0s\n",
            "[CV 3/3] END ...max_depth=11, max_leaf_nodes=20;, score=0.920 total time=   0.0s\n",
            "[CV 1/3] END ...max_depth=11, max_leaf_nodes=21;, score=0.915 total time=   0.0s\n",
            "[CV 2/3] END ...max_depth=11, max_leaf_nodes=21;, score=0.902 total time=   0.0s\n",
            "[CV 3/3] END ...max_depth=11, max_leaf_nodes=21;, score=0.920 total time=   0.0s\n",
            "[CV 1/3] END ...max_depth=11, max_leaf_nodes=22;, score=0.914 total time=   0.0s\n",
            "[CV 2/3] END ...max_depth=11, max_leaf_nodes=22;, score=0.902 total time=   0.0s\n",
            "[CV 3/3] END ...max_depth=11, max_leaf_nodes=22;, score=0.920 total time=   0.0s\n",
            "[CV 1/3] END ...max_depth=11, max_leaf_nodes=23;, score=0.914 total time=   0.0s\n",
            "[CV 2/3] END ...max_depth=11, max_leaf_nodes=23;, score=0.902 total time=   0.0s\n",
            "[CV 3/3] END ...max_depth=11, max_leaf_nodes=23;, score=0.920 total time=   0.0s\n",
            "[CV 1/3] END ...max_depth=11, max_leaf_nodes=24;, score=0.914 total time=   0.0s\n",
            "[CV 2/3] END ...max_depth=11, max_leaf_nodes=24;, score=0.902 total time=   0.0s\n",
            "[CV 3/3] END ...max_depth=11, max_leaf_nodes=24;, score=0.920 total time=   0.0s\n",
            "[CV 1/3] END ...max_depth=11, max_leaf_nodes=25;, score=0.914 total time=   0.0s\n",
            "[CV 2/3] END ...max_depth=11, max_leaf_nodes=25;, score=0.902 total time=   0.0s\n",
            "[CV 3/3] END ...max_depth=11, max_leaf_nodes=25;, score=0.921 total time=   0.0s\n",
            "[CV 1/3] END ...max_depth=11, max_leaf_nodes=26;, score=0.913 total time=   0.0s\n",
            "[CV 2/3] END ...max_depth=11, max_leaf_nodes=26;, score=0.902 total time=   0.0s\n",
            "[CV 3/3] END ...max_depth=11, max_leaf_nodes=26;, score=0.921 total time=   0.0s\n",
            "[CV 1/3] END ...max_depth=11, max_leaf_nodes=27;, score=0.913 total time=   0.0s\n",
            "[CV 2/3] END ...max_depth=11, max_leaf_nodes=27;, score=0.902 total time=   0.0s\n",
            "[CV 3/3] END ...max_depth=11, max_leaf_nodes=27;, score=0.921 total time=   0.0s\n",
            "[CV 1/3] END ...max_depth=11, max_leaf_nodes=28;, score=0.913 total time=   0.0s\n",
            "[CV 2/3] END ...max_depth=11, max_leaf_nodes=28;, score=0.902 total time=   0.0s\n",
            "[CV 3/3] END ...max_depth=11, max_leaf_nodes=28;, score=0.921 total time=   0.0s\n",
            "[CV 1/3] END ...max_depth=11, max_leaf_nodes=29;, score=0.914 total time=   0.0s\n",
            "[CV 2/3] END ...max_depth=11, max_leaf_nodes=29;, score=0.902 total time=   0.0s\n",
            "[CV 3/3] END ...max_depth=11, max_leaf_nodes=29;, score=0.920 total time=   0.0s\n",
            "[CV 1/3] END ...max_depth=11, max_leaf_nodes=30;, score=0.913 total time=   0.0s\n",
            "[CV 2/3] END ...max_depth=11, max_leaf_nodes=30;, score=0.902 total time=   0.0s\n",
            "[CV 3/3] END ...max_depth=11, max_leaf_nodes=30;, score=0.920 total time=   0.0s\n",
            "[CV 1/3] END ....max_depth=13, max_leaf_nodes=2;, score=0.751 total time=   0.0s\n",
            "[CV 2/3] END ....max_depth=13, max_leaf_nodes=2;, score=0.735 total time=   0.0s\n",
            "[CV 3/3] END ....max_depth=13, max_leaf_nodes=2;, score=0.749 total time=   0.0s\n",
            "[CV 1/3] END ....max_depth=13, max_leaf_nodes=3;, score=0.763 total time=   0.0s\n",
            "[CV 2/3] END ....max_depth=13, max_leaf_nodes=3;, score=0.749 total time=   0.0s\n",
            "[CV 3/3] END ....max_depth=13, max_leaf_nodes=3;, score=0.762 total time=   0.0s\n",
            "[CV 1/3] END ....max_depth=13, max_leaf_nodes=4;, score=0.849 total time=   0.0s\n",
            "[CV 2/3] END ....max_depth=13, max_leaf_nodes=4;, score=0.830 total time=   0.0s\n",
            "[CV 3/3] END ....max_depth=13, max_leaf_nodes=4;, score=0.853 total time=   0.0s\n",
            "[CV 1/3] END ....max_depth=13, max_leaf_nodes=5;, score=0.865 total time=   0.0s\n",
            "[CV 2/3] END ....max_depth=13, max_leaf_nodes=5;, score=0.858 total time=   0.0s\n",
            "[CV 3/3] END ....max_depth=13, max_leaf_nodes=5;, score=0.869 total time=   0.0s\n",
            "[CV 1/3] END ....max_depth=13, max_leaf_nodes=6;, score=0.891 total time=   0.0s\n",
            "[CV 2/3] END ....max_depth=13, max_leaf_nodes=6;, score=0.882 total time=   0.0s\n",
            "[CV 3/3] END ....max_depth=13, max_leaf_nodes=6;, score=0.892 total time=   0.0s\n",
            "[CV 1/3] END ....max_depth=13, max_leaf_nodes=7;, score=0.895 total time=   0.0s\n",
            "[CV 2/3] END ....max_depth=13, max_leaf_nodes=7;, score=0.889 total time=   0.0s\n",
            "[CV 3/3] END ....max_depth=13, max_leaf_nodes=7;, score=0.897 total time=   0.0s\n",
            "[CV 1/3] END ....max_depth=13, max_leaf_nodes=8;, score=0.898 total time=   0.0s\n",
            "[CV 2/3] END ....max_depth=13, max_leaf_nodes=8;, score=0.892 total time=   0.0s\n",
            "[CV 3/3] END ....max_depth=13, max_leaf_nodes=8;, score=0.900 total time=   0.0s\n",
            "[CV 1/3] END ....max_depth=13, max_leaf_nodes=9;, score=0.900 total time=   0.0s\n",
            "[CV 2/3] END ....max_depth=13, max_leaf_nodes=9;, score=0.894 total time=   0.0s\n",
            "[CV 3/3] END ....max_depth=13, max_leaf_nodes=9;, score=0.901 total time=   0.0s\n",
            "[CV 1/3] END ...max_depth=13, max_leaf_nodes=10;, score=0.900 total time=   0.0s\n",
            "[CV 2/3] END ...max_depth=13, max_leaf_nodes=10;, score=0.895 total time=   0.0s\n",
            "[CV 3/3] END ...max_depth=13, max_leaf_nodes=10;, score=0.903 total time=   0.0s\n",
            "[CV 1/3] END ...max_depth=13, max_leaf_nodes=11;, score=0.905 total time=   0.0s\n",
            "[CV 2/3] END ...max_depth=13, max_leaf_nodes=11;, score=0.895 total time=   0.0s\n",
            "[CV 3/3] END ...max_depth=13, max_leaf_nodes=11;, score=0.909 total time=   0.0s\n",
            "[CV 1/3] END ...max_depth=13, max_leaf_nodes=12;, score=0.910 total time=   0.0s\n",
            "[CV 2/3] END ...max_depth=13, max_leaf_nodes=12;, score=0.894 total time=   0.0s\n",
            "[CV 3/3] END ...max_depth=13, max_leaf_nodes=12;, score=0.915 total time=   0.0s\n",
            "[CV 1/3] END ...max_depth=13, max_leaf_nodes=13;, score=0.910 total time=   0.0s\n",
            "[CV 2/3] END ...max_depth=13, max_leaf_nodes=13;, score=0.895 total time=   0.0s\n",
            "[CV 3/3] END ...max_depth=13, max_leaf_nodes=13;, score=0.915 total time=   0.0s\n",
            "[CV 1/3] END ...max_depth=13, max_leaf_nodes=14;, score=0.910 total time=   0.0s\n",
            "[CV 2/3] END ...max_depth=13, max_leaf_nodes=14;, score=0.896 total time=   0.0s\n",
            "[CV 3/3] END ...max_depth=13, max_leaf_nodes=14;, score=0.916 total time=   0.0s\n",
            "[CV 1/3] END ...max_depth=13, max_leaf_nodes=15;, score=0.910 total time=   0.0s\n",
            "[CV 2/3] END ...max_depth=13, max_leaf_nodes=15;, score=0.899 total time=   0.0s\n",
            "[CV 3/3] END ...max_depth=13, max_leaf_nodes=15;, score=0.916 total time=   0.0s\n",
            "[CV 1/3] END ...max_depth=13, max_leaf_nodes=16;, score=0.911 total time=   0.0s\n",
            "[CV 2/3] END ...max_depth=13, max_leaf_nodes=16;, score=0.899 total time=   0.0s\n",
            "[CV 3/3] END ...max_depth=13, max_leaf_nodes=16;, score=0.916 total time=   0.0s\n",
            "[CV 1/3] END ...max_depth=13, max_leaf_nodes=17;, score=0.911 total time=   0.0s\n",
            "[CV 2/3] END ...max_depth=13, max_leaf_nodes=17;, score=0.900 total time=   0.0s\n",
            "[CV 3/3] END ...max_depth=13, max_leaf_nodes=17;, score=0.917 total time=   0.0s\n",
            "[CV 1/3] END ...max_depth=13, max_leaf_nodes=18;, score=0.911 total time=   0.0s\n",
            "[CV 2/3] END ...max_depth=13, max_leaf_nodes=18;, score=0.899 total time=   0.0s\n",
            "[CV 3/3] END ...max_depth=13, max_leaf_nodes=18;, score=0.918 total time=   0.0s\n",
            "[CV 1/3] END ...max_depth=13, max_leaf_nodes=19;, score=0.912 total time=   0.0s\n",
            "[CV 2/3] END ...max_depth=13, max_leaf_nodes=19;, score=0.900 total time=   0.0s\n",
            "[CV 3/3] END ...max_depth=13, max_leaf_nodes=19;, score=0.919 total time=   0.0s\n",
            "[CV 1/3] END ...max_depth=13, max_leaf_nodes=20;, score=0.913 total time=   0.0s\n",
            "[CV 2/3] END ...max_depth=13, max_leaf_nodes=20;, score=0.900 total time=   0.0s\n",
            "[CV 3/3] END ...max_depth=13, max_leaf_nodes=20;, score=0.920 total time=   0.0s\n",
            "[CV 1/3] END ...max_depth=13, max_leaf_nodes=21;, score=0.915 total time=   0.0s\n",
            "[CV 2/3] END ...max_depth=13, max_leaf_nodes=21;, score=0.902 total time=   0.0s\n",
            "[CV 3/3] END ...max_depth=13, max_leaf_nodes=21;, score=0.920 total time=   0.0s\n",
            "[CV 1/3] END ...max_depth=13, max_leaf_nodes=22;, score=0.914 total time=   0.0s\n",
            "[CV 2/3] END ...max_depth=13, max_leaf_nodes=22;, score=0.902 total time=   0.0s\n",
            "[CV 3/3] END ...max_depth=13, max_leaf_nodes=22;, score=0.920 total time=   0.0s\n",
            "[CV 1/3] END ...max_depth=13, max_leaf_nodes=23;, score=0.914 total time=   0.0s\n",
            "[CV 2/3] END ...max_depth=13, max_leaf_nodes=23;, score=0.902 total time=   0.0s\n",
            "[CV 3/3] END ...max_depth=13, max_leaf_nodes=23;, score=0.920 total time=   0.0s\n",
            "[CV 1/3] END ...max_depth=13, max_leaf_nodes=24;, score=0.914 total time=   0.0s\n",
            "[CV 2/3] END ...max_depth=13, max_leaf_nodes=24;, score=0.902 total time=   0.0s\n",
            "[CV 3/3] END ...max_depth=13, max_leaf_nodes=24;, score=0.920 total time=   0.0s\n",
            "[CV 1/3] END ...max_depth=13, max_leaf_nodes=25;, score=0.914 total time=   0.0s\n",
            "[CV 2/3] END ...max_depth=13, max_leaf_nodes=25;, score=0.902 total time=   0.0s\n",
            "[CV 3/3] END ...max_depth=13, max_leaf_nodes=25;, score=0.921 total time=   0.0s\n",
            "[CV 1/3] END ...max_depth=13, max_leaf_nodes=26;, score=0.913 total time=   0.0s\n",
            "[CV 2/3] END ...max_depth=13, max_leaf_nodes=26;, score=0.902 total time=   0.0s\n",
            "[CV 3/3] END ...max_depth=13, max_leaf_nodes=26;, score=0.921 total time=   0.0s\n",
            "[CV 1/3] END ...max_depth=13, max_leaf_nodes=27;, score=0.913 total time=   0.0s\n",
            "[CV 2/3] END ...max_depth=13, max_leaf_nodes=27;, score=0.902 total time=   0.0s\n",
            "[CV 3/3] END ...max_depth=13, max_leaf_nodes=27;, score=0.921 total time=   0.0s\n",
            "[CV 1/3] END ...max_depth=13, max_leaf_nodes=28;, score=0.913 total time=   0.0s\n",
            "[CV 2/3] END ...max_depth=13, max_leaf_nodes=28;, score=0.902 total time=   0.0s\n",
            "[CV 3/3] END ...max_depth=13, max_leaf_nodes=28;, score=0.921 total time=   0.0s\n",
            "[CV 1/3] END ...max_depth=13, max_leaf_nodes=29;, score=0.914 total time=   0.0s\n",
            "[CV 2/3] END ...max_depth=13, max_leaf_nodes=29;, score=0.902 total time=   0.0s\n",
            "[CV 3/3] END ...max_depth=13, max_leaf_nodes=29;, score=0.920 total time=   0.0s\n",
            "[CV 1/3] END ...max_depth=13, max_leaf_nodes=30;, score=0.913 total time=   0.0s\n",
            "[CV 2/3] END ...max_depth=13, max_leaf_nodes=30;, score=0.902 total time=   0.0s\n",
            "[CV 3/3] END ...max_depth=13, max_leaf_nodes=30;, score=0.920 total time=   0.0s\n",
            "[CV 1/3] END ....max_depth=15, max_leaf_nodes=2;, score=0.751 total time=   0.0s\n",
            "[CV 2/3] END ....max_depth=15, max_leaf_nodes=2;, score=0.735 total time=   0.0s\n",
            "[CV 3/3] END ....max_depth=15, max_leaf_nodes=2;, score=0.749 total time=   0.0s\n",
            "[CV 1/3] END ....max_depth=15, max_leaf_nodes=3;, score=0.763 total time=   0.0s\n",
            "[CV 2/3] END ....max_depth=15, max_leaf_nodes=3;, score=0.749 total time=   0.0s\n",
            "[CV 3/3] END ....max_depth=15, max_leaf_nodes=3;, score=0.762 total time=   0.0s\n",
            "[CV 1/3] END ....max_depth=15, max_leaf_nodes=4;, score=0.849 total time=   0.0s\n",
            "[CV 2/3] END ....max_depth=15, max_leaf_nodes=4;, score=0.830 total time=   0.0s\n",
            "[CV 3/3] END ....max_depth=15, max_leaf_nodes=4;, score=0.853 total time=   0.0s\n",
            "[CV 1/3] END ....max_depth=15, max_leaf_nodes=5;, score=0.865 total time=   0.0s\n",
            "[CV 2/3] END ....max_depth=15, max_leaf_nodes=5;, score=0.858 total time=   0.0s\n",
            "[CV 3/3] END ....max_depth=15, max_leaf_nodes=5;, score=0.869 total time=   0.0s\n",
            "[CV 1/3] END ....max_depth=15, max_leaf_nodes=6;, score=0.891 total time=   0.0s\n",
            "[CV 2/3] END ....max_depth=15, max_leaf_nodes=6;, score=0.882 total time=   0.0s\n",
            "[CV 3/3] END ....max_depth=15, max_leaf_nodes=6;, score=0.892 total time=   0.0s\n",
            "[CV 1/3] END ....max_depth=15, max_leaf_nodes=7;, score=0.895 total time=   0.0s\n",
            "[CV 2/3] END ....max_depth=15, max_leaf_nodes=7;, score=0.889 total time=   0.0s\n",
            "[CV 3/3] END ....max_depth=15, max_leaf_nodes=7;, score=0.897 total time=   0.0s\n",
            "[CV 1/3] END ....max_depth=15, max_leaf_nodes=8;, score=0.898 total time=   0.0s\n",
            "[CV 2/3] END ....max_depth=15, max_leaf_nodes=8;, score=0.892 total time=   0.0s\n",
            "[CV 3/3] END ....max_depth=15, max_leaf_nodes=8;, score=0.900 total time=   0.0s\n",
            "[CV 1/3] END ....max_depth=15, max_leaf_nodes=9;, score=0.900 total time=   0.0s\n",
            "[CV 2/3] END ....max_depth=15, max_leaf_nodes=9;, score=0.894 total time=   0.0s\n",
            "[CV 3/3] END ....max_depth=15, max_leaf_nodes=9;, score=0.901 total time=   0.0s\n",
            "[CV 1/3] END ...max_depth=15, max_leaf_nodes=10;, score=0.900 total time=   0.0s\n",
            "[CV 2/3] END ...max_depth=15, max_leaf_nodes=10;, score=0.895 total time=   0.0s\n",
            "[CV 3/3] END ...max_depth=15, max_leaf_nodes=10;, score=0.903 total time=   0.0s\n",
            "[CV 1/3] END ...max_depth=15, max_leaf_nodes=11;, score=0.905 total time=   0.0s\n",
            "[CV 2/3] END ...max_depth=15, max_leaf_nodes=11;, score=0.895 total time=   0.0s\n",
            "[CV 3/3] END ...max_depth=15, max_leaf_nodes=11;, score=0.909 total time=   0.0s\n",
            "[CV 1/3] END ...max_depth=15, max_leaf_nodes=12;, score=0.910 total time=   0.0s\n",
            "[CV 2/3] END ...max_depth=15, max_leaf_nodes=12;, score=0.894 total time=   0.0s\n",
            "[CV 3/3] END ...max_depth=15, max_leaf_nodes=12;, score=0.915 total time=   0.0s\n",
            "[CV 1/3] END ...max_depth=15, max_leaf_nodes=13;, score=0.910 total time=   0.0s\n",
            "[CV 2/3] END ...max_depth=15, max_leaf_nodes=13;, score=0.895 total time=   0.0s\n",
            "[CV 3/3] END ...max_depth=15, max_leaf_nodes=13;, score=0.915 total time=   0.0s\n",
            "[CV 1/3] END ...max_depth=15, max_leaf_nodes=14;, score=0.910 total time=   0.0s\n",
            "[CV 2/3] END ...max_depth=15, max_leaf_nodes=14;, score=0.896 total time=   0.0s\n",
            "[CV 3/3] END ...max_depth=15, max_leaf_nodes=14;, score=0.916 total time=   0.0s\n",
            "[CV 1/3] END ...max_depth=15, max_leaf_nodes=15;, score=0.910 total time=   0.0s\n",
            "[CV 2/3] END ...max_depth=15, max_leaf_nodes=15;, score=0.899 total time=   0.0s\n",
            "[CV 3/3] END ...max_depth=15, max_leaf_nodes=15;, score=0.916 total time=   0.0s\n",
            "[CV 1/3] END ...max_depth=15, max_leaf_nodes=16;, score=0.911 total time=   0.0s\n",
            "[CV 2/3] END ...max_depth=15, max_leaf_nodes=16;, score=0.899 total time=   0.0s\n",
            "[CV 3/3] END ...max_depth=15, max_leaf_nodes=16;, score=0.916 total time=   0.0s\n",
            "[CV 1/3] END ...max_depth=15, max_leaf_nodes=17;, score=0.911 total time=   0.0s\n",
            "[CV 2/3] END ...max_depth=15, max_leaf_nodes=17;, score=0.900 total time=   0.0s\n",
            "[CV 3/3] END ...max_depth=15, max_leaf_nodes=17;, score=0.917 total time=   0.0s\n",
            "[CV 1/3] END ...max_depth=15, max_leaf_nodes=18;, score=0.911 total time=   0.0s\n",
            "[CV 2/3] END ...max_depth=15, max_leaf_nodes=18;, score=0.899 total time=   0.0s\n",
            "[CV 3/3] END ...max_depth=15, max_leaf_nodes=18;, score=0.918 total time=   0.0s\n",
            "[CV 1/3] END ...max_depth=15, max_leaf_nodes=19;, score=0.912 total time=   0.0s\n",
            "[CV 2/3] END ...max_depth=15, max_leaf_nodes=19;, score=0.900 total time=   0.0s\n",
            "[CV 3/3] END ...max_depth=15, max_leaf_nodes=19;, score=0.919 total time=   0.0s\n",
            "[CV 1/3] END ...max_depth=15, max_leaf_nodes=20;, score=0.913 total time=   0.0s\n",
            "[CV 2/3] END ...max_depth=15, max_leaf_nodes=20;, score=0.900 total time=   0.0s\n",
            "[CV 3/3] END ...max_depth=15, max_leaf_nodes=20;, score=0.920 total time=   0.0s\n",
            "[CV 1/3] END ...max_depth=15, max_leaf_nodes=21;, score=0.915 total time=   0.0s\n",
            "[CV 2/3] END ...max_depth=15, max_leaf_nodes=21;, score=0.902 total time=   0.0s\n",
            "[CV 3/3] END ...max_depth=15, max_leaf_nodes=21;, score=0.920 total time=   0.0s\n",
            "[CV 1/3] END ...max_depth=15, max_leaf_nodes=22;, score=0.914 total time=   0.0s\n",
            "[CV 2/3] END ...max_depth=15, max_leaf_nodes=22;, score=0.902 total time=   0.0s\n",
            "[CV 3/3] END ...max_depth=15, max_leaf_nodes=22;, score=0.920 total time=   0.0s\n",
            "[CV 1/3] END ...max_depth=15, max_leaf_nodes=23;, score=0.914 total time=   0.0s\n",
            "[CV 2/3] END ...max_depth=15, max_leaf_nodes=23;, score=0.902 total time=   0.0s\n",
            "[CV 3/3] END ...max_depth=15, max_leaf_nodes=23;, score=0.920 total time=   0.0s\n",
            "[CV 1/3] END ...max_depth=15, max_leaf_nodes=24;, score=0.914 total time=   0.0s\n",
            "[CV 2/3] END ...max_depth=15, max_leaf_nodes=24;, score=0.902 total time=   0.0s\n",
            "[CV 3/3] END ...max_depth=15, max_leaf_nodes=24;, score=0.920 total time=   0.0s\n",
            "[CV 1/3] END ...max_depth=15, max_leaf_nodes=25;, score=0.914 total time=   0.0s\n",
            "[CV 2/3] END ...max_depth=15, max_leaf_nodes=25;, score=0.902 total time=   0.0s\n",
            "[CV 3/3] END ...max_depth=15, max_leaf_nodes=25;, score=0.921 total time=   0.0s\n",
            "[CV 1/3] END ...max_depth=15, max_leaf_nodes=26;, score=0.913 total time=   0.0s\n",
            "[CV 2/3] END ...max_depth=15, max_leaf_nodes=26;, score=0.902 total time=   0.0s\n",
            "[CV 3/3] END ...max_depth=15, max_leaf_nodes=26;, score=0.921 total time=   0.0s\n",
            "[CV 1/3] END ...max_depth=15, max_leaf_nodes=27;, score=0.913 total time=   0.0s\n",
            "[CV 2/3] END ...max_depth=15, max_leaf_nodes=27;, score=0.902 total time=   0.0s\n",
            "[CV 3/3] END ...max_depth=15, max_leaf_nodes=27;, score=0.921 total time=   0.0s\n",
            "[CV 1/3] END ...max_depth=15, max_leaf_nodes=28;, score=0.913 total time=   0.0s\n",
            "[CV 2/3] END ...max_depth=15, max_leaf_nodes=28;, score=0.902 total time=   0.0s\n",
            "[CV 3/3] END ...max_depth=15, max_leaf_nodes=28;, score=0.921 total time=   0.0s\n",
            "[CV 1/3] END ...max_depth=15, max_leaf_nodes=29;, score=0.914 total time=   0.0s\n",
            "[CV 2/3] END ...max_depth=15, max_leaf_nodes=29;, score=0.902 total time=   0.0s\n",
            "[CV 3/3] END ...max_depth=15, max_leaf_nodes=29;, score=0.920 total time=   0.0s\n",
            "[CV 1/3] END ...max_depth=15, max_leaf_nodes=30;, score=0.913 total time=   0.0s\n",
            "[CV 2/3] END ...max_depth=15, max_leaf_nodes=30;, score=0.902 total time=   0.0s\n",
            "[CV 3/3] END ...max_depth=15, max_leaf_nodes=30;, score=0.920 total time=   0.0s\n",
            "[CV 1/3] END ....max_depth=17, max_leaf_nodes=2;, score=0.751 total time=   0.0s\n",
            "[CV 2/3] END ....max_depth=17, max_leaf_nodes=2;, score=0.735 total time=   0.0s\n",
            "[CV 3/3] END ....max_depth=17, max_leaf_nodes=2;, score=0.749 total time=   0.0s\n",
            "[CV 1/3] END ....max_depth=17, max_leaf_nodes=3;, score=0.763 total time=   0.0s\n",
            "[CV 2/3] END ....max_depth=17, max_leaf_nodes=3;, score=0.749 total time=   0.0s\n",
            "[CV 3/3] END ....max_depth=17, max_leaf_nodes=3;, score=0.762 total time=   0.0s\n",
            "[CV 1/3] END ....max_depth=17, max_leaf_nodes=4;, score=0.849 total time=   0.0s\n",
            "[CV 2/3] END ....max_depth=17, max_leaf_nodes=4;, score=0.830 total time=   0.0s\n",
            "[CV 3/3] END ....max_depth=17, max_leaf_nodes=4;, score=0.853 total time=   0.0s\n",
            "[CV 1/3] END ....max_depth=17, max_leaf_nodes=5;, score=0.865 total time=   0.0s\n",
            "[CV 2/3] END ....max_depth=17, max_leaf_nodes=5;, score=0.858 total time=   0.0s\n",
            "[CV 3/3] END ....max_depth=17, max_leaf_nodes=5;, score=0.869 total time=   0.0s\n",
            "[CV 1/3] END ....max_depth=17, max_leaf_nodes=6;, score=0.891 total time=   0.0s\n",
            "[CV 2/3] END ....max_depth=17, max_leaf_nodes=6;, score=0.882 total time=   0.0s\n",
            "[CV 3/3] END ....max_depth=17, max_leaf_nodes=6;, score=0.892 total time=   0.0s\n",
            "[CV 1/3] END ....max_depth=17, max_leaf_nodes=7;, score=0.895 total time=   0.0s\n",
            "[CV 2/3] END ....max_depth=17, max_leaf_nodes=7;, score=0.889 total time=   0.0s\n",
            "[CV 3/3] END ....max_depth=17, max_leaf_nodes=7;, score=0.897 total time=   0.0s\n",
            "[CV 1/3] END ....max_depth=17, max_leaf_nodes=8;, score=0.898 total time=   0.0s\n",
            "[CV 2/3] END ....max_depth=17, max_leaf_nodes=8;, score=0.892 total time=   0.0s\n",
            "[CV 3/3] END ....max_depth=17, max_leaf_nodes=8;, score=0.900 total time=   0.0s\n",
            "[CV 1/3] END ....max_depth=17, max_leaf_nodes=9;, score=0.900 total time=   0.0s\n",
            "[CV 2/3] END ....max_depth=17, max_leaf_nodes=9;, score=0.894 total time=   0.0s\n",
            "[CV 3/3] END ....max_depth=17, max_leaf_nodes=9;, score=0.901 total time=   0.0s\n",
            "[CV 1/3] END ...max_depth=17, max_leaf_nodes=10;, score=0.900 total time=   0.0s\n",
            "[CV 2/3] END ...max_depth=17, max_leaf_nodes=10;, score=0.895 total time=   0.0s\n",
            "[CV 3/3] END ...max_depth=17, max_leaf_nodes=10;, score=0.903 total time=   0.0s\n",
            "[CV 1/3] END ...max_depth=17, max_leaf_nodes=11;, score=0.905 total time=   0.0s\n",
            "[CV 2/3] END ...max_depth=17, max_leaf_nodes=11;, score=0.895 total time=   0.0s\n",
            "[CV 3/3] END ...max_depth=17, max_leaf_nodes=11;, score=0.909 total time=   0.0s\n",
            "[CV 1/3] END ...max_depth=17, max_leaf_nodes=12;, score=0.910 total time=   0.0s\n",
            "[CV 2/3] END ...max_depth=17, max_leaf_nodes=12;, score=0.894 total time=   0.0s\n",
            "[CV 3/3] END ...max_depth=17, max_leaf_nodes=12;, score=0.915 total time=   0.0s\n",
            "[CV 1/3] END ...max_depth=17, max_leaf_nodes=13;, score=0.910 total time=   0.0s\n",
            "[CV 2/3] END ...max_depth=17, max_leaf_nodes=13;, score=0.895 total time=   0.0s\n",
            "[CV 3/3] END ...max_depth=17, max_leaf_nodes=13;, score=0.915 total time=   0.0s\n",
            "[CV 1/3] END ...max_depth=17, max_leaf_nodes=14;, score=0.910 total time=   0.0s\n",
            "[CV 2/3] END ...max_depth=17, max_leaf_nodes=14;, score=0.896 total time=   0.0s\n",
            "[CV 3/3] END ...max_depth=17, max_leaf_nodes=14;, score=0.916 total time=   0.0s\n",
            "[CV 1/3] END ...max_depth=17, max_leaf_nodes=15;, score=0.910 total time=   0.0s\n",
            "[CV 2/3] END ...max_depth=17, max_leaf_nodes=15;, score=0.899 total time=   0.0s\n",
            "[CV 3/3] END ...max_depth=17, max_leaf_nodes=15;, score=0.916 total time=   0.0s\n",
            "[CV 1/3] END ...max_depth=17, max_leaf_nodes=16;, score=0.911 total time=   0.0s\n",
            "[CV 2/3] END ...max_depth=17, max_leaf_nodes=16;, score=0.899 total time=   0.0s\n",
            "[CV 3/3] END ...max_depth=17, max_leaf_nodes=16;, score=0.916 total time=   0.0s\n",
            "[CV 1/3] END ...max_depth=17, max_leaf_nodes=17;, score=0.911 total time=   0.0s\n",
            "[CV 2/3] END ...max_depth=17, max_leaf_nodes=17;, score=0.900 total time=   0.0s\n",
            "[CV 3/3] END ...max_depth=17, max_leaf_nodes=17;, score=0.917 total time=   0.0s\n",
            "[CV 1/3] END ...max_depth=17, max_leaf_nodes=18;, score=0.911 total time=   0.0s\n",
            "[CV 2/3] END ...max_depth=17, max_leaf_nodes=18;, score=0.899 total time=   0.0s\n",
            "[CV 3/3] END ...max_depth=17, max_leaf_nodes=18;, score=0.918 total time=   0.0s\n",
            "[CV 1/3] END ...max_depth=17, max_leaf_nodes=19;, score=0.912 total time=   0.0s\n",
            "[CV 2/3] END ...max_depth=17, max_leaf_nodes=19;, score=0.900 total time=   0.0s\n",
            "[CV 3/3] END ...max_depth=17, max_leaf_nodes=19;, score=0.919 total time=   0.0s\n",
            "[CV 1/3] END ...max_depth=17, max_leaf_nodes=20;, score=0.913 total time=   0.0s\n",
            "[CV 2/3] END ...max_depth=17, max_leaf_nodes=20;, score=0.900 total time=   0.0s\n",
            "[CV 3/3] END ...max_depth=17, max_leaf_nodes=20;, score=0.920 total time=   0.0s\n",
            "[CV 1/3] END ...max_depth=17, max_leaf_nodes=21;, score=0.915 total time=   0.0s\n",
            "[CV 2/3] END ...max_depth=17, max_leaf_nodes=21;, score=0.902 total time=   0.0s\n",
            "[CV 3/3] END ...max_depth=17, max_leaf_nodes=21;, score=0.920 total time=   0.0s\n",
            "[CV 1/3] END ...max_depth=17, max_leaf_nodes=22;, score=0.914 total time=   0.0s\n",
            "[CV 2/3] END ...max_depth=17, max_leaf_nodes=22;, score=0.902 total time=   0.0s\n",
            "[CV 3/3] END ...max_depth=17, max_leaf_nodes=22;, score=0.920 total time=   0.0s\n",
            "[CV 1/3] END ...max_depth=17, max_leaf_nodes=23;, score=0.914 total time=   0.0s\n",
            "[CV 2/3] END ...max_depth=17, max_leaf_nodes=23;, score=0.902 total time=   0.0s\n",
            "[CV 3/3] END ...max_depth=17, max_leaf_nodes=23;, score=0.920 total time=   0.0s\n",
            "[CV 1/3] END ...max_depth=17, max_leaf_nodes=24;, score=0.914 total time=   0.0s\n",
            "[CV 2/3] END ...max_depth=17, max_leaf_nodes=24;, score=0.902 total time=   0.0s\n",
            "[CV 3/3] END ...max_depth=17, max_leaf_nodes=24;, score=0.920 total time=   0.0s\n",
            "[CV 1/3] END ...max_depth=17, max_leaf_nodes=25;, score=0.914 total time=   0.0s\n",
            "[CV 2/3] END ...max_depth=17, max_leaf_nodes=25;, score=0.902 total time=   0.0s\n",
            "[CV 3/3] END ...max_depth=17, max_leaf_nodes=25;, score=0.921 total time=   0.0s\n",
            "[CV 1/3] END ...max_depth=17, max_leaf_nodes=26;, score=0.913 total time=   0.0s\n",
            "[CV 2/3] END ...max_depth=17, max_leaf_nodes=26;, score=0.902 total time=   0.0s\n",
            "[CV 3/3] END ...max_depth=17, max_leaf_nodes=26;, score=0.921 total time=   0.0s\n",
            "[CV 1/3] END ...max_depth=17, max_leaf_nodes=27;, score=0.913 total time=   0.0s\n",
            "[CV 2/3] END ...max_depth=17, max_leaf_nodes=27;, score=0.902 total time=   0.0s\n",
            "[CV 3/3] END ...max_depth=17, max_leaf_nodes=27;, score=0.921 total time=   0.0s\n",
            "[CV 1/3] END ...max_depth=17, max_leaf_nodes=28;, score=0.913 total time=   0.0s\n",
            "[CV 2/3] END ...max_depth=17, max_leaf_nodes=28;, score=0.902 total time=   0.0s\n",
            "[CV 3/3] END ...max_depth=17, max_leaf_nodes=28;, score=0.921 total time=   0.0s\n",
            "[CV 1/3] END ...max_depth=17, max_leaf_nodes=29;, score=0.914 total time=   0.0s\n",
            "[CV 2/3] END ...max_depth=17, max_leaf_nodes=29;, score=0.902 total time=   0.0s\n",
            "[CV 3/3] END ...max_depth=17, max_leaf_nodes=29;, score=0.920 total time=   0.0s\n",
            "[CV 1/3] END ...max_depth=17, max_leaf_nodes=30;, score=0.913 total time=   0.0s\n",
            "[CV 2/3] END ...max_depth=17, max_leaf_nodes=30;, score=0.902 total time=   0.0s\n",
            "[CV 3/3] END ...max_depth=17, max_leaf_nodes=30;, score=0.920 total time=   0.0s\n",
            "[CV 1/3] END ....max_depth=19, max_leaf_nodes=2;, score=0.751 total time=   0.0s\n",
            "[CV 2/3] END ....max_depth=19, max_leaf_nodes=2;, score=0.735 total time=   0.0s\n",
            "[CV 3/3] END ....max_depth=19, max_leaf_nodes=2;, score=0.749 total time=   0.0s\n",
            "[CV 1/3] END ....max_depth=19, max_leaf_nodes=3;, score=0.763 total time=   0.0s\n",
            "[CV 2/3] END ....max_depth=19, max_leaf_nodes=3;, score=0.749 total time=   0.0s\n",
            "[CV 3/3] END ....max_depth=19, max_leaf_nodes=3;, score=0.762 total time=   0.0s\n",
            "[CV 1/3] END ....max_depth=19, max_leaf_nodes=4;, score=0.849 total time=   0.0s\n",
            "[CV 2/3] END ....max_depth=19, max_leaf_nodes=4;, score=0.830 total time=   0.0s\n",
            "[CV 3/3] END ....max_depth=19, max_leaf_nodes=4;, score=0.853 total time=   0.0s\n",
            "[CV 1/3] END ....max_depth=19, max_leaf_nodes=5;, score=0.865 total time=   0.0s\n",
            "[CV 2/3] END ....max_depth=19, max_leaf_nodes=5;, score=0.858 total time=   0.0s\n",
            "[CV 3/3] END ....max_depth=19, max_leaf_nodes=5;, score=0.869 total time=   0.0s\n",
            "[CV 1/3] END ....max_depth=19, max_leaf_nodes=6;, score=0.891 total time=   0.0s\n",
            "[CV 2/3] END ....max_depth=19, max_leaf_nodes=6;, score=0.882 total time=   0.0s\n",
            "[CV 3/3] END ....max_depth=19, max_leaf_nodes=6;, score=0.892 total time=   0.0s\n",
            "[CV 1/3] END ....max_depth=19, max_leaf_nodes=7;, score=0.895 total time=   0.0s\n",
            "[CV 2/3] END ....max_depth=19, max_leaf_nodes=7;, score=0.889 total time=   0.0s\n",
            "[CV 3/3] END ....max_depth=19, max_leaf_nodes=7;, score=0.897 total time=   0.0s\n",
            "[CV 1/3] END ....max_depth=19, max_leaf_nodes=8;, score=0.898 total time=   0.0s\n",
            "[CV 2/3] END ....max_depth=19, max_leaf_nodes=8;, score=0.892 total time=   0.0s\n",
            "[CV 3/3] END ....max_depth=19, max_leaf_nodes=8;, score=0.900 total time=   0.0s\n",
            "[CV 1/3] END ....max_depth=19, max_leaf_nodes=9;, score=0.900 total time=   0.0s\n",
            "[CV 2/3] END ....max_depth=19, max_leaf_nodes=9;, score=0.894 total time=   0.0s\n",
            "[CV 3/3] END ....max_depth=19, max_leaf_nodes=9;, score=0.901 total time=   0.0s\n",
            "[CV 1/3] END ...max_depth=19, max_leaf_nodes=10;, score=0.900 total time=   0.0s\n",
            "[CV 2/3] END ...max_depth=19, max_leaf_nodes=10;, score=0.895 total time=   0.0s\n",
            "[CV 3/3] END ...max_depth=19, max_leaf_nodes=10;, score=0.903 total time=   0.0s\n",
            "[CV 1/3] END ...max_depth=19, max_leaf_nodes=11;, score=0.905 total time=   0.0s\n",
            "[CV 2/3] END ...max_depth=19, max_leaf_nodes=11;, score=0.895 total time=   0.0s\n",
            "[CV 3/3] END ...max_depth=19, max_leaf_nodes=11;, score=0.909 total time=   0.0s\n",
            "[CV 1/3] END ...max_depth=19, max_leaf_nodes=12;, score=0.910 total time=   0.0s\n",
            "[CV 2/3] END ...max_depth=19, max_leaf_nodes=12;, score=0.894 total time=   0.0s\n",
            "[CV 3/3] END ...max_depth=19, max_leaf_nodes=12;, score=0.915 total time=   0.0s\n",
            "[CV 1/3] END ...max_depth=19, max_leaf_nodes=13;, score=0.910 total time=   0.0s\n",
            "[CV 2/3] END ...max_depth=19, max_leaf_nodes=13;, score=0.895 total time=   0.0s\n",
            "[CV 3/3] END ...max_depth=19, max_leaf_nodes=13;, score=0.915 total time=   0.0s\n",
            "[CV 1/3] END ...max_depth=19, max_leaf_nodes=14;, score=0.910 total time=   0.0s\n",
            "[CV 2/3] END ...max_depth=19, max_leaf_nodes=14;, score=0.896 total time=   0.0s\n",
            "[CV 3/3] END ...max_depth=19, max_leaf_nodes=14;, score=0.916 total time=   0.0s\n",
            "[CV 1/3] END ...max_depth=19, max_leaf_nodes=15;, score=0.910 total time=   0.0s\n",
            "[CV 2/3] END ...max_depth=19, max_leaf_nodes=15;, score=0.899 total time=   0.0s\n",
            "[CV 3/3] END ...max_depth=19, max_leaf_nodes=15;, score=0.916 total time=   0.0s\n",
            "[CV 1/3] END ...max_depth=19, max_leaf_nodes=16;, score=0.911 total time=   0.0s\n",
            "[CV 2/3] END ...max_depth=19, max_leaf_nodes=16;, score=0.899 total time=   0.0s\n",
            "[CV 3/3] END ...max_depth=19, max_leaf_nodes=16;, score=0.916 total time=   0.0s\n",
            "[CV 1/3] END ...max_depth=19, max_leaf_nodes=17;, score=0.911 total time=   0.0s\n",
            "[CV 2/3] END ...max_depth=19, max_leaf_nodes=17;, score=0.900 total time=   0.0s\n",
            "[CV 3/3] END ...max_depth=19, max_leaf_nodes=17;, score=0.917 total time=   0.0s\n",
            "[CV 1/3] END ...max_depth=19, max_leaf_nodes=18;, score=0.911 total time=   0.0s\n",
            "[CV 2/3] END ...max_depth=19, max_leaf_nodes=18;, score=0.899 total time=   0.0s\n",
            "[CV 3/3] END ...max_depth=19, max_leaf_nodes=18;, score=0.918 total time=   0.0s\n",
            "[CV 1/3] END ...max_depth=19, max_leaf_nodes=19;, score=0.912 total time=   0.0s\n",
            "[CV 2/3] END ...max_depth=19, max_leaf_nodes=19;, score=0.900 total time=   0.0s\n",
            "[CV 3/3] END ...max_depth=19, max_leaf_nodes=19;, score=0.919 total time=   0.0s\n",
            "[CV 1/3] END ...max_depth=19, max_leaf_nodes=20;, score=0.913 total time=   0.0s\n",
            "[CV 2/3] END ...max_depth=19, max_leaf_nodes=20;, score=0.900 total time=   0.0s\n",
            "[CV 3/3] END ...max_depth=19, max_leaf_nodes=20;, score=0.920 total time=   0.0s\n",
            "[CV 1/3] END ...max_depth=19, max_leaf_nodes=21;, score=0.915 total time=   0.0s\n",
            "[CV 2/3] END ...max_depth=19, max_leaf_nodes=21;, score=0.902 total time=   0.0s\n",
            "[CV 3/3] END ...max_depth=19, max_leaf_nodes=21;, score=0.920 total time=   0.0s\n",
            "[CV 1/3] END ...max_depth=19, max_leaf_nodes=22;, score=0.914 total time=   0.0s\n",
            "[CV 2/3] END ...max_depth=19, max_leaf_nodes=22;, score=0.902 total time=   0.0s\n",
            "[CV 3/3] END ...max_depth=19, max_leaf_nodes=22;, score=0.920 total time=   0.0s\n",
            "[CV 1/3] END ...max_depth=19, max_leaf_nodes=23;, score=0.914 total time=   0.0s\n",
            "[CV 2/3] END ...max_depth=19, max_leaf_nodes=23;, score=0.902 total time=   0.0s\n",
            "[CV 3/3] END ...max_depth=19, max_leaf_nodes=23;, score=0.920 total time=   0.0s\n",
            "[CV 1/3] END ...max_depth=19, max_leaf_nodes=24;, score=0.914 total time=   0.0s\n",
            "[CV 2/3] END ...max_depth=19, max_leaf_nodes=24;, score=0.902 total time=   0.0s\n",
            "[CV 3/3] END ...max_depth=19, max_leaf_nodes=24;, score=0.920 total time=   0.0s\n",
            "[CV 1/3] END ...max_depth=19, max_leaf_nodes=25;, score=0.914 total time=   0.0s\n",
            "[CV 2/3] END ...max_depth=19, max_leaf_nodes=25;, score=0.902 total time=   0.1s\n",
            "[CV 3/3] END ...max_depth=19, max_leaf_nodes=25;, score=0.921 total time=   0.0s\n",
            "[CV 1/3] END ...max_depth=19, max_leaf_nodes=26;, score=0.913 total time=   0.0s\n",
            "[CV 2/3] END ...max_depth=19, max_leaf_nodes=26;, score=0.902 total time=   0.0s\n",
            "[CV 3/3] END ...max_depth=19, max_leaf_nodes=26;, score=0.921 total time=   0.0s\n",
            "[CV 1/3] END ...max_depth=19, max_leaf_nodes=27;, score=0.913 total time=   0.0s\n",
            "[CV 2/3] END ...max_depth=19, max_leaf_nodes=27;, score=0.902 total time=   0.0s\n",
            "[CV 3/3] END ...max_depth=19, max_leaf_nodes=27;, score=0.921 total time=   0.0s\n",
            "[CV 1/3] END ...max_depth=19, max_leaf_nodes=28;, score=0.913 total time=   0.0s\n",
            "[CV 2/3] END ...max_depth=19, max_leaf_nodes=28;, score=0.902 total time=   0.0s\n",
            "[CV 3/3] END ...max_depth=19, max_leaf_nodes=28;, score=0.921 total time=   0.1s\n",
            "[CV 1/3] END ...max_depth=19, max_leaf_nodes=29;, score=0.914 total time=   0.0s\n",
            "[CV 2/3] END ...max_depth=19, max_leaf_nodes=29;, score=0.902 total time=   0.0s\n",
            "[CV 3/3] END ...max_depth=19, max_leaf_nodes=29;, score=0.920 total time=   0.0s\n",
            "[CV 1/3] END ...max_depth=19, max_leaf_nodes=30;, score=0.913 total time=   0.0s\n",
            "[CV 2/3] END ...max_depth=19, max_leaf_nodes=30;, score=0.902 total time=   0.0s\n",
            "[CV 3/3] END ...max_depth=19, max_leaf_nodes=30;, score=0.920 total time=   0.0s\n"
          ]
        },
        {
          "output_type": "execute_result",
          "data": {
            "text/plain": [
              "GridSearchCV(cv=3, estimator=DecisionTreeClassifier(random_state=42),\n",
              "             param_grid={'max_depth': array([ 1,  3,  5,  7,  9, 11, 13, 15, 17, 19]),\n",
              "                         'max_leaf_nodes': array([ 2,  3,  4,  5,  6,  7,  8,  9, 10, 11, 12, 13, 14, 15, 16, 17, 18,\n",
              "       19, 20, 21, 22, 23, 24, 25, 26, 27, 28, 29, 30])},\n",
              "             scoring='roc_auc', verbose=3)"
            ],
            "text/html": [
              "<style>#sk-container-id-6 {color: black;background-color: white;}#sk-container-id-6 pre{padding: 0;}#sk-container-id-6 div.sk-toggleable {background-color: white;}#sk-container-id-6 label.sk-toggleable__label {cursor: pointer;display: block;width: 100%;margin-bottom: 0;padding: 0.3em;box-sizing: border-box;text-align: center;}#sk-container-id-6 label.sk-toggleable__label-arrow:before {content: \"▸\";float: left;margin-right: 0.25em;color: #696969;}#sk-container-id-6 label.sk-toggleable__label-arrow:hover:before {color: black;}#sk-container-id-6 div.sk-estimator:hover label.sk-toggleable__label-arrow:before {color: black;}#sk-container-id-6 div.sk-toggleable__content {max-height: 0;max-width: 0;overflow: hidden;text-align: left;background-color: #f0f8ff;}#sk-container-id-6 div.sk-toggleable__content pre {margin: 0.2em;color: black;border-radius: 0.25em;background-color: #f0f8ff;}#sk-container-id-6 input.sk-toggleable__control:checked~div.sk-toggleable__content {max-height: 200px;max-width: 100%;overflow: auto;}#sk-container-id-6 input.sk-toggleable__control:checked~label.sk-toggleable__label-arrow:before {content: \"▾\";}#sk-container-id-6 div.sk-estimator input.sk-toggleable__control:checked~label.sk-toggleable__label {background-color: #d4ebff;}#sk-container-id-6 div.sk-label input.sk-toggleable__control:checked~label.sk-toggleable__label {background-color: #d4ebff;}#sk-container-id-6 input.sk-hidden--visually {border: 0;clip: rect(1px 1px 1px 1px);clip: rect(1px, 1px, 1px, 1px);height: 1px;margin: -1px;overflow: hidden;padding: 0;position: absolute;width: 1px;}#sk-container-id-6 div.sk-estimator {font-family: monospace;background-color: #f0f8ff;border: 1px dotted black;border-radius: 0.25em;box-sizing: border-box;margin-bottom: 0.5em;}#sk-container-id-6 div.sk-estimator:hover {background-color: #d4ebff;}#sk-container-id-6 div.sk-parallel-item::after {content: \"\";width: 100%;border-bottom: 1px solid gray;flex-grow: 1;}#sk-container-id-6 div.sk-label:hover label.sk-toggleable__label {background-color: #d4ebff;}#sk-container-id-6 div.sk-serial::before {content: \"\";position: absolute;border-left: 1px solid gray;box-sizing: border-box;top: 0;bottom: 0;left: 50%;z-index: 0;}#sk-container-id-6 div.sk-serial {display: flex;flex-direction: column;align-items: center;background-color: white;padding-right: 0.2em;padding-left: 0.2em;position: relative;}#sk-container-id-6 div.sk-item {position: relative;z-index: 1;}#sk-container-id-6 div.sk-parallel {display: flex;align-items: stretch;justify-content: center;background-color: white;position: relative;}#sk-container-id-6 div.sk-item::before, #sk-container-id-6 div.sk-parallel-item::before {content: \"\";position: absolute;border-left: 1px solid gray;box-sizing: border-box;top: 0;bottom: 0;left: 50%;z-index: -1;}#sk-container-id-6 div.sk-parallel-item {display: flex;flex-direction: column;z-index: 1;position: relative;background-color: white;}#sk-container-id-6 div.sk-parallel-item:first-child::after {align-self: flex-end;width: 50%;}#sk-container-id-6 div.sk-parallel-item:last-child::after {align-self: flex-start;width: 50%;}#sk-container-id-6 div.sk-parallel-item:only-child::after {width: 0;}#sk-container-id-6 div.sk-dashed-wrapped {border: 1px dashed gray;margin: 0 0.4em 0.5em 0.4em;box-sizing: border-box;padding-bottom: 0.4em;background-color: white;}#sk-container-id-6 div.sk-label label {font-family: monospace;font-weight: bold;display: inline-block;line-height: 1.2em;}#sk-container-id-6 div.sk-label-container {text-align: center;}#sk-container-id-6 div.sk-container {/* jupyter's `normalize.less` sets `[hidden] { display: none; }` but bootstrap.min.css set `[hidden] { display: none !important; }` so we also need the `!important` here to be able to override the default hidden behavior on the sphinx rendered scikit-learn.org. See: https://github.com/scikit-learn/scikit-learn/issues/21755 */display: inline-block !important;position: relative;}#sk-container-id-6 div.sk-text-repr-fallback {display: none;}</style><div id=\"sk-container-id-6\" class=\"sk-top-container\"><div class=\"sk-text-repr-fallback\"><pre>GridSearchCV(cv=3, estimator=DecisionTreeClassifier(random_state=42),\n",
              "             param_grid={&#x27;max_depth&#x27;: array([ 1,  3,  5,  7,  9, 11, 13, 15, 17, 19]),\n",
              "                         &#x27;max_leaf_nodes&#x27;: array([ 2,  3,  4,  5,  6,  7,  8,  9, 10, 11, 12, 13, 14, 15, 16, 17, 18,\n",
              "       19, 20, 21, 22, 23, 24, 25, 26, 27, 28, 29, 30])},\n",
              "             scoring=&#x27;roc_auc&#x27;, verbose=3)</pre><b>In a Jupyter environment, please rerun this cell to show the HTML representation or trust the notebook. <br />On GitHub, the HTML representation is unable to render, please try loading this page with nbviewer.org.</b></div><div class=\"sk-container\" hidden><div class=\"sk-item sk-dashed-wrapped\"><div class=\"sk-label-container\"><div class=\"sk-label sk-toggleable\"><input class=\"sk-toggleable__control sk-hidden--visually\" id=\"sk-estimator-id-10\" type=\"checkbox\" ><label for=\"sk-estimator-id-10\" class=\"sk-toggleable__label sk-toggleable__label-arrow\">GridSearchCV</label><div class=\"sk-toggleable__content\"><pre>GridSearchCV(cv=3, estimator=DecisionTreeClassifier(random_state=42),\n",
              "             param_grid={&#x27;max_depth&#x27;: array([ 1,  3,  5,  7,  9, 11, 13, 15, 17, 19]),\n",
              "                         &#x27;max_leaf_nodes&#x27;: array([ 2,  3,  4,  5,  6,  7,  8,  9, 10, 11, 12, 13, 14, 15, 16, 17, 18,\n",
              "       19, 20, 21, 22, 23, 24, 25, 26, 27, 28, 29, 30])},\n",
              "             scoring=&#x27;roc_auc&#x27;, verbose=3)</pre></div></div></div><div class=\"sk-parallel\"><div class=\"sk-parallel-item\"><div class=\"sk-item\"><div class=\"sk-label-container\"><div class=\"sk-label sk-toggleable\"><input class=\"sk-toggleable__control sk-hidden--visually\" id=\"sk-estimator-id-11\" type=\"checkbox\" ><label for=\"sk-estimator-id-11\" class=\"sk-toggleable__label sk-toggleable__label-arrow\">estimator: DecisionTreeClassifier</label><div class=\"sk-toggleable__content\"><pre>DecisionTreeClassifier(random_state=42)</pre></div></div></div><div class=\"sk-serial\"><div class=\"sk-item\"><div class=\"sk-estimator sk-toggleable\"><input class=\"sk-toggleable__control sk-hidden--visually\" id=\"sk-estimator-id-12\" type=\"checkbox\" ><label for=\"sk-estimator-id-12\" class=\"sk-toggleable__label sk-toggleable__label-arrow\">DecisionTreeClassifier</label><div class=\"sk-toggleable__content\"><pre>DecisionTreeClassifier(random_state=42)</pre></div></div></div></div></div></div></div></div></div></div>"
            ]
          },
          "metadata": {},
          "execution_count": 22
        }
      ]
    },
    {
      "cell_type": "code",
      "source": [
        "#найкращі значення параметра\n",
        "tree_gs_1.best_params_"
      ],
      "metadata": {
        "colab": {
          "base_uri": "https://localhost:8080/"
        },
        "id": "2sRUjNdh2bkU",
        "outputId": "53a36be1-69c1-4b8c-9c0e-0f408467e92c"
      },
      "execution_count": 23,
      "outputs": [
        {
          "output_type": "execute_result",
          "data": {
            "text/plain": [
              "{'max_depth': 5, 'max_leaf_nodes': 23}"
            ]
          },
          "metadata": {},
          "execution_count": 23
        }
      ]
    },
    {
      "cell_type": "code",
      "source": [
        "dt_best_1 = DecisionTreeClassifier(max_depth=5, max_leaf_nodes=23, random_state=42)\n",
        "dt_best_1.fit(X_train, train_targets)"
      ],
      "metadata": {
        "colab": {
          "base_uri": "https://localhost:8080/",
          "height": 0
        },
        "id": "Z8LdjvZa24H7",
        "outputId": "94e1e304-a655-436f-ebe9-fb9f72e3c8c6"
      },
      "execution_count": 24,
      "outputs": [
        {
          "output_type": "execute_result",
          "data": {
            "text/plain": [
              "DecisionTreeClassifier(max_depth=5, max_leaf_nodes=23, random_state=42)"
            ],
            "text/html": [
              "<style>#sk-container-id-7 {color: black;background-color: white;}#sk-container-id-7 pre{padding: 0;}#sk-container-id-7 div.sk-toggleable {background-color: white;}#sk-container-id-7 label.sk-toggleable__label {cursor: pointer;display: block;width: 100%;margin-bottom: 0;padding: 0.3em;box-sizing: border-box;text-align: center;}#sk-container-id-7 label.sk-toggleable__label-arrow:before {content: \"▸\";float: left;margin-right: 0.25em;color: #696969;}#sk-container-id-7 label.sk-toggleable__label-arrow:hover:before {color: black;}#sk-container-id-7 div.sk-estimator:hover label.sk-toggleable__label-arrow:before {color: black;}#sk-container-id-7 div.sk-toggleable__content {max-height: 0;max-width: 0;overflow: hidden;text-align: left;background-color: #f0f8ff;}#sk-container-id-7 div.sk-toggleable__content pre {margin: 0.2em;color: black;border-radius: 0.25em;background-color: #f0f8ff;}#sk-container-id-7 input.sk-toggleable__control:checked~div.sk-toggleable__content {max-height: 200px;max-width: 100%;overflow: auto;}#sk-container-id-7 input.sk-toggleable__control:checked~label.sk-toggleable__label-arrow:before {content: \"▾\";}#sk-container-id-7 div.sk-estimator input.sk-toggleable__control:checked~label.sk-toggleable__label {background-color: #d4ebff;}#sk-container-id-7 div.sk-label input.sk-toggleable__control:checked~label.sk-toggleable__label {background-color: #d4ebff;}#sk-container-id-7 input.sk-hidden--visually {border: 0;clip: rect(1px 1px 1px 1px);clip: rect(1px, 1px, 1px, 1px);height: 1px;margin: -1px;overflow: hidden;padding: 0;position: absolute;width: 1px;}#sk-container-id-7 div.sk-estimator {font-family: monospace;background-color: #f0f8ff;border: 1px dotted black;border-radius: 0.25em;box-sizing: border-box;margin-bottom: 0.5em;}#sk-container-id-7 div.sk-estimator:hover {background-color: #d4ebff;}#sk-container-id-7 div.sk-parallel-item::after {content: \"\";width: 100%;border-bottom: 1px solid gray;flex-grow: 1;}#sk-container-id-7 div.sk-label:hover label.sk-toggleable__label {background-color: #d4ebff;}#sk-container-id-7 div.sk-serial::before {content: \"\";position: absolute;border-left: 1px solid gray;box-sizing: border-box;top: 0;bottom: 0;left: 50%;z-index: 0;}#sk-container-id-7 div.sk-serial {display: flex;flex-direction: column;align-items: center;background-color: white;padding-right: 0.2em;padding-left: 0.2em;position: relative;}#sk-container-id-7 div.sk-item {position: relative;z-index: 1;}#sk-container-id-7 div.sk-parallel {display: flex;align-items: stretch;justify-content: center;background-color: white;position: relative;}#sk-container-id-7 div.sk-item::before, #sk-container-id-7 div.sk-parallel-item::before {content: \"\";position: absolute;border-left: 1px solid gray;box-sizing: border-box;top: 0;bottom: 0;left: 50%;z-index: -1;}#sk-container-id-7 div.sk-parallel-item {display: flex;flex-direction: column;z-index: 1;position: relative;background-color: white;}#sk-container-id-7 div.sk-parallel-item:first-child::after {align-self: flex-end;width: 50%;}#sk-container-id-7 div.sk-parallel-item:last-child::after {align-self: flex-start;width: 50%;}#sk-container-id-7 div.sk-parallel-item:only-child::after {width: 0;}#sk-container-id-7 div.sk-dashed-wrapped {border: 1px dashed gray;margin: 0 0.4em 0.5em 0.4em;box-sizing: border-box;padding-bottom: 0.4em;background-color: white;}#sk-container-id-7 div.sk-label label {font-family: monospace;font-weight: bold;display: inline-block;line-height: 1.2em;}#sk-container-id-7 div.sk-label-container {text-align: center;}#sk-container-id-7 div.sk-container {/* jupyter's `normalize.less` sets `[hidden] { display: none; }` but bootstrap.min.css set `[hidden] { display: none !important; }` so we also need the `!important` here to be able to override the default hidden behavior on the sphinx rendered scikit-learn.org. See: https://github.com/scikit-learn/scikit-learn/issues/21755 */display: inline-block !important;position: relative;}#sk-container-id-7 div.sk-text-repr-fallback {display: none;}</style><div id=\"sk-container-id-7\" class=\"sk-top-container\"><div class=\"sk-text-repr-fallback\"><pre>DecisionTreeClassifier(max_depth=5, max_leaf_nodes=23, random_state=42)</pre><b>In a Jupyter environment, please rerun this cell to show the HTML representation or trust the notebook. <br />On GitHub, the HTML representation is unable to render, please try loading this page with nbviewer.org.</b></div><div class=\"sk-container\" hidden><div class=\"sk-item\"><div class=\"sk-estimator sk-toggleable\"><input class=\"sk-toggleable__control sk-hidden--visually\" id=\"sk-estimator-id-13\" type=\"checkbox\" checked><label for=\"sk-estimator-id-13\" class=\"sk-toggleable__label sk-toggleable__label-arrow\">DecisionTreeClassifier</label><div class=\"sk-toggleable__content\"><pre>DecisionTreeClassifier(max_depth=5, max_leaf_nodes=23, random_state=42)</pre></div></div></div></div></div>"
            ]
          },
          "metadata": {},
          "execution_count": 24
        }
      ]
    },
    {
      "cell_type": "code",
      "source": [
        "#оцінка якості моделі dt_best\n",
        "count_auroc(dt_best_1, X_train, X_val, train_targets, val_targets)"
      ],
      "metadata": {
        "colab": {
          "base_uri": "https://localhost:8080/"
        },
        "id": "XimYAR5R3EW2",
        "outputId": "e39d29d8-74cd-4fbb-f582-9dd5b9ce44cb"
      },
      "execution_count": 25,
      "outputs": [
        {
          "output_type": "stream",
          "name": "stdout",
          "text": [
            "Train AUC: 0.9217\n",
            "Validation AUC: 0.9196\n"
          ]
        },
        {
          "output_type": "execute_result",
          "data": {
            "text/plain": [
              "(0.9217176001545118, 0.9195857054667671)"
            ]
          },
          "metadata": {},
          "execution_count": 25
        }
      ]
    },
    {
      "cell_type": "markdown",
      "source": [
        "###модель за вручну підібраними обома параметрами"
      ],
      "metadata": {
        "id": "j0zX10HW8-cT"
      }
    },
    {
      "cell_type": "markdown",
      "source": [
        "Ручний пошук найкращого параметру для max_leaf_nodes для моделі з max_depth=5"
      ],
      "metadata": {
        "id": "NtpMcBsE-0Vi"
      }
    },
    {
      "cell_type": "code",
      "source": [
        "errors_df = pd.DataFrame([max_leaf_node_error(ln, X_train, X_val, train_targets, val_targets) for ln in range(2, 32)])"
      ],
      "metadata": {
        "colab": {
          "base_uri": "https://localhost:8080/"
        },
        "collapsed": true,
        "id": "BiBnwucI-5CK",
        "outputId": "af9ec5b9-5fee-442f-d939-f7a255d98040"
      },
      "execution_count": 26,
      "outputs": [
        {
          "output_type": "stream",
          "name": "stdout",
          "text": [
            "Train AUC: 0.7450\n",
            "Validation AUC: 0.7337\n",
            "Train AUC: 0.7579\n",
            "Validation AUC: 0.7491\n",
            "Train AUC: 0.8438\n",
            "Validation AUC: 0.8431\n",
            "Train AUC: 0.8672\n",
            "Validation AUC: 0.8660\n",
            "Train AUC: 0.8893\n",
            "Validation AUC: 0.8862\n",
            "Train AUC: 0.8954\n",
            "Validation AUC: 0.8909\n",
            "Train AUC: 0.8986\n",
            "Validation AUC: 0.8937\n",
            "Train AUC: 0.9003\n",
            "Validation AUC: 0.8951\n",
            "Train AUC: 0.9018\n",
            "Validation AUC: 0.8960\n",
            "Train AUC: 0.9061\n",
            "Validation AUC: 0.9025\n",
            "Train AUC: 0.9101\n",
            "Validation AUC: 0.9078\n",
            "Train AUC: 0.9112\n",
            "Validation AUC: 0.9085\n",
            "Train AUC: 0.9118\n",
            "Validation AUC: 0.9092\n",
            "Train AUC: 0.9124\n",
            "Validation AUC: 0.9098\n",
            "Train AUC: 0.9127\n",
            "Validation AUC: 0.9105\n",
            "Train AUC: 0.9134\n",
            "Validation AUC: 0.9107\n",
            "Train AUC: 0.9149\n",
            "Validation AUC: 0.9127\n",
            "Train AUC: 0.9156\n",
            "Validation AUC: 0.9133\n",
            "Train AUC: 0.9157\n",
            "Validation AUC: 0.9134\n",
            "Train AUC: 0.9212\n",
            "Validation AUC: 0.9181\n",
            "Train AUC: 0.9216\n",
            "Validation AUC: 0.9192\n",
            "Train AUC: 0.9217\n",
            "Validation AUC: 0.9196\n",
            "Train AUC: 0.9221\n",
            "Validation AUC: 0.9199\n",
            "Train AUC: 0.9222\n",
            "Validation AUC: 0.9199\n",
            "Train AUC: 0.9244\n",
            "Validation AUC: 0.9222\n",
            "Train AUC: 0.9244\n",
            "Validation AUC: 0.9223\n",
            "Train AUC: 0.9244\n",
            "Validation AUC: 0.9225\n",
            "Train AUC: 0.9245\n",
            "Validation AUC: 0.9224\n",
            "Train AUC: 0.9245\n",
            "Validation AUC: 0.9224\n",
            "Train AUC: 0.9246\n",
            "Validation AUC: 0.9224\n"
          ]
        }
      ]
    },
    {
      "cell_type": "code",
      "source": [
        "errors_df.style.background_gradient(subset='Validation AUROC', cmap='Blues')"
      ],
      "metadata": {
        "colab": {
          "base_uri": "https://localhost:8080/",
          "height": 990
        },
        "id": "xKNvQLwH-8d_",
        "outputId": "0aad70bd-df45-4d6f-eee5-78733c615dd6"
      },
      "execution_count": 27,
      "outputs": [
        {
          "output_type": "execute_result",
          "data": {
            "text/plain": [
              "<pandas.io.formats.style.Styler at 0x7d00e010ef80>"
            ],
            "text/html": [
              "<style type=\"text/css\">\n",
              "#T_5995e_row0_col2 {\n",
              "  background-color: #f7fbff;\n",
              "  color: #000000;\n",
              "}\n",
              "#T_5995e_row1_col2 {\n",
              "  background-color: #e7f1fa;\n",
              "  color: #000000;\n",
              "}\n",
              "#T_5995e_row2_col2 {\n",
              "  background-color: #519ccc;\n",
              "  color: #f1f1f1;\n",
              "}\n",
              "#T_5995e_row3_col2 {\n",
              "  background-color: #2e7ebc;\n",
              "  color: #f1f1f1;\n",
              "}\n",
              "#T_5995e_row4_col2 {\n",
              "  background-color: #1562a9;\n",
              "  color: #f1f1f1;\n",
              "}\n",
              "#T_5995e_row5_col2 {\n",
              "  background-color: #105ba4;\n",
              "  color: #f1f1f1;\n",
              "}\n",
              "#T_5995e_row6_col2 {\n",
              "  background-color: #0e58a2;\n",
              "  color: #f1f1f1;\n",
              "}\n",
              "#T_5995e_row7_col2 {\n",
              "  background-color: #0c56a0;\n",
              "  color: #f1f1f1;\n",
              "}\n",
              "#T_5995e_row8_col2 {\n",
              "  background-color: #0b559f;\n",
              "  color: #f1f1f1;\n",
              "}\n",
              "#T_5995e_row9_col2 {\n",
              "  background-color: #084c95;\n",
              "  color: #f1f1f1;\n",
              "}\n",
              "#T_5995e_row10_col2, #T_5995e_row11_col2 {\n",
              "  background-color: #084488;\n",
              "  color: #f1f1f1;\n",
              "}\n",
              "#T_5995e_row12_col2 {\n",
              "  background-color: #084387;\n",
              "  color: #f1f1f1;\n",
              "}\n",
              "#T_5995e_row13_col2 {\n",
              "  background-color: #084285;\n",
              "  color: #f1f1f1;\n",
              "}\n",
              "#T_5995e_row14_col2, #T_5995e_row15_col2 {\n",
              "  background-color: #084184;\n",
              "  color: #f1f1f1;\n",
              "}\n",
              "#T_5995e_row16_col2 {\n",
              "  background-color: #083d7f;\n",
              "  color: #f1f1f1;\n",
              "}\n",
              "#T_5995e_row17_col2, #T_5995e_row18_col2 {\n",
              "  background-color: #083c7d;\n",
              "  color: #f1f1f1;\n",
              "}\n",
              "#T_5995e_row19_col2 {\n",
              "  background-color: #083674;\n",
              "  color: #f1f1f1;\n",
              "}\n",
              "#T_5995e_row20_col2 {\n",
              "  background-color: #083471;\n",
              "  color: #f1f1f1;\n",
              "}\n",
              "#T_5995e_row21_col2, #T_5995e_row22_col2, #T_5995e_row23_col2 {\n",
              "  background-color: #083370;\n",
              "  color: #f1f1f1;\n",
              "}\n",
              "#T_5995e_row24_col2, #T_5995e_row25_col2, #T_5995e_row26_col2, #T_5995e_row27_col2, #T_5995e_row28_col2, #T_5995e_row29_col2 {\n",
              "  background-color: #08306b;\n",
              "  color: #f1f1f1;\n",
              "}\n",
              "</style>\n",
              "<table id=\"T_5995e\" class=\"dataframe\">\n",
              "  <thead>\n",
              "    <tr>\n",
              "      <th class=\"blank level0\" >&nbsp;</th>\n",
              "      <th id=\"T_5995e_level0_col0\" class=\"col_heading level0 col0\" >Maxmax_leaf_nodes</th>\n",
              "      <th id=\"T_5995e_level0_col1\" class=\"col_heading level0 col1\" >Training AUROC</th>\n",
              "      <th id=\"T_5995e_level0_col2\" class=\"col_heading level0 col2\" >Validation AUROC</th>\n",
              "    </tr>\n",
              "  </thead>\n",
              "  <tbody>\n",
              "    <tr>\n",
              "      <th id=\"T_5995e_level0_row0\" class=\"row_heading level0 row0\" >0</th>\n",
              "      <td id=\"T_5995e_row0_col0\" class=\"data row0 col0\" >2</td>\n",
              "      <td id=\"T_5995e_row0_col1\" class=\"data row0 col1\" >0.745005</td>\n",
              "      <td id=\"T_5995e_row0_col2\" class=\"data row0 col2\" >0.733747</td>\n",
              "    </tr>\n",
              "    <tr>\n",
              "      <th id=\"T_5995e_level0_row1\" class=\"row_heading level0 row1\" >1</th>\n",
              "      <td id=\"T_5995e_row1_col0\" class=\"data row1 col0\" >3</td>\n",
              "      <td id=\"T_5995e_row1_col1\" class=\"data row1 col1\" >0.757899</td>\n",
              "      <td id=\"T_5995e_row1_col2\" class=\"data row1 col2\" >0.749134</td>\n",
              "    </tr>\n",
              "    <tr>\n",
              "      <th id=\"T_5995e_level0_row2\" class=\"row_heading level0 row2\" >2</th>\n",
              "      <td id=\"T_5995e_row2_col0\" class=\"data row2 col0\" >4</td>\n",
              "      <td id=\"T_5995e_row2_col1\" class=\"data row2 col1\" >0.843844</td>\n",
              "      <td id=\"T_5995e_row2_col2\" class=\"data row2 col2\" >0.843126</td>\n",
              "    </tr>\n",
              "    <tr>\n",
              "      <th id=\"T_5995e_level0_row3\" class=\"row_heading level0 row3\" >3</th>\n",
              "      <td id=\"T_5995e_row3_col0\" class=\"data row3 col0\" >5</td>\n",
              "      <td id=\"T_5995e_row3_col1\" class=\"data row3 col1\" >0.867172</td>\n",
              "      <td id=\"T_5995e_row3_col2\" class=\"data row3 col2\" >0.866031</td>\n",
              "    </tr>\n",
              "    <tr>\n",
              "      <th id=\"T_5995e_level0_row4\" class=\"row_heading level0 row4\" >4</th>\n",
              "      <td id=\"T_5995e_row4_col0\" class=\"data row4 col0\" >6</td>\n",
              "      <td id=\"T_5995e_row4_col1\" class=\"data row4 col1\" >0.889262</td>\n",
              "      <td id=\"T_5995e_row4_col2\" class=\"data row4 col2\" >0.886170</td>\n",
              "    </tr>\n",
              "    <tr>\n",
              "      <th id=\"T_5995e_level0_row5\" class=\"row_heading level0 row5\" >5</th>\n",
              "      <td id=\"T_5995e_row5_col0\" class=\"data row5 col0\" >7</td>\n",
              "      <td id=\"T_5995e_row5_col1\" class=\"data row5 col1\" >0.895389</td>\n",
              "      <td id=\"T_5995e_row5_col2\" class=\"data row5 col2\" >0.890937</td>\n",
              "    </tr>\n",
              "    <tr>\n",
              "      <th id=\"T_5995e_level0_row6\" class=\"row_heading level0 row6\" >6</th>\n",
              "      <td id=\"T_5995e_row6_col0\" class=\"data row6 col0\" >8</td>\n",
              "      <td id=\"T_5995e_row6_col1\" class=\"data row6 col1\" >0.898620</td>\n",
              "      <td id=\"T_5995e_row6_col2\" class=\"data row6 col2\" >0.893736</td>\n",
              "    </tr>\n",
              "    <tr>\n",
              "      <th id=\"T_5995e_level0_row7\" class=\"row_heading level0 row7\" >7</th>\n",
              "      <td id=\"T_5995e_row7_col0\" class=\"data row7 col0\" >9</td>\n",
              "      <td id=\"T_5995e_row7_col1\" class=\"data row7 col1\" >0.900323</td>\n",
              "      <td id=\"T_5995e_row7_col2\" class=\"data row7 col2\" >0.895097</td>\n",
              "    </tr>\n",
              "    <tr>\n",
              "      <th id=\"T_5995e_level0_row8\" class=\"row_heading level0 row8\" >8</th>\n",
              "      <td id=\"T_5995e_row8_col0\" class=\"data row8 col0\" >10</td>\n",
              "      <td id=\"T_5995e_row8_col1\" class=\"data row8 col1\" >0.901830</td>\n",
              "      <td id=\"T_5995e_row8_col2\" class=\"data row8 col2\" >0.895964</td>\n",
              "    </tr>\n",
              "    <tr>\n",
              "      <th id=\"T_5995e_level0_row9\" class=\"row_heading level0 row9\" >9</th>\n",
              "      <td id=\"T_5995e_row9_col0\" class=\"data row9 col0\" >11</td>\n",
              "      <td id=\"T_5995e_row9_col1\" class=\"data row9 col1\" >0.906137</td>\n",
              "      <td id=\"T_5995e_row9_col2\" class=\"data row9 col2\" >0.902522</td>\n",
              "    </tr>\n",
              "    <tr>\n",
              "      <th id=\"T_5995e_level0_row10\" class=\"row_heading level0 row10\" >10</th>\n",
              "      <td id=\"T_5995e_row10_col0\" class=\"data row10 col0\" >12</td>\n",
              "      <td id=\"T_5995e_row10_col1\" class=\"data row10 col1\" >0.910146</td>\n",
              "      <td id=\"T_5995e_row10_col2\" class=\"data row10 col2\" >0.907784</td>\n",
              "    </tr>\n",
              "    <tr>\n",
              "      <th id=\"T_5995e_level0_row11\" class=\"row_heading level0 row11\" >11</th>\n",
              "      <td id=\"T_5995e_row11_col0\" class=\"data row11 col0\" >13</td>\n",
              "      <td id=\"T_5995e_row11_col1\" class=\"data row11 col1\" >0.911188</td>\n",
              "      <td id=\"T_5995e_row11_col2\" class=\"data row11 col2\" >0.908499</td>\n",
              "    </tr>\n",
              "    <tr>\n",
              "      <th id=\"T_5995e_level0_row12\" class=\"row_heading level0 row12\" >12</th>\n",
              "      <td id=\"T_5995e_row12_col0\" class=\"data row12 col0\" >14</td>\n",
              "      <td id=\"T_5995e_row12_col1\" class=\"data row12 col1\" >0.911789</td>\n",
              "      <td id=\"T_5995e_row12_col2\" class=\"data row12 col2\" >0.909238</td>\n",
              "    </tr>\n",
              "    <tr>\n",
              "      <th id=\"T_5995e_level0_row13\" class=\"row_heading level0 row13\" >13</th>\n",
              "      <td id=\"T_5995e_row13_col0\" class=\"data row13 col0\" >15</td>\n",
              "      <td id=\"T_5995e_row13_col1\" class=\"data row13 col1\" >0.912372</td>\n",
              "      <td id=\"T_5995e_row13_col2\" class=\"data row13 col2\" >0.909789</td>\n",
              "    </tr>\n",
              "    <tr>\n",
              "      <th id=\"T_5995e_level0_row14\" class=\"row_heading level0 row14\" >14</th>\n",
              "      <td id=\"T_5995e_row14_col0\" class=\"data row14 col0\" >16</td>\n",
              "      <td id=\"T_5995e_row14_col1\" class=\"data row14 col1\" >0.912722</td>\n",
              "      <td id=\"T_5995e_row14_col2\" class=\"data row14 col2\" >0.910496</td>\n",
              "    </tr>\n",
              "    <tr>\n",
              "      <th id=\"T_5995e_level0_row15\" class=\"row_heading level0 row15\" >15</th>\n",
              "      <td id=\"T_5995e_row15_col0\" class=\"data row15 col0\" >17</td>\n",
              "      <td id=\"T_5995e_row15_col1\" class=\"data row15 col1\" >0.913375</td>\n",
              "      <td id=\"T_5995e_row15_col2\" class=\"data row15 col2\" >0.910693</td>\n",
              "    </tr>\n",
              "    <tr>\n",
              "      <th id=\"T_5995e_level0_row16\" class=\"row_heading level0 row16\" >16</th>\n",
              "      <td id=\"T_5995e_row16_col0\" class=\"data row16 col0\" >18</td>\n",
              "      <td id=\"T_5995e_row16_col1\" class=\"data row16 col1\" >0.914926</td>\n",
              "      <td id=\"T_5995e_row16_col2\" class=\"data row16 col2\" >0.912731</td>\n",
              "    </tr>\n",
              "    <tr>\n",
              "      <th id=\"T_5995e_level0_row17\" class=\"row_heading level0 row17\" >17</th>\n",
              "      <td id=\"T_5995e_row17_col0\" class=\"data row17 col0\" >19</td>\n",
              "      <td id=\"T_5995e_row17_col1\" class=\"data row17 col1\" >0.915552</td>\n",
              "      <td id=\"T_5995e_row17_col2\" class=\"data row17 col2\" >0.913305</td>\n",
              "    </tr>\n",
              "    <tr>\n",
              "      <th id=\"T_5995e_level0_row18\" class=\"row_heading level0 row18\" >18</th>\n",
              "      <td id=\"T_5995e_row18_col0\" class=\"data row18 col0\" >20</td>\n",
              "      <td id=\"T_5995e_row18_col1\" class=\"data row18 col1\" >0.915744</td>\n",
              "      <td id=\"T_5995e_row18_col2\" class=\"data row18 col2\" >0.913430</td>\n",
              "    </tr>\n",
              "    <tr>\n",
              "      <th id=\"T_5995e_level0_row19\" class=\"row_heading level0 row19\" >19</th>\n",
              "      <td id=\"T_5995e_row19_col0\" class=\"data row19 col0\" >21</td>\n",
              "      <td id=\"T_5995e_row19_col1\" class=\"data row19 col1\" >0.921176</td>\n",
              "      <td id=\"T_5995e_row19_col2\" class=\"data row19 col2\" >0.918079</td>\n",
              "    </tr>\n",
              "    <tr>\n",
              "      <th id=\"T_5995e_level0_row20\" class=\"row_heading level0 row20\" >20</th>\n",
              "      <td id=\"T_5995e_row20_col0\" class=\"data row20 col0\" >22</td>\n",
              "      <td id=\"T_5995e_row20_col1\" class=\"data row20 col1\" >0.921557</td>\n",
              "      <td id=\"T_5995e_row20_col2\" class=\"data row20 col2\" >0.919151</td>\n",
              "    </tr>\n",
              "    <tr>\n",
              "      <th id=\"T_5995e_level0_row21\" class=\"row_heading level0 row21\" >21</th>\n",
              "      <td id=\"T_5995e_row21_col0\" class=\"data row21 col0\" >23</td>\n",
              "      <td id=\"T_5995e_row21_col1\" class=\"data row21 col1\" >0.921718</td>\n",
              "      <td id=\"T_5995e_row21_col2\" class=\"data row21 col2\" >0.919586</td>\n",
              "    </tr>\n",
              "    <tr>\n",
              "      <th id=\"T_5995e_level0_row22\" class=\"row_heading level0 row22\" >22</th>\n",
              "      <td id=\"T_5995e_row22_col0\" class=\"data row22 col0\" >24</td>\n",
              "      <td id=\"T_5995e_row22_col1\" class=\"data row22 col1\" >0.922100</td>\n",
              "      <td id=\"T_5995e_row22_col2\" class=\"data row22 col2\" >0.919926</td>\n",
              "    </tr>\n",
              "    <tr>\n",
              "      <th id=\"T_5995e_level0_row23\" class=\"row_heading level0 row23\" >23</th>\n",
              "      <td id=\"T_5995e_row23_col0\" class=\"data row23 col0\" >25</td>\n",
              "      <td id=\"T_5995e_row23_col1\" class=\"data row23 col1\" >0.922191</td>\n",
              "      <td id=\"T_5995e_row23_col2\" class=\"data row23 col2\" >0.919907</td>\n",
              "    </tr>\n",
              "    <tr>\n",
              "      <th id=\"T_5995e_level0_row24\" class=\"row_heading level0 row24\" >24</th>\n",
              "      <td id=\"T_5995e_row24_col0\" class=\"data row24 col0\" >26</td>\n",
              "      <td id=\"T_5995e_row24_col1\" class=\"data row24 col1\" >0.924364</td>\n",
              "      <td id=\"T_5995e_row24_col2\" class=\"data row24 col2\" >0.922168</td>\n",
              "    </tr>\n",
              "    <tr>\n",
              "      <th id=\"T_5995e_level0_row25\" class=\"row_heading level0 row25\" >25</th>\n",
              "      <td id=\"T_5995e_row25_col0\" class=\"data row25 col0\" >27</td>\n",
              "      <td id=\"T_5995e_row25_col1\" class=\"data row25 col1\" >0.924404</td>\n",
              "      <td id=\"T_5995e_row25_col2\" class=\"data row25 col2\" >0.922342</td>\n",
              "    </tr>\n",
              "    <tr>\n",
              "      <th id=\"T_5995e_level0_row26\" class=\"row_heading level0 row26\" >26</th>\n",
              "      <td id=\"T_5995e_row26_col0\" class=\"data row26 col0\" >28</td>\n",
              "      <td id=\"T_5995e_row26_col1\" class=\"data row26 col1\" >0.924448</td>\n",
              "      <td id=\"T_5995e_row26_col2\" class=\"data row26 col2\" >0.922526</td>\n",
              "    </tr>\n",
              "    <tr>\n",
              "      <th id=\"T_5995e_level0_row27\" class=\"row_heading level0 row27\" >27</th>\n",
              "      <td id=\"T_5995e_row27_col0\" class=\"data row27 col0\" >29</td>\n",
              "      <td id=\"T_5995e_row27_col1\" class=\"data row27 col1\" >0.924494</td>\n",
              "      <td id=\"T_5995e_row27_col2\" class=\"data row27 col2\" >0.922418</td>\n",
              "    </tr>\n",
              "    <tr>\n",
              "      <th id=\"T_5995e_level0_row28\" class=\"row_heading level0 row28\" >28</th>\n",
              "      <td id=\"T_5995e_row28_col0\" class=\"data row28 col0\" >30</td>\n",
              "      <td id=\"T_5995e_row28_col1\" class=\"data row28 col1\" >0.924514</td>\n",
              "      <td id=\"T_5995e_row28_col2\" class=\"data row28 col2\" >0.922387</td>\n",
              "    </tr>\n",
              "    <tr>\n",
              "      <th id=\"T_5995e_level0_row29\" class=\"row_heading level0 row29\" >29</th>\n",
              "      <td id=\"T_5995e_row29_col0\" class=\"data row29 col0\" >31</td>\n",
              "      <td id=\"T_5995e_row29_col1\" class=\"data row29 col1\" >0.924593</td>\n",
              "      <td id=\"T_5995e_row29_col2\" class=\"data row29 col2\" >0.922418</td>\n",
              "    </tr>\n",
              "  </tbody>\n",
              "</table>\n"
            ]
          },
          "metadata": {},
          "execution_count": 27
        }
      ]
    },
    {
      "cell_type": "markdown",
      "source": [
        "**Висновки проміжні:**\n",
        "Найкращий показник max_leaf_nodes=26"
      ],
      "metadata": {
        "id": "T2Xy18Ni_DRy"
      }
    },
    {
      "cell_type": "code",
      "source": [
        "#тренування моделі\n",
        "model_5 = DecisionTreeClassifier(max_depth=5, max_leaf_nodes=26, random_state=42)\n",
        "model_5.fit(X_train, train_targets)"
      ],
      "metadata": {
        "colab": {
          "base_uri": "https://localhost:8080/",
          "height": 74
        },
        "id": "KzZ8AnhG3VM2",
        "outputId": "1bdf9a89-f3db-4a3c-a9bb-2b7ecf4fa73b"
      },
      "execution_count": 28,
      "outputs": [
        {
          "output_type": "execute_result",
          "data": {
            "text/plain": [
              "DecisionTreeClassifier(max_depth=5, max_leaf_nodes=26, random_state=42)"
            ],
            "text/html": [
              "<style>#sk-container-id-8 {color: black;background-color: white;}#sk-container-id-8 pre{padding: 0;}#sk-container-id-8 div.sk-toggleable {background-color: white;}#sk-container-id-8 label.sk-toggleable__label {cursor: pointer;display: block;width: 100%;margin-bottom: 0;padding: 0.3em;box-sizing: border-box;text-align: center;}#sk-container-id-8 label.sk-toggleable__label-arrow:before {content: \"▸\";float: left;margin-right: 0.25em;color: #696969;}#sk-container-id-8 label.sk-toggleable__label-arrow:hover:before {color: black;}#sk-container-id-8 div.sk-estimator:hover label.sk-toggleable__label-arrow:before {color: black;}#sk-container-id-8 div.sk-toggleable__content {max-height: 0;max-width: 0;overflow: hidden;text-align: left;background-color: #f0f8ff;}#sk-container-id-8 div.sk-toggleable__content pre {margin: 0.2em;color: black;border-radius: 0.25em;background-color: #f0f8ff;}#sk-container-id-8 input.sk-toggleable__control:checked~div.sk-toggleable__content {max-height: 200px;max-width: 100%;overflow: auto;}#sk-container-id-8 input.sk-toggleable__control:checked~label.sk-toggleable__label-arrow:before {content: \"▾\";}#sk-container-id-8 div.sk-estimator input.sk-toggleable__control:checked~label.sk-toggleable__label {background-color: #d4ebff;}#sk-container-id-8 div.sk-label input.sk-toggleable__control:checked~label.sk-toggleable__label {background-color: #d4ebff;}#sk-container-id-8 input.sk-hidden--visually {border: 0;clip: rect(1px 1px 1px 1px);clip: rect(1px, 1px, 1px, 1px);height: 1px;margin: -1px;overflow: hidden;padding: 0;position: absolute;width: 1px;}#sk-container-id-8 div.sk-estimator {font-family: monospace;background-color: #f0f8ff;border: 1px dotted black;border-radius: 0.25em;box-sizing: border-box;margin-bottom: 0.5em;}#sk-container-id-8 div.sk-estimator:hover {background-color: #d4ebff;}#sk-container-id-8 div.sk-parallel-item::after {content: \"\";width: 100%;border-bottom: 1px solid gray;flex-grow: 1;}#sk-container-id-8 div.sk-label:hover label.sk-toggleable__label {background-color: #d4ebff;}#sk-container-id-8 div.sk-serial::before {content: \"\";position: absolute;border-left: 1px solid gray;box-sizing: border-box;top: 0;bottom: 0;left: 50%;z-index: 0;}#sk-container-id-8 div.sk-serial {display: flex;flex-direction: column;align-items: center;background-color: white;padding-right: 0.2em;padding-left: 0.2em;position: relative;}#sk-container-id-8 div.sk-item {position: relative;z-index: 1;}#sk-container-id-8 div.sk-parallel {display: flex;align-items: stretch;justify-content: center;background-color: white;position: relative;}#sk-container-id-8 div.sk-item::before, #sk-container-id-8 div.sk-parallel-item::before {content: \"\";position: absolute;border-left: 1px solid gray;box-sizing: border-box;top: 0;bottom: 0;left: 50%;z-index: -1;}#sk-container-id-8 div.sk-parallel-item {display: flex;flex-direction: column;z-index: 1;position: relative;background-color: white;}#sk-container-id-8 div.sk-parallel-item:first-child::after {align-self: flex-end;width: 50%;}#sk-container-id-8 div.sk-parallel-item:last-child::after {align-self: flex-start;width: 50%;}#sk-container-id-8 div.sk-parallel-item:only-child::after {width: 0;}#sk-container-id-8 div.sk-dashed-wrapped {border: 1px dashed gray;margin: 0 0.4em 0.5em 0.4em;box-sizing: border-box;padding-bottom: 0.4em;background-color: white;}#sk-container-id-8 div.sk-label label {font-family: monospace;font-weight: bold;display: inline-block;line-height: 1.2em;}#sk-container-id-8 div.sk-label-container {text-align: center;}#sk-container-id-8 div.sk-container {/* jupyter's `normalize.less` sets `[hidden] { display: none; }` but bootstrap.min.css set `[hidden] { display: none !important; }` so we also need the `!important` here to be able to override the default hidden behavior on the sphinx rendered scikit-learn.org. See: https://github.com/scikit-learn/scikit-learn/issues/21755 */display: inline-block !important;position: relative;}#sk-container-id-8 div.sk-text-repr-fallback {display: none;}</style><div id=\"sk-container-id-8\" class=\"sk-top-container\"><div class=\"sk-text-repr-fallback\"><pre>DecisionTreeClassifier(max_depth=5, max_leaf_nodes=26, random_state=42)</pre><b>In a Jupyter environment, please rerun this cell to show the HTML representation or trust the notebook. <br />On GitHub, the HTML representation is unable to render, please try loading this page with nbviewer.org.</b></div><div class=\"sk-container\" hidden><div class=\"sk-item\"><div class=\"sk-estimator sk-toggleable\"><input class=\"sk-toggleable__control sk-hidden--visually\" id=\"sk-estimator-id-14\" type=\"checkbox\" checked><label for=\"sk-estimator-id-14\" class=\"sk-toggleable__label sk-toggleable__label-arrow\">DecisionTreeClassifier</label><div class=\"sk-toggleable__content\"><pre>DecisionTreeClassifier(max_depth=5, max_leaf_nodes=26, random_state=42)</pre></div></div></div></div></div>"
            ]
          },
          "metadata": {},
          "execution_count": 28
        }
      ]
    },
    {
      "cell_type": "code",
      "source": [
        "#оцінка якості моделі dt_best\n",
        "count_auroc(model_5, X_train, X_val, train_targets, val_targets)"
      ],
      "metadata": {
        "colab": {
          "base_uri": "https://localhost:8080/"
        },
        "id": "uA-PdUMm3qVi",
        "outputId": "027e3ffe-8349-4c16-eff0-c938e8c220bb"
      },
      "execution_count": 29,
      "outputs": [
        {
          "output_type": "stream",
          "name": "stdout",
          "text": [
            "Train AUC: 0.9244\n",
            "Validation AUC: 0.9222\n"
          ]
        },
        {
          "output_type": "execute_result",
          "data": {
            "text/plain": [
              "(0.924363629165889, 0.9221675012003567)"
            ]
          },
          "metadata": {},
          "execution_count": 29
        }
      ]
    },
    {
      "cell_type": "markdown",
      "source": [
        "### зведені дані"
      ],
      "metadata": {
        "id": "o4h0s_3n9p09"
      }
    },
    {
      "cell_type": "code",
      "source": [
        "# Створення списку словників\n",
        "data = [\n",
        "    {'Model': dt_best, 'Coment': 'за параметрами заданими в завданні', 'Max_depth': 5, 'Max_leaf_nodes': 9 },\n",
        "    {'Model': model_5_1, 'Coment': 'модель  з попереднього HW', 'Max_depth': 5, 'Max_leaf_nodes': 31 },\n",
        "    {'Model': dt_best_1, 'Coment': \"автопошук обох параметрів при розширені діапазону 'max_leaf_nodes': np.arange(2, 31, 1)\", 'Max_depth': 5, 'Max_leaf_nodes': 23 },\n",
        "    {'Model': model_5, 'Coment': 'модель за вручну підібраними обома параметрами', 'Max_depth': 5, 'Max_leaf_nodes': 26}\n",
        "]\n",
        "\n",
        "# Створення DataFrame\n",
        "df = pd.DataFrame(data)\n"
      ],
      "metadata": {
        "id": "5-9KtVNb5LZg"
      },
      "execution_count": 66,
      "outputs": []
    },
    {
      "cell_type": "code",
      "source": [
        "#розрахунок для тренувального набору AUROC\n",
        "df['AUROC_train'] = df['Model'].apply(lambda model: train_auc(model, X_train, X_val, train_targets, val_targets))"
      ],
      "metadata": {
        "id": "I5lebL2EBSzv"
      },
      "execution_count": 67,
      "outputs": []
    },
    {
      "cell_type": "code",
      "source": [
        "#розрахунок для валідаційного набору AUROC\n",
        "df['AUROC_val'] = df['Model'].apply(lambda model: val_auc(model, X_train, X_val, train_targets, val_targets))"
      ],
      "metadata": {
        "id": "dXDNV3GDCNaj"
      },
      "execution_count": 68,
      "outputs": []
    },
    {
      "cell_type": "code",
      "source": [
        "df.head()"
      ],
      "metadata": {
        "colab": {
          "base_uri": "https://localhost:8080/",
          "height": 175
        },
        "id": "-3Tqap3P5MX0",
        "outputId": "437302af-2c11-480d-d514-831713b6a755"
      },
      "execution_count": 69,
      "outputs": [
        {
          "output_type": "execute_result",
          "data": {
            "text/plain": [
              "                                               Model  \\\n",
              "0  DecisionTreeClassifier(max_depth=5, max_leaf_n...   \n",
              "1  DecisionTreeClassifier(max_depth=5, random_sta...   \n",
              "2  DecisionTreeClassifier(max_depth=5, max_leaf_n...   \n",
              "3  DecisionTreeClassifier(max_depth=5, max_leaf_n...   \n",
              "\n",
              "                                              Coment  Max_depth  \\\n",
              "0                 за параметрами заданими в завданні          5   \n",
              "1                          модель  з попереднього HW          5   \n",
              "2  автопошук обох параметрів при розширені діапаз...          5   \n",
              "3     модель за вручну підібраними обома параметрами          5   \n",
              "\n",
              "   Max_leaf_nodes  AUROC_train  AUROC_val  \n",
              "0               9     0.900323   0.895097  \n",
              "1              31     0.924593   0.922418  \n",
              "2              23     0.921718   0.919586  \n",
              "3              26     0.924364   0.922168  "
            ],
            "text/html": [
              "\n",
              "  <div id=\"df-4707a5b0-8bae-4e75-83b8-e758185edbc7\" class=\"colab-df-container\">\n",
              "    <div>\n",
              "<style scoped>\n",
              "    .dataframe tbody tr th:only-of-type {\n",
              "        vertical-align: middle;\n",
              "    }\n",
              "\n",
              "    .dataframe tbody tr th {\n",
              "        vertical-align: top;\n",
              "    }\n",
              "\n",
              "    .dataframe thead th {\n",
              "        text-align: right;\n",
              "    }\n",
              "</style>\n",
              "<table border=\"1\" class=\"dataframe\">\n",
              "  <thead>\n",
              "    <tr style=\"text-align: right;\">\n",
              "      <th></th>\n",
              "      <th>Model</th>\n",
              "      <th>Coment</th>\n",
              "      <th>Max_depth</th>\n",
              "      <th>Max_leaf_nodes</th>\n",
              "      <th>AUROC_train</th>\n",
              "      <th>AUROC_val</th>\n",
              "    </tr>\n",
              "  </thead>\n",
              "  <tbody>\n",
              "    <tr>\n",
              "      <th>0</th>\n",
              "      <td>DecisionTreeClassifier(max_depth=5, max_leaf_n...</td>\n",
              "      <td>за параметрами заданими в завданні</td>\n",
              "      <td>5</td>\n",
              "      <td>9</td>\n",
              "      <td>0.900323</td>\n",
              "      <td>0.895097</td>\n",
              "    </tr>\n",
              "    <tr>\n",
              "      <th>1</th>\n",
              "      <td>DecisionTreeClassifier(max_depth=5, random_sta...</td>\n",
              "      <td>модель  з попереднього HW</td>\n",
              "      <td>5</td>\n",
              "      <td>31</td>\n",
              "      <td>0.924593</td>\n",
              "      <td>0.922418</td>\n",
              "    </tr>\n",
              "    <tr>\n",
              "      <th>2</th>\n",
              "      <td>DecisionTreeClassifier(max_depth=5, max_leaf_n...</td>\n",
              "      <td>автопошук обох параметрів при розширені діапаз...</td>\n",
              "      <td>5</td>\n",
              "      <td>23</td>\n",
              "      <td>0.921718</td>\n",
              "      <td>0.919586</td>\n",
              "    </tr>\n",
              "    <tr>\n",
              "      <th>3</th>\n",
              "      <td>DecisionTreeClassifier(max_depth=5, max_leaf_n...</td>\n",
              "      <td>модель за вручну підібраними обома параметрами</td>\n",
              "      <td>5</td>\n",
              "      <td>26</td>\n",
              "      <td>0.924364</td>\n",
              "      <td>0.922168</td>\n",
              "    </tr>\n",
              "  </tbody>\n",
              "</table>\n",
              "</div>\n",
              "    <div class=\"colab-df-buttons\">\n",
              "\n",
              "  <div class=\"colab-df-container\">\n",
              "    <button class=\"colab-df-convert\" onclick=\"convertToInteractive('df-4707a5b0-8bae-4e75-83b8-e758185edbc7')\"\n",
              "            title=\"Convert this dataframe to an interactive table.\"\n",
              "            style=\"display:none;\">\n",
              "\n",
              "  <svg xmlns=\"http://www.w3.org/2000/svg\" height=\"24px\" viewBox=\"0 -960 960 960\">\n",
              "    <path d=\"M120-120v-720h720v720H120Zm60-500h600v-160H180v160Zm220 220h160v-160H400v160Zm0 220h160v-160H400v160ZM180-400h160v-160H180v160Zm440 0h160v-160H620v160ZM180-180h160v-160H180v160Zm440 0h160v-160H620v160Z\"/>\n",
              "  </svg>\n",
              "    </button>\n",
              "\n",
              "  <style>\n",
              "    .colab-df-container {\n",
              "      display:flex;\n",
              "      gap: 12px;\n",
              "    }\n",
              "\n",
              "    .colab-df-convert {\n",
              "      background-color: #E8F0FE;\n",
              "      border: none;\n",
              "      border-radius: 50%;\n",
              "      cursor: pointer;\n",
              "      display: none;\n",
              "      fill: #1967D2;\n",
              "      height: 32px;\n",
              "      padding: 0 0 0 0;\n",
              "      width: 32px;\n",
              "    }\n",
              "\n",
              "    .colab-df-convert:hover {\n",
              "      background-color: #E2EBFA;\n",
              "      box-shadow: 0px 1px 2px rgba(60, 64, 67, 0.3), 0px 1px 3px 1px rgba(60, 64, 67, 0.15);\n",
              "      fill: #174EA6;\n",
              "    }\n",
              "\n",
              "    .colab-df-buttons div {\n",
              "      margin-bottom: 4px;\n",
              "    }\n",
              "\n",
              "    [theme=dark] .colab-df-convert {\n",
              "      background-color: #3B4455;\n",
              "      fill: #D2E3FC;\n",
              "    }\n",
              "\n",
              "    [theme=dark] .colab-df-convert:hover {\n",
              "      background-color: #434B5C;\n",
              "      box-shadow: 0px 1px 3px 1px rgba(0, 0, 0, 0.15);\n",
              "      filter: drop-shadow(0px 1px 2px rgba(0, 0, 0, 0.3));\n",
              "      fill: #FFFFFF;\n",
              "    }\n",
              "  </style>\n",
              "\n",
              "    <script>\n",
              "      const buttonEl =\n",
              "        document.querySelector('#df-4707a5b0-8bae-4e75-83b8-e758185edbc7 button.colab-df-convert');\n",
              "      buttonEl.style.display =\n",
              "        google.colab.kernel.accessAllowed ? 'block' : 'none';\n",
              "\n",
              "      async function convertToInteractive(key) {\n",
              "        const element = document.querySelector('#df-4707a5b0-8bae-4e75-83b8-e758185edbc7');\n",
              "        const dataTable =\n",
              "          await google.colab.kernel.invokeFunction('convertToInteractive',\n",
              "                                                    [key], {});\n",
              "        if (!dataTable) return;\n",
              "\n",
              "        const docLinkHtml = 'Like what you see? Visit the ' +\n",
              "          '<a target=\"_blank\" href=https://colab.research.google.com/notebooks/data_table.ipynb>data table notebook</a>'\n",
              "          + ' to learn more about interactive tables.';\n",
              "        element.innerHTML = '';\n",
              "        dataTable['output_type'] = 'display_data';\n",
              "        await google.colab.output.renderOutput(dataTable, element);\n",
              "        const docLink = document.createElement('div');\n",
              "        docLink.innerHTML = docLinkHtml;\n",
              "        element.appendChild(docLink);\n",
              "      }\n",
              "    </script>\n",
              "  </div>\n",
              "\n",
              "\n",
              "<div id=\"df-bf39867b-c639-4e92-9081-4ebb46db34b8\">\n",
              "  <button class=\"colab-df-quickchart\" onclick=\"quickchart('df-bf39867b-c639-4e92-9081-4ebb46db34b8')\"\n",
              "            title=\"Suggest charts\"\n",
              "            style=\"display:none;\">\n",
              "\n",
              "<svg xmlns=\"http://www.w3.org/2000/svg\" height=\"24px\"viewBox=\"0 0 24 24\"\n",
              "     width=\"24px\">\n",
              "    <g>\n",
              "        <path d=\"M19 3H5c-1.1 0-2 .9-2 2v14c0 1.1.9 2 2 2h14c1.1 0 2-.9 2-2V5c0-1.1-.9-2-2-2zM9 17H7v-7h2v7zm4 0h-2V7h2v10zm4 0h-2v-4h2v4z\"/>\n",
              "    </g>\n",
              "</svg>\n",
              "  </button>\n",
              "\n",
              "<style>\n",
              "  .colab-df-quickchart {\n",
              "      --bg-color: #E8F0FE;\n",
              "      --fill-color: #1967D2;\n",
              "      --hover-bg-color: #E2EBFA;\n",
              "      --hover-fill-color: #174EA6;\n",
              "      --disabled-fill-color: #AAA;\n",
              "      --disabled-bg-color: #DDD;\n",
              "  }\n",
              "\n",
              "  [theme=dark] .colab-df-quickchart {\n",
              "      --bg-color: #3B4455;\n",
              "      --fill-color: #D2E3FC;\n",
              "      --hover-bg-color: #434B5C;\n",
              "      --hover-fill-color: #FFFFFF;\n",
              "      --disabled-bg-color: #3B4455;\n",
              "      --disabled-fill-color: #666;\n",
              "  }\n",
              "\n",
              "  .colab-df-quickchart {\n",
              "    background-color: var(--bg-color);\n",
              "    border: none;\n",
              "    border-radius: 50%;\n",
              "    cursor: pointer;\n",
              "    display: none;\n",
              "    fill: var(--fill-color);\n",
              "    height: 32px;\n",
              "    padding: 0;\n",
              "    width: 32px;\n",
              "  }\n",
              "\n",
              "  .colab-df-quickchart:hover {\n",
              "    background-color: var(--hover-bg-color);\n",
              "    box-shadow: 0 1px 2px rgba(60, 64, 67, 0.3), 0 1px 3px 1px rgba(60, 64, 67, 0.15);\n",
              "    fill: var(--button-hover-fill-color);\n",
              "  }\n",
              "\n",
              "  .colab-df-quickchart-complete:disabled,\n",
              "  .colab-df-quickchart-complete:disabled:hover {\n",
              "    background-color: var(--disabled-bg-color);\n",
              "    fill: var(--disabled-fill-color);\n",
              "    box-shadow: none;\n",
              "  }\n",
              "\n",
              "  .colab-df-spinner {\n",
              "    border: 2px solid var(--fill-color);\n",
              "    border-color: transparent;\n",
              "    border-bottom-color: var(--fill-color);\n",
              "    animation:\n",
              "      spin 1s steps(1) infinite;\n",
              "  }\n",
              "\n",
              "  @keyframes spin {\n",
              "    0% {\n",
              "      border-color: transparent;\n",
              "      border-bottom-color: var(--fill-color);\n",
              "      border-left-color: var(--fill-color);\n",
              "    }\n",
              "    20% {\n",
              "      border-color: transparent;\n",
              "      border-left-color: var(--fill-color);\n",
              "      border-top-color: var(--fill-color);\n",
              "    }\n",
              "    30% {\n",
              "      border-color: transparent;\n",
              "      border-left-color: var(--fill-color);\n",
              "      border-top-color: var(--fill-color);\n",
              "      border-right-color: var(--fill-color);\n",
              "    }\n",
              "    40% {\n",
              "      border-color: transparent;\n",
              "      border-right-color: var(--fill-color);\n",
              "      border-top-color: var(--fill-color);\n",
              "    }\n",
              "    60% {\n",
              "      border-color: transparent;\n",
              "      border-right-color: var(--fill-color);\n",
              "    }\n",
              "    80% {\n",
              "      border-color: transparent;\n",
              "      border-right-color: var(--fill-color);\n",
              "      border-bottom-color: var(--fill-color);\n",
              "    }\n",
              "    90% {\n",
              "      border-color: transparent;\n",
              "      border-bottom-color: var(--fill-color);\n",
              "    }\n",
              "  }\n",
              "</style>\n",
              "\n",
              "  <script>\n",
              "    async function quickchart(key) {\n",
              "      const quickchartButtonEl =\n",
              "        document.querySelector('#' + key + ' button');\n",
              "      quickchartButtonEl.disabled = true;  // To prevent multiple clicks.\n",
              "      quickchartButtonEl.classList.add('colab-df-spinner');\n",
              "      try {\n",
              "        const charts = await google.colab.kernel.invokeFunction(\n",
              "            'suggestCharts', [key], {});\n",
              "      } catch (error) {\n",
              "        console.error('Error during call to suggestCharts:', error);\n",
              "      }\n",
              "      quickchartButtonEl.classList.remove('colab-df-spinner');\n",
              "      quickchartButtonEl.classList.add('colab-df-quickchart-complete');\n",
              "    }\n",
              "    (() => {\n",
              "      let quickchartButtonEl =\n",
              "        document.querySelector('#df-bf39867b-c639-4e92-9081-4ebb46db34b8 button');\n",
              "      quickchartButtonEl.style.display =\n",
              "        google.colab.kernel.accessAllowed ? 'block' : 'none';\n",
              "    })();\n",
              "  </script>\n",
              "</div>\n",
              "    </div>\n",
              "  </div>\n"
            ],
            "application/vnd.google.colaboratory.intrinsic+json": {
              "type": "dataframe",
              "variable_name": "df",
              "summary": "{\n  \"name\": \"df\",\n  \"rows\": 4,\n  \"fields\": [\n    {\n      \"column\": \"Model\",\n      \"properties\": {\n        \"dtype\": \"string\",\n        \"num_unique_values\": 4,\n        \"samples\": [\n          \"DecisionTreeClassifier(max_depth=5, random_state=42)\",\n          \"DecisionTreeClassifier(max_depth=5, max_leaf_nodes=26, random_state=42)\",\n          \"DecisionTreeClassifier(max_depth=5, max_leaf_nodes=9, random_state=42)\"\n        ],\n        \"semantic_type\": \"\",\n        \"description\": \"\"\n      }\n    },\n    {\n      \"column\": \"Coment\",\n      \"properties\": {\n        \"dtype\": \"string\",\n        \"num_unique_values\": 4,\n        \"samples\": [\n          \"\\u043c\\u043e\\u0434\\u0435\\u043b\\u044c  \\u0437 \\u043f\\u043e\\u043f\\u0435\\u0440\\u0435\\u0434\\u043d\\u044c\\u043e\\u0433\\u043e HW\",\n          \"\\u043c\\u043e\\u0434\\u0435\\u043b\\u044c \\u0437\\u0430 \\u0432\\u0440\\u0443\\u0447\\u043d\\u0443 \\u043f\\u0456\\u0434\\u0456\\u0431\\u0440\\u0430\\u043d\\u0438\\u043c\\u0438 \\u043e\\u0431\\u043e\\u043c\\u0430 \\u043f\\u0430\\u0440\\u0430\\u043c\\u0435\\u0442\\u0440\\u0430\\u043c\\u0438\",\n          \"\\u0437\\u0430 \\u043f\\u0430\\u0440\\u0430\\u043c\\u0435\\u0442\\u0440\\u0430\\u043c\\u0438 \\u0437\\u0430\\u0434\\u0430\\u043d\\u0438\\u043c\\u0438 \\u0432 \\u0437\\u0430\\u0432\\u0434\\u0430\\u043d\\u043d\\u0456\"\n        ],\n        \"semantic_type\": \"\",\n        \"description\": \"\"\n      }\n    },\n    {\n      \"column\": \"Max_depth\",\n      \"properties\": {\n        \"dtype\": \"number\",\n        \"std\": 0,\n        \"min\": 5,\n        \"max\": 5,\n        \"num_unique_values\": 1,\n        \"samples\": [\n          5\n        ],\n        \"semantic_type\": \"\",\n        \"description\": \"\"\n      }\n    },\n    {\n      \"column\": \"Max_leaf_nodes\",\n      \"properties\": {\n        \"dtype\": \"number\",\n        \"std\": 9,\n        \"min\": 9,\n        \"max\": 31,\n        \"num_unique_values\": 4,\n        \"samples\": [\n          31\n        ],\n        \"semantic_type\": \"\",\n        \"description\": \"\"\n      }\n    },\n    {\n      \"column\": \"AUROC_train\",\n      \"properties\": {\n        \"dtype\": \"number\",\n        \"std\": 0.011690399766480892,\n        \"min\": 0.9003233245229478,\n        \"max\": 0.9245929074083499,\n        \"num_unique_values\": 4,\n        \"samples\": [\n          0.9245929074083499\n        ],\n        \"semantic_type\": \"\",\n        \"description\": \"\"\n      }\n    },\n    {\n      \"column\": \"AUROC_val\",\n      \"properties\": {\n        \"dtype\": \"number\",\n        \"std\": 0.013208935875544009,\n        \"min\": 0.8950967144522944,\n        \"max\": 0.9224175183483092,\n        \"num_unique_values\": 4,\n        \"samples\": [\n          0.9224175183483092\n        ],\n        \"semantic_type\": \"\",\n        \"description\": \"\"\n      }\n    }\n  ]\n}"
            }
          },
          "metadata": {},
          "execution_count": 69
        }
      ]
    },
    {
      "cell_type": "markdown",
      "source": [
        "**Висновки:**\n",
        "У всіх млоделей високий показник якості.\n",
        "Якщо не зважати на ресурси, то найкраще себе показала модель з max_deph=5 та max_leaf_nodes=31.\n",
        "З точки зопу ресурсів висока якість моделі з max_deph=5 та max_leaf_nodes=9.\n"
      ],
      "metadata": {
        "id": "0lFdxxDUv-IE"
      }
    },
    {
      "cell_type": "markdown",
      "source": [
        "##Завдання 4"
      ],
      "metadata": {
        "id": "KpRD7GvTEhX1"
      }
    },
    {
      "cell_type": "markdown",
      "source": [
        "4. Виконайте пошук оптимальних гіперпараметрів для `DecisionTreeClassifier` з `RandomizedSearchCV` за заданою сіткою параметрів і кількість ітерацій 40.\n",
        "\n",
        "  Поставте кросвалідацію на 3 фолди, `scoring='roc_auc'`, зафіксуйте `random_seed` процедури крос валідації та виміряйте, скільки часу потребує пошук оптимальних гіперпараметрів.\n",
        "\n",
        "  Після успішного завершення пошуку оптимальних гіперпараметрів\n",
        "    - виведіть найкращі значення параметра\n",
        "    - збережіть в окрему змінну `dt_random_search_best` найкращу модель, знайдену з `RandomizedSearchCV`\n",
        "    - оцініть якість передбачень  `dt_random_search_best` на тренувальній і валідаційній вибірці з допомогою AUROC.\n",
        "    - зробіть висновок про якість моделі. Чи ця модель краща за ту, що ви знайшли з `GridSearch`?\n",
        "    - проаналізуйте параметри `dt_random_search_best` і порівняйте з параметрами `dt_best` - яку бачите відмінність? Ця вправа потрібна аби зрозуміти, як різні налаштування `DecisionTreeClassifier` впливають на якість моделі."
      ],
      "metadata": {
        "id": "nCnkGD_sEW1i"
      }
    },
    {
      "cell_type": "code",
      "source": [
        "params_dt = {\n",
        "    'criterion': ['gini', 'entropy'],\n",
        "    'splitter': ['best', 'random'],\n",
        "    'max_depth': np.arange(1, 20),\n",
        "    'max_leaf_nodes': np.arange(2, 20),\n",
        "    'min_samples_split': [2, 5, 10, 20],\n",
        "    'min_samples_leaf': [1, 2, 4, 8],\n",
        "    'max_features': [None, 'sqrt', 'log2']\n",
        "}"
      ],
      "metadata": {
        "id": "665uQ3NdIG0s"
      },
      "execution_count": 34,
      "outputs": []
    },
    {
      "cell_type": "code",
      "source": [
        "model = DecisionTreeClassifier(random_state=42)"
      ],
      "metadata": {
        "id": "dnIoUJSAFZiL"
      },
      "execution_count": 35,
      "outputs": []
    },
    {
      "cell_type": "code",
      "source": [
        "search = RandomizedSearchCV(\n",
        "    model,\n",
        "    params_dt,\n",
        "    n_iter = 40,\n",
        "    cv=3,\n",
        "    scoring='roc_auc',\n",
        "    verbose=2,\n",
        "    refit=True\n",
        ")"
      ],
      "metadata": {
        "id": "MyHVD-R0IXqv"
      },
      "execution_count": 36,
      "outputs": []
    },
    {
      "cell_type": "code",
      "source": [
        "%%time\n",
        "search.fit(X_train, train_targets)"
      ],
      "metadata": {
        "colab": {
          "base_uri": "https://localhost:8080/",
          "height": 0
        },
        "collapsed": true,
        "id": "oCbtVqK3F7el",
        "outputId": "c90e51f8-9241-4498-a820-e6327c9bce32"
      },
      "execution_count": 37,
      "outputs": [
        {
          "output_type": "stream",
          "name": "stdout",
          "text": [
            "Fitting 3 folds for each of 40 candidates, totalling 120 fits\n",
            "[CV] END criterion=gini, max_depth=7, max_features=sqrt, max_leaf_nodes=15, min_samples_leaf=8, min_samples_split=10, splitter=best; total time=   0.0s\n",
            "[CV] END criterion=gini, max_depth=7, max_features=sqrt, max_leaf_nodes=15, min_samples_leaf=8, min_samples_split=10, splitter=best; total time=   0.0s\n",
            "[CV] END criterion=gini, max_depth=7, max_features=sqrt, max_leaf_nodes=15, min_samples_leaf=8, min_samples_split=10, splitter=best; total time=   0.0s\n",
            "[CV] END criterion=entropy, max_depth=11, max_features=None, max_leaf_nodes=4, min_samples_leaf=1, min_samples_split=2, splitter=random; total time=   0.0s\n",
            "[CV] END criterion=entropy, max_depth=11, max_features=None, max_leaf_nodes=4, min_samples_leaf=1, min_samples_split=2, splitter=random; total time=   0.0s\n",
            "[CV] END criterion=entropy, max_depth=11, max_features=None, max_leaf_nodes=4, min_samples_leaf=1, min_samples_split=2, splitter=random; total time=   0.0s\n",
            "[CV] END criterion=entropy, max_depth=6, max_features=None, max_leaf_nodes=11, min_samples_leaf=2, min_samples_split=20, splitter=best; total time=   0.0s\n",
            "[CV] END criterion=entropy, max_depth=6, max_features=None, max_leaf_nodes=11, min_samples_leaf=2, min_samples_split=20, splitter=best; total time=   0.0s\n",
            "[CV] END criterion=entropy, max_depth=6, max_features=None, max_leaf_nodes=11, min_samples_leaf=2, min_samples_split=20, splitter=best; total time=   0.0s\n",
            "[CV] END criterion=entropy, max_depth=13, max_features=sqrt, max_leaf_nodes=10, min_samples_leaf=1, min_samples_split=2, splitter=random; total time=   0.0s\n",
            "[CV] END criterion=entropy, max_depth=13, max_features=sqrt, max_leaf_nodes=10, min_samples_leaf=1, min_samples_split=2, splitter=random; total time=   0.0s\n",
            "[CV] END criterion=entropy, max_depth=13, max_features=sqrt, max_leaf_nodes=10, min_samples_leaf=1, min_samples_split=2, splitter=random; total time=   0.0s\n",
            "[CV] END criterion=gini, max_depth=16, max_features=sqrt, max_leaf_nodes=10, min_samples_leaf=1, min_samples_split=10, splitter=random; total time=   0.0s\n",
            "[CV] END criterion=gini, max_depth=16, max_features=sqrt, max_leaf_nodes=10, min_samples_leaf=1, min_samples_split=10, splitter=random; total time=   0.0s\n",
            "[CV] END criterion=gini, max_depth=16, max_features=sqrt, max_leaf_nodes=10, min_samples_leaf=1, min_samples_split=10, splitter=random; total time=   0.0s\n",
            "[CV] END criterion=gini, max_depth=14, max_features=None, max_leaf_nodes=3, min_samples_leaf=1, min_samples_split=5, splitter=best; total time=   0.0s\n",
            "[CV] END criterion=gini, max_depth=14, max_features=None, max_leaf_nodes=3, min_samples_leaf=1, min_samples_split=5, splitter=best; total time=   0.0s\n",
            "[CV] END criterion=gini, max_depth=14, max_features=None, max_leaf_nodes=3, min_samples_leaf=1, min_samples_split=5, splitter=best; total time=   0.0s\n",
            "[CV] END criterion=gini, max_depth=7, max_features=None, max_leaf_nodes=12, min_samples_leaf=2, min_samples_split=5, splitter=best; total time=   0.0s\n",
            "[CV] END criterion=gini, max_depth=7, max_features=None, max_leaf_nodes=12, min_samples_leaf=2, min_samples_split=5, splitter=best; total time=   0.0s\n",
            "[CV] END criterion=gini, max_depth=7, max_features=None, max_leaf_nodes=12, min_samples_leaf=2, min_samples_split=5, splitter=best; total time=   0.0s\n",
            "[CV] END criterion=entropy, max_depth=7, max_features=None, max_leaf_nodes=11, min_samples_leaf=2, min_samples_split=10, splitter=best; total time=   0.0s\n",
            "[CV] END criterion=entropy, max_depth=7, max_features=None, max_leaf_nodes=11, min_samples_leaf=2, min_samples_split=10, splitter=best; total time=   0.0s\n",
            "[CV] END criterion=entropy, max_depth=7, max_features=None, max_leaf_nodes=11, min_samples_leaf=2, min_samples_split=10, splitter=best; total time=   0.0s\n",
            "[CV] END criterion=gini, max_depth=10, max_features=log2, max_leaf_nodes=5, min_samples_leaf=2, min_samples_split=10, splitter=best; total time=   0.0s\n",
            "[CV] END criterion=gini, max_depth=10, max_features=log2, max_leaf_nodes=5, min_samples_leaf=2, min_samples_split=10, splitter=best; total time=   0.0s\n",
            "[CV] END criterion=gini, max_depth=10, max_features=log2, max_leaf_nodes=5, min_samples_leaf=2, min_samples_split=10, splitter=best; total time=   0.0s\n",
            "[CV] END criterion=entropy, max_depth=2, max_features=log2, max_leaf_nodes=15, min_samples_leaf=2, min_samples_split=2, splitter=best; total time=   0.0s\n",
            "[CV] END criterion=entropy, max_depth=2, max_features=log2, max_leaf_nodes=15, min_samples_leaf=2, min_samples_split=2, splitter=best; total time=   0.0s\n",
            "[CV] END criterion=entropy, max_depth=2, max_features=log2, max_leaf_nodes=15, min_samples_leaf=2, min_samples_split=2, splitter=best; total time=   0.0s\n",
            "[CV] END criterion=gini, max_depth=3, max_features=None, max_leaf_nodes=10, min_samples_leaf=2, min_samples_split=2, splitter=random; total time=   0.0s\n",
            "[CV] END criterion=gini, max_depth=3, max_features=None, max_leaf_nodes=10, min_samples_leaf=2, min_samples_split=2, splitter=random; total time=   0.0s\n",
            "[CV] END criterion=gini, max_depth=3, max_features=None, max_leaf_nodes=10, min_samples_leaf=2, min_samples_split=2, splitter=random; total time=   0.0s\n",
            "[CV] END criterion=gini, max_depth=7, max_features=sqrt, max_leaf_nodes=17, min_samples_leaf=4, min_samples_split=2, splitter=best; total time=   0.0s\n",
            "[CV] END criterion=gini, max_depth=7, max_features=sqrt, max_leaf_nodes=17, min_samples_leaf=4, min_samples_split=2, splitter=best; total time=   0.0s\n",
            "[CV] END criterion=gini, max_depth=7, max_features=sqrt, max_leaf_nodes=17, min_samples_leaf=4, min_samples_split=2, splitter=best; total time=   0.0s\n",
            "[CV] END criterion=gini, max_depth=7, max_features=sqrt, max_leaf_nodes=18, min_samples_leaf=4, min_samples_split=5, splitter=best; total time=   0.0s\n",
            "[CV] END criterion=gini, max_depth=7, max_features=sqrt, max_leaf_nodes=18, min_samples_leaf=4, min_samples_split=5, splitter=best; total time=   0.0s\n",
            "[CV] END criterion=gini, max_depth=7, max_features=sqrt, max_leaf_nodes=18, min_samples_leaf=4, min_samples_split=5, splitter=best; total time=   0.0s\n",
            "[CV] END criterion=gini, max_depth=14, max_features=log2, max_leaf_nodes=18, min_samples_leaf=8, min_samples_split=20, splitter=best; total time=   0.0s\n",
            "[CV] END criterion=gini, max_depth=14, max_features=log2, max_leaf_nodes=18, min_samples_leaf=8, min_samples_split=20, splitter=best; total time=   0.0s\n",
            "[CV] END criterion=gini, max_depth=14, max_features=log2, max_leaf_nodes=18, min_samples_leaf=8, min_samples_split=20, splitter=best; total time=   0.0s\n",
            "[CV] END criterion=entropy, max_depth=3, max_features=log2, max_leaf_nodes=8, min_samples_leaf=1, min_samples_split=10, splitter=best; total time=   0.0s\n",
            "[CV] END criterion=entropy, max_depth=3, max_features=log2, max_leaf_nodes=8, min_samples_leaf=1, min_samples_split=10, splitter=best; total time=   0.0s\n",
            "[CV] END criterion=entropy, max_depth=3, max_features=log2, max_leaf_nodes=8, min_samples_leaf=1, min_samples_split=10, splitter=best; total time=   0.0s\n",
            "[CV] END criterion=entropy, max_depth=2, max_features=None, max_leaf_nodes=9, min_samples_leaf=2, min_samples_split=2, splitter=best; total time=   0.0s\n",
            "[CV] END criterion=entropy, max_depth=2, max_features=None, max_leaf_nodes=9, min_samples_leaf=2, min_samples_split=2, splitter=best; total time=   0.0s\n",
            "[CV] END criterion=entropy, max_depth=2, max_features=None, max_leaf_nodes=9, min_samples_leaf=2, min_samples_split=2, splitter=best; total time=   0.0s\n",
            "[CV] END criterion=entropy, max_depth=5, max_features=sqrt, max_leaf_nodes=11, min_samples_leaf=1, min_samples_split=10, splitter=random; total time=   0.0s\n",
            "[CV] END criterion=entropy, max_depth=5, max_features=sqrt, max_leaf_nodes=11, min_samples_leaf=1, min_samples_split=10, splitter=random; total time=   0.0s\n",
            "[CV] END criterion=entropy, max_depth=5, max_features=sqrt, max_leaf_nodes=11, min_samples_leaf=1, min_samples_split=10, splitter=random; total time=   0.0s\n",
            "[CV] END criterion=gini, max_depth=4, max_features=log2, max_leaf_nodes=12, min_samples_leaf=8, min_samples_split=2, splitter=best; total time=   0.0s\n",
            "[CV] END criterion=gini, max_depth=4, max_features=log2, max_leaf_nodes=12, min_samples_leaf=8, min_samples_split=2, splitter=best; total time=   0.0s\n",
            "[CV] END criterion=gini, max_depth=4, max_features=log2, max_leaf_nodes=12, min_samples_leaf=8, min_samples_split=2, splitter=best; total time=   0.0s\n",
            "[CV] END criterion=entropy, max_depth=4, max_features=sqrt, max_leaf_nodes=14, min_samples_leaf=2, min_samples_split=20, splitter=best; total time=   0.0s\n",
            "[CV] END criterion=entropy, max_depth=4, max_features=sqrt, max_leaf_nodes=14, min_samples_leaf=2, min_samples_split=20, splitter=best; total time=   0.0s\n",
            "[CV] END criterion=entropy, max_depth=4, max_features=sqrt, max_leaf_nodes=14, min_samples_leaf=2, min_samples_split=20, splitter=best; total time=   0.0s\n",
            "[CV] END criterion=gini, max_depth=2, max_features=sqrt, max_leaf_nodes=4, min_samples_leaf=1, min_samples_split=5, splitter=best; total time=   0.0s\n",
            "[CV] END criterion=gini, max_depth=2, max_features=sqrt, max_leaf_nodes=4, min_samples_leaf=1, min_samples_split=5, splitter=best; total time=   0.0s\n",
            "[CV] END criterion=gini, max_depth=2, max_features=sqrt, max_leaf_nodes=4, min_samples_leaf=1, min_samples_split=5, splitter=best; total time=   0.0s\n",
            "[CV] END criterion=entropy, max_depth=17, max_features=sqrt, max_leaf_nodes=12, min_samples_leaf=1, min_samples_split=20, splitter=random; total time=   0.0s\n",
            "[CV] END criterion=entropy, max_depth=17, max_features=sqrt, max_leaf_nodes=12, min_samples_leaf=1, min_samples_split=20, splitter=random; total time=   0.0s\n",
            "[CV] END criterion=entropy, max_depth=17, max_features=sqrt, max_leaf_nodes=12, min_samples_leaf=1, min_samples_split=20, splitter=random; total time=   0.0s\n",
            "[CV] END criterion=entropy, max_depth=10, max_features=None, max_leaf_nodes=13, min_samples_leaf=1, min_samples_split=20, splitter=best; total time=   0.0s\n",
            "[CV] END criterion=entropy, max_depth=10, max_features=None, max_leaf_nodes=13, min_samples_leaf=1, min_samples_split=20, splitter=best; total time=   0.0s\n",
            "[CV] END criterion=entropy, max_depth=10, max_features=None, max_leaf_nodes=13, min_samples_leaf=1, min_samples_split=20, splitter=best; total time=   0.0s\n",
            "[CV] END criterion=entropy, max_depth=18, max_features=log2, max_leaf_nodes=19, min_samples_leaf=8, min_samples_split=5, splitter=best; total time=   0.0s\n",
            "[CV] END criterion=entropy, max_depth=18, max_features=log2, max_leaf_nodes=19, min_samples_leaf=8, min_samples_split=5, splitter=best; total time=   0.0s\n",
            "[CV] END criterion=entropy, max_depth=18, max_features=log2, max_leaf_nodes=19, min_samples_leaf=8, min_samples_split=5, splitter=best; total time=   0.0s\n",
            "[CV] END criterion=entropy, max_depth=9, max_features=log2, max_leaf_nodes=11, min_samples_leaf=2, min_samples_split=20, splitter=best; total time=   0.0s\n",
            "[CV] END criterion=entropy, max_depth=9, max_features=log2, max_leaf_nodes=11, min_samples_leaf=2, min_samples_split=20, splitter=best; total time=   0.0s\n",
            "[CV] END criterion=entropy, max_depth=9, max_features=log2, max_leaf_nodes=11, min_samples_leaf=2, min_samples_split=20, splitter=best; total time=   0.0s\n",
            "[CV] END criterion=gini, max_depth=19, max_features=sqrt, max_leaf_nodes=17, min_samples_leaf=2, min_samples_split=5, splitter=random; total time=   0.0s\n",
            "[CV] END criterion=gini, max_depth=19, max_features=sqrt, max_leaf_nodes=17, min_samples_leaf=2, min_samples_split=5, splitter=random; total time=   0.0s\n",
            "[CV] END criterion=gini, max_depth=19, max_features=sqrt, max_leaf_nodes=17, min_samples_leaf=2, min_samples_split=5, splitter=random; total time=   0.0s\n",
            "[CV] END criterion=entropy, max_depth=8, max_features=sqrt, max_leaf_nodes=11, min_samples_leaf=8, min_samples_split=10, splitter=random; total time=   0.0s\n",
            "[CV] END criterion=entropy, max_depth=8, max_features=sqrt, max_leaf_nodes=11, min_samples_leaf=8, min_samples_split=10, splitter=random; total time=   0.0s\n",
            "[CV] END criterion=entropy, max_depth=8, max_features=sqrt, max_leaf_nodes=11, min_samples_leaf=8, min_samples_split=10, splitter=random; total time=   0.0s\n",
            "[CV] END criterion=entropy, max_depth=11, max_features=sqrt, max_leaf_nodes=19, min_samples_leaf=2, min_samples_split=10, splitter=best; total time=   0.0s\n",
            "[CV] END criterion=entropy, max_depth=11, max_features=sqrt, max_leaf_nodes=19, min_samples_leaf=2, min_samples_split=10, splitter=best; total time=   0.0s\n",
            "[CV] END criterion=entropy, max_depth=11, max_features=sqrt, max_leaf_nodes=19, min_samples_leaf=2, min_samples_split=10, splitter=best; total time=   0.0s\n",
            "[CV] END criterion=gini, max_depth=7, max_features=log2, max_leaf_nodes=9, min_samples_leaf=8, min_samples_split=2, splitter=best; total time=   0.0s\n",
            "[CV] END criterion=gini, max_depth=7, max_features=log2, max_leaf_nodes=9, min_samples_leaf=8, min_samples_split=2, splitter=best; total time=   0.0s\n",
            "[CV] END criterion=gini, max_depth=7, max_features=log2, max_leaf_nodes=9, min_samples_leaf=8, min_samples_split=2, splitter=best; total time=   0.0s\n",
            "[CV] END criterion=gini, max_depth=15, max_features=log2, max_leaf_nodes=15, min_samples_leaf=8, min_samples_split=5, splitter=best; total time=   0.0s\n",
            "[CV] END criterion=gini, max_depth=15, max_features=log2, max_leaf_nodes=15, min_samples_leaf=8, min_samples_split=5, splitter=best; total time=   0.0s\n",
            "[CV] END criterion=gini, max_depth=15, max_features=log2, max_leaf_nodes=15, min_samples_leaf=8, min_samples_split=5, splitter=best; total time=   0.0s\n",
            "[CV] END criterion=entropy, max_depth=11, max_features=log2, max_leaf_nodes=19, min_samples_leaf=4, min_samples_split=5, splitter=best; total time=   0.0s\n",
            "[CV] END criterion=entropy, max_depth=11, max_features=log2, max_leaf_nodes=19, min_samples_leaf=4, min_samples_split=5, splitter=best; total time=   0.0s\n",
            "[CV] END criterion=entropy, max_depth=11, max_features=log2, max_leaf_nodes=19, min_samples_leaf=4, min_samples_split=5, splitter=best; total time=   0.0s\n",
            "[CV] END criterion=gini, max_depth=7, max_features=None, max_leaf_nodes=18, min_samples_leaf=1, min_samples_split=5, splitter=best; total time=   0.0s\n",
            "[CV] END criterion=gini, max_depth=7, max_features=None, max_leaf_nodes=18, min_samples_leaf=1, min_samples_split=5, splitter=best; total time=   0.0s\n",
            "[CV] END criterion=gini, max_depth=7, max_features=None, max_leaf_nodes=18, min_samples_leaf=1, min_samples_split=5, splitter=best; total time=   0.0s\n",
            "[CV] END criterion=gini, max_depth=5, max_features=sqrt, max_leaf_nodes=10, min_samples_leaf=1, min_samples_split=20, splitter=best; total time=   0.0s\n",
            "[CV] END criterion=gini, max_depth=5, max_features=sqrt, max_leaf_nodes=10, min_samples_leaf=1, min_samples_split=20, splitter=best; total time=   0.0s\n",
            "[CV] END criterion=gini, max_depth=5, max_features=sqrt, max_leaf_nodes=10, min_samples_leaf=1, min_samples_split=20, splitter=best; total time=   0.0s\n",
            "[CV] END criterion=gini, max_depth=19, max_features=log2, max_leaf_nodes=18, min_samples_leaf=1, min_samples_split=2, splitter=best; total time=   0.0s\n",
            "[CV] END criterion=gini, max_depth=19, max_features=log2, max_leaf_nodes=18, min_samples_leaf=1, min_samples_split=2, splitter=best; total time=   0.0s\n",
            "[CV] END criterion=gini, max_depth=19, max_features=log2, max_leaf_nodes=18, min_samples_leaf=1, min_samples_split=2, splitter=best; total time=   0.0s\n",
            "[CV] END criterion=gini, max_depth=4, max_features=log2, max_leaf_nodes=8, min_samples_leaf=1, min_samples_split=2, splitter=random; total time=   0.0s\n",
            "[CV] END criterion=gini, max_depth=4, max_features=log2, max_leaf_nodes=8, min_samples_leaf=1, min_samples_split=2, splitter=random; total time=   0.0s\n",
            "[CV] END criterion=gini, max_depth=4, max_features=log2, max_leaf_nodes=8, min_samples_leaf=1, min_samples_split=2, splitter=random; total time=   0.0s\n",
            "[CV] END criterion=entropy, max_depth=16, max_features=None, max_leaf_nodes=15, min_samples_leaf=8, min_samples_split=5, splitter=best; total time=   0.0s\n",
            "[CV] END criterion=entropy, max_depth=16, max_features=None, max_leaf_nodes=15, min_samples_leaf=8, min_samples_split=5, splitter=best; total time=   0.0s\n",
            "[CV] END criterion=entropy, max_depth=16, max_features=None, max_leaf_nodes=15, min_samples_leaf=8, min_samples_split=5, splitter=best; total time=   0.0s\n",
            "[CV] END criterion=gini, max_depth=17, max_features=sqrt, max_leaf_nodes=9, min_samples_leaf=4, min_samples_split=20, splitter=best; total time=   0.0s\n",
            "[CV] END criterion=gini, max_depth=17, max_features=sqrt, max_leaf_nodes=9, min_samples_leaf=4, min_samples_split=20, splitter=best; total time=   0.0s\n",
            "[CV] END criterion=gini, max_depth=17, max_features=sqrt, max_leaf_nodes=9, min_samples_leaf=4, min_samples_split=20, splitter=best; total time=   0.0s\n",
            "[CV] END criterion=entropy, max_depth=7, max_features=log2, max_leaf_nodes=14, min_samples_leaf=8, min_samples_split=2, splitter=best; total time=   0.0s\n",
            "[CV] END criterion=entropy, max_depth=7, max_features=log2, max_leaf_nodes=14, min_samples_leaf=8, min_samples_split=2, splitter=best; total time=   0.0s\n",
            "[CV] END criterion=entropy, max_depth=7, max_features=log2, max_leaf_nodes=14, min_samples_leaf=8, min_samples_split=2, splitter=best; total time=   0.0s\n",
            "[CV] END criterion=gini, max_depth=18, max_features=log2, max_leaf_nodes=4, min_samples_leaf=1, min_samples_split=20, splitter=best; total time=   0.0s\n",
            "[CV] END criterion=gini, max_depth=18, max_features=log2, max_leaf_nodes=4, min_samples_leaf=1, min_samples_split=20, splitter=best; total time=   0.0s\n",
            "[CV] END criterion=gini, max_depth=18, max_features=log2, max_leaf_nodes=4, min_samples_leaf=1, min_samples_split=20, splitter=best; total time=   0.0s\n",
            "[CV] END criterion=entropy, max_depth=1, max_features=log2, max_leaf_nodes=11, min_samples_leaf=8, min_samples_split=20, splitter=best; total time=   0.0s\n",
            "[CV] END criterion=entropy, max_depth=1, max_features=log2, max_leaf_nodes=11, min_samples_leaf=8, min_samples_split=20, splitter=best; total time=   0.0s\n",
            "[CV] END criterion=entropy, max_depth=1, max_features=log2, max_leaf_nodes=11, min_samples_leaf=8, min_samples_split=20, splitter=best; total time=   0.0s\n",
            "[CV] END criterion=gini, max_depth=14, max_features=sqrt, max_leaf_nodes=3, min_samples_leaf=2, min_samples_split=5, splitter=best; total time=   0.0s\n",
            "[CV] END criterion=gini, max_depth=14, max_features=sqrt, max_leaf_nodes=3, min_samples_leaf=2, min_samples_split=5, splitter=best; total time=   0.0s\n",
            "[CV] END criterion=gini, max_depth=14, max_features=sqrt, max_leaf_nodes=3, min_samples_leaf=2, min_samples_split=5, splitter=best; total time=   0.0s\n",
            "CPU times: user 2.98 s, sys: 22.4 ms, total: 3 s\n",
            "Wall time: 3.16 s\n"
          ]
        },
        {
          "output_type": "execute_result",
          "data": {
            "text/plain": [
              "RandomizedSearchCV(cv=3, estimator=DecisionTreeClassifier(random_state=42),\n",
              "                   n_iter=40,\n",
              "                   param_distributions={'criterion': ['gini', 'entropy'],\n",
              "                                        'max_depth': array([ 1,  2,  3,  4,  5,  6,  7,  8,  9, 10, 11, 12, 13, 14, 15, 16, 17,\n",
              "       18, 19]),\n",
              "                                        'max_features': [None, 'sqrt', 'log2'],\n",
              "                                        'max_leaf_nodes': array([ 2,  3,  4,  5,  6,  7,  8,  9, 10, 11, 12, 13, 14, 15, 16, 17, 18,\n",
              "       19]),\n",
              "                                        'min_samples_leaf': [1, 2, 4, 8],\n",
              "                                        'min_samples_split': [2, 5, 10, 20],\n",
              "                                        'splitter': ['best', 'random']},\n",
              "                   scoring='roc_auc', verbose=2)"
            ],
            "text/html": [
              "<style>#sk-container-id-9 {color: black;background-color: white;}#sk-container-id-9 pre{padding: 0;}#sk-container-id-9 div.sk-toggleable {background-color: white;}#sk-container-id-9 label.sk-toggleable__label {cursor: pointer;display: block;width: 100%;margin-bottom: 0;padding: 0.3em;box-sizing: border-box;text-align: center;}#sk-container-id-9 label.sk-toggleable__label-arrow:before {content: \"▸\";float: left;margin-right: 0.25em;color: #696969;}#sk-container-id-9 label.sk-toggleable__label-arrow:hover:before {color: black;}#sk-container-id-9 div.sk-estimator:hover label.sk-toggleable__label-arrow:before {color: black;}#sk-container-id-9 div.sk-toggleable__content {max-height: 0;max-width: 0;overflow: hidden;text-align: left;background-color: #f0f8ff;}#sk-container-id-9 div.sk-toggleable__content pre {margin: 0.2em;color: black;border-radius: 0.25em;background-color: #f0f8ff;}#sk-container-id-9 input.sk-toggleable__control:checked~div.sk-toggleable__content {max-height: 200px;max-width: 100%;overflow: auto;}#sk-container-id-9 input.sk-toggleable__control:checked~label.sk-toggleable__label-arrow:before {content: \"▾\";}#sk-container-id-9 div.sk-estimator input.sk-toggleable__control:checked~label.sk-toggleable__label {background-color: #d4ebff;}#sk-container-id-9 div.sk-label input.sk-toggleable__control:checked~label.sk-toggleable__label {background-color: #d4ebff;}#sk-container-id-9 input.sk-hidden--visually {border: 0;clip: rect(1px 1px 1px 1px);clip: rect(1px, 1px, 1px, 1px);height: 1px;margin: -1px;overflow: hidden;padding: 0;position: absolute;width: 1px;}#sk-container-id-9 div.sk-estimator {font-family: monospace;background-color: #f0f8ff;border: 1px dotted black;border-radius: 0.25em;box-sizing: border-box;margin-bottom: 0.5em;}#sk-container-id-9 div.sk-estimator:hover {background-color: #d4ebff;}#sk-container-id-9 div.sk-parallel-item::after {content: \"\";width: 100%;border-bottom: 1px solid gray;flex-grow: 1;}#sk-container-id-9 div.sk-label:hover label.sk-toggleable__label {background-color: #d4ebff;}#sk-container-id-9 div.sk-serial::before {content: \"\";position: absolute;border-left: 1px solid gray;box-sizing: border-box;top: 0;bottom: 0;left: 50%;z-index: 0;}#sk-container-id-9 div.sk-serial {display: flex;flex-direction: column;align-items: center;background-color: white;padding-right: 0.2em;padding-left: 0.2em;position: relative;}#sk-container-id-9 div.sk-item {position: relative;z-index: 1;}#sk-container-id-9 div.sk-parallel {display: flex;align-items: stretch;justify-content: center;background-color: white;position: relative;}#sk-container-id-9 div.sk-item::before, #sk-container-id-9 div.sk-parallel-item::before {content: \"\";position: absolute;border-left: 1px solid gray;box-sizing: border-box;top: 0;bottom: 0;left: 50%;z-index: -1;}#sk-container-id-9 div.sk-parallel-item {display: flex;flex-direction: column;z-index: 1;position: relative;background-color: white;}#sk-container-id-9 div.sk-parallel-item:first-child::after {align-self: flex-end;width: 50%;}#sk-container-id-9 div.sk-parallel-item:last-child::after {align-self: flex-start;width: 50%;}#sk-container-id-9 div.sk-parallel-item:only-child::after {width: 0;}#sk-container-id-9 div.sk-dashed-wrapped {border: 1px dashed gray;margin: 0 0.4em 0.5em 0.4em;box-sizing: border-box;padding-bottom: 0.4em;background-color: white;}#sk-container-id-9 div.sk-label label {font-family: monospace;font-weight: bold;display: inline-block;line-height: 1.2em;}#sk-container-id-9 div.sk-label-container {text-align: center;}#sk-container-id-9 div.sk-container {/* jupyter's `normalize.less` sets `[hidden] { display: none; }` but bootstrap.min.css set `[hidden] { display: none !important; }` so we also need the `!important` here to be able to override the default hidden behavior on the sphinx rendered scikit-learn.org. See: https://github.com/scikit-learn/scikit-learn/issues/21755 */display: inline-block !important;position: relative;}#sk-container-id-9 div.sk-text-repr-fallback {display: none;}</style><div id=\"sk-container-id-9\" class=\"sk-top-container\"><div class=\"sk-text-repr-fallback\"><pre>RandomizedSearchCV(cv=3, estimator=DecisionTreeClassifier(random_state=42),\n",
              "                   n_iter=40,\n",
              "                   param_distributions={&#x27;criterion&#x27;: [&#x27;gini&#x27;, &#x27;entropy&#x27;],\n",
              "                                        &#x27;max_depth&#x27;: array([ 1,  2,  3,  4,  5,  6,  7,  8,  9, 10, 11, 12, 13, 14, 15, 16, 17,\n",
              "       18, 19]),\n",
              "                                        &#x27;max_features&#x27;: [None, &#x27;sqrt&#x27;, &#x27;log2&#x27;],\n",
              "                                        &#x27;max_leaf_nodes&#x27;: array([ 2,  3,  4,  5,  6,  7,  8,  9, 10, 11, 12, 13, 14, 15, 16, 17, 18,\n",
              "       19]),\n",
              "                                        &#x27;min_samples_leaf&#x27;: [1, 2, 4, 8],\n",
              "                                        &#x27;min_samples_split&#x27;: [2, 5, 10, 20],\n",
              "                                        &#x27;splitter&#x27;: [&#x27;best&#x27;, &#x27;random&#x27;]},\n",
              "                   scoring=&#x27;roc_auc&#x27;, verbose=2)</pre><b>In a Jupyter environment, please rerun this cell to show the HTML representation or trust the notebook. <br />On GitHub, the HTML representation is unable to render, please try loading this page with nbviewer.org.</b></div><div class=\"sk-container\" hidden><div class=\"sk-item sk-dashed-wrapped\"><div class=\"sk-label-container\"><div class=\"sk-label sk-toggleable\"><input class=\"sk-toggleable__control sk-hidden--visually\" id=\"sk-estimator-id-15\" type=\"checkbox\" ><label for=\"sk-estimator-id-15\" class=\"sk-toggleable__label sk-toggleable__label-arrow\">RandomizedSearchCV</label><div class=\"sk-toggleable__content\"><pre>RandomizedSearchCV(cv=3, estimator=DecisionTreeClassifier(random_state=42),\n",
              "                   n_iter=40,\n",
              "                   param_distributions={&#x27;criterion&#x27;: [&#x27;gini&#x27;, &#x27;entropy&#x27;],\n",
              "                                        &#x27;max_depth&#x27;: array([ 1,  2,  3,  4,  5,  6,  7,  8,  9, 10, 11, 12, 13, 14, 15, 16, 17,\n",
              "       18, 19]),\n",
              "                                        &#x27;max_features&#x27;: [None, &#x27;sqrt&#x27;, &#x27;log2&#x27;],\n",
              "                                        &#x27;max_leaf_nodes&#x27;: array([ 2,  3,  4,  5,  6,  7,  8,  9, 10, 11, 12, 13, 14, 15, 16, 17, 18,\n",
              "       19]),\n",
              "                                        &#x27;min_samples_leaf&#x27;: [1, 2, 4, 8],\n",
              "                                        &#x27;min_samples_split&#x27;: [2, 5, 10, 20],\n",
              "                                        &#x27;splitter&#x27;: [&#x27;best&#x27;, &#x27;random&#x27;]},\n",
              "                   scoring=&#x27;roc_auc&#x27;, verbose=2)</pre></div></div></div><div class=\"sk-parallel\"><div class=\"sk-parallel-item\"><div class=\"sk-item\"><div class=\"sk-label-container\"><div class=\"sk-label sk-toggleable\"><input class=\"sk-toggleable__control sk-hidden--visually\" id=\"sk-estimator-id-16\" type=\"checkbox\" ><label for=\"sk-estimator-id-16\" class=\"sk-toggleable__label sk-toggleable__label-arrow\">estimator: DecisionTreeClassifier</label><div class=\"sk-toggleable__content\"><pre>DecisionTreeClassifier(random_state=42)</pre></div></div></div><div class=\"sk-serial\"><div class=\"sk-item\"><div class=\"sk-estimator sk-toggleable\"><input class=\"sk-toggleable__control sk-hidden--visually\" id=\"sk-estimator-id-17\" type=\"checkbox\" ><label for=\"sk-estimator-id-17\" class=\"sk-toggleable__label sk-toggleable__label-arrow\">DecisionTreeClassifier</label><div class=\"sk-toggleable__content\"><pre>DecisionTreeClassifier(random_state=42)</pre></div></div></div></div></div></div></div></div></div></div>"
            ]
          },
          "metadata": {},
          "execution_count": 37
        }
      ]
    },
    {
      "cell_type": "code",
      "source": [
        "display(search.best_estimator_, search.best_score_)"
      ],
      "metadata": {
        "colab": {
          "base_uri": "https://localhost:8080/",
          "height": 127
        },
        "id": "knvIV8QcGG-3",
        "outputId": "302a9fcb-2aac-4247-fad6-6ca5d6d28561"
      },
      "execution_count": 38,
      "outputs": [
        {
          "output_type": "display_data",
          "data": {
            "text/plain": [
              "DecisionTreeClassifier(criterion='entropy', max_depth=16, max_leaf_nodes=15,\n",
              "                       min_samples_leaf=8, min_samples_split=5,\n",
              "                       random_state=42)"
            ],
            "text/html": [
              "<style>#sk-container-id-10 {color: black;background-color: white;}#sk-container-id-10 pre{padding: 0;}#sk-container-id-10 div.sk-toggleable {background-color: white;}#sk-container-id-10 label.sk-toggleable__label {cursor: pointer;display: block;width: 100%;margin-bottom: 0;padding: 0.3em;box-sizing: border-box;text-align: center;}#sk-container-id-10 label.sk-toggleable__label-arrow:before {content: \"▸\";float: left;margin-right: 0.25em;color: #696969;}#sk-container-id-10 label.sk-toggleable__label-arrow:hover:before {color: black;}#sk-container-id-10 div.sk-estimator:hover label.sk-toggleable__label-arrow:before {color: black;}#sk-container-id-10 div.sk-toggleable__content {max-height: 0;max-width: 0;overflow: hidden;text-align: left;background-color: #f0f8ff;}#sk-container-id-10 div.sk-toggleable__content pre {margin: 0.2em;color: black;border-radius: 0.25em;background-color: #f0f8ff;}#sk-container-id-10 input.sk-toggleable__control:checked~div.sk-toggleable__content {max-height: 200px;max-width: 100%;overflow: auto;}#sk-container-id-10 input.sk-toggleable__control:checked~label.sk-toggleable__label-arrow:before {content: \"▾\";}#sk-container-id-10 div.sk-estimator input.sk-toggleable__control:checked~label.sk-toggleable__label {background-color: #d4ebff;}#sk-container-id-10 div.sk-label input.sk-toggleable__control:checked~label.sk-toggleable__label {background-color: #d4ebff;}#sk-container-id-10 input.sk-hidden--visually {border: 0;clip: rect(1px 1px 1px 1px);clip: rect(1px, 1px, 1px, 1px);height: 1px;margin: -1px;overflow: hidden;padding: 0;position: absolute;width: 1px;}#sk-container-id-10 div.sk-estimator {font-family: monospace;background-color: #f0f8ff;border: 1px dotted black;border-radius: 0.25em;box-sizing: border-box;margin-bottom: 0.5em;}#sk-container-id-10 div.sk-estimator:hover {background-color: #d4ebff;}#sk-container-id-10 div.sk-parallel-item::after {content: \"\";width: 100%;border-bottom: 1px solid gray;flex-grow: 1;}#sk-container-id-10 div.sk-label:hover label.sk-toggleable__label {background-color: #d4ebff;}#sk-container-id-10 div.sk-serial::before {content: \"\";position: absolute;border-left: 1px solid gray;box-sizing: border-box;top: 0;bottom: 0;left: 50%;z-index: 0;}#sk-container-id-10 div.sk-serial {display: flex;flex-direction: column;align-items: center;background-color: white;padding-right: 0.2em;padding-left: 0.2em;position: relative;}#sk-container-id-10 div.sk-item {position: relative;z-index: 1;}#sk-container-id-10 div.sk-parallel {display: flex;align-items: stretch;justify-content: center;background-color: white;position: relative;}#sk-container-id-10 div.sk-item::before, #sk-container-id-10 div.sk-parallel-item::before {content: \"\";position: absolute;border-left: 1px solid gray;box-sizing: border-box;top: 0;bottom: 0;left: 50%;z-index: -1;}#sk-container-id-10 div.sk-parallel-item {display: flex;flex-direction: column;z-index: 1;position: relative;background-color: white;}#sk-container-id-10 div.sk-parallel-item:first-child::after {align-self: flex-end;width: 50%;}#sk-container-id-10 div.sk-parallel-item:last-child::after {align-self: flex-start;width: 50%;}#sk-container-id-10 div.sk-parallel-item:only-child::after {width: 0;}#sk-container-id-10 div.sk-dashed-wrapped {border: 1px dashed gray;margin: 0 0.4em 0.5em 0.4em;box-sizing: border-box;padding-bottom: 0.4em;background-color: white;}#sk-container-id-10 div.sk-label label {font-family: monospace;font-weight: bold;display: inline-block;line-height: 1.2em;}#sk-container-id-10 div.sk-label-container {text-align: center;}#sk-container-id-10 div.sk-container {/* jupyter's `normalize.less` sets `[hidden] { display: none; }` but bootstrap.min.css set `[hidden] { display: none !important; }` so we also need the `!important` here to be able to override the default hidden behavior on the sphinx rendered scikit-learn.org. See: https://github.com/scikit-learn/scikit-learn/issues/21755 */display: inline-block !important;position: relative;}#sk-container-id-10 div.sk-text-repr-fallback {display: none;}</style><div id=\"sk-container-id-10\" class=\"sk-top-container\"><div class=\"sk-text-repr-fallback\"><pre>DecisionTreeClassifier(criterion=&#x27;entropy&#x27;, max_depth=16, max_leaf_nodes=15,\n",
              "                       min_samples_leaf=8, min_samples_split=5,\n",
              "                       random_state=42)</pre><b>In a Jupyter environment, please rerun this cell to show the HTML representation or trust the notebook. <br />On GitHub, the HTML representation is unable to render, please try loading this page with nbviewer.org.</b></div><div class=\"sk-container\" hidden><div class=\"sk-item\"><div class=\"sk-estimator sk-toggleable\"><input class=\"sk-toggleable__control sk-hidden--visually\" id=\"sk-estimator-id-18\" type=\"checkbox\" checked><label for=\"sk-estimator-id-18\" class=\"sk-toggleable__label sk-toggleable__label-arrow\">DecisionTreeClassifier</label><div class=\"sk-toggleable__content\"><pre>DecisionTreeClassifier(criterion=&#x27;entropy&#x27;, max_depth=16, max_leaf_nodes=15,\n",
              "                       min_samples_leaf=8, min_samples_split=5,\n",
              "                       random_state=42)</pre></div></div></div></div></div>"
            ]
          },
          "metadata": {}
        },
        {
          "output_type": "display_data",
          "data": {
            "text/plain": [
              "0.9127109261290052"
            ]
          },
          "metadata": {}
        }
      ]
    },
    {
      "cell_type": "markdown",
      "source": [
        "##Завдання 5"
      ],
      "metadata": {
        "id": "slxBbtwG9II-"
      }
    },
    {
      "cell_type": "markdown",
      "source": [
        "5. Якщо у Вас вийшла метрика `AUROC` в цій серії експериментів - зробіть ще один `submission` на Kaggle і додайте код для цього і скріншот скора на публічному лідерборді нижче.\n",
        "\n",
        "  Сподіваюсь на цьому етапі ви вже відчули себе справжнім дослідником 😉"
      ],
      "metadata": {
        "id": "XArADR2CG8VK"
      }
    },
    {
      "cell_type": "markdown",
      "source": [
        "###Prunning"
      ],
      "metadata": {
        "id": "BA3kENfJXWJ3"
      }
    },
    {
      "cell_type": "code",
      "source": [
        "tree_prun = DecisionTreeClassifier(max_depth=5, random_state=42)\n",
        "path = tree_prun.cost_complexity_pruning_path(X_train, train_targets)\n",
        "ccp_alphas, impurities = path.ccp_alphas, path.impurities"
      ],
      "metadata": {
        "id": "Rb26LYOmPy69"
      },
      "execution_count": 217,
      "outputs": []
    },
    {
      "cell_type": "code",
      "source": [
        "fig, ax = plt.subplots()\n",
        "ax.plot(ccp_alphas[:-1], impurities[:-1], marker=\"o\", drawstyle=\"steps-post\")\n",
        "ax.set_xlabel(\"effective alpha\")\n",
        "ax.set_ylabel(\"total impurity of leaves\")\n",
        "ax.set_title(\"Total Impurity vs effective alpha for training set\");"
      ],
      "metadata": {
        "colab": {
          "base_uri": "https://localhost:8080/",
          "height": 578
        },
        "id": "o5oMyqDtQU7X",
        "outputId": "01cd3548-2198-474b-c876-877bdfbf68af"
      },
      "execution_count": 218,
      "outputs": [
        {
          "output_type": "display_data",
          "data": {
            "text/plain": [
              "<Figure size 1000x600 with 1 Axes>"
            ],
            "image/png": "[encoded data removed]"
          },
          "metadata": {
            "needs_background": "light"
          }
        }
      ]
    },
    {
      "cell_type": "code",
      "source": [
        "tree_pruns = []\n",
        "for ccp_alpha in ccp_alphas[-10:]:\n",
        "    tree_prun = DecisionTreeClassifier(random_state=42, ccp_alpha=ccp_alpha)\n",
        "    tree_prun.fit(X_train, train_targets)\n",
        "    tree_pruns.append(tree_prun)\n",
        "print(\n",
        "    \"Number of nodes in the last tree is: {} with ccp_alpha: {}\".format(\n",
        "        tree_pruns[-1].tree_.node_count, ccp_alphas[-1]\n",
        "    )\n",
        ")"
      ],
      "metadata": {
        "colab": {
          "base_uri": "https://localhost:8080/"
        },
        "id": "AL_Atrp8QgkZ",
        "outputId": "05453984-8cb4-4e99-8712-b13e31d6abe5"
      },
      "execution_count": 219,
      "outputs": [
        {
          "output_type": "stream",
          "name": "stdout",
          "text": [
            "Number of nodes in the last tree is: 3 with ccp_alpha: 0.07952674593174541\n"
          ]
        }
      ]
    },
    {
      "cell_type": "code",
      "source": [
        "train_scores = [tree_prun.score(X_train, train_targets) for tree_prun in tree_pruns]\n",
        "val_scores = [tree_prun.score(X_val, val_targets) for tree_prun in tree_pruns]\n",
        "\n",
        "fig, ax = plt.subplots()\n",
        "ax.set_xlabel(\"alpha\")\n",
        "ax.set_ylabel(\"accuracy\")\n",
        "ax.set_title(\"Accuracy vs alpha for training and testing sets\")\n",
        "ax.plot(ccp_alphas[-10:], train_scores, marker=\"o\", label=\"train\", drawstyle=\"steps-post\")\n",
        "ax.plot(ccp_alphas[-10:], val_scores, marker=\"o\", label=\"test\", drawstyle=\"steps-post\")\n",
        "ax.legend()\n",
        "plt.show()"
      ],
      "metadata": {
        "colab": {
          "base_uri": "https://localhost:8080/",
          "height": 578
        },
        "id": "GIY37y-mQkCK",
        "outputId": "5f133240-1be5-4476-d26e-d1d9ad11fedb"
      },
      "execution_count": 220,
      "outputs": [
        {
          "output_type": "display_data",
          "data": {
            "text/plain": [
              "<Figure size 1000x600 with 1 Axes>"
            ],
            "image/png": "[encoded data removed]"
          },
          "metadata": {
            "needs_background": "light"
          }
        }
      ]
    },
    {
      "cell_type": "code",
      "source": [
        "tree_prun = DecisionTreeClassifier(random_state=42, ccp_alpha=ccp_alphas[-18])\n",
        "tree_prun.fit(X_train, train_targets)"
      ],
      "metadata": {
        "colab": {
          "base_uri": "https://localhost:8080/",
          "height": 74
        },
        "id": "Uo2wwGQqEthj",
        "outputId": "7fea19a9-5d43-4432-c9e0-e115533e5bfb"
      },
      "execution_count": 237,
      "outputs": [
        {
          "output_type": "execute_result",
          "data": {
            "text/plain": [
              "DecisionTreeClassifier(ccp_alpha=0.00033508830396877104, random_state=42)"
            ],
            "text/html": [
              "<style>#sk-container-id-50 {color: black;background-color: white;}#sk-container-id-50 pre{padding: 0;}#sk-container-id-50 div.sk-toggleable {background-color: white;}#sk-container-id-50 label.sk-toggleable__label {cursor: pointer;display: block;width: 100%;margin-bottom: 0;padding: 0.3em;box-sizing: border-box;text-align: center;}#sk-container-id-50 label.sk-toggleable__label-arrow:before {content: \"▸\";float: left;margin-right: 0.25em;color: #696969;}#sk-container-id-50 label.sk-toggleable__label-arrow:hover:before {color: black;}#sk-container-id-50 div.sk-estimator:hover label.sk-toggleable__label-arrow:before {color: black;}#sk-container-id-50 div.sk-toggleable__content {max-height: 0;max-width: 0;overflow: hidden;text-align: left;background-color: #f0f8ff;}#sk-container-id-50 div.sk-toggleable__content pre {margin: 0.2em;color: black;border-radius: 0.25em;background-color: #f0f8ff;}#sk-container-id-50 input.sk-toggleable__control:checked~div.sk-toggleable__content {max-height: 200px;max-width: 100%;overflow: auto;}#sk-container-id-50 input.sk-toggleable__control:checked~label.sk-toggleable__label-arrow:before {content: \"▾\";}#sk-container-id-50 div.sk-estimator input.sk-toggleable__control:checked~label.sk-toggleable__label {background-color: #d4ebff;}#sk-container-id-50 div.sk-label input.sk-toggleable__control:checked~label.sk-toggleable__label {background-color: #d4ebff;}#sk-container-id-50 input.sk-hidden--visually {border: 0;clip: rect(1px 1px 1px 1px);clip: rect(1px, 1px, 1px, 1px);height: 1px;margin: -1px;overflow: hidden;padding: 0;position: absolute;width: 1px;}#sk-container-id-50 div.sk-estimator {font-family: monospace;background-color: #f0f8ff;border: 1px dotted black;border-radius: 0.25em;box-sizing: border-box;margin-bottom: 0.5em;}#sk-container-id-50 div.sk-estimator:hover {background-color: #d4ebff;}#sk-container-id-50 div.sk-parallel-item::after {content: \"\";width: 100%;border-bottom: 1px solid gray;flex-grow: 1;}#sk-container-id-50 div.sk-label:hover label.sk-toggleable__label {background-color: #d4ebff;}#sk-container-id-50 div.sk-serial::before {content: \"\";position: absolute;border-left: 1px solid gray;box-sizing: border-box;top: 0;bottom: 0;left: 50%;z-index: 0;}#sk-container-id-50 div.sk-serial {display: flex;flex-direction: column;align-items: center;background-color: white;padding-right: 0.2em;padding-left: 0.2em;position: relative;}#sk-container-id-50 div.sk-item {position: relative;z-index: 1;}#sk-container-id-50 div.sk-parallel {display: flex;align-items: stretch;justify-content: center;background-color: white;position: relative;}#sk-container-id-50 div.sk-item::before, #sk-container-id-50 div.sk-parallel-item::before {content: \"\";position: absolute;border-left: 1px solid gray;box-sizing: border-box;top: 0;bottom: 0;left: 50%;z-index: -1;}#sk-container-id-50 div.sk-parallel-item {display: flex;flex-direction: column;z-index: 1;position: relative;background-color: white;}#sk-container-id-50 div.sk-parallel-item:first-child::after {align-self: flex-end;width: 50%;}#sk-container-id-50 div.sk-parallel-item:last-child::after {align-self: flex-start;width: 50%;}#sk-container-id-50 div.sk-parallel-item:only-child::after {width: 0;}#sk-container-id-50 div.sk-dashed-wrapped {border: 1px dashed gray;margin: 0 0.4em 0.5em 0.4em;box-sizing: border-box;padding-bottom: 0.4em;background-color: white;}#sk-container-id-50 div.sk-label label {font-family: monospace;font-weight: bold;display: inline-block;line-height: 1.2em;}#sk-container-id-50 div.sk-label-container {text-align: center;}#sk-container-id-50 div.sk-container {/* jupyter's `normalize.less` sets `[hidden] { display: none; }` but bootstrap.min.css set `[hidden] { display: none !important; }` so we also need the `!important` here to be able to override the default hidden behavior on the sphinx rendered scikit-learn.org. See: https://github.com/scikit-learn/scikit-learn/issues/21755 */display: inline-block !important;position: relative;}#sk-container-id-50 div.sk-text-repr-fallback {display: none;}</style><div id=\"sk-container-id-50\" class=\"sk-top-container\"><div class=\"sk-text-repr-fallback\"><pre>DecisionTreeClassifier(ccp_alpha=0.00033508830396877104, random_state=42)</pre><b>In a Jupyter environment, please rerun this cell to show the HTML representation or trust the notebook. <br />On GitHub, the HTML representation is unable to render, please try loading this page with nbviewer.org.</b></div><div class=\"sk-container\" hidden><div class=\"sk-item\"><div class=\"sk-estimator sk-toggleable\"><input class=\"sk-toggleable__control sk-hidden--visually\" id=\"sk-estimator-id-60\" type=\"checkbox\" checked><label for=\"sk-estimator-id-60\" class=\"sk-toggleable__label sk-toggleable__label-arrow\">DecisionTreeClassifier</label><div class=\"sk-toggleable__content\"><pre>DecisionTreeClassifier(ccp_alpha=0.00033508830396877104, random_state=42)</pre></div></div></div></div></div>"
            ]
          },
          "metadata": {},
          "execution_count": 237
        }
      ]
    },
    {
      "cell_type": "code",
      "source": [
        "tree_prun.tree_.max_depth"
      ],
      "metadata": {
        "colab": {
          "base_uri": "https://localhost:8080/"
        },
        "id": "sKPvHo-LJMvV",
        "outputId": "f80dbe7f-1ff7-430a-96c1-d3ad4f6c9c39"
      },
      "execution_count": 239,
      "outputs": [
        {
          "output_type": "execute_result",
          "data": {
            "text/plain": [
              "8"
            ]
          },
          "metadata": {},
          "execution_count": 239
        }
      ]
    },
    {
      "cell_type": "code",
      "source": [
        "# пошук leaf nodes з моделі models_5_1\n",
        "leaf_nodes = tree_prun.tree_.n_leaves\n",
        "print(f'Number of leaf nodes: {leaf_nodes}')"
      ],
      "metadata": {
        "colab": {
          "base_uri": "https://localhost:8080/"
        },
        "id": "Sy2X3jS6Pb8M",
        "outputId": "f89ad931-c6a1-4f66-f5bf-02668ea29868"
      },
      "execution_count": 240,
      "outputs": [
        {
          "output_type": "stream",
          "name": "stdout",
          "text": [
            "Number of leaf nodes: 41\n"
          ]
        }
      ]
    },
    {
      "cell_type": "code",
      "source": [
        "count_auroc(tree_prun, X_train, X_val, train_targets, val_targets)"
      ],
      "metadata": {
        "colab": {
          "base_uri": "https://localhost:8080/"
        },
        "id": "yF60A3LsE7mb",
        "outputId": "1ff87b48-5079-4a62-a14a-421e8fd2fff8"
      },
      "execution_count": 238,
      "outputs": [
        {
          "output_type": "stream",
          "name": "stdout",
          "text": [
            "Train AUC: 0.9293\n",
            "Validation AUC: 0.9241\n"
          ]
        },
        {
          "output_type": "execute_result",
          "data": {
            "text/plain": [
              "(0.92927694858015, 0.9240733246450374)"
            ]
          },
          "metadata": {},
          "execution_count": 238
        }
      ]
    },
    {
      "cell_type": "markdown",
      "source": [
        "###Зведення метрик по моделях"
      ],
      "metadata": {
        "id": "NdQ5l4tbXeR3"
      }
    },
    {
      "cell_type": "code",
      "source": [
        "# Створення списку словників\n",
        "data_1 = [\n",
        "    {'Model': dt_best, 'Coment': 'за параметрами заданими в завданні', 'Max_depth': 5, 'Max_leaf_nodes': 9 },\n",
        "    {'Model': model_5_1, 'Coment': 'модель  з попереднього HW', 'Max_depth': 5, 'Max_leaf_nodes': 31 },\n",
        "    {'Model': dt_best_1, 'Coment': \"автопошук обох параметрів при розширені діапазону 'max_leaf_nodes': np.arange(2, 31, 1)\", 'Max_depth': 5, 'Max_leaf_nodes': 23 },\n",
        "    {'Model': model_5, 'Coment': 'модель за вручну підібраними обома параметрами', 'Max_depth': 5, 'Max_leaf_nodes': 26},\n",
        "    {'Model': knn, 'Coment': ' kNN з параметрами за замовченням', 'Max_depth': 0, 'Max_leaf_nodes': 0},\n",
        "    {'Model': knn_best, 'Coment': 'kNN з n_neighbors=7 ', 'Max_depth': 0, 'Max_leaf_nodes':0},\n",
        "    {'Model': tree_prun, 'Coment': 'дерево рішень з prunning ', 'Max_depth': 8, 'Max_leaf_nodes':41}\n",
        "]\n",
        "\n",
        "# Створення DataFrame\n",
        "df_1 = pd.DataFrame(data_1)"
      ],
      "metadata": {
        "id": "vadJfLlMF_V3"
      },
      "execution_count": 241,
      "outputs": []
    },
    {
      "cell_type": "code",
      "source": [
        "#розрахунок для тренувального набору AUROC\n",
        "df_1['AUROC_train'] = df_1['Model'].apply(lambda model: train_auc(model, X_train, X_val, train_targets, val_targets))"
      ],
      "metadata": {
        "id": "VrMdLo3NAGS4"
      },
      "execution_count": 242,
      "outputs": []
    },
    {
      "cell_type": "code",
      "source": [
        "#розрахунок для валідаційного набору AUROC\n",
        "df_1['AUROC_val'] = df_1['Model'].apply(lambda model: val_auc(model, X_train, X_val, train_targets, val_targets))"
      ],
      "metadata": {
        "id": "-LxEQb2J9lWm"
      },
      "execution_count": 243,
      "outputs": []
    },
    {
      "cell_type": "code",
      "source": [
        "df_1.head(7)"
      ],
      "metadata": {
        "colab": {
          "base_uri": "https://localhost:8080/",
          "height": 269
        },
        "id": "e26itG6h_H2w",
        "outputId": "df0f506c-b9b8-4206-8d66-82d83ed10660"
      },
      "execution_count": 244,
      "outputs": [
        {
          "output_type": "execute_result",
          "data": {
            "text/plain": [
              "                                               Model  \\\n",
              "0  DecisionTreeClassifier(max_depth=5, max_leaf_n...   \n",
              "1  DecisionTreeClassifier(max_depth=5, random_sta...   \n",
              "2  DecisionTreeClassifier(max_depth=5, max_leaf_n...   \n",
              "3  DecisionTreeClassifier(max_depth=5, max_leaf_n...   \n",
              "4                             KNeighborsClassifier()   \n",
              "5                KNeighborsClassifier(n_neighbors=7)   \n",
              "6  DecisionTreeClassifier(ccp_alpha=0.00033508830...   \n",
              "\n",
              "                                              Coment  Max_depth  \\\n",
              "0                 за параметрами заданими в завданні          5   \n",
              "1                          модель  з попереднього HW          5   \n",
              "2  автопошук обох параметрів при розширені діапаз...          5   \n",
              "3     модель за вручну підібраними обома параметрами          5   \n",
              "4                   kNN з параметрами за замовченням          0   \n",
              "5                               kNN з n_neighbors=7           0   \n",
              "6                          дерево рішень з prunning           8   \n",
              "\n",
              "   Max_leaf_nodes  AUROC_train  AUROC_val  \n",
              "0               9     0.900323   0.895097  \n",
              "1              31     0.924593   0.922418  \n",
              "2              23     0.921718   0.919586  \n",
              "3              26     0.924364   0.922168  \n",
              "4               0     0.954510   0.866178  \n",
              "5               0     0.945945   0.880327  \n",
              "6              41     0.929277   0.924073  "
            ],
            "text/html": [
              "\n",
              "  <div id=\"df-37dd10eb-8c58-4237-a471-1a5d380153a2\" class=\"colab-df-container\">\n",
              "    <div>\n",
              "<style scoped>\n",
              "    .dataframe tbody tr th:only-of-type {\n",
              "        vertical-align: middle;\n",
              "    }\n",
              "\n",
              "    .dataframe tbody tr th {\n",
              "        vertical-align: top;\n",
              "    }\n",
              "\n",
              "    .dataframe thead th {\n",
              "        text-align: right;\n",
              "    }\n",
              "</style>\n",
              "<table border=\"1\" class=\"dataframe\">\n",
              "  <thead>\n",
              "    <tr style=\"text-align: right;\">\n",
              "      <th></th>\n",
              "      <th>Model</th>\n",
              "      <th>Coment</th>\n",
              "      <th>Max_depth</th>\n",
              "      <th>Max_leaf_nodes</th>\n",
              "      <th>AUROC_train</th>\n",
              "      <th>AUROC_val</th>\n",
              "    </tr>\n",
              "  </thead>\n",
              "  <tbody>\n",
              "    <tr>\n",
              "      <th>0</th>\n",
              "      <td>DecisionTreeClassifier(max_depth=5, max_leaf_n...</td>\n",
              "      <td>за параметрами заданими в завданні</td>\n",
              "      <td>5</td>\n",
              "      <td>9</td>\n",
              "      <td>0.900323</td>\n",
              "      <td>0.895097</td>\n",
              "    </tr>\n",
              "    <tr>\n",
              "      <th>1</th>\n",
              "      <td>DecisionTreeClassifier(max_depth=5, random_sta...</td>\n",
              "      <td>модель  з попереднього HW</td>\n",
              "      <td>5</td>\n",
              "      <td>31</td>\n",
              "      <td>0.924593</td>\n",
              "      <td>0.922418</td>\n",
              "    </tr>\n",
              "    <tr>\n",
              "      <th>2</th>\n",
              "      <td>DecisionTreeClassifier(max_depth=5, max_leaf_n...</td>\n",
              "      <td>автопошук обох параметрів при розширені діапаз...</td>\n",
              "      <td>5</td>\n",
              "      <td>23</td>\n",
              "      <td>0.921718</td>\n",
              "      <td>0.919586</td>\n",
              "    </tr>\n",
              "    <tr>\n",
              "      <th>3</th>\n",
              "      <td>DecisionTreeClassifier(max_depth=5, max_leaf_n...</td>\n",
              "      <td>модель за вручну підібраними обома параметрами</td>\n",
              "      <td>5</td>\n",
              "      <td>26</td>\n",
              "      <td>0.924364</td>\n",
              "      <td>0.922168</td>\n",
              "    </tr>\n",
              "    <tr>\n",
              "      <th>4</th>\n",
              "      <td>KNeighborsClassifier()</td>\n",
              "      <td>kNN з параметрами за замовченням</td>\n",
              "      <td>0</td>\n",
              "      <td>0</td>\n",
              "      <td>0.954510</td>\n",
              "      <td>0.866178</td>\n",
              "    </tr>\n",
              "    <tr>\n",
              "      <th>5</th>\n",
              "      <td>KNeighborsClassifier(n_neighbors=7)</td>\n",
              "      <td>kNN з n_neighbors=7</td>\n",
              "      <td>0</td>\n",
              "      <td>0</td>\n",
              "      <td>0.945945</td>\n",
              "      <td>0.880327</td>\n",
              "    </tr>\n",
              "    <tr>\n",
              "      <th>6</th>\n",
              "      <td>DecisionTreeClassifier(ccp_alpha=0.00033508830...</td>\n",
              "      <td>дерево рішень з prunning</td>\n",
              "      <td>8</td>\n",
              "      <td>41</td>\n",
              "      <td>0.929277</td>\n",
              "      <td>0.924073</td>\n",
              "    </tr>\n",
              "  </tbody>\n",
              "</table>\n",
              "</div>\n",
              "    <div class=\"colab-df-buttons\">\n",
              "\n",
              "  <div class=\"colab-df-container\">\n",
              "    <button class=\"colab-df-convert\" onclick=\"convertToInteractive('df-37dd10eb-8c58-4237-a471-1a5d380153a2')\"\n",
              "            title=\"Convert this dataframe to an interactive table.\"\n",
              "            style=\"display:none;\">\n",
              "\n",
              "  <svg xmlns=\"http://www.w3.org/2000/svg\" height=\"24px\" viewBox=\"0 -960 960 960\">\n",
              "    <path d=\"M120-120v-720h720v720H120Zm60-500h600v-160H180v160Zm220 220h160v-160H400v160Zm0 220h160v-160H400v160ZM180-400h160v-160H180v160Zm440 0h160v-160H620v160ZM180-180h160v-160H180v160Zm440 0h160v-160H620v160Z\"/>\n",
              "  </svg>\n",
              "    </button>\n",
              "\n",
              "  <style>\n",
              "    .colab-df-container {\n",
              "      display:flex;\n",
              "      gap: 12px;\n",
              "    }\n",
              "\n",
              "    .colab-df-convert {\n",
              "      background-color: #E8F0FE;\n",
              "      border: none;\n",
              "      border-radius: 50%;\n",
              "      cursor: pointer;\n",
              "      display: none;\n",
              "      fill: #1967D2;\n",
              "      height: 32px;\n",
              "      padding: 0 0 0 0;\n",
              "      width: 32px;\n",
              "    }\n",
              "\n",
              "    .colab-df-convert:hover {\n",
              "      background-color: #E2EBFA;\n",
              "      box-shadow: 0px 1px 2px rgba(60, 64, 67, 0.3), 0px 1px 3px 1px rgba(60, 64, 67, 0.15);\n",
              "      fill: #174EA6;\n",
              "    }\n",
              "\n",
              "    .colab-df-buttons div {\n",
              "      margin-bottom: 4px;\n",
              "    }\n",
              "\n",
              "    [theme=dark] .colab-df-convert {\n",
              "      background-color: #3B4455;\n",
              "      fill: #D2E3FC;\n",
              "    }\n",
              "\n",
              "    [theme=dark] .colab-df-convert:hover {\n",
              "      background-color: #434B5C;\n",
              "      box-shadow: 0px 1px 3px 1px rgba(0, 0, 0, 0.15);\n",
              "      filter: drop-shadow(0px 1px 2px rgba(0, 0, 0, 0.3));\n",
              "      fill: #FFFFFF;\n",
              "    }\n",
              "  </style>\n",
              "\n",
              "    <script>\n",
              "      const buttonEl =\n",
              "        document.querySelector('#df-37dd10eb-8c58-4237-a471-1a5d380153a2 button.colab-df-convert');\n",
              "      buttonEl.style.display =\n",
              "        google.colab.kernel.accessAllowed ? 'block' : 'none';\n",
              "\n",
              "      async function convertToInteractive(key) {\n",
              "        const element = document.querySelector('#df-37dd10eb-8c58-4237-a471-1a5d380153a2');\n",
              "        const dataTable =\n",
              "          await google.colab.kernel.invokeFunction('convertToInteractive',\n",
              "                                                    [key], {});\n",
              "        if (!dataTable) return;\n",
              "\n",
              "        const docLinkHtml = 'Like what you see? Visit the ' +\n",
              "          '<a target=\"_blank\" href=https://colab.research.google.com/notebooks/data_table.ipynb>data table notebook</a>'\n",
              "          + ' to learn more about interactive tables.';\n",
              "        element.innerHTML = '';\n",
              "        dataTable['output_type'] = 'display_data';\n",
              "        await google.colab.output.renderOutput(dataTable, element);\n",
              "        const docLink = document.createElement('div');\n",
              "        docLink.innerHTML = docLinkHtml;\n",
              "        element.appendChild(docLink);\n",
              "      }\n",
              "    </script>\n",
              "  </div>\n",
              "\n",
              "\n",
              "<div id=\"df-f61e89e0-f264-45a2-b62c-b457dc0eb22c\">\n",
              "  <button class=\"colab-df-quickchart\" onclick=\"quickchart('df-f61e89e0-f264-45a2-b62c-b457dc0eb22c')\"\n",
              "            title=\"Suggest charts\"\n",
              "            style=\"display:none;\">\n",
              "\n",
              "<svg xmlns=\"http://www.w3.org/2000/svg\" height=\"24px\"viewBox=\"0 0 24 24\"\n",
              "     width=\"24px\">\n",
              "    <g>\n",
              "        <path d=\"M19 3H5c-1.1 0-2 .9-2 2v14c0 1.1.9 2 2 2h14c1.1 0 2-.9 2-2V5c0-1.1-.9-2-2-2zM9 17H7v-7h2v7zm4 0h-2V7h2v10zm4 0h-2v-4h2v4z\"/>\n",
              "    </g>\n",
              "</svg>\n",
              "  </button>\n",
              "\n",
              "<style>\n",
              "  .colab-df-quickchart {\n",
              "      --bg-color: #E8F0FE;\n",
              "      --fill-color: #1967D2;\n",
              "      --hover-bg-color: #E2EBFA;\n",
              "      --hover-fill-color: #174EA6;\n",
              "      --disabled-fill-color: #AAA;\n",
              "      --disabled-bg-color: #DDD;\n",
              "  }\n",
              "\n",
              "  [theme=dark] .colab-df-quickchart {\n",
              "      --bg-color: #3B4455;\n",
              "      --fill-color: #D2E3FC;\n",
              "      --hover-bg-color: #434B5C;\n",
              "      --hover-fill-color: #FFFFFF;\n",
              "      --disabled-bg-color: #3B4455;\n",
              "      --disabled-fill-color: #666;\n",
              "  }\n",
              "\n",
              "  .colab-df-quickchart {\n",
              "    background-color: var(--bg-color);\n",
              "    border: none;\n",
              "    border-radius: 50%;\n",
              "    cursor: pointer;\n",
              "    display: none;\n",
              "    fill: var(--fill-color);\n",
              "    height: 32px;\n",
              "    padding: 0;\n",
              "    width: 32px;\n",
              "  }\n",
              "\n",
              "  .colab-df-quickchart:hover {\n",
              "    background-color: var(--hover-bg-color);\n",
              "    box-shadow: 0 1px 2px rgba(60, 64, 67, 0.3), 0 1px 3px 1px rgba(60, 64, 67, 0.15);\n",
              "    fill: var(--button-hover-fill-color);\n",
              "  }\n",
              "\n",
              "  .colab-df-quickchart-complete:disabled,\n",
              "  .colab-df-quickchart-complete:disabled:hover {\n",
              "    background-color: var(--disabled-bg-color);\n",
              "    fill: var(--disabled-fill-color);\n",
              "    box-shadow: none;\n",
              "  }\n",
              "\n",
              "  .colab-df-spinner {\n",
              "    border: 2px solid var(--fill-color);\n",
              "    border-color: transparent;\n",
              "    border-bottom-color: var(--fill-color);\n",
              "    animation:\n",
              "      spin 1s steps(1) infinite;\n",
              "  }\n",
              "\n",
              "  @keyframes spin {\n",
              "    0% {\n",
              "      border-color: transparent;\n",
              "      border-bottom-color: var(--fill-color);\n",
              "      border-left-color: var(--fill-color);\n",
              "    }\n",
              "    20% {\n",
              "      border-color: transparent;\n",
              "      border-left-color: var(--fill-color);\n",
              "      border-top-color: var(--fill-color);\n",
              "    }\n",
              "    30% {\n",
              "      border-color: transparent;\n",
              "      border-left-color: var(--fill-color);\n",
              "      border-top-color: var(--fill-color);\n",
              "      border-right-color: var(--fill-color);\n",
              "    }\n",
              "    40% {\n",
              "      border-color: transparent;\n",
              "      border-right-color: var(--fill-color);\n",
              "      border-top-color: var(--fill-color);\n",
              "    }\n",
              "    60% {\n",
              "      border-color: transparent;\n",
              "      border-right-color: var(--fill-color);\n",
              "    }\n",
              "    80% {\n",
              "      border-color: transparent;\n",
              "      border-right-color: var(--fill-color);\n",
              "      border-bottom-color: var(--fill-color);\n",
              "    }\n",
              "    90% {\n",
              "      border-color: transparent;\n",
              "      border-bottom-color: var(--fill-color);\n",
              "    }\n",
              "  }\n",
              "</style>\n",
              "\n",
              "  <script>\n",
              "    async function quickchart(key) {\n",
              "      const quickchartButtonEl =\n",
              "        document.querySelector('#' + key + ' button');\n",
              "      quickchartButtonEl.disabled = true;  // To prevent multiple clicks.\n",
              "      quickchartButtonEl.classList.add('colab-df-spinner');\n",
              "      try {\n",
              "        const charts = await google.colab.kernel.invokeFunction(\n",
              "            'suggestCharts', [key], {});\n",
              "      } catch (error) {\n",
              "        console.error('Error during call to suggestCharts:', error);\n",
              "      }\n",
              "      quickchartButtonEl.classList.remove('colab-df-spinner');\n",
              "      quickchartButtonEl.classList.add('colab-df-quickchart-complete');\n",
              "    }\n",
              "    (() => {\n",
              "      let quickchartButtonEl =\n",
              "        document.querySelector('#df-f61e89e0-f264-45a2-b62c-b457dc0eb22c button');\n",
              "      quickchartButtonEl.style.display =\n",
              "        google.colab.kernel.accessAllowed ? 'block' : 'none';\n",
              "    })();\n",
              "  </script>\n",
              "</div>\n",
              "    </div>\n",
              "  </div>\n"
            ],
            "application/vnd.google.colaboratory.intrinsic+json": {
              "type": "dataframe",
              "variable_name": "df_1",
              "summary": "{\n  \"name\": \"df_1\",\n  \"rows\": 7,\n  \"fields\": [\n    {\n      \"column\": \"Model\",\n      \"properties\": {\n        \"dtype\": \"string\",\n        \"num_unique_values\": 7,\n        \"samples\": [\n          \"DecisionTreeClassifier(max_depth=5, max_leaf_nodes=9, random_state=42)\",\n          \"DecisionTreeClassifier(max_depth=5, random_state=42)\",\n          \"KNeighborsClassifier(n_neighbors=7)\"\n        ],\n        \"semantic_type\": \"\",\n        \"description\": \"\"\n      }\n    },\n    {\n      \"column\": \"Coment\",\n      \"properties\": {\n        \"dtype\": \"string\",\n        \"num_unique_values\": 7,\n        \"samples\": [\n          \"\\u0437\\u0430 \\u043f\\u0430\\u0440\\u0430\\u043c\\u0435\\u0442\\u0440\\u0430\\u043c\\u0438 \\u0437\\u0430\\u0434\\u0430\\u043d\\u0438\\u043c\\u0438 \\u0432 \\u0437\\u0430\\u0432\\u0434\\u0430\\u043d\\u043d\\u0456\",\n          \"\\u043c\\u043e\\u0434\\u0435\\u043b\\u044c  \\u0437 \\u043f\\u043e\\u043f\\u0435\\u0440\\u0435\\u0434\\u043d\\u044c\\u043e\\u0433\\u043e HW\",\n          \"kNN \\u0437 n_neighbors=7 \"\n        ],\n        \"semantic_type\": \"\",\n        \"description\": \"\"\n      }\n    },\n    {\n      \"column\": \"Max_depth\",\n      \"properties\": {\n        \"dtype\": \"number\",\n        \"std\": 2,\n        \"min\": 0,\n        \"max\": 8,\n        \"num_unique_values\": 3,\n        \"samples\": [\n          5,\n          0,\n          8\n        ],\n        \"semantic_type\": \"\",\n        \"description\": \"\"\n      }\n    },\n    {\n      \"column\": \"Max_leaf_nodes\",\n      \"properties\": {\n        \"dtype\": \"number\",\n        \"std\": 15,\n        \"min\": 0,\n        \"max\": 41,\n        \"num_unique_values\": 6,\n        \"samples\": [\n          9,\n          31,\n          41\n        ],\n        \"semantic_type\": \"\",\n        \"description\": \"\"\n      }\n    },\n    {\n      \"column\": \"AUROC_train\",\n      \"properties\": {\n        \"dtype\": \"number\",\n        \"std\": 0.01757627765965431,\n        \"min\": 0.9003233245229478,\n        \"max\": 0.9545101727305118,\n        \"num_unique_values\": 7,\n        \"samples\": [\n          0.9003233245229478,\n          0.9245929074083499,\n          0.9459452176024682\n        ],\n        \"semantic_type\": \"\",\n        \"description\": \"\"\n      }\n    },\n    {\n      \"column\": \"AUROC_val\",\n      \"properties\": {\n        \"dtype\": \"number\",\n        \"std\": 0.02375139396458844,\n        \"min\": 0.8661784072981686,\n        \"max\": 0.9240733246450374,\n        \"num_unique_values\": 7,\n        \"samples\": [\n          0.8950967144522944,\n          0.9224175183483092,\n          0.8803271829343576\n        ],\n        \"semantic_type\": \"\",\n        \"description\": \"\"\n      }\n    }\n  ]\n}"
            }
          },
          "metadata": {},
          "execution_count": 244
        }
      ]
    },
    {
      "cell_type": "markdown",
      "source": [
        "###Submission"
      ],
      "metadata": {
        "id": "X0jS61owXpoX"
      }
    },
    {
      "cell_type": "code",
      "source": [
        "#завантаження тестових даних\n",
        "test_raw_df = pd.read_csv('//content/drive/MyDrive/Python/ML/DATA/Kaggle/Bank/test.csv')"
      ],
      "metadata": {
        "id": "yaTe9UMfXw5C"
      },
      "execution_count": 253,
      "outputs": []
    },
    {
      "cell_type": "code",
      "source": [
        "#попередня обробка тестових даних\n",
        "X_test = preprocess_new_data(test_raw_df, scaler, encoder, numeric_cols, categorical_cols, encoded_cols, model_cols)"
      ],
      "metadata": {
        "id": "SsRlaX0qX7QO"
      },
      "execution_count": 254,
      "outputs": []
    },
    {
      "cell_type": "code",
      "source": [
        "#передбачення на тестових даних\n",
        "test_raw_df['Exited'] = dt_best.predict_proba(X_test)[:,1]"
      ],
      "metadata": {
        "id": "2cTP2jW8X_xf"
      },
      "execution_count": 255,
      "outputs": []
    },
    {
      "cell_type": "code",
      "source": [
        "ss = pd.read_csv('/content/drive/MyDrive/Python/ML/DATA/Kaggle/Bank/sample_submission.csv')"
      ],
      "metadata": {
        "id": "O-SwPG_1YMHZ"
      },
      "execution_count": 256,
      "outputs": []
    },
    {
      "cell_type": "code",
      "source": [
        "ss['Exited'] = ss['id'].map(test_raw_df.set_index('id')['Exited'])"
      ],
      "metadata": {
        "id": "dPVSir_vYPKp"
      },
      "execution_count": 257,
      "outputs": []
    },
    {
      "cell_type": "code",
      "source": [
        "ss.to_csv('/content/drive/MyDrive/Python/ML/DATA/Kaggle/Bank/submission_tree_best.csv', index=False)"
      ],
      "metadata": {
        "id": "bFdAbVivYSj8"
      },
      "execution_count": 259,
      "outputs": []
    },
    {
      "cell_type": "markdown",
      "source": [
        "![image.png](data:image/png;base64,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)"
      ],
      "metadata": {
        "id": "PUcWAqKcZRpK"
      }
    },
    {
      "cell_type": "markdown",
      "source": [
        "**Висновки:**\n",
        "Найкращий скор по валідаційному набору у моделі DecisionTreeClassifier(ccp_alpha=0.00033508830...)"
      ],
      "metadata": {
        "id": "CJCZFV30Bxo7"
      }
    }
  ]
}