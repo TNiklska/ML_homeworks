{
  "nbformat": 4,
  "nbformat_minor": 0,
  "metadata": {
    "colab": {
      "provenance": [],
      "toc_visible": true
    },
    "kernelspec": {
      "name": "python3",
      "display_name": "Python 3"
    },
    "language_info": {
      "name": "python"
    }
  },
  "cells": [
    {
      "cell_type": "markdown",
      "source": [
        "В цьому домашньому завданні ми проведемо додаткові експерименти для рішення задачі бінарної класифікації і створимо ваш новий submission на змагання на Kaggle.\n",
        "\n",
        "-----------\n",
        "\n",
        "\n",
        "**Завдання 0**. Завантажте дані `train.csv`, `test.csv`, `sample_submission.csv` зі змагання на Kaggle [\"Bank Customer Churn Prediction (DLU Course)\"](https://www.kaggle.com/t/7c080c5d8ec64364a93cf4e8f880b6a0). Для завантаження потрібно долучитись до змагання (натиснути кнопку \"Join\").\n",
        "\n",
        "**Завдання 1**. **Збираємо весь код з попереднього ДЗ в одному місці.** В лекційному ноутбуці `Логістична регресія з ScikitLearn. Повна ML задача.ipynb` ми познайомились з поняттям пайплайнів, а також я показала, як компактно виглядає рішення МЛ задачі, якщо ми зберемо весь код разом.\n",
        "\n",
        "Оскільки ми далі будемо робити експерименти, які включають ті самі етапи попередньої обробки, але інше моделювання - буде зручно мати весь код компактно і під рукою. Тому зараз ми займемось збором коду до купи :) Після цього завдання для подальших експериментів ви можете перенести частини розвʼязку взагалі в окремий `.py` файл, аби було зручно імпортувати функції.\n",
        "\n",
        "Зі свого рішення в попередньому домашньому завданні (`Логістична регресія з scikit learn.ipynb`) зберіть усі кроки розвʼязку задачі разом з використанням `sklearn.Pipeline` за прикладом з лекції.\n",
        "\n",
        "Ваш код нижче має містити\n",
        "1. Читання даних з файлу (поза пайплайном).\n",
        "2. Розбиття на тренувальний і валідаційний набори, де валідаційний містить 20% даних (поза пайплайном).\n",
        "3. Виділення категоріальних і числових колонок (поза пайплайном).\n",
        "4. Підготовку категоріальних і числових колонок (частина пайплайну). В прикладі в лекції ми оформлювали обробку числових і категоріальних колонок в окремі трансформери `numeric_transformer`, `categorical_cols`. Рекоемндую зробити саме так, так потім зручніше вносити зміни :)\n",
        "5. Тренування лог регресії (частина пайплайну).\n",
        "6. Запуск пайплайну на тренування на трен. даних (поза пайплайном).\n",
        "7. Запуск пайплайну на передбачення на трен і вал. даних і вимір метрик якості ROC-AUC + вивдення Confusion Matrix (поза пайплайном).\n",
        "8. Збереження моделі в формат joblib (поза пайплайном).\n",
        "\n",
        "Ви це все вже зробили в попереднтьому ДЗ! Тож, тут просто заадча все зібрати разом.\n",
        "\n",
        "Нижче я додала підказки, що покроково ви маєте зробити. Якщо ви почуваєтесь впевнено, можете видалити ці підказки і реалізувати все самостійно, або ж - просто заповнити пропуски.\n",
        "\n",
        "Завдання оцінюється в 10 балів. Головний результат - аби код в фіналі був робочий. Бо за не робочий нам гроші ніхто не заплатить :)"
      ],
      "metadata": {
        "id": "gJ2A6t3mdEed"
      }
    },
    {
      "cell_type": "markdown",
      "source": [
        "####Imports"
      ],
      "metadata": {
        "id": "igN5eag6XL6a"
      }
    },
    {
      "cell_type": "code",
      "source": [
        "#Imports and format\n",
        "import numpy as np\n",
        "import pandas as pd\n",
        "import matplotlib.pyplot as plt\n",
        "import seaborn as sns\n",
        "import joblib\n",
        "import operator\n",
        "\n",
        "\n",
        "from sklearn import preprocessing\n",
        "from sklearn.preprocessing import MinMaxScaler, OneHotEncoder, PolynomialFeatures\n",
        "from sklearn.model_selection import train_test_split\n",
        "from sklearn.metrics import accuracy_score, f1_score, confusion_matrix, roc_curve, auc, mean_squared_error\n",
        "from sklearn.linear_model import LogisticRegression, LinearRegression, Ridge, Lasso, ElasticNet\n",
        "from sklearn.pipeline import Pipeline\n",
        "from sklearn.compose import ColumnTransformer\n",
        "\n",
        "\n",
        "\n",
        "\n",
        "import statsmodels.api as sm\n",
        "from patsy import dmatrices\n",
        "from IPython.display import display\n",
        "\n",
        "\n",
        "\n",
        "\n",
        "from google.colab import drive\n",
        "\n",
        "pd.set_option('display.max.rows',130)\n",
        "pd.set_option('display.max.columns',130)\n",
        "pd.set_option('float_format', '{:.2f}'.format)\n"
      ],
      "metadata": {
        "id": "2XGBB3Zu47WA"
      },
      "execution_count": 47,
      "outputs": []
    },
    {
      "cell_type": "markdown",
      "source": [
        "####Variables"
      ],
      "metadata": {
        "id": "U2674e0zXRF-"
      }
    },
    {
      "cell_type": "code",
      "source": [
        "path_to_data = '/content/drive/MyDrive/Python/ML/DATA/Kaggle/Bank/train.csv.zip'\n",
        "path_to_data_4 = '/content/drive/MyDrive/Python/ML/DATA/regression_data.csv'\n",
        "models_regulation = [\n",
        "    LinearRegression(),\n",
        "    Ridge(),\n",
        "    Lasso(),\n",
        "    ElasticNet(),\n",
        "    ElasticNet(alpha=0.5)\n",
        "]\n"
      ],
      "metadata": {
        "id": "ZoEZ6xEv6KHl"
      },
      "execution_count": 63,
      "outputs": []
    },
    {
      "cell_type": "markdown",
      "source": [
        "####Functions"
      ],
      "metadata": {
        "id": "dMuZP_aTXW1X"
      }
    },
    {
      "cell_type": "code",
      "source": [
        "#Functions\n",
        "\n",
        "def compute_auroc_and_build_roc(inputs, targets, model, name=''):\n",
        "    # Predict probabilities\n",
        "    model = model\n",
        "    y_pred_proba = model.predict_proba(inputs)[:, 1]\n",
        "\n",
        "    # Compute ROC curve\n",
        "    fpr, tpr, thresholds = roc_curve(targets, y_pred_proba)\n",
        "\n",
        "      # Compute AUROC\n",
        "    roc_auc = auc(fpr, tpr)\n",
        "    print(f'AUROC for {name}: {roc_auc:.2f}')\n",
        "\n",
        "    # Plot the ROC curve\n",
        "    plt.figure()\n",
        "    plt.plot(fpr, tpr, color='darkorange', lw=2, label=f'ROC curve (area = {roc_auc:.2f})')\n",
        "    plt.plot([0, 1], [0, 1], color='navy', lw=2, linestyle='--')\n",
        "    plt.xlim([0.0, 1.0])\n",
        "    plt.ylim([0.0, 1.05])\n",
        "    plt.xlabel('False Positive Rate')\n",
        "    plt.ylabel('True Positive Rate')\n",
        "    plt.title(f'Receiver Operating Characteristic (ROC) Curve for {name}')\n",
        "    plt.legend(loc=\"lower right\")\n",
        "    plt.show()\n",
        "\n",
        "# Helper function to predict, compute accuracy & plot confusion matrix\n",
        "def predict_and_plot(inputs, targets, model, name=''):\n",
        "    model=model\n",
        "    preds = model.predict(inputs)\n",
        "    accuracy = accuracy_score(targets, preds)\n",
        "    f1_score_ = f1_score(targets, preds)\n",
        "\n",
        "    print(\"Accuracy: {:.2f}%\".format(accuracy * 100))\n",
        "    print(f\"F1 score {name}: {f1_score_:.2f}%\")\n",
        "\n",
        "    cf = confusion_matrix(targets, preds, normalize='true')\n",
        "    plt.figure()\n",
        "    sns.heatmap(cf, annot=True, cmap='Blues')\n",
        "    plt.xlabel('Prediction')\n",
        "    plt.ylabel('Target')\n",
        "    plt.title('{} Confusion Matrix'.format(name))\n",
        "    plt.show()\n",
        "    return preds\n",
        "\n",
        "def get_f1_score(inputs, targets, model, name=''):\n",
        "    model = model\n",
        "    preds = model.predict(inputs)\n",
        "\n",
        "    f1_score_ = f1_score(targets, preds)\n",
        "    print(f\"F1 score {name}: {f1_score_:.2f}%\") (name)\n",
        "    return preds\n",
        "\n",
        "def poly_reg (train_inputs_4, val_inputs_4, train_targets_4, val_targets_4, model):\n",
        "    y_pred_train_poly = model.predict(train_inputs_4)\n",
        "    y_pred_val_poly = model.predict(val_inputs_4)\n",
        "\n",
        "    # Оцінка моделей\n",
        "    rmse_poly_train = mean_squared_error(train_targets_4, y_pred_train_poly, squared=False)\n",
        "    rmse_poly_val = mean_squared_error(val_targets_4, y_pred_val_poly, squared=False)\n",
        "\n",
        "    print(f\"Train RMSE for Polynomial Regression: {np.sqrt(rmse_poly_train):.3f}\")\n",
        "    print(f\"Val RMSE for Polynomial Regression: {np.sqrt(rmse_poly_val):.3f}\")\n",
        "\n",
        "def evaluate_model(model, X_train, y_train, X_val, y_val):\n",
        "    y_train_pred = model.predict(X_train)\n",
        "    y_val_pred = model.predict(X_val)\n",
        "\n",
        "    train_metrics = mean_squared_error(y_train, y_train_pred, squared=False).round(6)\n",
        "    val_metrics = mean_squared_error(y_val, y_val_pred, squared=False).round(6)\n",
        "\n",
        "    return dict(train=train_metrics, val=val_metrics)\n",
        "\n",
        "def poly_f (train_inputs_4, val_inputs_4, deg =20):\n",
        "    poly_features = PolynomialFeatures(degree = deg)\n",
        "    X_train_poly = poly_features.fit_transform(train_inputs_4)\n",
        "    X_val_poly = poly_features.transform(val_inputs_4)\n",
        "\n",
        "    return poly_features, X_train_poly, X_val_poly\n",
        "\n",
        "\n",
        "def regul_polyfeature (train_inputs_4, val_inputs_4, train_targets_4, val_targets_4, deg =20):\n",
        "    poly_features, X_train_poly, X_val_poly = poly_f (train_inputs_4, val_inputs_4, deg = deg)\n",
        "\n",
        "    import warnings\n",
        "\n",
        "    warnings.filterwarnings(\"ignore\")\n",
        "\n",
        "    for mod in models_regulation:\n",
        "        mod.fit(X_train_poly, train_targets_4)\n",
        "        eval_results  = evaluate_model(mod, X_train_poly, train_targets_4, X_val_poly, val_targets_4)\n",
        "        print(f'{str(mod)}: {eval_results}\\n')\n"
      ],
      "metadata": {
        "id": "X-1wcURxUJF5"
      },
      "execution_count": 77,
      "outputs": []
    },
    {
      "cell_type": "markdown",
      "source": [
        "#1"
      ],
      "metadata": {
        "id": "q0iIxR9yvx_S"
      }
    },
    {
      "cell_type": "markdown",
      "source": [
        "####Data"
      ],
      "metadata": {
        "id": "ePamPbPKXgAV"
      }
    },
    {
      "cell_type": "markdown",
      "source": [
        "#####1.1"
      ],
      "metadata": {
        "id": "kuUY3uVkrwEv"
      }
    },
    {
      "cell_type": "code",
      "source": [
        "#Read data\n",
        "drive.mount('/content/drive')\n"
      ],
      "metadata": {
        "id": "lPAleXX7UGtC",
        "colab": {
          "base_uri": "https://localhost:8080/"
        },
        "outputId": "d0a95880-6c9e-4603-99a9-1edb4f49d529"
      },
      "execution_count": 5,
      "outputs": [
        {
          "output_type": "stream",
          "name": "stdout",
          "text": [
            "Mounted at /content/drive\n"
          ]
        }
      ]
    },
    {
      "cell_type": "code",
      "source": [
        "df = pd.read_csv(path_to_data)\n",
        "df.columns"
      ],
      "metadata": {
        "colab": {
          "base_uri": "https://localhost:8080/"
        },
        "id": "0WW7TBTVYgTn",
        "outputId": "c63eb085-e951-46ae-88f6-e10e7dea89c8"
      },
      "execution_count": 6,
      "outputs": [
        {
          "output_type": "execute_result",
          "data": {
            "text/plain": [
              "Index(['id', 'CustomerId', 'Surname', 'CreditScore', 'Geography', 'Gender',\n",
              "       'Age', 'Tenure', 'Balance', 'NumOfProducts', 'HasCrCard',\n",
              "       'IsActiveMember', 'EstimatedSalary', 'Exited'],\n",
              "      dtype='object')"
            ]
          },
          "metadata": {},
          "execution_count": 6
        }
      ]
    },
    {
      "cell_type": "code",
      "source": [
        "input_cols = df[['id', 'CreditScore', 'Geography', 'Gender',\n",
        "       'Age', 'Tenure', 'Balance', 'NumOfProducts', 'HasCrCard',\n",
        "       'IsActiveMember', 'EstimatedSalary']]\n",
        "target_col = df['Exited']"
      ],
      "metadata": {
        "id": "9P6PRbsjUqnd"
      },
      "execution_count": 7,
      "outputs": []
    },
    {
      "cell_type": "markdown",
      "source": [
        "#####1.2"
      ],
      "metadata": {
        "id": "4KGhAZl-r79r"
      }
    },
    {
      "cell_type": "code",
      "source": [
        "#Devide for datasets\n",
        "train_inputs, val_inputs, train_targets, val_targets = train_test_split(input_cols, target_col, test_size=0.2, random_state=12, stratify=target_col)"
      ],
      "metadata": {
        "id": "gbJM2Ol5Uh3G"
      },
      "execution_count": 8,
      "outputs": []
    },
    {
      "cell_type": "markdown",
      "source": [
        "#####1.3"
      ],
      "metadata": {
        "id": "y5j0658wsEll"
      }
    },
    {
      "cell_type": "code",
      "source": [
        "asis_col = ['id']\n",
        "numeric_cols = train_inputs.select_dtypes(include=np.number).columns.difference(asis_col).tolist()\n",
        "categorical_cols = train_inputs.select_dtypes('object').columns.tolist()"
      ],
      "metadata": {
        "id": "mN7SLosmVPC0"
      },
      "execution_count": 9,
      "outputs": []
    },
    {
      "cell_type": "markdown",
      "source": [
        "##Pipeline"
      ],
      "metadata": {
        "id": "ltyDAFk9XqI_"
      }
    },
    {
      "cell_type": "markdown",
      "source": [
        "#####1.4"
      ],
      "metadata": {
        "id": "6nF0wIEusXIz"
      }
    },
    {
      "cell_type": "code",
      "source": [
        "# Create preprocessing pipelines for both numeric and categorical data\n",
        "numeric_transformer = Pipeline(steps=[\n",
        "    ('scaler', MinMaxScaler())\n",
        "    ])\n",
        "\n",
        "categorical_transformer = Pipeline(steps=[\n",
        "    ('onehot', OneHotEncoder(sparse=False, handle_unknown='ignore'))\n",
        "    ])\n",
        "\n",
        "# Combine transformers into a preprocessor\n",
        "preprocessor = ColumnTransformer(\n",
        "    transformers=[\n",
        "        ('num', numeric_transformer, numeric_cols),\n",
        "        ('cat', categorical_transformer, categorical_cols)\n",
        "    ])\n",
        "\n"
      ],
      "metadata": {
        "id": "vR4pVCFfeuMk"
      },
      "execution_count": 10,
      "outputs": []
    },
    {
      "cell_type": "markdown",
      "source": [
        "#####1.5"
      ],
      "metadata": {
        "id": "85amNYgOsikK"
      }
    },
    {
      "cell_type": "code",
      "source": [
        "# Create a pipeline that includes preprocessing and the model\n",
        "model_pipeline = Pipeline(steps=[\n",
        "    ('preprocessor', preprocessor),\n",
        "    ('classifier', LogisticRegression(solver='liblinear'))\n",
        "])\n"
      ],
      "metadata": {
        "id": "SbkMv-OXsOen"
      },
      "execution_count": 11,
      "outputs": []
    },
    {
      "cell_type": "markdown",
      "source": [
        "#####1.6"
      ],
      "metadata": {
        "id": "kHHeLzqJsr7y"
      }
    },
    {
      "cell_type": "code",
      "source": [
        "# Train the model\n",
        "model_pipeline.fit(train_inputs, train_targets)"
      ],
      "metadata": {
        "colab": {
          "base_uri": "https://localhost:8080/",
          "height": 247
        },
        "id": "V8iuM0FAsdbW",
        "outputId": "2db77538-a047-4356-dcda-ffcba728d6c1"
      },
      "execution_count": 12,
      "outputs": [
        {
          "output_type": "stream",
          "name": "stderr",
          "text": [
            "/usr/local/lib/python3.10/dist-packages/sklearn/preprocessing/_encoders.py:868: FutureWarning: `sparse` was renamed to `sparse_output` in version 1.2 and will be removed in 1.4. `sparse_output` is ignored unless you leave `sparse` to its default value.\n",
            "  warnings.warn(\n"
          ]
        },
        {
          "output_type": "execute_result",
          "data": {
            "text/plain": [
              "Pipeline(steps=[('preprocessor',\n",
              "                 ColumnTransformer(transformers=[('num',\n",
              "                                                  Pipeline(steps=[('scaler',\n",
              "                                                                   MinMaxScaler())]),\n",
              "                                                  ['Age', 'Balance',\n",
              "                                                   'CreditScore',\n",
              "                                                   'EstimatedSalary',\n",
              "                                                   'HasCrCard',\n",
              "                                                   'IsActiveMember',\n",
              "                                                   'NumOfProducts', 'Tenure']),\n",
              "                                                 ('cat',\n",
              "                                                  Pipeline(steps=[('onehot',\n",
              "                                                                   OneHotEncoder(handle_unknown='ignore',\n",
              "                                                                                 sparse=False))]),\n",
              "                                                  ['Geography', 'Gender'])])),\n",
              "                ('classifier', LogisticRegression(solver='liblinear'))])"
            ],
            "text/html": [
              "<style>#sk-container-id-1 {color: black;background-color: white;}#sk-container-id-1 pre{padding: 0;}#sk-container-id-1 div.sk-toggleable {background-color: white;}#sk-container-id-1 label.sk-toggleable__label {cursor: pointer;display: block;width: 100%;margin-bottom: 0;padding: 0.3em;box-sizing: border-box;text-align: center;}#sk-container-id-1 label.sk-toggleable__label-arrow:before {content: \"▸\";float: left;margin-right: 0.25em;color: #696969;}#sk-container-id-1 label.sk-toggleable__label-arrow:hover:before {color: black;}#sk-container-id-1 div.sk-estimator:hover label.sk-toggleable__label-arrow:before {color: black;}#sk-container-id-1 div.sk-toggleable__content {max-height: 0;max-width: 0;overflow: hidden;text-align: left;background-color: #f0f8ff;}#sk-container-id-1 div.sk-toggleable__content pre {margin: 0.2em;color: black;border-radius: 0.25em;background-color: #f0f8ff;}#sk-container-id-1 input.sk-toggleable__control:checked~div.sk-toggleable__content {max-height: 200px;max-width: 100%;overflow: auto;}#sk-container-id-1 input.sk-toggleable__control:checked~label.sk-toggleable__label-arrow:before {content: \"▾\";}#sk-container-id-1 div.sk-estimator input.sk-toggleable__control:checked~label.sk-toggleable__label {background-color: #d4ebff;}#sk-container-id-1 div.sk-label input.sk-toggleable__control:checked~label.sk-toggleable__label {background-color: #d4ebff;}#sk-container-id-1 input.sk-hidden--visually {border: 0;clip: rect(1px 1px 1px 1px);clip: rect(1px, 1px, 1px, 1px);height: 1px;margin: -1px;overflow: hidden;padding: 0;position: absolute;width: 1px;}#sk-container-id-1 div.sk-estimator {font-family: monospace;background-color: #f0f8ff;border: 1px dotted black;border-radius: 0.25em;box-sizing: border-box;margin-bottom: 0.5em;}#sk-container-id-1 div.sk-estimator:hover {background-color: #d4ebff;}#sk-container-id-1 div.sk-parallel-item::after {content: \"\";width: 100%;border-bottom: 1px solid gray;flex-grow: 1;}#sk-container-id-1 div.sk-label:hover label.sk-toggleable__label {background-color: #d4ebff;}#sk-container-id-1 div.sk-serial::before {content: \"\";position: absolute;border-left: 1px solid gray;box-sizing: border-box;top: 0;bottom: 0;left: 50%;z-index: 0;}#sk-container-id-1 div.sk-serial {display: flex;flex-direction: column;align-items: center;background-color: white;padding-right: 0.2em;padding-left: 0.2em;position: relative;}#sk-container-id-1 div.sk-item {position: relative;z-index: 1;}#sk-container-id-1 div.sk-parallel {display: flex;align-items: stretch;justify-content: center;background-color: white;position: relative;}#sk-container-id-1 div.sk-item::before, #sk-container-id-1 div.sk-parallel-item::before {content: \"\";position: absolute;border-left: 1px solid gray;box-sizing: border-box;top: 0;bottom: 0;left: 50%;z-index: -1;}#sk-container-id-1 div.sk-parallel-item {display: flex;flex-direction: column;z-index: 1;position: relative;background-color: white;}#sk-container-id-1 div.sk-parallel-item:first-child::after {align-self: flex-end;width: 50%;}#sk-container-id-1 div.sk-parallel-item:last-child::after {align-self: flex-start;width: 50%;}#sk-container-id-1 div.sk-parallel-item:only-child::after {width: 0;}#sk-container-id-1 div.sk-dashed-wrapped {border: 1px dashed gray;margin: 0 0.4em 0.5em 0.4em;box-sizing: border-box;padding-bottom: 0.4em;background-color: white;}#sk-container-id-1 div.sk-label label {font-family: monospace;font-weight: bold;display: inline-block;line-height: 1.2em;}#sk-container-id-1 div.sk-label-container {text-align: center;}#sk-container-id-1 div.sk-container {/* jupyter's `normalize.less` sets `[hidden] { display: none; }` but bootstrap.min.css set `[hidden] { display: none !important; }` so we also need the `!important` here to be able to override the default hidden behavior on the sphinx rendered scikit-learn.org. See: https://github.com/scikit-learn/scikit-learn/issues/21755 */display: inline-block !important;position: relative;}#sk-container-id-1 div.sk-text-repr-fallback {display: none;}</style><div id=\"sk-container-id-1\" class=\"sk-top-container\"><div class=\"sk-text-repr-fallback\"><pre>Pipeline(steps=[(&#x27;preprocessor&#x27;,\n",
              "                 ColumnTransformer(transformers=[(&#x27;num&#x27;,\n",
              "                                                  Pipeline(steps=[(&#x27;scaler&#x27;,\n",
              "                                                                   MinMaxScaler())]),\n",
              "                                                  [&#x27;Age&#x27;, &#x27;Balance&#x27;,\n",
              "                                                   &#x27;CreditScore&#x27;,\n",
              "                                                   &#x27;EstimatedSalary&#x27;,\n",
              "                                                   &#x27;HasCrCard&#x27;,\n",
              "                                                   &#x27;IsActiveMember&#x27;,\n",
              "                                                   &#x27;NumOfProducts&#x27;, &#x27;Tenure&#x27;]),\n",
              "                                                 (&#x27;cat&#x27;,\n",
              "                                                  Pipeline(steps=[(&#x27;onehot&#x27;,\n",
              "                                                                   OneHotEncoder(handle_unknown=&#x27;ignore&#x27;,\n",
              "                                                                                 sparse=False))]),\n",
              "                                                  [&#x27;Geography&#x27;, &#x27;Gender&#x27;])])),\n",
              "                (&#x27;classifier&#x27;, LogisticRegression(solver=&#x27;liblinear&#x27;))])</pre><b>In a Jupyter environment, please rerun this cell to show the HTML representation or trust the notebook. <br />On GitHub, the HTML representation is unable to render, please try loading this page with nbviewer.org.</b></div><div class=\"sk-container\" hidden><div class=\"sk-item sk-dashed-wrapped\"><div class=\"sk-label-container\"><div class=\"sk-label sk-toggleable\"><input class=\"sk-toggleable__control sk-hidden--visually\" id=\"sk-estimator-id-1\" type=\"checkbox\" ><label for=\"sk-estimator-id-1\" class=\"sk-toggleable__label sk-toggleable__label-arrow\">Pipeline</label><div class=\"sk-toggleable__content\"><pre>Pipeline(steps=[(&#x27;preprocessor&#x27;,\n",
              "                 ColumnTransformer(transformers=[(&#x27;num&#x27;,\n",
              "                                                  Pipeline(steps=[(&#x27;scaler&#x27;,\n",
              "                                                                   MinMaxScaler())]),\n",
              "                                                  [&#x27;Age&#x27;, &#x27;Balance&#x27;,\n",
              "                                                   &#x27;CreditScore&#x27;,\n",
              "                                                   &#x27;EstimatedSalary&#x27;,\n",
              "                                                   &#x27;HasCrCard&#x27;,\n",
              "                                                   &#x27;IsActiveMember&#x27;,\n",
              "                                                   &#x27;NumOfProducts&#x27;, &#x27;Tenure&#x27;]),\n",
              "                                                 (&#x27;cat&#x27;,\n",
              "                                                  Pipeline(steps=[(&#x27;onehot&#x27;,\n",
              "                                                                   OneHotEncoder(handle_unknown=&#x27;ignore&#x27;,\n",
              "                                                                                 sparse=False))]),\n",
              "                                                  [&#x27;Geography&#x27;, &#x27;Gender&#x27;])])),\n",
              "                (&#x27;classifier&#x27;, LogisticRegression(solver=&#x27;liblinear&#x27;))])</pre></div></div></div><div class=\"sk-serial\"><div class=\"sk-item sk-dashed-wrapped\"><div class=\"sk-label-container\"><div class=\"sk-label sk-toggleable\"><input class=\"sk-toggleable__control sk-hidden--visually\" id=\"sk-estimator-id-2\" type=\"checkbox\" ><label for=\"sk-estimator-id-2\" class=\"sk-toggleable__label sk-toggleable__label-arrow\">preprocessor: ColumnTransformer</label><div class=\"sk-toggleable__content\"><pre>ColumnTransformer(transformers=[(&#x27;num&#x27;,\n",
              "                                 Pipeline(steps=[(&#x27;scaler&#x27;, MinMaxScaler())]),\n",
              "                                 [&#x27;Age&#x27;, &#x27;Balance&#x27;, &#x27;CreditScore&#x27;,\n",
              "                                  &#x27;EstimatedSalary&#x27;, &#x27;HasCrCard&#x27;,\n",
              "                                  &#x27;IsActiveMember&#x27;, &#x27;NumOfProducts&#x27;,\n",
              "                                  &#x27;Tenure&#x27;]),\n",
              "                                (&#x27;cat&#x27;,\n",
              "                                 Pipeline(steps=[(&#x27;onehot&#x27;,\n",
              "                                                  OneHotEncoder(handle_unknown=&#x27;ignore&#x27;,\n",
              "                                                                sparse=False))]),\n",
              "                                 [&#x27;Geography&#x27;, &#x27;Gender&#x27;])])</pre></div></div></div><div class=\"sk-parallel\"><div class=\"sk-parallel-item\"><div class=\"sk-item\"><div class=\"sk-label-container\"><div class=\"sk-label sk-toggleable\"><input class=\"sk-toggleable__control sk-hidden--visually\" id=\"sk-estimator-id-3\" type=\"checkbox\" ><label for=\"sk-estimator-id-3\" class=\"sk-toggleable__label sk-toggleable__label-arrow\">num</label><div class=\"sk-toggleable__content\"><pre>[&#x27;Age&#x27;, &#x27;Balance&#x27;, &#x27;CreditScore&#x27;, &#x27;EstimatedSalary&#x27;, &#x27;HasCrCard&#x27;, &#x27;IsActiveMember&#x27;, &#x27;NumOfProducts&#x27;, &#x27;Tenure&#x27;]</pre></div></div></div><div class=\"sk-serial\"><div class=\"sk-item\"><div class=\"sk-serial\"><div class=\"sk-item\"><div class=\"sk-estimator sk-toggleable\"><input class=\"sk-toggleable__control sk-hidden--visually\" id=\"sk-estimator-id-4\" type=\"checkbox\" ><label for=\"sk-estimator-id-4\" class=\"sk-toggleable__label sk-toggleable__label-arrow\">MinMaxScaler</label><div class=\"sk-toggleable__content\"><pre>MinMaxScaler()</pre></div></div></div></div></div></div></div></div><div class=\"sk-parallel-item\"><div class=\"sk-item\"><div class=\"sk-label-container\"><div class=\"sk-label sk-toggleable\"><input class=\"sk-toggleable__control sk-hidden--visually\" id=\"sk-estimator-id-5\" type=\"checkbox\" ><label for=\"sk-estimator-id-5\" class=\"sk-toggleable__label sk-toggleable__label-arrow\">cat</label><div class=\"sk-toggleable__content\"><pre>[&#x27;Geography&#x27;, &#x27;Gender&#x27;]</pre></div></div></div><div class=\"sk-serial\"><div class=\"sk-item\"><div class=\"sk-serial\"><div class=\"sk-item\"><div class=\"sk-estimator sk-toggleable\"><input class=\"sk-toggleable__control sk-hidden--visually\" id=\"sk-estimator-id-6\" type=\"checkbox\" ><label for=\"sk-estimator-id-6\" class=\"sk-toggleable__label sk-toggleable__label-arrow\">OneHotEncoder</label><div class=\"sk-toggleable__content\"><pre>OneHotEncoder(handle_unknown=&#x27;ignore&#x27;, sparse=False)</pre></div></div></div></div></div></div></div></div></div></div><div class=\"sk-item\"><div class=\"sk-estimator sk-toggleable\"><input class=\"sk-toggleable__control sk-hidden--visually\" id=\"sk-estimator-id-7\" type=\"checkbox\" ><label for=\"sk-estimator-id-7\" class=\"sk-toggleable__label sk-toggleable__label-arrow\">LogisticRegression</label><div class=\"sk-toggleable__content\"><pre>LogisticRegression(solver=&#x27;liblinear&#x27;)</pre></div></div></div></div></div></div></div>"
            ]
          },
          "metadata": {},
          "execution_count": 12
        }
      ]
    },
    {
      "cell_type": "markdown",
      "source": [
        "#####1.7"
      ],
      "metadata": {
        "id": "4d3VKDMPtOEI"
      }
    },
    {
      "cell_type": "code",
      "source": [
        "# Evaluate on validation and test set\n",
        "train_preds = predict_and_plot(train_inputs, train_targets, model_pipeline, 'Train')\n",
        "val_preds = predict_and_plot(val_inputs, val_targets, model_pipeline, 'Validation')"
      ],
      "metadata": {
        "colab": {
          "base_uri": "https://localhost:8080/",
          "height": 996
        },
        "id": "GFSqa1KztAaq",
        "outputId": "f6401cd9-6ac0-4661-dc5c-95243a6b5d25"
      },
      "execution_count": 13,
      "outputs": [
        {
          "output_type": "stream",
          "name": "stdout",
          "text": [
            "Accuracy: 87.27%\n",
            "F1 score Train: 0.63%\n"
          ]
        },
        {
          "output_type": "display_data",
          "data": {
            "text/plain": [
              "<Figure size 640x480 with 2 Axes>"
            ],
            "image/png": "[encoded data removed]"
          },
          "metadata": {}
        },
        {
          "output_type": "stream",
          "name": "stdout",
          "text": [
            "Accuracy: 87.57%\n",
            "F1 score Validation: 0.65%\n"
          ]
        },
        {
          "output_type": "display_data",
          "data": {
            "text/plain": [
              "<Figure size 640x480 with 2 Axes>"
            ],
            "image/png": "[encoded data removed]"
          },
          "metadata": {}
        }
      ]
    },
    {
      "cell_type": "markdown",
      "source": [
        "#####1.8"
      ],
      "metadata": {
        "id": "bTOPGxLOtLZe"
      }
    },
    {
      "cell_type": "code",
      "source": [
        "# Save the trained model\n",
        "joblib.dump(model_pipeline, 'bank_pipeline.joblib')"
      ],
      "metadata": {
        "colab": {
          "base_uri": "https://localhost:8080/"
        },
        "id": "WH9l07TMtF4u",
        "outputId": "eb99e759-6f79-428c-a487-b3f3bc30a64d"
      },
      "execution_count": 14,
      "outputs": [
        {
          "output_type": "execute_result",
          "data": {
            "text/plain": [
              "['bank_pipeline.joblib']"
            ]
          },
          "metadata": {},
          "execution_count": 14
        }
      ]
    },
    {
      "cell_type": "code",
      "source": [
        "# Load the trained model\n",
        "model_pipeline_loaded = joblib.load('bank_pipeline.joblib')\n"
      ],
      "metadata": {
        "id": "Itvai59YgI3L"
      },
      "execution_count": 15,
      "outputs": []
    },
    {
      "cell_type": "markdown",
      "source": [
        "#####перевірка збереженої моделі"
      ],
      "metadata": {
        "id": "f6KrWe4WvJDZ"
      }
    },
    {
      "cell_type": "code",
      "source": [
        "# Робимо прогнози\n",
        "y_pred =  model_pipeline_loaded.predict(train_inputs)\n",
        "\n",
        "# Оцінюємо модель\n",
        "accuracy = accuracy_score(train_targets, y_pred)\n",
        "print(f'AUC: {accuracy:.2f}')\n",
        "\n"
      ],
      "metadata": {
        "id": "0cHnfJP9WU_o",
        "colab": {
          "base_uri": "https://localhost:8080/"
        },
        "outputId": "3f5d4480-e5cc-477e-8d60-84c7e3ec0a9e"
      },
      "execution_count": 16,
      "outputs": [
        {
          "output_type": "stream",
          "name": "stdout",
          "text": [
            "AUC: 0.87\n"
          ]
        }
      ]
    },
    {
      "cell_type": "markdown",
      "source": [
        "#**2**"
      ],
      "metadata": {
        "id": "bimPnqLgvOj5"
      }
    },
    {
      "cell_type": "markdown",
      "source": [
        "**Завдання 2**. Такс, у нас з вами є вже готовий пайплайн. Давайте проведемо нові експерименти.\n",
        "\n",
        "  Додайте в попередню обробку числових колонок генерацію polinomal features до степені 2 включно. Для цього створіть новий препроцесор і створіть новий пайплайн.\n",
        "\n",
        "  Запустіть пайплайн на тренування і виведіть метрики для тренувального і валідаційного набору. Напишіть, як вам модель? Чи спостерігається в цій моделі overfit чи underfit? Чи ця модель добре генералізує?"
      ],
      "metadata": {
        "id": "PXrc2NCa5lAK"
      }
    },
    {
      "cell_type": "code",
      "source": [
        "# Create preprocessing pipelines for both numeric and categorical data\n",
        "numeric_transformer_2 = Pipeline(steps=[\n",
        "    ('scaler', MinMaxScaler()),\n",
        "    ('poly_2', PolynomialFeatures(2))\n",
        "    ])\n",
        "\n",
        "categorical_transformer_2 = Pipeline(steps=[\n",
        "    ('onehot', OneHotEncoder(sparse=False, handle_unknown='ignore'))\n",
        "    ])\n",
        "\n",
        "# Combine transformers into a preprocessor\n",
        "preprocessor_2 = ColumnTransformer(\n",
        "    transformers=[\n",
        "        ('num', numeric_transformer_2, numeric_cols),\n",
        "        ('cat', categorical_transformer_2, categorical_cols)\n",
        "    ])\n"
      ],
      "metadata": {
        "id": "yYnbWX8O1I4M"
      },
      "execution_count": 17,
      "outputs": []
    },
    {
      "cell_type": "code",
      "source": [
        "model_pipeline_2 = Pipeline(steps=[\n",
        "    ('preprocessor', preprocessor_2),\n",
        "    ('classifier', LogisticRegression(solver='liblinear'))\n",
        "])\n"
      ],
      "metadata": {
        "id": "u5iWcagxyZhd"
      },
      "execution_count": 18,
      "outputs": []
    },
    {
      "cell_type": "code",
      "source": [
        "model_pipeline_2.fit(train_inputs, train_targets)"
      ],
      "metadata": {
        "colab": {
          "base_uri": "https://localhost:8080/",
          "height": 282
        },
        "collapsed": true,
        "id": "H0o9qNs92vax",
        "outputId": "38734bf9-cdcb-49c9-8fd9-b6e695f05136"
      },
      "execution_count": 19,
      "outputs": [
        {
          "output_type": "stream",
          "name": "stderr",
          "text": [
            "/usr/local/lib/python3.10/dist-packages/sklearn/preprocessing/_encoders.py:868: FutureWarning: `sparse` was renamed to `sparse_output` in version 1.2 and will be removed in 1.4. `sparse_output` is ignored unless you leave `sparse` to its default value.\n",
            "  warnings.warn(\n"
          ]
        },
        {
          "output_type": "execute_result",
          "data": {
            "text/plain": [
              "Pipeline(steps=[('preprocessor',\n",
              "                 ColumnTransformer(transformers=[('num',\n",
              "                                                  Pipeline(steps=[('scaler',\n",
              "                                                                   MinMaxScaler()),\n",
              "                                                                  ('poly_2',\n",
              "                                                                   PolynomialFeatures())]),\n",
              "                                                  ['Age', 'Balance',\n",
              "                                                   'CreditScore',\n",
              "                                                   'EstimatedSalary',\n",
              "                                                   'HasCrCard',\n",
              "                                                   'IsActiveMember',\n",
              "                                                   'NumOfProducts', 'Tenure']),\n",
              "                                                 ('cat',\n",
              "                                                  Pipeline(steps=[('onehot',\n",
              "                                                                   OneHotEncoder(handle_unknown='ignore',\n",
              "                                                                                 sparse=False))]),\n",
              "                                                  ['Geography', 'Gender'])])),\n",
              "                ('classifier', LogisticRegression(solver='liblinear'))])"
            ],
            "text/html": [
              "<style>#sk-container-id-2 {color: black;background-color: white;}#sk-container-id-2 pre{padding: 0;}#sk-container-id-2 div.sk-toggleable {background-color: white;}#sk-container-id-2 label.sk-toggleable__label {cursor: pointer;display: block;width: 100%;margin-bottom: 0;padding: 0.3em;box-sizing: border-box;text-align: center;}#sk-container-id-2 label.sk-toggleable__label-arrow:before {content: \"▸\";float: left;margin-right: 0.25em;color: #696969;}#sk-container-id-2 label.sk-toggleable__label-arrow:hover:before {color: black;}#sk-container-id-2 div.sk-estimator:hover label.sk-toggleable__label-arrow:before {color: black;}#sk-container-id-2 div.sk-toggleable__content {max-height: 0;max-width: 0;overflow: hidden;text-align: left;background-color: #f0f8ff;}#sk-container-id-2 div.sk-toggleable__content pre {margin: 0.2em;color: black;border-radius: 0.25em;background-color: #f0f8ff;}#sk-container-id-2 input.sk-toggleable__control:checked~div.sk-toggleable__content {max-height: 200px;max-width: 100%;overflow: auto;}#sk-container-id-2 input.sk-toggleable__control:checked~label.sk-toggleable__label-arrow:before {content: \"▾\";}#sk-container-id-2 div.sk-estimator input.sk-toggleable__control:checked~label.sk-toggleable__label {background-color: #d4ebff;}#sk-container-id-2 div.sk-label input.sk-toggleable__control:checked~label.sk-toggleable__label {background-color: #d4ebff;}#sk-container-id-2 input.sk-hidden--visually {border: 0;clip: rect(1px 1px 1px 1px);clip: rect(1px, 1px, 1px, 1px);height: 1px;margin: -1px;overflow: hidden;padding: 0;position: absolute;width: 1px;}#sk-container-id-2 div.sk-estimator {font-family: monospace;background-color: #f0f8ff;border: 1px dotted black;border-radius: 0.25em;box-sizing: border-box;margin-bottom: 0.5em;}#sk-container-id-2 div.sk-estimator:hover {background-color: #d4ebff;}#sk-container-id-2 div.sk-parallel-item::after {content: \"\";width: 100%;border-bottom: 1px solid gray;flex-grow: 1;}#sk-container-id-2 div.sk-label:hover label.sk-toggleable__label {background-color: #d4ebff;}#sk-container-id-2 div.sk-serial::before {content: \"\";position: absolute;border-left: 1px solid gray;box-sizing: border-box;top: 0;bottom: 0;left: 50%;z-index: 0;}#sk-container-id-2 div.sk-serial {display: flex;flex-direction: column;align-items: center;background-color: white;padding-right: 0.2em;padding-left: 0.2em;position: relative;}#sk-container-id-2 div.sk-item {position: relative;z-index: 1;}#sk-container-id-2 div.sk-parallel {display: flex;align-items: stretch;justify-content: center;background-color: white;position: relative;}#sk-container-id-2 div.sk-item::before, #sk-container-id-2 div.sk-parallel-item::before {content: \"\";position: absolute;border-left: 1px solid gray;box-sizing: border-box;top: 0;bottom: 0;left: 50%;z-index: -1;}#sk-container-id-2 div.sk-parallel-item {display: flex;flex-direction: column;z-index: 1;position: relative;background-color: white;}#sk-container-id-2 div.sk-parallel-item:first-child::after {align-self: flex-end;width: 50%;}#sk-container-id-2 div.sk-parallel-item:last-child::after {align-self: flex-start;width: 50%;}#sk-container-id-2 div.sk-parallel-item:only-child::after {width: 0;}#sk-container-id-2 div.sk-dashed-wrapped {border: 1px dashed gray;margin: 0 0.4em 0.5em 0.4em;box-sizing: border-box;padding-bottom: 0.4em;background-color: white;}#sk-container-id-2 div.sk-label label {font-family: monospace;font-weight: bold;display: inline-block;line-height: 1.2em;}#sk-container-id-2 div.sk-label-container {text-align: center;}#sk-container-id-2 div.sk-container {/* jupyter's `normalize.less` sets `[hidden] { display: none; }` but bootstrap.min.css set `[hidden] { display: none !important; }` so we also need the `!important` here to be able to override the default hidden behavior on the sphinx rendered scikit-learn.org. See: https://github.com/scikit-learn/scikit-learn/issues/21755 */display: inline-block !important;position: relative;}#sk-container-id-2 div.sk-text-repr-fallback {display: none;}</style><div id=\"sk-container-id-2\" class=\"sk-top-container\"><div class=\"sk-text-repr-fallback\"><pre>Pipeline(steps=[(&#x27;preprocessor&#x27;,\n",
              "                 ColumnTransformer(transformers=[(&#x27;num&#x27;,\n",
              "                                                  Pipeline(steps=[(&#x27;scaler&#x27;,\n",
              "                                                                   MinMaxScaler()),\n",
              "                                                                  (&#x27;poly_2&#x27;,\n",
              "                                                                   PolynomialFeatures())]),\n",
              "                                                  [&#x27;Age&#x27;, &#x27;Balance&#x27;,\n",
              "                                                   &#x27;CreditScore&#x27;,\n",
              "                                                   &#x27;EstimatedSalary&#x27;,\n",
              "                                                   &#x27;HasCrCard&#x27;,\n",
              "                                                   &#x27;IsActiveMember&#x27;,\n",
              "                                                   &#x27;NumOfProducts&#x27;, &#x27;Tenure&#x27;]),\n",
              "                                                 (&#x27;cat&#x27;,\n",
              "                                                  Pipeline(steps=[(&#x27;onehot&#x27;,\n",
              "                                                                   OneHotEncoder(handle_unknown=&#x27;ignore&#x27;,\n",
              "                                                                                 sparse=False))]),\n",
              "                                                  [&#x27;Geography&#x27;, &#x27;Gender&#x27;])])),\n",
              "                (&#x27;classifier&#x27;, LogisticRegression(solver=&#x27;liblinear&#x27;))])</pre><b>In a Jupyter environment, please rerun this cell to show the HTML representation or trust the notebook. <br />On GitHub, the HTML representation is unable to render, please try loading this page with nbviewer.org.</b></div><div class=\"sk-container\" hidden><div class=\"sk-item sk-dashed-wrapped\"><div class=\"sk-label-container\"><div class=\"sk-label sk-toggleable\"><input class=\"sk-toggleable__control sk-hidden--visually\" id=\"sk-estimator-id-8\" type=\"checkbox\" ><label for=\"sk-estimator-id-8\" class=\"sk-toggleable__label sk-toggleable__label-arrow\">Pipeline</label><div class=\"sk-toggleable__content\"><pre>Pipeline(steps=[(&#x27;preprocessor&#x27;,\n",
              "                 ColumnTransformer(transformers=[(&#x27;num&#x27;,\n",
              "                                                  Pipeline(steps=[(&#x27;scaler&#x27;,\n",
              "                                                                   MinMaxScaler()),\n",
              "                                                                  (&#x27;poly_2&#x27;,\n",
              "                                                                   PolynomialFeatures())]),\n",
              "                                                  [&#x27;Age&#x27;, &#x27;Balance&#x27;,\n",
              "                                                   &#x27;CreditScore&#x27;,\n",
              "                                                   &#x27;EstimatedSalary&#x27;,\n",
              "                                                   &#x27;HasCrCard&#x27;,\n",
              "                                                   &#x27;IsActiveMember&#x27;,\n",
              "                                                   &#x27;NumOfProducts&#x27;, &#x27;Tenure&#x27;]),\n",
              "                                                 (&#x27;cat&#x27;,\n",
              "                                                  Pipeline(steps=[(&#x27;onehot&#x27;,\n",
              "                                                                   OneHotEncoder(handle_unknown=&#x27;ignore&#x27;,\n",
              "                                                                                 sparse=False))]),\n",
              "                                                  [&#x27;Geography&#x27;, &#x27;Gender&#x27;])])),\n",
              "                (&#x27;classifier&#x27;, LogisticRegression(solver=&#x27;liblinear&#x27;))])</pre></div></div></div><div class=\"sk-serial\"><div class=\"sk-item sk-dashed-wrapped\"><div class=\"sk-label-container\"><div class=\"sk-label sk-toggleable\"><input class=\"sk-toggleable__control sk-hidden--visually\" id=\"sk-estimator-id-9\" type=\"checkbox\" ><label for=\"sk-estimator-id-9\" class=\"sk-toggleable__label sk-toggleable__label-arrow\">preprocessor: ColumnTransformer</label><div class=\"sk-toggleable__content\"><pre>ColumnTransformer(transformers=[(&#x27;num&#x27;,\n",
              "                                 Pipeline(steps=[(&#x27;scaler&#x27;, MinMaxScaler()),\n",
              "                                                 (&#x27;poly_2&#x27;,\n",
              "                                                  PolynomialFeatures())]),\n",
              "                                 [&#x27;Age&#x27;, &#x27;Balance&#x27;, &#x27;CreditScore&#x27;,\n",
              "                                  &#x27;EstimatedSalary&#x27;, &#x27;HasCrCard&#x27;,\n",
              "                                  &#x27;IsActiveMember&#x27;, &#x27;NumOfProducts&#x27;,\n",
              "                                  &#x27;Tenure&#x27;]),\n",
              "                                (&#x27;cat&#x27;,\n",
              "                                 Pipeline(steps=[(&#x27;onehot&#x27;,\n",
              "                                                  OneHotEncoder(handle_unknown=&#x27;ignore&#x27;,\n",
              "                                                                sparse=False))]),\n",
              "                                 [&#x27;Geography&#x27;, &#x27;Gender&#x27;])])</pre></div></div></div><div class=\"sk-parallel\"><div class=\"sk-parallel-item\"><div class=\"sk-item\"><div class=\"sk-label-container\"><div class=\"sk-label sk-toggleable\"><input class=\"sk-toggleable__control sk-hidden--visually\" id=\"sk-estimator-id-10\" type=\"checkbox\" ><label for=\"sk-estimator-id-10\" class=\"sk-toggleable__label sk-toggleable__label-arrow\">num</label><div class=\"sk-toggleable__content\"><pre>[&#x27;Age&#x27;, &#x27;Balance&#x27;, &#x27;CreditScore&#x27;, &#x27;EstimatedSalary&#x27;, &#x27;HasCrCard&#x27;, &#x27;IsActiveMember&#x27;, &#x27;NumOfProducts&#x27;, &#x27;Tenure&#x27;]</pre></div></div></div><div class=\"sk-serial\"><div class=\"sk-item\"><div class=\"sk-serial\"><div class=\"sk-item\"><div class=\"sk-estimator sk-toggleable\"><input class=\"sk-toggleable__control sk-hidden--visually\" id=\"sk-estimator-id-11\" type=\"checkbox\" ><label for=\"sk-estimator-id-11\" class=\"sk-toggleable__label sk-toggleable__label-arrow\">MinMaxScaler</label><div class=\"sk-toggleable__content\"><pre>MinMaxScaler()</pre></div></div></div><div class=\"sk-item\"><div class=\"sk-estimator sk-toggleable\"><input class=\"sk-toggleable__control sk-hidden--visually\" id=\"sk-estimator-id-12\" type=\"checkbox\" ><label for=\"sk-estimator-id-12\" class=\"sk-toggleable__label sk-toggleable__label-arrow\">PolynomialFeatures</label><div class=\"sk-toggleable__content\"><pre>PolynomialFeatures()</pre></div></div></div></div></div></div></div></div><div class=\"sk-parallel-item\"><div class=\"sk-item\"><div class=\"sk-label-container\"><div class=\"sk-label sk-toggleable\"><input class=\"sk-toggleable__control sk-hidden--visually\" id=\"sk-estimator-id-13\" type=\"checkbox\" ><label for=\"sk-estimator-id-13\" class=\"sk-toggleable__label sk-toggleable__label-arrow\">cat</label><div class=\"sk-toggleable__content\"><pre>[&#x27;Geography&#x27;, &#x27;Gender&#x27;]</pre></div></div></div><div class=\"sk-serial\"><div class=\"sk-item\"><div class=\"sk-serial\"><div class=\"sk-item\"><div class=\"sk-estimator sk-toggleable\"><input class=\"sk-toggleable__control sk-hidden--visually\" id=\"sk-estimator-id-14\" type=\"checkbox\" ><label for=\"sk-estimator-id-14\" class=\"sk-toggleable__label sk-toggleable__label-arrow\">OneHotEncoder</label><div class=\"sk-toggleable__content\"><pre>OneHotEncoder(handle_unknown=&#x27;ignore&#x27;, sparse=False)</pre></div></div></div></div></div></div></div></div></div></div><div class=\"sk-item\"><div class=\"sk-estimator sk-toggleable\"><input class=\"sk-toggleable__control sk-hidden--visually\" id=\"sk-estimator-id-15\" type=\"checkbox\" ><label for=\"sk-estimator-id-15\" class=\"sk-toggleable__label sk-toggleable__label-arrow\">LogisticRegression</label><div class=\"sk-toggleable__content\"><pre>LogisticRegression(solver=&#x27;liblinear&#x27;)</pre></div></div></div></div></div></div></div>"
            ]
          },
          "metadata": {},
          "execution_count": 19
        }
      ]
    },
    {
      "cell_type": "code",
      "source": [
        "# Evaluate on validation and test set\n",
        "train_preds = predict_and_plot(train_inputs, train_targets, model_pipeline_2, 'Train')\n",
        "val_preds = predict_and_plot(val_inputs, val_targets, model_pipeline_2, 'Validation')"
      ],
      "metadata": {
        "colab": {
          "base_uri": "https://localhost:8080/",
          "height": 996
        },
        "id": "gwcR7Ei73859",
        "outputId": "80925243-af03-498d-cb25-7cd468d2b263"
      },
      "execution_count": 20,
      "outputs": [
        {
          "output_type": "stream",
          "name": "stdout",
          "text": [
            "Accuracy: 89.08%\n",
            "F1 score Train: 0.69%\n"
          ]
        },
        {
          "output_type": "display_data",
          "data": {
            "text/plain": [
              "<Figure size 640x480 with 2 Axes>"
            ],
            "image/png": "[encoded data removed]"
          },
          "metadata": {}
        },
        {
          "output_type": "stream",
          "name": "stdout",
          "text": [
            "Accuracy: 89.23%\n",
            "F1 score Validation: 0.70%\n"
          ]
        },
        {
          "output_type": "display_data",
          "data": {
            "text/plain": [
              "<Figure size 640x480 with 2 Axes>"
            ],
            "image/png": "[encoded data removed]"
          },
          "metadata": {}
        }
      ]
    },
    {
      "cell_type": "markdown",
      "source": [
        "**Висновки:**\n",
        "Модель з поліномінальними даними у другому ступені є більш точною аніж без поліномінальних ознак. Високий скор на тренувальних даних, а тому більшість, що відсутні ознаки недонавчання, а на валідаційному вище, аніж на тренувальному - тому модель не є перенавченою."
      ],
      "metadata": {
        "id": "jevYvfru8Ld6"
      }
    },
    {
      "cell_type": "markdown",
      "source": [
        "#3"
      ],
      "metadata": {
        "id": "7E4y1DPq54XW"
      }
    },
    {
      "cell_type": "markdown",
      "source": [
        "**Завдання 3**. Тепер давайте створимо ще новий пайплайн, тільки тепер поліноміальні ознаки згенеруємо до степені 4. Зробіть висновок про якість моделі. Якщо вам подобається резульат якоїсь з моделей в цьому ДЗ - рекомендую зробити submission в змаганні."
      ],
      "metadata": {
        "id": "tkmEmHaP8Pen"
      }
    },
    {
      "cell_type": "code",
      "source": [
        "# Create preprocessing pipelines for both numeric and categorical data\n",
        "numeric_transformer_3 = Pipeline(steps=[\n",
        "    ('scaler', MinMaxScaler()),\n",
        "    ('poly_3', PolynomialFeatures(4))\n",
        "    ])\n",
        "\n",
        "categorical_transformer_3 = Pipeline(steps=[\n",
        "    ('onehot', OneHotEncoder(sparse=False, handle_unknown='ignore'))\n",
        "    ])\n",
        "\n",
        "# Combine transformers into a preprocessor\n",
        "preprocessor_3 = ColumnTransformer(\n",
        "    transformers=[\n",
        "        ('num', numeric_transformer_3, numeric_cols),\n",
        "        ('cat', categorical_transformer_3, categorical_cols)\n",
        "    ])\n"
      ],
      "metadata": {
        "id": "OsT-MDWuOkDY"
      },
      "execution_count": 21,
      "outputs": []
    },
    {
      "cell_type": "code",
      "source": [
        "model_pipeline_3 = Pipeline(steps=[\n",
        "    ('preprocessor', preprocessor_3),\n",
        "    ('classifier', LogisticRegression(solver='liblinear'))\n",
        "])\n"
      ],
      "metadata": {
        "id": "fG32Gy4s6G8G"
      },
      "execution_count": 22,
      "outputs": []
    },
    {
      "cell_type": "code",
      "source": [
        "model_pipeline_3.fit(train_inputs, train_targets)"
      ],
      "metadata": {
        "colab": {
          "base_uri": "https://localhost:8080/",
          "height": 282
        },
        "id": "ulk41w3E6ML8",
        "outputId": "b1c62153-9090-4379-f15e-8d170653211b"
      },
      "execution_count": 23,
      "outputs": [
        {
          "output_type": "stream",
          "name": "stderr",
          "text": [
            "/usr/local/lib/python3.10/dist-packages/sklearn/preprocessing/_encoders.py:868: FutureWarning: `sparse` was renamed to `sparse_output` in version 1.2 and will be removed in 1.4. `sparse_output` is ignored unless you leave `sparse` to its default value.\n",
            "  warnings.warn(\n"
          ]
        },
        {
          "output_type": "execute_result",
          "data": {
            "text/plain": [
              "Pipeline(steps=[('preprocessor',\n",
              "                 ColumnTransformer(transformers=[('num',\n",
              "                                                  Pipeline(steps=[('scaler',\n",
              "                                                                   MinMaxScaler()),\n",
              "                                                                  ('poly_3',\n",
              "                                                                   PolynomialFeatures(degree=4))]),\n",
              "                                                  ['Age', 'Balance',\n",
              "                                                   'CreditScore',\n",
              "                                                   'EstimatedSalary',\n",
              "                                                   'HasCrCard',\n",
              "                                                   'IsActiveMember',\n",
              "                                                   'NumOfProducts', 'Tenure']),\n",
              "                                                 ('cat',\n",
              "                                                  Pipeline(steps=[('onehot',\n",
              "                                                                   OneHotEncoder(handle_unknown='ignore',\n",
              "                                                                                 sparse=False))]),\n",
              "                                                  ['Geography', 'Gender'])])),\n",
              "                ('classifier', LogisticRegression(solver='liblinear'))])"
            ],
            "text/html": [
              "<style>#sk-container-id-3 {color: black;background-color: white;}#sk-container-id-3 pre{padding: 0;}#sk-container-id-3 div.sk-toggleable {background-color: white;}#sk-container-id-3 label.sk-toggleable__label {cursor: pointer;display: block;width: 100%;margin-bottom: 0;padding: 0.3em;box-sizing: border-box;text-align: center;}#sk-container-id-3 label.sk-toggleable__label-arrow:before {content: \"▸\";float: left;margin-right: 0.25em;color: #696969;}#sk-container-id-3 label.sk-toggleable__label-arrow:hover:before {color: black;}#sk-container-id-3 div.sk-estimator:hover label.sk-toggleable__label-arrow:before {color: black;}#sk-container-id-3 div.sk-toggleable__content {max-height: 0;max-width: 0;overflow: hidden;text-align: left;background-color: #f0f8ff;}#sk-container-id-3 div.sk-toggleable__content pre {margin: 0.2em;color: black;border-radius: 0.25em;background-color: #f0f8ff;}#sk-container-id-3 input.sk-toggleable__control:checked~div.sk-toggleable__content {max-height: 200px;max-width: 100%;overflow: auto;}#sk-container-id-3 input.sk-toggleable__control:checked~label.sk-toggleable__label-arrow:before {content: \"▾\";}#sk-container-id-3 div.sk-estimator input.sk-toggleable__control:checked~label.sk-toggleable__label {background-color: #d4ebff;}#sk-container-id-3 div.sk-label input.sk-toggleable__control:checked~label.sk-toggleable__label {background-color: #d4ebff;}#sk-container-id-3 input.sk-hidden--visually {border: 0;clip: rect(1px 1px 1px 1px);clip: rect(1px, 1px, 1px, 1px);height: 1px;margin: -1px;overflow: hidden;padding: 0;position: absolute;width: 1px;}#sk-container-id-3 div.sk-estimator {font-family: monospace;background-color: #f0f8ff;border: 1px dotted black;border-radius: 0.25em;box-sizing: border-box;margin-bottom: 0.5em;}#sk-container-id-3 div.sk-estimator:hover {background-color: #d4ebff;}#sk-container-id-3 div.sk-parallel-item::after {content: \"\";width: 100%;border-bottom: 1px solid gray;flex-grow: 1;}#sk-container-id-3 div.sk-label:hover label.sk-toggleable__label {background-color: #d4ebff;}#sk-container-id-3 div.sk-serial::before {content: \"\";position: absolute;border-left: 1px solid gray;box-sizing: border-box;top: 0;bottom: 0;left: 50%;z-index: 0;}#sk-container-id-3 div.sk-serial {display: flex;flex-direction: column;align-items: center;background-color: white;padding-right: 0.2em;padding-left: 0.2em;position: relative;}#sk-container-id-3 div.sk-item {position: relative;z-index: 1;}#sk-container-id-3 div.sk-parallel {display: flex;align-items: stretch;justify-content: center;background-color: white;position: relative;}#sk-container-id-3 div.sk-item::before, #sk-container-id-3 div.sk-parallel-item::before {content: \"\";position: absolute;border-left: 1px solid gray;box-sizing: border-box;top: 0;bottom: 0;left: 50%;z-index: -1;}#sk-container-id-3 div.sk-parallel-item {display: flex;flex-direction: column;z-index: 1;position: relative;background-color: white;}#sk-container-id-3 div.sk-parallel-item:first-child::after {align-self: flex-end;width: 50%;}#sk-container-id-3 div.sk-parallel-item:last-child::after {align-self: flex-start;width: 50%;}#sk-container-id-3 div.sk-parallel-item:only-child::after {width: 0;}#sk-container-id-3 div.sk-dashed-wrapped {border: 1px dashed gray;margin: 0 0.4em 0.5em 0.4em;box-sizing: border-box;padding-bottom: 0.4em;background-color: white;}#sk-container-id-3 div.sk-label label {font-family: monospace;font-weight: bold;display: inline-block;line-height: 1.2em;}#sk-container-id-3 div.sk-label-container {text-align: center;}#sk-container-id-3 div.sk-container {/* jupyter's `normalize.less` sets `[hidden] { display: none; }` but bootstrap.min.css set `[hidden] { display: none !important; }` so we also need the `!important` here to be able to override the default hidden behavior on the sphinx rendered scikit-learn.org. See: https://github.com/scikit-learn/scikit-learn/issues/21755 */display: inline-block !important;position: relative;}#sk-container-id-3 div.sk-text-repr-fallback {display: none;}</style><div id=\"sk-container-id-3\" class=\"sk-top-container\"><div class=\"sk-text-repr-fallback\"><pre>Pipeline(steps=[(&#x27;preprocessor&#x27;,\n",
              "                 ColumnTransformer(transformers=[(&#x27;num&#x27;,\n",
              "                                                  Pipeline(steps=[(&#x27;scaler&#x27;,\n",
              "                                                                   MinMaxScaler()),\n",
              "                                                                  (&#x27;poly_3&#x27;,\n",
              "                                                                   PolynomialFeatures(degree=4))]),\n",
              "                                                  [&#x27;Age&#x27;, &#x27;Balance&#x27;,\n",
              "                                                   &#x27;CreditScore&#x27;,\n",
              "                                                   &#x27;EstimatedSalary&#x27;,\n",
              "                                                   &#x27;HasCrCard&#x27;,\n",
              "                                                   &#x27;IsActiveMember&#x27;,\n",
              "                                                   &#x27;NumOfProducts&#x27;, &#x27;Tenure&#x27;]),\n",
              "                                                 (&#x27;cat&#x27;,\n",
              "                                                  Pipeline(steps=[(&#x27;onehot&#x27;,\n",
              "                                                                   OneHotEncoder(handle_unknown=&#x27;ignore&#x27;,\n",
              "                                                                                 sparse=False))]),\n",
              "                                                  [&#x27;Geography&#x27;, &#x27;Gender&#x27;])])),\n",
              "                (&#x27;classifier&#x27;, LogisticRegression(solver=&#x27;liblinear&#x27;))])</pre><b>In a Jupyter environment, please rerun this cell to show the HTML representation or trust the notebook. <br />On GitHub, the HTML representation is unable to render, please try loading this page with nbviewer.org.</b></div><div class=\"sk-container\" hidden><div class=\"sk-item sk-dashed-wrapped\"><div class=\"sk-label-container\"><div class=\"sk-label sk-toggleable\"><input class=\"sk-toggleable__control sk-hidden--visually\" id=\"sk-estimator-id-16\" type=\"checkbox\" ><label for=\"sk-estimator-id-16\" class=\"sk-toggleable__label sk-toggleable__label-arrow\">Pipeline</label><div class=\"sk-toggleable__content\"><pre>Pipeline(steps=[(&#x27;preprocessor&#x27;,\n",
              "                 ColumnTransformer(transformers=[(&#x27;num&#x27;,\n",
              "                                                  Pipeline(steps=[(&#x27;scaler&#x27;,\n",
              "                                                                   MinMaxScaler()),\n",
              "                                                                  (&#x27;poly_3&#x27;,\n",
              "                                                                   PolynomialFeatures(degree=4))]),\n",
              "                                                  [&#x27;Age&#x27;, &#x27;Balance&#x27;,\n",
              "                                                   &#x27;CreditScore&#x27;,\n",
              "                                                   &#x27;EstimatedSalary&#x27;,\n",
              "                                                   &#x27;HasCrCard&#x27;,\n",
              "                                                   &#x27;IsActiveMember&#x27;,\n",
              "                                                   &#x27;NumOfProducts&#x27;, &#x27;Tenure&#x27;]),\n",
              "                                                 (&#x27;cat&#x27;,\n",
              "                                                  Pipeline(steps=[(&#x27;onehot&#x27;,\n",
              "                                                                   OneHotEncoder(handle_unknown=&#x27;ignore&#x27;,\n",
              "                                                                                 sparse=False))]),\n",
              "                                                  [&#x27;Geography&#x27;, &#x27;Gender&#x27;])])),\n",
              "                (&#x27;classifier&#x27;, LogisticRegression(solver=&#x27;liblinear&#x27;))])</pre></div></div></div><div class=\"sk-serial\"><div class=\"sk-item sk-dashed-wrapped\"><div class=\"sk-label-container\"><div class=\"sk-label sk-toggleable\"><input class=\"sk-toggleable__control sk-hidden--visually\" id=\"sk-estimator-id-17\" type=\"checkbox\" ><label for=\"sk-estimator-id-17\" class=\"sk-toggleable__label sk-toggleable__label-arrow\">preprocessor: ColumnTransformer</label><div class=\"sk-toggleable__content\"><pre>ColumnTransformer(transformers=[(&#x27;num&#x27;,\n",
              "                                 Pipeline(steps=[(&#x27;scaler&#x27;, MinMaxScaler()),\n",
              "                                                 (&#x27;poly_3&#x27;,\n",
              "                                                  PolynomialFeatures(degree=4))]),\n",
              "                                 [&#x27;Age&#x27;, &#x27;Balance&#x27;, &#x27;CreditScore&#x27;,\n",
              "                                  &#x27;EstimatedSalary&#x27;, &#x27;HasCrCard&#x27;,\n",
              "                                  &#x27;IsActiveMember&#x27;, &#x27;NumOfProducts&#x27;,\n",
              "                                  &#x27;Tenure&#x27;]),\n",
              "                                (&#x27;cat&#x27;,\n",
              "                                 Pipeline(steps=[(&#x27;onehot&#x27;,\n",
              "                                                  OneHotEncoder(handle_unknown=&#x27;ignore&#x27;,\n",
              "                                                                sparse=False))]),\n",
              "                                 [&#x27;Geography&#x27;, &#x27;Gender&#x27;])])</pre></div></div></div><div class=\"sk-parallel\"><div class=\"sk-parallel-item\"><div class=\"sk-item\"><div class=\"sk-label-container\"><div class=\"sk-label sk-toggleable\"><input class=\"sk-toggleable__control sk-hidden--visually\" id=\"sk-estimator-id-18\" type=\"checkbox\" ><label for=\"sk-estimator-id-18\" class=\"sk-toggleable__label sk-toggleable__label-arrow\">num</label><div class=\"sk-toggleable__content\"><pre>[&#x27;Age&#x27;, &#x27;Balance&#x27;, &#x27;CreditScore&#x27;, &#x27;EstimatedSalary&#x27;, &#x27;HasCrCard&#x27;, &#x27;IsActiveMember&#x27;, &#x27;NumOfProducts&#x27;, &#x27;Tenure&#x27;]</pre></div></div></div><div class=\"sk-serial\"><div class=\"sk-item\"><div class=\"sk-serial\"><div class=\"sk-item\"><div class=\"sk-estimator sk-toggleable\"><input class=\"sk-toggleable__control sk-hidden--visually\" id=\"sk-estimator-id-19\" type=\"checkbox\" ><label for=\"sk-estimator-id-19\" class=\"sk-toggleable__label sk-toggleable__label-arrow\">MinMaxScaler</label><div class=\"sk-toggleable__content\"><pre>MinMaxScaler()</pre></div></div></div><div class=\"sk-item\"><div class=\"sk-estimator sk-toggleable\"><input class=\"sk-toggleable__control sk-hidden--visually\" id=\"sk-estimator-id-20\" type=\"checkbox\" ><label for=\"sk-estimator-id-20\" class=\"sk-toggleable__label sk-toggleable__label-arrow\">PolynomialFeatures</label><div class=\"sk-toggleable__content\"><pre>PolynomialFeatures(degree=4)</pre></div></div></div></div></div></div></div></div><div class=\"sk-parallel-item\"><div class=\"sk-item\"><div class=\"sk-label-container\"><div class=\"sk-label sk-toggleable\"><input class=\"sk-toggleable__control sk-hidden--visually\" id=\"sk-estimator-id-21\" type=\"checkbox\" ><label for=\"sk-estimator-id-21\" class=\"sk-toggleable__label sk-toggleable__label-arrow\">cat</label><div class=\"sk-toggleable__content\"><pre>[&#x27;Geography&#x27;, &#x27;Gender&#x27;]</pre></div></div></div><div class=\"sk-serial\"><div class=\"sk-item\"><div class=\"sk-serial\"><div class=\"sk-item\"><div class=\"sk-estimator sk-toggleable\"><input class=\"sk-toggleable__control sk-hidden--visually\" id=\"sk-estimator-id-22\" type=\"checkbox\" ><label for=\"sk-estimator-id-22\" class=\"sk-toggleable__label sk-toggleable__label-arrow\">OneHotEncoder</label><div class=\"sk-toggleable__content\"><pre>OneHotEncoder(handle_unknown=&#x27;ignore&#x27;, sparse=False)</pre></div></div></div></div></div></div></div></div></div></div><div class=\"sk-item\"><div class=\"sk-estimator sk-toggleable\"><input class=\"sk-toggleable__control sk-hidden--visually\" id=\"sk-estimator-id-23\" type=\"checkbox\" ><label for=\"sk-estimator-id-23\" class=\"sk-toggleable__label sk-toggleable__label-arrow\">LogisticRegression</label><div class=\"sk-toggleable__content\"><pre>LogisticRegression(solver=&#x27;liblinear&#x27;)</pre></div></div></div></div></div></div></div>"
            ]
          },
          "metadata": {},
          "execution_count": 23
        }
      ]
    },
    {
      "cell_type": "code",
      "source": [
        "# Evaluate on validation and test set\n",
        "train_preds = predict_and_plot(train_inputs, train_targets, model_pipeline_3, 'Train')\n",
        "val_preds = predict_and_plot(val_inputs, val_targets, model_pipeline_3, 'Validation')"
      ],
      "metadata": {
        "colab": {
          "base_uri": "https://localhost:8080/",
          "height": 996
        },
        "id": "e4Rno6_46M7H",
        "outputId": "238b14ce-c422-431f-d80c-f3c87d5183af"
      },
      "execution_count": 24,
      "outputs": [
        {
          "output_type": "stream",
          "name": "stdout",
          "text": [
            "Accuracy: 90.11%\n",
            "F1 score Train: 0.73%\n"
          ]
        },
        {
          "output_type": "display_data",
          "data": {
            "text/plain": [
              "<Figure size 640x480 with 2 Axes>"
            ],
            "image/png": "[encoded data removed]"
          },
          "metadata": {}
        },
        {
          "output_type": "stream",
          "name": "stdout",
          "text": [
            "Accuracy: 90.13%\n",
            "F1 score Validation: 0.73%\n"
          ]
        },
        {
          "output_type": "display_data",
          "data": {
            "text/plain": [
              "<Figure size 640x480 with 2 Axes>"
            ],
            "image/png": "[encoded data removed]"
          },
          "metadata": {}
        }
      ]
    },
    {
      "cell_type": "markdown",
      "source": [
        "**Висновки:**\n",
        "Модель з поліномінальними даними у четвертому ступені є більш точною ознаками другог ступеню. Високий скор на тренувальних даних, а тому більшість, що відсутні ознаки недонавчання, а на валідаційному вище, аніж на тренувальному - тому модель не є перенавченою."
      ],
      "metadata": {
        "id": "d0g_zLd2MilU"
      }
    },
    {
      "cell_type": "markdown",
      "source": [
        "#4"
      ],
      "metadata": {
        "id": "3FGItsiuMw8P"
      }
    },
    {
      "cell_type": "markdown",
      "source": [
        "**Завдання 4. Перенавчання і регуляризація**.\n",
        "\n",
        "  Скачайте набір даних `regression_data.csv`. Звичайте набір даних з `regression_data.csv`, розбийте на train і test (в тест 20%) і натренуйте модель лінійної регресії з масштабуванням числових ознак і поліноміальними ознаками до степені **5 включно**.\n",
        "\n",
        "  Виміряйте якість прогностичної моделі і зробіть висновок, чи модель хороша, чи вона добре генералізує?\n"
      ],
      "metadata": {
        "id": "ozN2ONZGCBS6"
      }
    },
    {
      "cell_type": "code",
      "source": [
        "df_4 = pd.read_csv(path_to_data_4)\n",
        "df_4.columns"
      ],
      "metadata": {
        "id": "xbl0jQ3WOlgn",
        "colab": {
          "base_uri": "https://localhost:8080/"
        },
        "outputId": "ed0ee0a8-cb3d-4c5b-a739-b67d8504c31a"
      },
      "execution_count": 25,
      "outputs": [
        {
          "output_type": "execute_result",
          "data": {
            "text/plain": [
              "Index(['feature_1', 'feature_2', 'feature_3', 'feature_4', 'feature_5',\n",
              "       'target'],\n",
              "      dtype='object')"
            ]
          },
          "metadata": {},
          "execution_count": 25
        }
      ]
    },
    {
      "cell_type": "code",
      "source": [
        "input_cols_4 = df_4 [['feature_1', 'feature_2', 'feature_3', 'feature_4', 'feature_5']]\n",
        "target_col_4 = df_4['target']"
      ],
      "metadata": {
        "id": "SMNBWfkjN_kk"
      },
      "execution_count": 26,
      "outputs": []
    },
    {
      "cell_type": "code",
      "source": [
        "#Devide for datasets\n",
        "train_inputs_4, val_inputs_4, train_targets_4, val_targets_4 = train_test_split(input_cols_4, target_col_4, test_size=0.2, random_state=12)"
      ],
      "metadata": {
        "id": "VOmIyhTiOWYP"
      },
      "execution_count": 27,
      "outputs": []
    },
    {
      "cell_type": "code",
      "source": [
        "numeric_cols_4 = train_inputs_4.select_dtypes(include=np.number).columns.tolist()"
      ],
      "metadata": {
        "id": "K6NiqbDvJ-gZ"
      },
      "execution_count": 28,
      "outputs": []
    },
    {
      "cell_type": "code",
      "source": [
        "# Create preprocessing pipelines for both numeric and categorical data\n",
        "numeric_transformer_4 = Pipeline(steps=[\n",
        "    ('scaler', MinMaxScaler()),\n",
        "    ('poly_4', PolynomialFeatures(5))\n",
        "    ])\n",
        "# Combine transformers into a preprocessor\n",
        "preprocessor_4 = ColumnTransformer(\n",
        "    transformers=[\n",
        "        ('num', numeric_transformer_4, numeric_cols_4),\n",
        "    ])\n"
      ],
      "metadata": {
        "id": "uCEpeyZmIXZ2"
      },
      "execution_count": 29,
      "outputs": []
    },
    {
      "cell_type": "code",
      "source": [
        "model_pipeline_4 = Pipeline(steps=[\n",
        "    ('preprocessor', preprocessor_4),\n",
        "    ('classifier', LinearRegression())\n",
        "])"
      ],
      "metadata": {
        "id": "PuFS8y01Mz1h"
      },
      "execution_count": 30,
      "outputs": []
    },
    {
      "cell_type": "code",
      "source": [
        "model_pipeline_4.fit(train_inputs_4, train_targets_4)"
      ],
      "metadata": {
        "colab": {
          "base_uri": "https://localhost:8080/",
          "height": 227
        },
        "id": "CtOu0BiBNjvu",
        "outputId": "49fbb6ba-88fc-4e9b-9ed3-0e0b50b8bfeb"
      },
      "execution_count": 31,
      "outputs": [
        {
          "output_type": "execute_result",
          "data": {
            "text/plain": [
              "Pipeline(steps=[('preprocessor',\n",
              "                 ColumnTransformer(transformers=[('num',\n",
              "                                                  Pipeline(steps=[('scaler',\n",
              "                                                                   MinMaxScaler()),\n",
              "                                                                  ('poly_4',\n",
              "                                                                   PolynomialFeatures(degree=5))]),\n",
              "                                                  ['feature_1', 'feature_2',\n",
              "                                                   'feature_3', 'feature_4',\n",
              "                                                   'feature_5'])])),\n",
              "                ('classifier', LinearRegression())])"
            ],
            "text/html": [
              "<style>#sk-container-id-4 {color: black;background-color: white;}#sk-container-id-4 pre{padding: 0;}#sk-container-id-4 div.sk-toggleable {background-color: white;}#sk-container-id-4 label.sk-toggleable__label {cursor: pointer;display: block;width: 100%;margin-bottom: 0;padding: 0.3em;box-sizing: border-box;text-align: center;}#sk-container-id-4 label.sk-toggleable__label-arrow:before {content: \"▸\";float: left;margin-right: 0.25em;color: #696969;}#sk-container-id-4 label.sk-toggleable__label-arrow:hover:before {color: black;}#sk-container-id-4 div.sk-estimator:hover label.sk-toggleable__label-arrow:before {color: black;}#sk-container-id-4 div.sk-toggleable__content {max-height: 0;max-width: 0;overflow: hidden;text-align: left;background-color: #f0f8ff;}#sk-container-id-4 div.sk-toggleable__content pre {margin: 0.2em;color: black;border-radius: 0.25em;background-color: #f0f8ff;}#sk-container-id-4 input.sk-toggleable__control:checked~div.sk-toggleable__content {max-height: 200px;max-width: 100%;overflow: auto;}#sk-container-id-4 input.sk-toggleable__control:checked~label.sk-toggleable__label-arrow:before {content: \"▾\";}#sk-container-id-4 div.sk-estimator input.sk-toggleable__control:checked~label.sk-toggleable__label {background-color: #d4ebff;}#sk-container-id-4 div.sk-label input.sk-toggleable__control:checked~label.sk-toggleable__label {background-color: #d4ebff;}#sk-container-id-4 input.sk-hidden--visually {border: 0;clip: rect(1px 1px 1px 1px);clip: rect(1px, 1px, 1px, 1px);height: 1px;margin: -1px;overflow: hidden;padding: 0;position: absolute;width: 1px;}#sk-container-id-4 div.sk-estimator {font-family: monospace;background-color: #f0f8ff;border: 1px dotted black;border-radius: 0.25em;box-sizing: border-box;margin-bottom: 0.5em;}#sk-container-id-4 div.sk-estimator:hover {background-color: #d4ebff;}#sk-container-id-4 div.sk-parallel-item::after {content: \"\";width: 100%;border-bottom: 1px solid gray;flex-grow: 1;}#sk-container-id-4 div.sk-label:hover label.sk-toggleable__label {background-color: #d4ebff;}#sk-container-id-4 div.sk-serial::before {content: \"\";position: absolute;border-left: 1px solid gray;box-sizing: border-box;top: 0;bottom: 0;left: 50%;z-index: 0;}#sk-container-id-4 div.sk-serial {display: flex;flex-direction: column;align-items: center;background-color: white;padding-right: 0.2em;padding-left: 0.2em;position: relative;}#sk-container-id-4 div.sk-item {position: relative;z-index: 1;}#sk-container-id-4 div.sk-parallel {display: flex;align-items: stretch;justify-content: center;background-color: white;position: relative;}#sk-container-id-4 div.sk-item::before, #sk-container-id-4 div.sk-parallel-item::before {content: \"\";position: absolute;border-left: 1px solid gray;box-sizing: border-box;top: 0;bottom: 0;left: 50%;z-index: -1;}#sk-container-id-4 div.sk-parallel-item {display: flex;flex-direction: column;z-index: 1;position: relative;background-color: white;}#sk-container-id-4 div.sk-parallel-item:first-child::after {align-self: flex-end;width: 50%;}#sk-container-id-4 div.sk-parallel-item:last-child::after {align-self: flex-start;width: 50%;}#sk-container-id-4 div.sk-parallel-item:only-child::after {width: 0;}#sk-container-id-4 div.sk-dashed-wrapped {border: 1px dashed gray;margin: 0 0.4em 0.5em 0.4em;box-sizing: border-box;padding-bottom: 0.4em;background-color: white;}#sk-container-id-4 div.sk-label label {font-family: monospace;font-weight: bold;display: inline-block;line-height: 1.2em;}#sk-container-id-4 div.sk-label-container {text-align: center;}#sk-container-id-4 div.sk-container {/* jupyter's `normalize.less` sets `[hidden] { display: none; }` but bootstrap.min.css set `[hidden] { display: none !important; }` so we also need the `!important` here to be able to override the default hidden behavior on the sphinx rendered scikit-learn.org. See: https://github.com/scikit-learn/scikit-learn/issues/21755 */display: inline-block !important;position: relative;}#sk-container-id-4 div.sk-text-repr-fallback {display: none;}</style><div id=\"sk-container-id-4\" class=\"sk-top-container\"><div class=\"sk-text-repr-fallback\"><pre>Pipeline(steps=[(&#x27;preprocessor&#x27;,\n",
              "                 ColumnTransformer(transformers=[(&#x27;num&#x27;,\n",
              "                                                  Pipeline(steps=[(&#x27;scaler&#x27;,\n",
              "                                                                   MinMaxScaler()),\n",
              "                                                                  (&#x27;poly_4&#x27;,\n",
              "                                                                   PolynomialFeatures(degree=5))]),\n",
              "                                                  [&#x27;feature_1&#x27;, &#x27;feature_2&#x27;,\n",
              "                                                   &#x27;feature_3&#x27;, &#x27;feature_4&#x27;,\n",
              "                                                   &#x27;feature_5&#x27;])])),\n",
              "                (&#x27;classifier&#x27;, LinearRegression())])</pre><b>In a Jupyter environment, please rerun this cell to show the HTML representation or trust the notebook. <br />On GitHub, the HTML representation is unable to render, please try loading this page with nbviewer.org.</b></div><div class=\"sk-container\" hidden><div class=\"sk-item sk-dashed-wrapped\"><div class=\"sk-label-container\"><div class=\"sk-label sk-toggleable\"><input class=\"sk-toggleable__control sk-hidden--visually\" id=\"sk-estimator-id-24\" type=\"checkbox\" ><label for=\"sk-estimator-id-24\" class=\"sk-toggleable__label sk-toggleable__label-arrow\">Pipeline</label><div class=\"sk-toggleable__content\"><pre>Pipeline(steps=[(&#x27;preprocessor&#x27;,\n",
              "                 ColumnTransformer(transformers=[(&#x27;num&#x27;,\n",
              "                                                  Pipeline(steps=[(&#x27;scaler&#x27;,\n",
              "                                                                   MinMaxScaler()),\n",
              "                                                                  (&#x27;poly_4&#x27;,\n",
              "                                                                   PolynomialFeatures(degree=5))]),\n",
              "                                                  [&#x27;feature_1&#x27;, &#x27;feature_2&#x27;,\n",
              "                                                   &#x27;feature_3&#x27;, &#x27;feature_4&#x27;,\n",
              "                                                   &#x27;feature_5&#x27;])])),\n",
              "                (&#x27;classifier&#x27;, LinearRegression())])</pre></div></div></div><div class=\"sk-serial\"><div class=\"sk-item sk-dashed-wrapped\"><div class=\"sk-label-container\"><div class=\"sk-label sk-toggleable\"><input class=\"sk-toggleable__control sk-hidden--visually\" id=\"sk-estimator-id-25\" type=\"checkbox\" ><label for=\"sk-estimator-id-25\" class=\"sk-toggleable__label sk-toggleable__label-arrow\">preprocessor: ColumnTransformer</label><div class=\"sk-toggleable__content\"><pre>ColumnTransformer(transformers=[(&#x27;num&#x27;,\n",
              "                                 Pipeline(steps=[(&#x27;scaler&#x27;, MinMaxScaler()),\n",
              "                                                 (&#x27;poly_4&#x27;,\n",
              "                                                  PolynomialFeatures(degree=5))]),\n",
              "                                 [&#x27;feature_1&#x27;, &#x27;feature_2&#x27;, &#x27;feature_3&#x27;,\n",
              "                                  &#x27;feature_4&#x27;, &#x27;feature_5&#x27;])])</pre></div></div></div><div class=\"sk-parallel\"><div class=\"sk-parallel-item\"><div class=\"sk-item\"><div class=\"sk-label-container\"><div class=\"sk-label sk-toggleable\"><input class=\"sk-toggleable__control sk-hidden--visually\" id=\"sk-estimator-id-26\" type=\"checkbox\" ><label for=\"sk-estimator-id-26\" class=\"sk-toggleable__label sk-toggleable__label-arrow\">num</label><div class=\"sk-toggleable__content\"><pre>[&#x27;feature_1&#x27;, &#x27;feature_2&#x27;, &#x27;feature_3&#x27;, &#x27;feature_4&#x27;, &#x27;feature_5&#x27;]</pre></div></div></div><div class=\"sk-serial\"><div class=\"sk-item\"><div class=\"sk-serial\"><div class=\"sk-item\"><div class=\"sk-estimator sk-toggleable\"><input class=\"sk-toggleable__control sk-hidden--visually\" id=\"sk-estimator-id-27\" type=\"checkbox\" ><label for=\"sk-estimator-id-27\" class=\"sk-toggleable__label sk-toggleable__label-arrow\">MinMaxScaler</label><div class=\"sk-toggleable__content\"><pre>MinMaxScaler()</pre></div></div></div><div class=\"sk-item\"><div class=\"sk-estimator sk-toggleable\"><input class=\"sk-toggleable__control sk-hidden--visually\" id=\"sk-estimator-id-28\" type=\"checkbox\" ><label for=\"sk-estimator-id-28\" class=\"sk-toggleable__label sk-toggleable__label-arrow\">PolynomialFeatures</label><div class=\"sk-toggleable__content\"><pre>PolynomialFeatures(degree=5)</pre></div></div></div></div></div></div></div></div></div></div><div class=\"sk-item\"><div class=\"sk-estimator sk-toggleable\"><input class=\"sk-toggleable__control sk-hidden--visually\" id=\"sk-estimator-id-29\" type=\"checkbox\" ><label for=\"sk-estimator-id-29\" class=\"sk-toggleable__label sk-toggleable__label-arrow\">LinearRegression</label><div class=\"sk-toggleable__content\"><pre>LinearRegression()</pre></div></div></div></div></div></div></div>"
            ]
          },
          "metadata": {},
          "execution_count": 31
        }
      ]
    },
    {
      "cell_type": "code",
      "source": [
        "poly_reg (train_inputs_4, val_inputs_4, train_targets_4, val_targets_4, model_pipeline_4)"
      ],
      "metadata": {
        "colab": {
          "base_uri": "https://localhost:8080/"
        },
        "id": "Cr52Qt2QOVhu",
        "outputId": "73369a2a-b740-4151-be70-eb42b97b91da"
      },
      "execution_count": 32,
      "outputs": [
        {
          "output_type": "stream",
          "name": "stdout",
          "text": [
            "Train RMSE for Polynomial Regression: 0.000\n",
            "Val RMSE for Polynomial Regression: 4.661\n"
          ]
        }
      ]
    },
    {
      "cell_type": "code",
      "source": [
        "np.std(df_4.target)\n"
      ],
      "metadata": {
        "colab": {
          "base_uri": "https://localhost:8080/"
        },
        "id": "nawIOWaA-Nbc",
        "outputId": "5693dca9-8af5-431b-9826-1430b1274551"
      },
      "execution_count": 44,
      "outputs": [
        {
          "output_type": "execute_result",
          "data": {
            "text/plain": [
              "45.2900512848008"
            ]
          },
          "metadata": {},
          "execution_count": 44
        }
      ]
    },
    {
      "cell_type": "markdown",
      "source": [
        "**Висновки:**\n",
        "Дана модель має ознаки перенавченості, бо на тренувальних взагалі відсутні помилки, а на валідаційному наборі вже зявляються помилки, але не перевищують стандарне відхилення."
      ],
      "metadata": {
        "id": "uAly27nI99C9"
      }
    },
    {
      "cell_type": "markdown",
      "source": [
        "#5"
      ],
      "metadata": {
        "id": "hdxnr9cg93hj"
      }
    },
    {
      "cell_type": "markdown",
      "source": [
        "**Завдання 5**. Натренуйте моделі Lasso(), Ridge(), ElasaticNet() на цих даних (з поліном ознаками до степені 20 включно), порівняйте якість з тою, яка була отримана з лог регресією. Яка модель найкраще генералізує і чому на ваш погляд (можливо треба буде для відповіді зробити додатковий аналіз ознак)?"
      ],
      "metadata": {
        "id": "JNUt-Q6UHkn7"
      }
    },
    {
      "cell_type": "markdown",
      "source": [
        "##degree = 20"
      ],
      "metadata": {
        "id": "yWGNV3b9TPiE"
      }
    },
    {
      "cell_type": "code",
      "source": [
        "regul_polyfeature (train_inputs_4, val_inputs_4, train_targets_4, val_targets_4, deg =20)"
      ],
      "metadata": {
        "colab": {
          "base_uri": "https://localhost:8080/"
        },
        "id": "5bCIrOcdTwGv",
        "outputId": "8e1fa9f9-120f-4ed0-cc8d-2053ef3375cb"
      },
      "execution_count": 78,
      "outputs": [
        {
          "output_type": "stream",
          "name": "stdout",
          "text": [
            "LinearRegression(): {'train': 5.3e-05, 'val': 4465490465.142694}\n",
            "\n",
            "Ridge(): {'train': 23.516342, 'val': 308236624.808938}\n",
            "\n",
            "Lasso(): {'train': 2.282417, 'val': 1136.284663}\n",
            "\n",
            "ElasticNet(): {'train': 10.273032, 'val': 67821.661287}\n",
            "\n",
            "ElasticNet(alpha=0.5): {'train': 7.954609, 'val': 45666.901995}\n",
            "\n"
          ]
        }
      ]
    },
    {
      "cell_type": "markdown",
      "source": [
        "##degree = 5"
      ],
      "metadata": {
        "id": "pdDtsplzTgV2"
      }
    },
    {
      "cell_type": "code",
      "source": [
        "regul_polyfeature (train_inputs_4, val_inputs_4, train_targets_4, val_targets_4, deg = 5)"
      ],
      "metadata": {
        "colab": {
          "base_uri": "https://localhost:8080/"
        },
        "id": "jtLELHWXTong",
        "outputId": "08e413b1-9029-4984-909c-8ed4655d213c"
      },
      "execution_count": 79,
      "outputs": [
        {
          "output_type": "stream",
          "name": "stdout",
          "text": [
            "LinearRegression(): {'train': 0.0, 'val': 42.35289}\n",
            "\n",
            "Ridge(): {'train': 1.265226, 'val': 48.319134}\n",
            "\n",
            "Lasso(): {'train': 1.880744, 'val': 5.381184}\n",
            "\n",
            "ElasticNet(): {'train': 11.777747, 'val': 74.018869}\n",
            "\n",
            "ElasticNet(alpha=0.5): {'train': 8.842559, 'val': 60.349033}\n",
            "\n"
          ]
        }
      ]
    },
    {
      "cell_type": "markdown",
      "source": [
        "##degree = 2"
      ],
      "metadata": {
        "id": "_nVnlBU7VBvK"
      }
    },
    {
      "cell_type": "code",
      "source": [
        "regul_polyfeature (train_inputs_4, val_inputs_4, train_targets_4, val_targets_4, deg = 2)"
      ],
      "metadata": {
        "colab": {
          "base_uri": "https://localhost:8080/"
        },
        "id": "S8rdDM2gU_l9",
        "outputId": "0c66a7d1-9d08-43d0-ffa7-a073b5c346f3"
      },
      "execution_count": 80,
      "outputs": [
        {
          "output_type": "stream",
          "name": "stdout",
          "text": [
            "LinearRegression(): {'train': 0.944614, 'val': 1.32052}\n",
            "\n",
            "Ridge(): {'train': 1.14022, 'val': 1.965461}\n",
            "\n",
            "Lasso(): {'train': 1.540242, 'val': 1.999315}\n",
            "\n",
            "ElasticNet(): {'train': 17.129033, 'val': 26.830988}\n",
            "\n",
            "ElasticNet(alpha=0.5): {'train': 11.10735, 'val': 18.720769}\n",
            "\n"
          ]
        }
      ]
    },
    {
      "cell_type": "markdown",
      "source": [
        "##degree = 1"
      ],
      "metadata": {
        "id": "thvf2FwHXJ0A"
      }
    },
    {
      "cell_type": "code",
      "source": [
        "regul_polyfeature (train_inputs_4, val_inputs_4, train_targets_4, val_targets_4, deg = 1)"
      ],
      "metadata": {
        "colab": {
          "base_uri": "https://localhost:8080/"
        },
        "id": "cjclKwsDXNBX",
        "outputId": "0f2fef92-fc36-43e7-e203-91a88982e528"
      },
      "execution_count": 82,
      "outputs": [
        {
          "output_type": "stream",
          "name": "stdout",
          "text": [
            "LinearRegression(): {'train': 1.003592, 'val': 1.168031}\n",
            "\n",
            "Ridge(): {'train': 1.150176, 'val': 1.604761}\n",
            "\n",
            "Lasso(): {'train': 1.540242, 'val': 1.999315}\n",
            "\n",
            "ElasticNet(): {'train': 17.503508, 'val': 22.011987}\n",
            "\n",
            "ElasticNet(alpha=0.5): {'train': 11.012989, 'val': 14.219888}\n",
            "\n"
          ]
        }
      ]
    },
    {
      "cell_type": "markdown",
      "source": [
        "**Висновки:**\n",
        "1. По всім моделям з різним ступенем поліноменальних ознак видно, що моделі перенавчені.\n",
        "2. з поліном ознаками до степені 20 включно. По всім моделям є ознаки перенавчання з великим відривом\n",
        "3. Найкращою виявилась лінійна регресія без поліномінальних ознак. але її складно назвати добре генералізуючою, бо на тренувальних данних нижчий рівень помилок."
      ],
      "metadata": {
        "id": "QZlovc_qVXrD"
      }
    },
    {
      "cell_type": "markdown",
      "source": [
        "## на нормалізованих даних"
      ],
      "metadata": {
        "id": "kPzkg592oMiC"
      }
    },
    {
      "cell_type": "code",
      "source": [
        "#нормалізація даних\n",
        "input_scaler = MinMaxScaler()\n",
        "train_inputs_4_scaled = input_scaler.fit_transform(train_inputs_4)\n",
        "val_inputs_4_scaled = input_scaler.transform(val_inputs_4)"
      ],
      "metadata": {
        "id": "NuAwSwh6cCAo"
      },
      "execution_count": 85,
      "outputs": []
    },
    {
      "cell_type": "code",
      "source": [
        "#без додаткових ознак\n",
        "regul_polyfeature (train_inputs_4_scaled, val_inputs_4_scaled, train_targets_4, val_targets_4, deg = 1)"
      ],
      "metadata": {
        "colab": {
          "base_uri": "https://localhost:8080/"
        },
        "id": "LidMPeqGcQt_",
        "outputId": "0a013007-de77-4ea1-c9d8-5237acae896e"
      },
      "execution_count": 86,
      "outputs": [
        {
          "output_type": "stream",
          "name": "stdout",
          "text": [
            "LinearRegression(): {'train': 1.003592, 'val': 1.168031}\n",
            "\n",
            "Ridge(): {'train': 8.311511, 'val': 10.983411}\n",
            "\n",
            "Lasso(): {'train': 4.989644, 'val': 6.183226}\n",
            "\n",
            "ElasticNet(): {'train': 40.27887, 'val': 47.897419}\n",
            "\n",
            "ElasticNet(alpha=0.5): {'train': 37.279712, 'val': 44.590811}\n",
            "\n"
          ]
        }
      ]
    },
    {
      "cell_type": "code",
      "source": [
        "#degree = 5\n",
        "regul_polyfeature (train_inputs_4_scaled, val_inputs_4_scaled, train_targets_4, val_targets_4, deg = 5)"
      ],
      "metadata": {
        "colab": {
          "base_uri": "https://localhost:8080/"
        },
        "id": "5fJBcjC9cbEF",
        "outputId": "e2d93b03-3c97-4895-8a3c-3d48153cce1b"
      },
      "execution_count": 87,
      "outputs": [
        {
          "output_type": "stream",
          "name": "stdout",
          "text": [
            "LinearRegression(): {'train': 0.0, 'val': 21.721047}\n",
            "\n",
            "Ridge(): {'train': 6.483209, 'val': 14.852779}\n",
            "\n",
            "Lasso(): {'train': 4.989644, 'val': 6.183226}\n",
            "\n",
            "ElasticNet(): {'train': 30.446551, 'val': 37.703808}\n",
            "\n",
            "ElasticNet(alpha=0.5): {'train': 23.390056, 'val': 30.262446}\n",
            "\n"
          ]
        }
      ]
    },
    {
      "cell_type": "code",
      "source": [
        "#degree = 20\n",
        "regul_polyfeature (train_inputs_4_scaled, val_inputs_4_scaled, train_targets_4, val_targets_4, deg = 20)"
      ],
      "metadata": {
        "colab": {
          "base_uri": "https://localhost:8080/"
        },
        "id": "igJoK7dBcoIh",
        "outputId": "fdfd7e5d-1776-402b-92b6-760de15b6c05"
      },
      "execution_count": 88,
      "outputs": [
        {
          "output_type": "stream",
          "name": "stdout",
          "text": [
            "LinearRegression(): {'train': 0.0, 'val': 284.55759}\n",
            "\n",
            "Ridge(): {'train': 5.879071, 'val': 39.261963}\n",
            "\n",
            "Lasso(): {'train': 4.989644, 'val': 6.183226}\n",
            "\n",
            "ElasticNet(): {'train': 29.475608, 'val': 37.175578}\n",
            "\n",
            "ElasticNet(alpha=0.5): {'train': 23.007094, 'val': 30.57551}\n",
            "\n"
          ]
        }
      ]
    },
    {
      "cell_type": "code",
      "source": [
        "poly_features, X_train_poly, X_val_poly = poly_f (train_inputs_4, val_inputs_4, deg = 1)\n"
      ],
      "metadata": {
        "id": "9-cjHixMdZsz"
      },
      "execution_count": 96,
      "outputs": []
    },
    {
      "cell_type": "code",
      "source": [
        "model = Ridge()\n",
        "model.fit(X_train_poly, train_targets_4)\n",
        "\n",
        "coefs_df = pd.DataFrame(poly_features.get_feature_names_out(train_inputs_4.columns), columns=['feature_name'])\n",
        "coefs_df['value'] = model.coef_.round(5).flatten()\n",
        "coefs_df.set_index('feature_name').sort_values(by='value', ascending=False).style.background_gradient()"
      ],
      "metadata": {
        "colab": {
          "base_uri": "https://localhost:8080/",
          "height": 269
        },
        "collapsed": true,
        "id": "NiAi_IZ_cvOk",
        "outputId": "9227986a-4b64-43f8-fd34-2c560eb1b3e1"
      },
      "execution_count": 97,
      "outputs": [
        {
          "output_type": "execute_result",
          "data": {
            "text/plain": [
              "<pandas.io.formats.style.Styler at 0x7e9e9ae56050>"
            ],
            "text/html": [
              "<style type=\"text/css\">\n",
              "#T_3745c_row0_col0 {\n",
              "  background-color: #023858;\n",
              "  color: #f1f1f1;\n",
              "}\n",
              "#T_3745c_row1_col0 {\n",
              "  background-color: #fef6fa;\n",
              "  color: #000000;\n",
              "}\n",
              "#T_3745c_row2_col0, #T_3745c_row3_col0 {\n",
              "  background-color: #fef6fb;\n",
              "  color: #000000;\n",
              "}\n",
              "#T_3745c_row4_col0, #T_3745c_row5_col0 {\n",
              "  background-color: #fff7fb;\n",
              "  color: #000000;\n",
              "}\n",
              "</style>\n",
              "<table id=\"T_3745c\" class=\"dataframe\">\n",
              "  <thead>\n",
              "    <tr>\n",
              "      <th class=\"blank level0\" >&nbsp;</th>\n",
              "      <th id=\"T_3745c_level0_col0\" class=\"col_heading level0 col0\" >value</th>\n",
              "    </tr>\n",
              "    <tr>\n",
              "      <th class=\"index_name level0\" >feature_name</th>\n",
              "      <th class=\"blank col0\" >&nbsp;</th>\n",
              "    </tr>\n",
              "  </thead>\n",
              "  <tbody>\n",
              "    <tr>\n",
              "      <th id=\"T_3745c_level0_row0\" class=\"row_heading level0 row0\" >feature_4</th>\n",
              "      <td id=\"T_3745c_row0_col0\" class=\"data row0 col0\" >49.112850</td>\n",
              "    </tr>\n",
              "    <tr>\n",
              "      <th id=\"T_3745c_level0_row1\" class=\"row_heading level0 row1\" >feature_1</th>\n",
              "      <td id=\"T_3745c_row1_col0\" class=\"data row1 col0\" >0.200750</td>\n",
              "    </tr>\n",
              "    <tr>\n",
              "      <th id=\"T_3745c_level0_row2\" class=\"row_heading level0 row2\" >feature_2</th>\n",
              "      <td id=\"T_3745c_row2_col0\" class=\"data row2 col0\" >0.003780</td>\n",
              "    </tr>\n",
              "    <tr>\n",
              "      <th id=\"T_3745c_level0_row3\" class=\"row_heading level0 row3\" >1</th>\n",
              "      <td id=\"T_3745c_row3_col0\" class=\"data row3 col0\" >0.000000</td>\n",
              "    </tr>\n",
              "    <tr>\n",
              "      <th id=\"T_3745c_level0_row4\" class=\"row_heading level0 row4\" >feature_3</th>\n",
              "      <td id=\"T_3745c_row4_col0\" class=\"data row4 col0\" >-0.152950</td>\n",
              "    </tr>\n",
              "    <tr>\n",
              "      <th id=\"T_3745c_level0_row5\" class=\"row_heading level0 row5\" >feature_5</th>\n",
              "      <td id=\"T_3745c_row5_col0\" class=\"data row5 col0\" >-0.323710</td>\n",
              "    </tr>\n",
              "  </tbody>\n",
              "</table>\n"
            ]
          },
          "metadata": {},
          "execution_count": 97
        }
      ]
    },
    {
      "cell_type": "code",
      "source": [
        "import statsmodels.api as sm\n",
        "\n",
        "Y = train_targets_4\n",
        "X = train_inputs_4_scaled\n",
        "X = sm.add_constant(X)\n",
        "model = sm.OLS(Y,X)\n",
        "results = model.fit()\n",
        "results.params"
      ],
      "metadata": {
        "colab": {
          "base_uri": "https://localhost:8080/"
        },
        "id": "iM7on2cWhjcH",
        "outputId": "7289b877-9eb0-4e82-edf2-4c7549a92c72"
      },
      "execution_count": 100,
      "outputs": [
        {
          "output_type": "execute_result",
          "data": {
            "text/plain": [
              "const   -97.14\n",
              "x1        0.76\n",
              "x2        0.05\n",
              "x3       -0.24\n",
              "x4      212.38\n",
              "x5       -0.93\n",
              "dtype: float64"
            ]
          },
          "metadata": {},
          "execution_count": 100
        }
      ]
    },
    {
      "cell_type": "code",
      "source": [
        "print(results.summary())"
      ],
      "metadata": {
        "colab": {
          "base_uri": "https://localhost:8080/"
        },
        "id": "uqWvndxGj3gH",
        "outputId": "27572a83-5a7b-496b-b6ef-d0f43a0f062c"
      },
      "execution_count": 101,
      "outputs": [
        {
          "output_type": "stream",
          "name": "stdout",
          "text": [
            "                            OLS Regression Results                            \n",
            "==============================================================================\n",
            "Dep. Variable:                 target   R-squared:                       0.999\n",
            "Model:                            OLS   Adj. R-squared:                  0.999\n",
            "Method:                 Least Squares   F-statistic:                 3.654e+04\n",
            "Date:                Tue, 25 Jun 2024   Prob (F-statistic):          3.77e-157\n",
            "Time:                        08:45:20   Log-Likelihood:                -146.52\n",
            "No. Observations:                 103   AIC:                             305.0\n",
            "Df Residuals:                      97   BIC:                             320.8\n",
            "Df Model:                           5                                         \n",
            "Covariance Type:            nonrobust                                         \n",
            "==============================================================================\n",
            "                 coef    std err          t      P>|t|      [0.025      0.975]\n",
            "------------------------------------------------------------------------------\n",
            "const        -97.1406      0.545   -178.358      0.000     -98.222     -96.060\n",
            "x1             0.7637      0.577      1.323      0.189      -0.382       1.910\n",
            "x2             0.0487      0.535      0.091      0.928      -1.013       1.110\n",
            "x3            -0.2415      0.542     -0.445      0.657      -1.318       0.835\n",
            "x4           212.3823      0.513    413.767      0.000     211.364     213.401\n",
            "x5            -0.9264      0.452     -2.049      0.043      -1.824      -0.029\n",
            "==============================================================================\n",
            "Omnibus:                        1.563   Durbin-Watson:                   1.934\n",
            "Prob(Omnibus):                  0.458   Jarque-Bera (JB):                1.386\n",
            "Skew:                           0.139   Prob(JB):                        0.500\n",
            "Kurtosis:                       2.505   Cond. No.                         10.9\n",
            "==============================================================================\n",
            "\n",
            "Notes:\n",
            "[1] Standard Errors assume that the covariance matrix of the errors is correctly specified.\n"
          ]
        }
      ]
    },
    {
      "cell_type": "markdown",
      "source": [
        "**Висновки:**\n",
        "1. Найкращою залишається модель лінійної регресії без поліномінальних ознак і не залежить від нормування даних.\n",
        "2. Рівень помилки на валідаційних даних є набагато нижчим від стандартного відхилення.\n",
        "3. Статистичний звіт по віднормованим даним показав, що не статзначущим є показник константи та ознаки 4."
      ],
      "metadata": {
        "id": "Gwj00hA9g0iA"
      }
    }
  ]
}