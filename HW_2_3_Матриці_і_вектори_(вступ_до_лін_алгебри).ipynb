{
  "nbformat": 4,
  "nbformat_minor": 0,
  "metadata": {
    "colab": {
      "provenance": [],
      "toc_visible": true
    },
    "kernelspec": {
      "name": "python3",
      "display_name": "Python 3"
    },
    "language_info": {
      "name": "python"
    }
  },
  "cells": [
    {
      "cell_type": "markdown",
      "source": [
        "##Імпорт бібліотек"
      ],
      "metadata": {
        "id": "yvB9oxEVwQEJ"
      }
    },
    {
      "cell_type": "code",
      "source": [
        "import numpy as np"
      ],
      "metadata": {
        "id": "oQQQGcLQwT_u"
      },
      "execution_count": 1,
      "outputs": []
    },
    {
      "cell_type": "markdown",
      "source": [
        "### Завдання 1: Створення матриць та векторів\n",
        "1. Створіть `numpy` вектор `vector` розмірністю 10 з випадковими дійсними значеннями в діапазоні від 0 до 1. Можна скористатись двома альтернативними варіантами:\n",
        "  1. Генерація випадкових чисел з модулем [`random.uniform`](https://docs.python.org/3/library/random.html).\n",
        "  2. Створення вектора з допомогою метода `numpy` [np.random.rand](https://numpy.org/doc/stable/reference/random/generated/numpy.random.rand.html)\n",
        "\n",
        "2. Створіть матрицю `matrix` типу `numpy.array` розмірності 3x3 з наступними значеннями\n",
        "\n",
        "  $$\n",
        "  matrix = \\begin{bmatrix}\n",
        "  11 & 14 & 17 \\\\\n",
        "  20 & 23 & 26 \\\\\n",
        "  29 & 32 & 35\n",
        "  \\end{bmatrix}\n",
        "  $$\n",
        "\n",
        "  будь-яким відомими Вам способом.\n",
        "\n",
        "Виведіть на екран вектор і матрицю, а також їх розміри.\n"
      ],
      "metadata": {
        "id": "efug1V4CM0lT"
      }
    },
    {
      "cell_type": "code",
      "source": [
        "#Створення вектора\n",
        "vector = np.random.rand(10)\n",
        "print('Вектор vector:')\n",
        "print(vector)\n",
        "print(\"\\nРозмір вектора vector:\")\n",
        "print(vector.shape)"
      ],
      "metadata": {
        "id": "jxA_lG2_VIMe",
        "colab": {
          "base_uri": "https://localhost:8080/"
        },
        "outputId": "42af2d2e-0731-4bfd-bfdf-02c0b2b32677"
      },
      "execution_count": 40,
      "outputs": [
        {
          "output_type": "stream",
          "name": "stdout",
          "text": [
            "Вектор vector:\n",
            "[0.72213099 0.6775464  0.0870962  0.03892277 0.62641281 0.31145092\n",
            " 0.48105008 0.41403498 0.8171242  0.39581789]\n",
            "\n",
            "Розмір вектора vector:\n",
            "(10,)\n"
          ]
        }
      ]
    },
    {
      "cell_type": "code",
      "source": [
        "#Create matrix\n",
        "matrix =  np.array([[11, 14, 17],\n",
        "              [20, 23, 26],\n",
        "              [29, 32, 35]])\n",
        "print('Матриця matrix:')\n",
        "print(matrix)\n",
        "print(\"\\nРозмір матриці matrix:\")\n",
        "print(matrix.shape)"
      ],
      "metadata": {
        "colab": {
          "base_uri": "https://localhost:8080/"
        },
        "id": "3j9Onp9kxiFU",
        "outputId": "7ee81db8-45f0-4485-9776-ab5ccbbd6676"
      },
      "execution_count": 12,
      "outputs": [
        {
          "output_type": "stream",
          "name": "stdout",
          "text": [
            "Матриця matrix:\n",
            "[[11 14 17]\n",
            " [20 23 26]\n",
            " [29 32 35]]\n",
            "\n",
            "Розмір матриці matrix:\n",
            "(3, 3)\n"
          ]
        }
      ]
    },
    {
      "cell_type": "markdown",
      "source": [
        "\n",
        "### Завдання 2: Операції над векторами та матрицями\n",
        "Виконайте кожну з зазначених операцій над зазначеними оʼєктами і виведіть результат на екран:\n",
        "1. Додайте до кожного значення вектора `vector` число 10 і округліть кожне значення до 2 знаків після коми без використання циклів.\n",
        "2. Помножте кожен елемент матриці з першого завдання на 2 без використання циклів.\n",
        "3. Створіть новий вектор, який містить квадрат кожного `vector` без циклів.\n"
      ],
      "metadata": {
        "id": "TSJ1P4OuOVe2"
      }
    },
    {
      "cell_type": "code",
      "source": [
        "#Завдання 2.1\n",
        "vector_sum_const =np.round(np.add(vector, 10), 2)\n",
        "print('Вектор vector_sum_const:')\n",
        "print(vector_sum_const)"
      ],
      "metadata": {
        "id": "nAAojtyUVJXN",
        "colab": {
          "base_uri": "https://localhost:8080/"
        },
        "outputId": "b1884d69-28b6-4294-bb86-b82cf48e6d79"
      },
      "execution_count": 41,
      "outputs": [
        {
          "output_type": "stream",
          "name": "stdout",
          "text": [
            "Вектор vector_sum_const:\n",
            "[10.72 10.68 10.09 10.04 10.63 10.31 10.48 10.41 10.82 10.4 ]\n"
          ]
        }
      ]
    },
    {
      "cell_type": "code",
      "source": [
        "#Завдання 2.2\n",
        "mutrix_mult_const = 2 * matrix\n",
        "print('Матриця mutrix_mult_const:')\n",
        "print(mutrix_mult_const)"
      ],
      "metadata": {
        "colab": {
          "base_uri": "https://localhost:8080/"
        },
        "id": "RdqHB83R1pIQ",
        "outputId": "aaa2f3bf-e0df-4ebf-b7f7-7fefad087e75"
      },
      "execution_count": 17,
      "outputs": [
        {
          "output_type": "stream",
          "name": "stdout",
          "text": [
            "Матриця mutrix_mult_const:\n",
            "[[22 28 34]\n",
            " [40 46 52]\n",
            " [58 64 70]]\n"
          ]
        }
      ]
    },
    {
      "cell_type": "code",
      "source": [
        "#Завдання 2.3\n",
        "vector_sq = np.square(vector)\n",
        "print('Вектор vector_sq:')\n",
        "print(vector_sq)"
      ],
      "metadata": {
        "colab": {
          "base_uri": "https://localhost:8080/"
        },
        "id": "1yOVbwV-43bg",
        "outputId": "75cfbbc6-8d3e-41cd-8f41-7a66056d3b19"
      },
      "execution_count": 42,
      "outputs": [
        {
          "output_type": "stream",
          "name": "stdout",
          "text": [
            "Вектор vector_sq:\n",
            "[0.52147317 0.45906912 0.00758575 0.00151498 0.39239301 0.09700167\n",
            " 0.23140918 0.17142496 0.66769196 0.1566718 ]\n"
          ]
        }
      ]
    },
    {
      "cell_type": "markdown",
      "source": [
        "\n",
        "### Завдання 3: Множення матриць\n",
        "1. Задані дві матриці `A` і `B`розмірностями 3x2 та 2х3. Виконайте їхнє множення, щоб отримати матрицю 2x2. Виведіть результуючу матрицю `result_matrix` на екран.\n",
        "\n",
        "2. Заданий вектор `C` розмірністю 2х1. Подумайте спочатку, яку розмірність Ви отрмаєте, коли домножите `result_matrix` на вектор `C` і який результат буде. А потім виконайте множення і виведіть результат на екран.\n",
        "\n",
        "3. Задана матриця `D` розмірністю 2х2. Подумайте спочатку, яку розмірність Ви отрмаєте, коли домножите `result_matrix` на матрицю `D` і який результат буде. А потім виконайте множення і виведіть результат на екран."
      ],
      "metadata": {
        "id": "u6RvWVfhPy-k"
      }
    },
    {
      "cell_type": "code",
      "source": [
        "A = np.array(\n",
        "    [[0.18, 0.53],\n",
        "     [0.75, 0.47],\n",
        "     [0.35, 0.21]])\n",
        "\n",
        "B = np.array(\n",
        "    [[0.17, 0.58, 0.75],\n",
        "     [0.38, 0.11, 0.15]])\n",
        "\n",
        "C = np.array([[0], [1]])\n",
        "\n",
        "D = np.array([[0,1], [1,0]])\n",
        "\n",
        "display(A, B, C, D)"
      ],
      "metadata": {
        "id": "RwXfPzlbSJ44",
        "colab": {
          "base_uri": "https://localhost:8080/",
          "height": 173
        },
        "outputId": "6fac17f5-cddd-4683-d523-e8fdcb115ef2"
      },
      "execution_count": 29,
      "outputs": [
        {
          "output_type": "display_data",
          "data": {
            "text/plain": [
              "array([[0.18, 0.53],\n",
              "       [0.75, 0.47],\n",
              "       [0.35, 0.21]])"
            ]
          },
          "metadata": {}
        },
        {
          "output_type": "display_data",
          "data": {
            "text/plain": [
              "array([[0.17, 0.58, 0.75],\n",
              "       [0.38, 0.11, 0.15]])"
            ]
          },
          "metadata": {}
        },
        {
          "output_type": "display_data",
          "data": {
            "text/plain": [
              "array([[0],\n",
              "       [1]])"
            ]
          },
          "metadata": {}
        },
        {
          "output_type": "display_data",
          "data": {
            "text/plain": [
              "array([[0, 1],\n",
              "       [1, 0]])"
            ]
          },
          "metadata": {}
        }
      ]
    },
    {
      "cell_type": "code",
      "source": [
        "#Завдання 3.1\n",
        "result_matrix = np.dot(A.T, B.T)\n",
        "\n",
        "print(result_matrix)"
      ],
      "metadata": {
        "colab": {
          "base_uri": "https://localhost:8080/"
        },
        "id": "J7ap7CBa_Pco",
        "outputId": "cf01675c-ba90-4599-ecd6-5730d7612e1a"
      },
      "execution_count": 30,
      "outputs": [
        {
          "output_type": "stream",
          "name": "stdout",
          "text": [
            "[[0.7281 0.2034]\n",
            " [0.5202 0.2846]]\n"
          ]
        }
      ]
    },
    {
      "cell_type": "code",
      "source": [
        "#Завдання 3.2\n",
        "#Подумайте спочатку, яку розмірність Ви отрмаєте, коли домножите result_matrix на вектор C і який результат буде: буде результат 2 х 1\n",
        "\n",
        "result_mult_v = np.dot(result_matrix, C)\n",
        "print('Матриця result_mult_v:')\n",
        "print(result_mult_v)\n"
      ],
      "metadata": {
        "colab": {
          "base_uri": "https://localhost:8080/"
        },
        "id": "9TKF7w-vBsLx",
        "outputId": "3fa66b34-0983-41e4-bfed-a4c816303ba0"
      },
      "execution_count": 31,
      "outputs": [
        {
          "output_type": "stream",
          "name": "stdout",
          "text": [
            "Матриця result_mult_v:\n",
            "[[0.2034]\n",
            " [0.2846]]\n"
          ]
        }
      ]
    },
    {
      "cell_type": "code",
      "source": [
        "#Завдання 3.3\n",
        "#Вважаю, що результат буде 2 х 2\n",
        "result_mult_D = np.dot(result_matrix, D)\n",
        "print('Матриця result_mult_D:')\n",
        "print(result_mult_D)"
      ],
      "metadata": {
        "colab": {
          "base_uri": "https://localhost:8080/"
        },
        "id": "APuLb3EKCuoy",
        "outputId": "9376ef62-e8a1-4b85-a618-03d30bc2301a"
      },
      "execution_count": 32,
      "outputs": [
        {
          "output_type": "stream",
          "name": "stdout",
          "text": [
            "Матриця result_mult_D:\n",
            "[[0.2034 0.7281]\n",
            " [0.2846 0.5202]]\n"
          ]
        }
      ]
    },
    {
      "cell_type": "markdown",
      "source": [
        "\n",
        "### Завдання 4: Транспонування матриць\n",
        "1. Транспонуйте `result_matrix`.\n",
        "2. Зробіть транспонування вектора `vector` і виведіть форму нової структури. Чи бачите ви зміну?\n",
        "3. Використайте операцію `numpy.expand_dims` над вектором `vector` з аргументом axis=1. Запишіть отриманий результат в змінну `column_vector` і виведіть на екран. Порівняйте з `vector`.\n",
        "4. Зробіть транспонування `column_vector`, виведіть результат на екран разом з розмірностями отриманої структури.\n",
        "\n",
        "\n"
      ],
      "metadata": {
        "id": "wohp0_cxSGpl"
      }
    },
    {
      "cell_type": "code",
      "source": [
        "#1\n",
        "result_matrix_T = result_matrix.T"
      ],
      "metadata": {
        "id": "4hFcq1baVLii"
      },
      "execution_count": 34,
      "outputs": []
    },
    {
      "cell_type": "code",
      "source": [
        "#2\n",
        "vector_T = vector.T\n",
        "print(f'Форма попередньої структури:', vector.shape)\n",
        "print(f'Форма нової структури:', vector_T.shape)"
      ],
      "metadata": {
        "colab": {
          "base_uri": "https://localhost:8080/"
        },
        "id": "qQsHIWKEGXdW",
        "outputId": "f89a3b50-99da-478e-ff7a-c1d2f58310f2"
      },
      "execution_count": 43,
      "outputs": [
        {
          "output_type": "stream",
          "name": "stdout",
          "text": [
            "Форма попередньої структури: (10,)\n",
            "Форма нової структури: (10,)\n"
          ]
        }
      ]
    },
    {
      "cell_type": "markdown",
      "source": [
        "Після транспонування форма структури не змінилася"
      ],
      "metadata": {
        "id": "bLSf5uDTH5-G"
      }
    },
    {
      "cell_type": "code",
      "source": [
        "#3\n",
        "column_vector = np.expand_dims(vector, axis=1)\n",
        "print(column_vector)\n",
        "print(f'Форма нової структури:', column_vector.shape)"
      ],
      "metadata": {
        "colab": {
          "base_uri": "https://localhost:8080/"
        },
        "id": "JcndG4zFIThw",
        "outputId": "c7d2de32-f59a-40aa-a57a-8a2150329891"
      },
      "execution_count": 45,
      "outputs": [
        {
          "output_type": "stream",
          "name": "stdout",
          "text": [
            "[[0.72213099]\n",
            " [0.6775464 ]\n",
            " [0.0870962 ]\n",
            " [0.03892277]\n",
            " [0.62641281]\n",
            " [0.31145092]\n",
            " [0.48105008]\n",
            " [0.41403498]\n",
            " [0.8171242 ]\n",
            " [0.39581789]]\n",
            "Форма нової структури: (10, 1)\n"
          ]
        }
      ]
    },
    {
      "cell_type": "markdown",
      "source": [
        "За результатами  операції numpy.expand_dims, змінилася форма структури - додався вимір і ветор став колонкою"
      ],
      "metadata": {
        "id": "KvWrKXSXLhHs"
      }
    },
    {
      "cell_type": "code",
      "source": [
        "#4\n",
        "column_vector_T = column_vector.T\n",
        "print(column_vector_T)\n",
        "print(f'Форма нової структури:', column_vector_T.shape)"
      ],
      "metadata": {
        "colab": {
          "base_uri": "https://localhost:8080/"
        },
        "id": "mIhl85CBMGFN",
        "outputId": "1e73fb23-5598-4279-c226-d68867dceb20"
      },
      "execution_count": 46,
      "outputs": [
        {
          "output_type": "stream",
          "name": "stdout",
          "text": [
            "[[0.72213099 0.6775464  0.0870962  0.03892277 0.62641281 0.31145092\n",
            "  0.48105008 0.41403498 0.8171242  0.39581789]]\n",
            "Форма нової структури: (1, 10)\n"
          ]
        }
      ]
    }
  ]
}